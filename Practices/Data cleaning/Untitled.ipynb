{
 "cells": [
  {
   "cell_type": "code",
   "execution_count": 2,
   "id": "50e7785a-af09-4689-9144-866f020afd23",
   "metadata": {},
   "outputs": [
    {
     "name": "stdout",
     "output_type": "stream",
     "text": [
      "Requirement already satisfied: pandas in c:\\users\\hoang\\anaconda3\\lib\\site-packages (2.2.2)\n",
      "Requirement already satisfied: numpy>=1.26.0 in c:\\users\\hoang\\anaconda3\\lib\\site-packages (from pandas) (1.26.4)\n",
      "Requirement already satisfied: python-dateutil>=2.8.2 in c:\\users\\hoang\\anaconda3\\lib\\site-packages (from pandas) (2.9.0.post0)\n",
      "Requirement already satisfied: pytz>=2020.1 in c:\\users\\hoang\\anaconda3\\lib\\site-packages (from pandas) (2024.1)\n",
      "Requirement already satisfied: tzdata>=2022.7 in c:\\users\\hoang\\anaconda3\\lib\\site-packages (from pandas) (2023.3)\n",
      "Requirement already satisfied: six>=1.5 in c:\\users\\hoang\\anaconda3\\lib\\site-packages (from python-dateutil>=2.8.2->pandas) (1.16.0)\n"
     ]
    }
   ],
   "source": [
    "!pip install pandas"
   ]
  },
  {
   "cell_type": "code",
   "execution_count": 70,
   "id": "013e2a9b-bcdf-4d3d-ab85-a92ebbb08839",
   "metadata": {},
   "outputs": [
    {
     "name": "stdout",
     "output_type": "stream",
     "text": [
      "First 5 rows are: \n",
      "                                         name                     author                   narrator                time releasedate language                          stars   price\n",
      "0                  Geronimo Stilton #11 & #12  Writtenby:GeronimoStilton      Narratedby:BillLobely   2 hrs and 20 mins    04-08-08  English     5 out of 5 stars34 ratings  468.00\n",
      "1                            The Burning Maze      Writtenby:RickRiordan   Narratedby:RobbieDaymond   13 hrs and 8 mins    01-05-18  English   4.5 out of 5 stars41 ratings  820.00\n",
      "2                                The Deep End       Writtenby:JeffKinney      Narratedby:DanRussell    2 hrs and 3 mins    06-11-20  English   4.5 out of 5 stars38 ratings  410.00\n",
      "3                        Daughter of the Deep      Writtenby:RickRiordan  Narratedby:SoneelaNankani  11 hrs and 16 mins    05-10-21  English   4.5 out of 5 stars12 ratings  615.00\n",
      "4  The Lightning Thief: Percy Jackson, Book 1      Writtenby:RickRiordan  Narratedby:JesseBernstein              10 hrs    13-01-10  English  4.5 out of 5 stars181 ratings  820.00\n",
      "<class 'pandas.core.frame.DataFrame'>\n",
      "RangeIndex: 87489 entries, 0 to 87488\n",
      "Data columns (total 8 columns):\n",
      " #   Column       Non-Null Count  Dtype \n",
      "---  ------       --------------  ----- \n",
      " 0   name         87489 non-null  object\n",
      " 1   author       87489 non-null  object\n",
      " 2   narrator     87489 non-null  object\n",
      " 3   time         87489 non-null  object\n",
      " 4   releasedate  87489 non-null  object\n",
      " 5   language     87489 non-null  object\n",
      " 6   stars        87489 non-null  object\n",
      " 7   price        87489 non-null  object\n",
      "dtypes: object(8)\n",
      "memory usage: 5.3+ MB\n",
      "None\n",
      "                  name              author              narrator    time releasedate language          stars   price\n",
      "count            87489               87489                 87489   87489       87489    87489          87489   87489\n",
      "unique           82767               48374                 29717    2284        5058       36            665    1011\n",
      "top     The Art of War  Writtenby:矢島雅弘,石橋遊  Narratedby:anonymous  2 mins    16-05-18  English  Not rated yet  586.00\n",
      "freq                20                 874                  1034     372         773    61884          72417    5533\n",
      "Missing values from columns are: \n",
      "name           0\n",
      "author         0\n",
      "narrator       0\n",
      "time           0\n",
      "releasedate    0\n",
      "language       0\n",
      "stars          0\n",
      "price          0\n",
      "dtype: int64\n",
      "Duplicated values are: \n",
      "0\n"
     ]
    },
    {
     "data": {
      "text/plain": [
       "array([' hrs and  mins', ' hrs', ' hrs and  min', ' hr and  mins',\n",
       "       ' mins', ' hr', ' hr and  min', ' min', 'Less than  minute'],\n",
       "      dtype=object)"
      ]
     },
     "execution_count": 70,
     "metadata": {},
     "output_type": "execute_result"
    }
   ],
   "source": [
    "import pandas as pd\n",
    "\n",
    "#import data\n",
    "df = pd.read_csv(r\"C:\\Users\\Hoang\\Data analysis\\Datasets\\audible_uncleaned.csv\")\n",
    "#set max width\n",
    "pd.set_option(\"display.width\",1000)\n",
    "pd.set_option(\"display.max_colwidth\",200)\n",
    "\n",
    "#first 5 rows\n",
    "print(f\"First 5 rows are: \\n{df.head()}\") \n",
    "#Overview dataset\n",
    "print(df.info())\n",
    "print(df.describe())\n",
    "\n",
    "#DATA CLEANING\n",
    "#check missing values from columns\n",
    "print(f\"Missing values from columns are: \\n{df.isnull().sum()}\")\n",
    "\n",
    "#check duplicated values\n",
    "print(f\"Duplicated values are: \\n{df.duplicated().sum()}\")\n",
    "\n",
    "#Clean the author columns ==> remove writtenby, create a space between firstname and last name\n",
    "df[\"author\"] = df[\"author\"].str.replace(r\"Writtenby:\",\"\").str.replace(r\"([a-z])([A-Z])\",r\"\\1 \\2\",regex = True)\n",
    "\n",
    "#Clean the author columns ==> remove writtenby, create a space between firstname and last name\n",
    "df[\"narrator\"] = df[\"narrator\"].str.replace(r\"Narratedby:\",\"\").str.replace(r\"([a-z])([A-Z])\",r\"\\1 \\2\",regex = True)\n",
    "\n",
    "#Ensure consistency in ‘language’ column: Capitalize uniformly, check for misspellings, and remove additional characters.\n",
    "df[\"language\"] = df[\"language\"].str.capitalize().str.replace(r\"(^A-Za-z)\",\"\",regex = True)\n",
    "\n",
    "#Split ‘stars’ column into ‘stars’ and ‘rating’: Store in numeric format for analysis.\n",
    "df[[\"Stars\",\"Rating\"]]=df[\"stars\"].str.split(\"out of 5 stars\",expand=True)\n",
    "# drop column stars\n",
    "df.drop(columns =[\"stars\"],inplace=True)\n",
    "\n",
    "df[\"time\"] =df[\"time\"].str.replace(r\"\\d+\",\"\",regex=True)\n",
    "df[\"time\"].unique()\n",
    "\n",
    "\n",
    "\n",
    "\n"
   ]
  },
  {
   "cell_type": "code",
   "execution_count": 92,
   "id": "2d2675c6-0162-4f43-9319-d6a624f99b2c",
   "metadata": {},
   "outputs": [
    {
     "data": {
      "text/html": [
       "<div>\n",
       "<style scoped>\n",
       "    .dataframe tbody tr th:only-of-type {\n",
       "        vertical-align: middle;\n",
       "    }\n",
       "\n",
       "    .dataframe tbody tr th {\n",
       "        vertical-align: top;\n",
       "    }\n",
       "\n",
       "    .dataframe thead th {\n",
       "        text-align: right;\n",
       "    }\n",
       "</style>\n",
       "<table border=\"1\" class=\"dataframe\">\n",
       "  <thead>\n",
       "    <tr style=\"text-align: right;\">\n",
       "      <th></th>\n",
       "      <th>Duration</th>\n",
       "      <th>Hours</th>\n",
       "      <th>Mins</th>\n",
       "    </tr>\n",
       "  </thead>\n",
       "  <tbody>\n",
       "    <tr>\n",
       "      <th>0</th>\n",
       "      <td>2 hrs 5 mins 30 sec</td>\n",
       "      <td>2</td>\n",
       "      <td>NaN</td>\n",
       "    </tr>\n",
       "    <tr>\n",
       "      <th>1</th>\n",
       "      <td>45 min 15 sec</td>\n",
       "      <td>NaN</td>\n",
       "      <td>45</td>\n",
       "    </tr>\n",
       "    <tr>\n",
       "      <th>2</th>\n",
       "      <td>30 sec</td>\n",
       "      <td>NaN</td>\n",
       "      <td>NaN</td>\n",
       "    </tr>\n",
       "    <tr>\n",
       "      <th>3</th>\n",
       "      <td>1 hr</td>\n",
       "      <td>1</td>\n",
       "      <td>NaN</td>\n",
       "    </tr>\n",
       "  </tbody>\n",
       "</table>\n",
       "</div>"
      ],
      "text/plain": [
       "              Duration Hours Mins\n",
       "0  2 hrs 5 mins 30 sec     2  NaN\n",
       "1        45 min 15 sec   NaN   45\n",
       "2               30 sec   NaN  NaN\n",
       "3                 1 hr     1  NaN"
      ]
     },
     "execution_count": 92,
     "metadata": {},
     "output_type": "execute_result"
    }
   ],
   "source": [
    "import pandas as pd\n",
    "\n",
    "# Sample DataFrame\n",
    "data = {'Duration': [\"2 hrs 5 mins 30 sec\", \"45 min 15 sec\", \"30 sec\", \"1 hr\"]}\n",
    "df = pd.DataFrame(data)\n",
    "df[[\"Hours\",\"Mins\"]] = df[\"Duration\"].str.extract(r\"(?:(\\d+)\\s*h)?(?:(\\d+)\\s*m)?\", expand =True)\n",
    "df"
   ]
  },
  {
   "cell_type": "code",
   "execution_count": 88,
   "id": "2b21d7d2-6dee-4f4a-ad27-21c07a740d3c",
   "metadata": {},
   "outputs": [
    {
     "data": {
      "text/html": [
       "<div>\n",
       "<style scoped>\n",
       "    .dataframe tbody tr th:only-of-type {\n",
       "        vertical-align: middle;\n",
       "    }\n",
       "\n",
       "    .dataframe tbody tr th {\n",
       "        vertical-align: top;\n",
       "    }\n",
       "\n",
       "    .dataframe thead th {\n",
       "        text-align: right;\n",
       "    }\n",
       "</style>\n",
       "<table border=\"1\" class=\"dataframe\">\n",
       "  <thead>\n",
       "    <tr style=\"text-align: right;\">\n",
       "      <th></th>\n",
       "      <th>Duration</th>\n",
       "      <th>Hours</th>\n",
       "    </tr>\n",
       "  </thead>\n",
       "  <tbody>\n",
       "    <tr>\n",
       "      <th>0</th>\n",
       "      <td>2 hrs</td>\n",
       "      <td>2</td>\n",
       "    </tr>\n",
       "    <tr>\n",
       "      <th>1</th>\n",
       "      <td>10 hrs</td>\n",
       "      <td>10</td>\n",
       "    </tr>\n",
       "    <tr>\n",
       "      <th>2</th>\n",
       "      <td>1 hr</td>\n",
       "      <td>1</td>\n",
       "    </tr>\n",
       "    <tr>\n",
       "      <th>3</th>\n",
       "      <td>4 hrs</td>\n",
       "      <td>4</td>\n",
       "    </tr>\n",
       "  </tbody>\n",
       "</table>\n",
       "</div>"
      ],
      "text/plain": [
       "  Duration Hours\n",
       "0    2 hrs     2\n",
       "1   10 hrs    10\n",
       "2     1 hr     1\n",
       "3    4 hrs     4"
      ]
     },
     "execution_count": 88,
     "metadata": {},
     "output_type": "execute_result"
    }
   ],
   "source": [
    "import pandas as pd\n",
    "\n",
    "# Sample DataFrame\n",
    "df = pd.DataFrame({\"Duration\": [\"2 hrs\", \"10 hrs\", \"1 hr\", \"4 hrs\"]})\n",
    "\n",
    "# Extract hours using regex\n",
    "df['Hours'] = df[\"Duration\"].str.extract(r\"(?:(\\d+)\\s*h)?\")\n",
    "\n",
    "\n",
    "\n",
    "df\n"
   ]
  },
  {
   "cell_type": "code",
   "execution_count": null,
   "id": "427bfd45-74ed-48ca-b6d4-e336e573fc21",
   "metadata": {},
   "outputs": [],
   "source": []
  }
 ],
 "metadata": {
  "kernelspec": {
   "display_name": "Python [conda env:base] *",
   "language": "python",
   "name": "conda-base-py"
  },
  "language_info": {
   "codemirror_mode": {
    "name": "ipython",
    "version": 3
   },
   "file_extension": ".py",
   "mimetype": "text/x-python",
   "name": "python",
   "nbconvert_exporter": "python",
   "pygments_lexer": "ipython3",
   "version": "3.12.7"
  }
 },
 "nbformat": 4,
 "nbformat_minor": 5
}
