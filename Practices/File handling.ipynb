{
 "cells": [
  {
   "cell_type": "code",
   "execution_count": 5,
   "id": "8f16beba-f9dd-4522-93b5-35b38407f4f8",
   "metadata": {},
   "outputs": [
    {
     "data": {
      "text/plain": [
       "<function TextIOWrapper.close()>"
      ]
     },
     "execution_count": 5,
     "metadata": {},
     "output_type": "execute_result"
    }
   ],
   "source": [
    "fp = open(\"test.txt\",\"w\")\n",
    "fp.write = (\"first line\")\n",
    "fp.close"
   ]
  },
  {
   "cell_type": "code",
   "execution_count": 7,
   "id": "a46ccb23-9d7b-4505-be58-e08cfdb8b834",
   "metadata": {},
   "outputs": [
    {
     "name": "stdout",
     "output_type": "stream",
     "text": [
      "C:\\Users\\Hoang\n"
     ]
    }
   ],
   "source": [
    "import os\n",
    "print(os.getcwd())"
   ]
  },
  {
   "cell_type": "code",
   "execution_count": 33,
   "id": "bdf6a4e5-d6b0-4fe9-aa83-129eed9c03e3",
   "metadata": {},
   "outputs": [],
   "source": [
    "with open(\"test.txt\",\"w\") as file:\n",
    "    file.write(\"This is the best practice to create a new file\\n\")\n",
    "    file.write(\"This is the line 2\\n\")\n",
    "    file.write(\"This is the line 3\\n\")\n"
   ]
  },
  {
   "cell_type": "code",
   "execution_count": 35,
   "id": "3334f915-a9a1-4f11-be6e-e1d2d87dce4d",
   "metadata": {},
   "outputs": [
    {
     "name": "stdout",
     "output_type": "stream",
     "text": [
      "This is the best practice to create a new file\n",
      "This is the line 2\n",
      "This is the line 3\n",
      "\n"
     ]
    }
   ],
   "source": [
    "with open(\"test.txt\",\"r\") as file:\n",
    "    print(file.read())\n"
   ]
  },
  {
   "cell_type": "code",
   "execution_count": 15,
   "id": "a7f6928c-4255-4ee1-9cae-ba41192c9a43",
   "metadata": {},
   "outputs": [
    {
     "name": "stdout",
     "output_type": "stream",
     "text": [
      "calories    380\n",
      "duration     40\n",
      "Name: day2, dtype: int64\n"
     ]
    }
   ],
   "source": [
    "import pandas as pd\n",
    "\n",
    "data = {\n",
    "    \"calories\": [420,380,390],\n",
    "    \"duration\": [50,40,45]\n",
    "}\n",
    "# load data into DataFrame object.\n",
    "df = pd.DataFrame(data,index =[\"day1\",\"day2\",\"day3\"])\n",
    "print(df.loc[\"day2\"])\n"
   ]
  },
  {
   "cell_type": "code",
   "execution_count": null,
   "id": "09628224-351c-45f9-8621-b1968c3563aa",
   "metadata": {},
   "outputs": [],
   "source": []
  }
 ],
 "metadata": {
  "kernelspec": {
   "display_name": "Python [conda env:base] *",
   "language": "python",
   "name": "conda-base-py"
  },
  "language_info": {
   "codemirror_mode": {
    "name": "ipython",
    "version": 3
   },
   "file_extension": ".py",
   "mimetype": "text/x-python",
   "name": "python",
   "nbconvert_exporter": "python",
   "pygments_lexer": "ipython3",
   "version": "3.12.7"
  }
 },
 "nbformat": 4,
 "nbformat_minor": 5
}
