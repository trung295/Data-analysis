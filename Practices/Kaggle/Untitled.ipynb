{
 "cells": [
  {
   "cell_type": "code",
   "execution_count": 2,
   "id": "215eeff5-baa6-442e-8945-276b6fd90bf6",
   "metadata": {},
   "outputs": [
    {
     "name": "stdout",
     "output_type": "stream",
     "text": [
      "Collecting kaggle\n",
      "  Downloading kaggle-1.7.4.2-py3-none-any.whl.metadata (16 kB)\n",
      "Requirement already satisfied: bleach in c:\\users\\hoang\\anaconda3\\lib\\site-packages (from kaggle) (4.1.0)\n",
      "Requirement already satisfied: certifi>=14.05.14 in c:\\users\\hoang\\anaconda3\\lib\\site-packages (from kaggle) (2025.1.31)\n",
      "Requirement already satisfied: charset-normalizer in c:\\users\\hoang\\anaconda3\\lib\\site-packages (from kaggle) (3.3.2)\n",
      "Requirement already satisfied: idna in c:\\users\\hoang\\anaconda3\\lib\\site-packages (from kaggle) (3.7)\n",
      "Requirement already satisfied: protobuf in c:\\users\\hoang\\anaconda3\\lib\\site-packages (from kaggle) (4.25.3)\n",
      "Requirement already satisfied: python-dateutil>=2.5.3 in c:\\users\\hoang\\anaconda3\\lib\\site-packages (from kaggle) (2.9.0.post0)\n",
      "Requirement already satisfied: python-slugify in c:\\users\\hoang\\anaconda3\\lib\\site-packages (from kaggle) (5.0.2)\n",
      "Requirement already satisfied: requests in c:\\users\\hoang\\anaconda3\\lib\\site-packages (from kaggle) (2.32.3)\n",
      "Requirement already satisfied: setuptools>=21.0.0 in c:\\users\\hoang\\anaconda3\\lib\\site-packages (from kaggle) (75.1.0)\n",
      "Requirement already satisfied: six>=1.10 in c:\\users\\hoang\\anaconda3\\lib\\site-packages (from kaggle) (1.16.0)\n",
      "Requirement already satisfied: text-unidecode in c:\\users\\hoang\\anaconda3\\lib\\site-packages (from kaggle) (1.3)\n",
      "Requirement already satisfied: tqdm in c:\\users\\hoang\\anaconda3\\lib\\site-packages (from kaggle) (4.66.5)\n",
      "Requirement already satisfied: urllib3>=1.15.1 in c:\\users\\hoang\\anaconda3\\lib\\site-packages (from kaggle) (2.2.3)\n",
      "Requirement already satisfied: webencodings in c:\\users\\hoang\\anaconda3\\lib\\site-packages (from kaggle) (0.5.1)\n",
      "Requirement already satisfied: packaging in c:\\users\\hoang\\anaconda3\\lib\\site-packages (from bleach->kaggle) (24.1)\n",
      "Requirement already satisfied: colorama in c:\\users\\hoang\\anaconda3\\lib\\site-packages (from tqdm->kaggle) (0.4.6)\n",
      "Downloading kaggle-1.7.4.2-py3-none-any.whl (173 kB)\n",
      "Installing collected packages: kaggle\n",
      "Successfully installed kaggle-1.7.4.2\n"
     ]
    }
   ],
   "source": [
    "!pip install kaggle"
   ]
  },
  {
   "cell_type": "code",
   "execution_count": 10,
   "id": "c4d0d3ea-fb05-4ed4-a6fc-55eb74bb942b",
   "metadata": {},
   "outputs": [
    {
     "name": "stdout",
     "output_type": "stream",
     "text": [
      "Collecting kagglehub[pandas-datasets]\n",
      "  Downloading kagglehub-0.3.11-py3-none-any.whl.metadata (32 kB)\n",
      "Requirement already satisfied: packaging in c:\\users\\hoang\\anaconda3\\lib\\site-packages (from kagglehub[pandas-datasets]) (24.1)\n",
      "Requirement already satisfied: pyyaml in c:\\users\\hoang\\anaconda3\\lib\\site-packages (from kagglehub[pandas-datasets]) (6.0.1)\n",
      "Requirement already satisfied: requests in c:\\users\\hoang\\anaconda3\\lib\\site-packages (from kagglehub[pandas-datasets]) (2.32.3)\n",
      "Requirement already satisfied: tqdm in c:\\users\\hoang\\anaconda3\\lib\\site-packages (from kagglehub[pandas-datasets]) (4.66.5)\n",
      "Requirement already satisfied: pandas in c:\\users\\hoang\\anaconda3\\lib\\site-packages (from kagglehub[pandas-datasets]) (2.2.2)\n",
      "Requirement already satisfied: numpy>=1.26.0 in c:\\users\\hoang\\anaconda3\\lib\\site-packages (from pandas->kagglehub[pandas-datasets]) (1.26.4)\n",
      "Requirement already satisfied: python-dateutil>=2.8.2 in c:\\users\\hoang\\anaconda3\\lib\\site-packages (from pandas->kagglehub[pandas-datasets]) (2.9.0.post0)\n",
      "Requirement already satisfied: pytz>=2020.1 in c:\\users\\hoang\\anaconda3\\lib\\site-packages (from pandas->kagglehub[pandas-datasets]) (2024.1)\n",
      "Requirement already satisfied: tzdata>=2022.7 in c:\\users\\hoang\\anaconda3\\lib\\site-packages (from pandas->kagglehub[pandas-datasets]) (2023.3)\n",
      "Requirement already satisfied: charset-normalizer<4,>=2 in c:\\users\\hoang\\anaconda3\\lib\\site-packages (from requests->kagglehub[pandas-datasets]) (3.3.2)\n",
      "Requirement already satisfied: idna<4,>=2.5 in c:\\users\\hoang\\anaconda3\\lib\\site-packages (from requests->kagglehub[pandas-datasets]) (3.7)\n",
      "Requirement already satisfied: urllib3<3,>=1.21.1 in c:\\users\\hoang\\anaconda3\\lib\\site-packages (from requests->kagglehub[pandas-datasets]) (2.2.3)\n",
      "Requirement already satisfied: certifi>=2017.4.17 in c:\\users\\hoang\\anaconda3\\lib\\site-packages (from requests->kagglehub[pandas-datasets]) (2025.1.31)\n",
      "Requirement already satisfied: colorama in c:\\users\\hoang\\anaconda3\\lib\\site-packages (from tqdm->kagglehub[pandas-datasets]) (0.4.6)\n",
      "Requirement already satisfied: six>=1.5 in c:\\users\\hoang\\anaconda3\\lib\\site-packages (from python-dateutil>=2.8.2->pandas->kagglehub[pandas-datasets]) (1.16.0)\n",
      "Downloading kagglehub-0.3.11-py3-none-any.whl (63 kB)\n",
      "Installing collected packages: kagglehub\n",
      "Successfully installed kagglehub-0.3.11\n"
     ]
    }
   ],
   "source": [
    "!pip install kagglehub[pandas-datasets]"
   ]
  },
  {
   "cell_type": "code",
   "execution_count": 8,
   "id": "e085956b-6543-4470-a472-d528b1bfd8a1",
   "metadata": {},
   "outputs": [
    {
     "name": "stdout",
     "output_type": "stream",
     "text": [
      "ref                                                         title                                                   size  lastUpdated                 downloadCount  voteCount  usabilityRating  \n",
      "----------------------------------------------------------  ------------------------------------------------  ----------  --------------------------  -------------  ---------  ---------------  \n",
      "b'atharvasoundankar/chocolate-sales                           Chocolate Sales Data \\xf0\\x9f\\x93\\x8a\\xf0\\x9f\\x8d\\xab                                14473  2025-03-19 03:51:40.270000          18006        305  1.0              '\n",
      "adilshamim8/student-depression-dataset                      Student Depression Dataset                            467020  2025-03-13 03:12:30.423000           9119        133  1.0              \n",
      "khushikyad001/finance-and-economics-dataset-2000-present    Finance & Economics Dataset (2000 - Present)          204142  2025-03-29 18:51:33.840000            980         23  1.0              \n",
      "meleknur/global-internet-usage-by-country-2000-2023         Global Internet Usage by Country (2000-2023)           17617  2025-03-25 15:34:00.883000           1607         24  1.0              \n",
      "juice0lover/users-vs-bots-classification                    Users vs bots classification                          112490  2025-03-30 13:38:07.167000            630         24  1.0              \n",
      "veselagencheva/gold-insights-dataset-20202023               Gold Insights Dataset (2020–2023)                       5748  2025-03-09 07:59:42.690000           1326         23  1.0              \n",
      "ak0212/average-daily-screen-time-for-children               Average Daily Screen Time for Children                  1378  2025-03-24 03:52:51.137000           2612         44  1.0              \n",
      "albertobircoci/historical-prices-of-major-natural-resource  Historical Prices of Major Natural Resource           266218  2025-04-02 04:54:54.640000            799         27  1.0              \n",
      "abdulmalik1518/mobiles-dataset-2025                         Mobiles Dataset (2025)                                 20314  2025-02-18 06:50:24.370000          21537        339  1.0              \n",
      "b'atharvasoundankar/global-cybersecurity-threats-2015-2024    \\xf0\\x9f\\x8c\\x90 Global Cybersecurity Threats (2015-2024)             48178  2025-03-16 04:23:13.343000           3108         61  1.0              '\n",
      "brsahan/extensive-used-car-price-for-predictive-modeling    Extensive Used Car Price for Predictive Modeling        3852  2025-04-03 12:39:18.130000            305         25  1.0              \n",
      "khushikyad001/fake-news-detection                           Fake News Detection                                   182101  2025-03-23 03:29:28.860000           1078         26  1.0              \n",
      "willianoliveiragibin/games-and-students                     Games and Students                                      5061  2025-03-19 22:20:00.723000           1555         33  1.0              \n",
      "taimoor888/tesla-stock-price-data-2000-2025                 Tesla Stock Price Data (2000-2025)                     89869  2025-03-03 17:05:03.893000           1237         21  1.0              \n",
      "mohamedsaad254/uae-used-cars-analysis-full-project-v1-0     UAE Used Cars Analysis - Full Project v1.0          17351496  2025-03-10 00:38:45.553000           1361         29  1.0              \n",
      "b'atharvasoundankar/global-housing-market-analysis-2015-2024  \\xf0\\x9f\\x8f\\xa1 Global Housing Market Analysis (2015-2024)           18363  2025-03-18 05:21:22.723000           1718         30  1.0              '\n",
      "zahidmughal2343/employee-data                               Employee Data                                         379143  2025-03-08 19:36:42.953000           3050         48  1.0              \n",
      "monicahjones/steps-tracker-dataset                          steps_tracker_dataset                                   9043  2025-03-07 08:36:03.750000           1680         24  1.0              \n",
      "samayashar/stock-market-simulation-dataset                  Stock Market Simulation Dataset                        90192  2025-03-12 18:28:19.593000           1215         22  1.0              \n",
      "mahmoudelhemaly/students-grading-dataset                    Student Performance & Behavior Dataset                520428  2025-02-17 17:38:46.653000          14297        208  1.0              \n"
     ]
    }
   ],
   "source": [
    "# Install dependencies as needed:\n",
    "import kagglehub\n",
    "from kagglehub import KaggleDatasetAdapter\n",
    "\n",
    "# Set the path to the file you'd like to load\n",
    "file_path = \"\"\n",
    "\n",
    "# Load the latest version\n",
    "df = kagglehub.load_dataset(\n",
    "  KaggleDatasetAdapter.PANDAS,\n",
    "  \"allen-institute-for-ai/CORD-19-research-challenge\",\n",
    "  file_path,\n",
    "  # Provide any additional arguments like \n",
    "  # sql_query or pandas_kwargs. See the \n",
    "  # documenation for more information:\n",
    "  # https://github.com/Kaggle/kagglehub/blob/main/README.md#kaggledatasetadapterpandas\n",
    ")\n",
    "\n",
    "print(\"First 5 records:\", df.head())"
   ]
  },
  {
   "cell_type": "code",
   "execution_count": null,
   "id": "1d1a40ea-0256-4dc4-b018-3651e95f1311",
   "metadata": {},
   "outputs": [],
   "source": []
  }
 ],
 "metadata": {
  "kernelspec": {
   "display_name": "Python [conda env:base] *",
   "language": "python",
   "name": "conda-base-py"
  },
  "language_info": {
   "codemirror_mode": {
    "name": "ipython",
    "version": 3
   },
   "file_extension": ".py",
   "mimetype": "text/x-python",
   "name": "python",
   "nbconvert_exporter": "python",
   "pygments_lexer": "ipython3",
   "version": "3.12.7"
  }
 },
 "nbformat": 4,
 "nbformat_minor": 5
}
