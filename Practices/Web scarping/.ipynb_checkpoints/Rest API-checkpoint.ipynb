{
 "cells": [
  {
   "cell_type": "code",
   "execution_count": 20,
   "id": "7ac4b40a-d6aa-4949-bd2f-21156a39fd50",
   "metadata": {},
   "outputs": [
    {
     "name": "stdout",
     "output_type": "stream",
     "text": [
      "200\n",
      "{'User-Agent': 'python-requests/2.32.3', 'Accept-Encoding': 'gzip, deflate, br, zstd', 'Accept': '*/*', 'Connection': 'keep-alive', 'Cookie': '_abck=AA5564CE5C558A72DB1F154986A975BF~-1~YAAQXP1zPv7jtqiVAQAAn6yzwQ2J2BPTTto0Xa5j+dE7sKcSbHaYNcnf/Tj7NusJkQAjvY+lhM9gHyQ1i8Dj/Rbu6ugXI8KQh75V45nqTj1Y4F/6XVs0oUD8uiz4P8wq8AGorKcp1tZYdTdgmRsDRsLhXZEviOGuZqYfocDY7Pbna4Pxtzd1hOzs7tqvZ+KhwqcHHGSEeeGlysSGojF7Dn1MbnqhktQ5Sf1lQ/zeEhTpdQZTmobBrExNVMVMXgH/dOVcZXa3EgoUgKLKFT35gF7c61/lYmpM86TenqYfHRoOFQ/IEWS72HgnsZ+WAM6fjg9bGukiF/EV2IGNWtE0Bg3cUaCyVubt+h91JHoK+274UffP5tpz2LmkM13RFzlBnTYwQpLqRqDye9q15ss9Aksv1yf8xig=~-1~-1~-1; bm_sz=8D25F81F48B84D4569B4615F53F3EB2C~YAAQXP1zPv/jtqiVAQAAn6yzwRuiVlUbYr8g6NA2AXVQzr9DgOR/tkjAbsy+n7WxWk1ZcVF9wVghG3ByY3/iWYr+owg23UK6h3gUn4tg08E27ioo4wDikY5ulH1j1dns9VjBeAKhl7NgTHTVynVPMtY7Vv2egQkcsXryu2hyKdZAbaZy+a9W9sKMqzFhOI0mlmxZNAJyZY7CWNcbIBeqxcIwlKSppW85KSNuMy2p0B1QUN8vUdl6k8ucrrKI2XURp/H8nv2pBK9PeGoPISVJxF1qPr2RlCzkqqt0zs+T4DVK5fd/v2Q7XyBslai3AT3brGzxA8cteKdkK7jatT5GUKpzjm5i58yy7mc=~3294265~3293506'}\n",
      "request body: None\n",
      "{'Content-Security-Policy': 'upgrade-insecure-requests', 'x-frame-options': 'SAMEORIGIN', 'Last-Modified': 'Sun, 23 Mar 2025 06:03:20 GMT', 'ETag': '\"2cb5c-630fc3ea02765-gzip\"', 'Accept-Ranges': 'bytes', 'Content-Type': 'text/html;charset=utf-8', 'X-Content-Type-Options': 'nosniff', 'Cache-Control': 'max-age=600', 'Expires': 'Sun, 23 Mar 2025 06:42:12 GMT', 'X-Akamai-Transformed': '9 31066 0 pmb=mTOE,1', 'Content-Encoding': 'gzip', 'Date': 'Sun, 23 Mar 2025 06:32:12 GMT', 'Content-Length': '31241', 'Connection': 'keep-alive', 'Vary': 'Accept-Encoding', 'Strict-Transport-Security': 'max-age=31536000'}\n"
     ]
    },
    {
     "data": {
      "text/plain": [
       "'\\n<!DOCTYPE HTML>\\n<html lang=\"en\">\\n<head>\\r\\n    \\r\\n    \\r\\n    \\r\\n    \\r\\n    \\r\\n    \\r\\n    \\r\\n      \\r\\n    \\r\\n  '"
      ]
     },
     "execution_count": 20,
     "metadata": {},
     "output_type": "execute_result"
    }
   ],
   "source": [
    "import requests\n",
    "import os\n",
    "from PIL import Image\n",
    "from IPython.display import IFrame\n",
    "\n",
    "url = \"https://www.ibm.com/\"\n",
    "\n",
    "r = requests.get(url)\n",
    "\n",
    "#view the status code \n",
    "print(r.status_code)\n",
    "\n",
    "# view request header\n",
    "print(r.request.headers)\n",
    "\n",
    "# view request body\n",
    "print(\"request body:\",r.request.body)\n",
    "\n",
    "header = r.headers\n",
    "print(header)\n",
    "\n",
    "header[\"date\"] #the date the request was sent\n",
    "\n",
    "header[\"Content-Type\"] #the type of data\n",
    "\n",
    "r.text[0:100]"
   ]
  },
  {
   "cell_type": "code",
   "execution_count": null,
   "id": "cde8d19d-3f7e-4f3a-bbbb-1565b9e15e60",
   "metadata": {},
   "outputs": [],
   "source": []
  }
 ],
 "metadata": {
  "kernelspec": {
   "display_name": "Python [conda env:base] *",
   "language": "python",
   "name": "conda-base-py"
  },
  "language_info": {
   "codemirror_mode": {
    "name": "ipython",
    "version": 3
   },
   "file_extension": ".py",
   "mimetype": "text/x-python",
   "name": "python",
   "nbconvert_exporter": "python",
   "pygments_lexer": "ipython3",
   "version": "3.12.7"
  }
 },
 "nbformat": 4,
 "nbformat_minor": 5
}
