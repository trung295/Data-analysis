{
 "cells": [
  {
   "cell_type": "code",
   "execution_count": 6,
   "id": "7952e93b-7021-49e1-b4ba-62a402e2b50a",
   "metadata": {},
   "outputs": [
    {
     "name": "stdout",
     "output_type": "stream",
     "text": [
      "Requirement already satisfied: requests in c:\\users\\hoang\\anaconda3\\lib\\site-packages (2.32.3)\n",
      "Requirement already satisfied: pandas in c:\\users\\hoang\\anaconda3\\lib\\site-packages (2.2.2)\n",
      "Requirement already satisfied: charset-normalizer<4,>=2 in c:\\users\\hoang\\anaconda3\\lib\\site-packages (from requests) (3.3.2)\n",
      "Requirement already satisfied: idna<4,>=2.5 in c:\\users\\hoang\\anaconda3\\lib\\site-packages (from requests) (3.7)\n",
      "Requirement already satisfied: urllib3<3,>=1.21.1 in c:\\users\\hoang\\anaconda3\\lib\\site-packages (from requests) (2.2.3)\n",
      "Requirement already satisfied: certifi>=2017.4.17 in c:\\users\\hoang\\anaconda3\\lib\\site-packages (from requests) (2025.1.31)\n",
      "Requirement already satisfied: numpy>=1.26.0 in c:\\users\\hoang\\anaconda3\\lib\\site-packages (from pandas) (1.26.4)\n",
      "Requirement already satisfied: python-dateutil>=2.8.2 in c:\\users\\hoang\\anaconda3\\lib\\site-packages (from pandas) (2.9.0.post0)\n",
      "Requirement already satisfied: pytz>=2020.1 in c:\\users\\hoang\\anaconda3\\lib\\site-packages (from pandas) (2024.1)\n",
      "Requirement already satisfied: tzdata>=2022.7 in c:\\users\\hoang\\anaconda3\\lib\\site-packages (from pandas) (2023.3)\n",
      "Requirement already satisfied: six>=1.5 in c:\\users\\hoang\\anaconda3\\lib\\site-packages (from python-dateutil>=2.8.2->pandas) (1.16.0)\n"
     ]
    }
   ],
   "source": [
    "!pip install requests pandas"
   ]
  },
  {
   "cell_type": "code",
   "execution_count": 18,
   "id": "0684c055-9015-4a7c-9ff3-c691f342d13d",
   "metadata": {},
   "outputs": [
    {
     "name": "stdout",
     "output_type": "stream",
     "text": [
      "delectus aut autem\n",
      "Type of data is <class 'dict'>\n"
     ]
    }
   ],
   "source": [
    "import requests\n",
    "import pandas as pd\n",
    "\n",
    "url = \"https://jsonplaceholder.typicode.com/todos/1\"\n",
    "\n",
    "# fetch data \n",
    "respond = requests.get(url)\n",
    "\n",
    "#check status and convert data into json\n",
    "\n",
    "if respond.status_code == 200:\n",
    "    data = respond.json() # convert data to json\n",
    "    print(data)\n",
    "    print(f\"Type of data is {type(data)}\")\n",
    "else:\n",
    "    print(f\"Error: {respond.status_code}\")\n",
    "\n",
    "\n"
   ]
  },
  {
   "cell_type": "code",
   "execution_count": 24,
   "id": "5b3ac1be-8b98-480a-802f-17d61eff21fa",
   "metadata": {},
   "outputs": [
    {
     "name": "stdout",
     "output_type": "stream",
     "text": [
      "{'results': [{'gender': 'male', 'name': {'title': 'Mr', 'first': 'Albert-Jan', 'last': 'Wanders'}, 'location': {'street': {'number': 7893, 'name': 'Braziliestraat'}, 'city': 'Koudekerk aan den Rijn', 'state': 'Noord-Brabant', 'country': 'Netherlands', 'postcode': '3057 SL', 'coordinates': {'latitude': '35.5108', 'longitude': '-113.7895'}, 'timezone': {'offset': '+10:00', 'description': 'Eastern Australia, Guam, Vladivostok'}}, 'email': 'albert-jan.wanders@example.com', 'login': {'uuid': '0ffc3797-3eee-4db9-aea2-9df9c88480ee', 'username': 'purplecat661', 'password': 'valencia', 'salt': 'n4462QJ6', 'md5': '9d76f4acf8572ed5ee58a8d88cf0d65c', 'sha1': 'acbef38ffbf55ecb9e48e24b4bcfabfe95ca251f', 'sha256': '91870d44deb52c4edc5148b5b08f90edbae9b8be061bb4902095bcfaa5d451d7'}, 'dob': {'date': '1992-04-16T09:33:25.727Z', 'age': 32}, 'registered': {'date': '2022-05-11T23:00:02.156Z', 'age': 2}, 'phone': '(0862) 629195', 'cell': '(06) 06434628', 'id': {'name': 'BSN', 'value': '00316890'}, 'picture': {'large': 'https://randomuser.me/api/portraits/men/61.jpg', 'medium': 'https://randomuser.me/api/portraits/med/men/61.jpg', 'thumbnail': 'https://randomuser.me/api/portraits/thumb/men/61.jpg'}, 'nat': 'NL'}, {'gender': 'male', 'name': {'title': 'Mr', 'first': 'Nanne', 'last': 'Van der Klift'}, 'location': {'street': {'number': 6235, 'name': 'Bregwaard'}, 'city': 'Raerd', 'state': 'Zeeland', 'country': 'Netherlands', 'postcode': '3652 FU', 'coordinates': {'latitude': '-49.1377', 'longitude': '123.5244'}, 'timezone': {'offset': '+9:30', 'description': 'Adelaide, Darwin'}}, 'email': 'nanne.vanderklift@example.com', 'login': {'uuid': 'a3a4f3f8-b097-4679-8d00-529df1508cb7', 'username': 'redduck551', 'password': 'vikings', 'salt': 'vMfJNq1p', 'md5': '3ed3b860fa2216f2bf13780565e9d5f0', 'sha1': '44db8aa958da611617dad4bb9a6fb116b89acc91', 'sha256': 'd8ff0ed53c83e169e95f25b4907b224f1ed8fd29590c2ba9175846be128ad19c'}, 'dob': {'date': '1979-11-24T21:07:13.285Z', 'age': 45}, 'registered': {'date': '2008-12-01T04:02:53.426Z', 'age': 16}, 'phone': '(050) 4900283', 'cell': '(06) 15376632', 'id': {'name': 'BSN', 'value': '55293289'}, 'picture': {'large': 'https://randomuser.me/api/portraits/men/80.jpg', 'medium': 'https://randomuser.me/api/portraits/med/men/80.jpg', 'thumbnail': 'https://randomuser.me/api/portraits/thumb/men/80.jpg'}, 'nat': 'NL'}, {'gender': 'male', 'name': {'title': 'Mr', 'first': 'Rayaan', 'last': 'Dalvi'}, 'location': {'street': {'number': 2621, 'name': 'Bhavani Peth'}, 'city': 'Sasaram', 'state': 'Dadra and Nagar Haveli', 'country': 'India', 'postcode': 91881, 'coordinates': {'latitude': '35.8867', 'longitude': '-173.4136'}, 'timezone': {'offset': '+7:00', 'description': 'Bangkok, Hanoi, Jakarta'}}, 'email': 'rayaan.dalvi@example.com', 'login': {'uuid': 'ace93be1-5919-4a4d-8fa3-895c907f103d', 'username': 'greenrabbit913', 'password': 'sultan', 'salt': 'VFYjNRgl', 'md5': '9b55dea792fe8e8884b001b23975f1fc', 'sha1': '254d11a8fcd3339de2696ba98aeef0ad8cd57bca', 'sha256': 'd536c5af3ed8da0cb47b118f1b52335d207294800cb854b4167b53e576f3fa30'}, 'dob': {'date': '1966-04-09T07:00:55.503Z', 'age': 58}, 'registered': {'date': '2004-03-18T06:18:42.298Z', 'age': 21}, 'phone': '9025433977', 'cell': '9130808103', 'id': {'name': 'UIDAI', 'value': '928930317819'}, 'picture': {'large': 'https://randomuser.me/api/portraits/men/68.jpg', 'medium': 'https://randomuser.me/api/portraits/med/men/68.jpg', 'thumbnail': 'https://randomuser.me/api/portraits/thumb/men/68.jpg'}, 'nat': 'IN'}, {'gender': 'male', 'name': {'title': 'Mr', 'first': 'Virodar', 'last': 'Sudiienki'}, 'location': {'street': {'number': 9899, 'name': 'Nazarovska'}, 'city': 'Radomishl', 'state': 'Donecka', 'country': 'Ukraine', 'postcode': 48865, 'coordinates': {'latitude': '-22.7809', 'longitude': '-49.2753'}, 'timezone': {'offset': '+3:30', 'description': 'Tehran'}}, 'email': 'virodar.sudiienki@example.com', 'login': {'uuid': 'f550a347-6195-4caa-9488-3e63df5b843c', 'username': 'silverdog961', 'password': 'fordf150', 'salt': 'kMzH0ShQ', 'md5': '471889311d3c924818aa829dce3af699', 'sha1': '433ef81f044ce9192cf211ccc52196311ac90dc8', 'sha256': '7d23383b26fe9042b98e94e0281591163d31fba2516b67b7e9c9ef26f03b8916'}, 'dob': {'date': '1979-07-14T23:13:21.226Z', 'age': 45}, 'registered': {'date': '2015-02-06T03:28:51.066Z', 'age': 10}, 'phone': '(066) M94-1291', 'cell': '(099) Y82-4165', 'id': {'name': '', 'value': None}, 'picture': {'large': 'https://randomuser.me/api/portraits/men/82.jpg', 'medium': 'https://randomuser.me/api/portraits/med/men/82.jpg', 'thumbnail': 'https://randomuser.me/api/portraits/thumb/men/82.jpg'}, 'nat': 'UA'}, {'gender': 'female', 'name': {'title': 'Miss', 'first': 'Azaliya', 'last': 'Sheyko'}, 'location': {'street': {'number': 9652, 'name': 'Yuridika'}, 'city': 'Yampil', 'state': 'Volinska', 'country': 'Ukraine', 'postcode': 30019, 'coordinates': {'latitude': '8.6537', 'longitude': '-107.9626'}, 'timezone': {'offset': '-12:00', 'description': 'Eniwetok, Kwajalein'}}, 'email': 'azaliya.sheyko@example.com', 'login': {'uuid': 'c3d41d3e-c8d2-4ab1-ad5c-e61af038655f', 'username': 'crazycat694', 'password': '4321', 'salt': 'xuxZWuYz', 'md5': '607ce3f18aff6787f5188d33a00fcb31', 'sha1': 'b3d3029af6b12b700555a0934e39f001d3c1228f', 'sha256': '02b3715c390e78e9c2210fe4331c26dd0446c4990ff9303bf98178ef510fe0f7'}, 'dob': {'date': '1990-12-25T13:25:18.278Z', 'age': 34}, 'registered': {'date': '2006-07-31T18:28:49.970Z', 'age': 18}, 'phone': '(096) D19-3001', 'cell': '(097) Q41-2255', 'id': {'name': '', 'value': None}, 'picture': {'large': 'https://randomuser.me/api/portraits/women/63.jpg', 'medium': 'https://randomuser.me/api/portraits/med/women/63.jpg', 'thumbnail': 'https://randomuser.me/api/portraits/thumb/women/63.jpg'}, 'nat': 'UA'}], 'info': {'seed': 'b3c9b10b93275cf4', 'results': 5, 'page': 1, 'version': '1.4'}}\n"
     ]
    }
   ],
   "source": [
    "import requests\n",
    "import pandas as pd\n",
    "\n",
    "url = \"https://randomuser.me/api/?results=5\"\n",
    "\n",
    "respond = requests.get(url)\n",
    "\n",
    "if respond.status_code == 200:\n",
    "    data = respond.json()\n",
    "    print(data)\n",
    "else:\n",
    "    print(f\"Error: {respond.status_code}\")\n"
   ]
  },
  {
   "cell_type": "code",
   "execution_count": 28,
   "id": "258bbf70-5058-4860-93a9-31896d2c3756",
   "metadata": {},
   "outputs": [
    {
     "name": "stdout",
     "output_type": "stream",
     "text": [
      "{'cod': 401, 'message': 'Invalid API key. Please see https://openweathermap.org/faq#error401 for more info.'}\n"
     ]
    }
   ],
   "source": [
    "import requests\n",
    "url = \"https://api.openweathermap.org/data/2.5/weather\"\n",
    "params = {\n",
    "    \"q\": \"London\",  # City name\n",
    "    \"units\": \"metric\",  # Temperature in Celsius\n",
    "    \"appid\": \"YOUR_API_KEY\"  # API key\n",
    "}\n",
    "\n",
    "response = requests.get(url, params=params)\n",
    "data = response.json()\n",
    "\n",
    "print(data)"
   ]
  },
  {
   "cell_type": "code",
   "execution_count": null,
   "id": "ff5da00c-0ea5-445f-b606-30e0e751518c",
   "metadata": {},
   "outputs": [],
   "source": []
  }
 ],
 "metadata": {
  "kernelspec": {
   "display_name": "Python [conda env:base] *",
   "language": "python",
   "name": "conda-base-py"
  },
  "language_info": {
   "codemirror_mode": {
    "name": "ipython",
    "version": 3
   },
   "file_extension": ".py",
   "mimetype": "text/x-python",
   "name": "python",
   "nbconvert_exporter": "python",
   "pygments_lexer": "ipython3",
   "version": "3.12.7"
  }
 },
 "nbformat": 4,
 "nbformat_minor": 5
}
