{
 "cells": [
  {
   "cell_type": "code",
   "execution_count": 6,
   "id": "7952e93b-7021-49e1-b4ba-62a402e2b50a",
   "metadata": {},
   "outputs": [
    {
     "name": "stdout",
     "output_type": "stream",
     "text": [
      "Requirement already satisfied: requests in c:\\users\\hoang\\anaconda3\\lib\\site-packages (2.32.3)\n",
      "Requirement already satisfied: pandas in c:\\users\\hoang\\anaconda3\\lib\\site-packages (2.2.2)\n",
      "Requirement already satisfied: charset-normalizer<4,>=2 in c:\\users\\hoang\\anaconda3\\lib\\site-packages (from requests) (3.3.2)\n",
      "Requirement already satisfied: idna<4,>=2.5 in c:\\users\\hoang\\anaconda3\\lib\\site-packages (from requests) (3.7)\n",
      "Requirement already satisfied: urllib3<3,>=1.21.1 in c:\\users\\hoang\\anaconda3\\lib\\site-packages (from requests) (2.2.3)\n",
      "Requirement already satisfied: certifi>=2017.4.17 in c:\\users\\hoang\\anaconda3\\lib\\site-packages (from requests) (2025.1.31)\n",
      "Requirement already satisfied: numpy>=1.26.0 in c:\\users\\hoang\\anaconda3\\lib\\site-packages (from pandas) (1.26.4)\n",
      "Requirement already satisfied: python-dateutil>=2.8.2 in c:\\users\\hoang\\anaconda3\\lib\\site-packages (from pandas) (2.9.0.post0)\n",
      "Requirement already satisfied: pytz>=2020.1 in c:\\users\\hoang\\anaconda3\\lib\\site-packages (from pandas) (2024.1)\n",
      "Requirement already satisfied: tzdata>=2022.7 in c:\\users\\hoang\\anaconda3\\lib\\site-packages (from pandas) (2023.3)\n",
      "Requirement already satisfied: six>=1.5 in c:\\users\\hoang\\anaconda3\\lib\\site-packages (from python-dateutil>=2.8.2->pandas) (1.16.0)\n"
     ]
    }
   ],
   "source": [
    "!pip install requests pandas"
   ]
  },
  {
   "cell_type": "code",
   "execution_count": 18,
   "id": "0684c055-9015-4a7c-9ff3-c691f342d13d",
   "metadata": {},
   "outputs": [
    {
     "name": "stdout",
     "output_type": "stream",
     "text": [
      "delectus aut autem\n",
      "Type of data is <class 'dict'>\n"
     ]
    }
   ],
   "source": [
    "import requests\n",
    "import pandas as pd\n",
    "\n",
    "url = \"https://jsonplaceholder.typicode.com/todos/1\"\n",
    "\n",
    "# fetch data \n",
    "respond = requests.get(url)\n",
    "\n",
    "#check status and convert data into json\n",
    "\n",
    "if respond.status_code == 200:\n",
    "    data = respond.json() # convert data to json\n",
    "    print(data)\n",
    "    print(f\"Type of data is {type(data)}\")\n",
    "else:\n",
    "    print(f\"Error: {respond.status_code}\")\n",
    "\n",
    "\n"
   ]
  },
  {
   "cell_type": "code",
   "execution_count": 77,
   "id": "5b3ac1be-8b98-480a-802f-17d61eff21fa",
   "metadata": {},
   "outputs": [
    {
     "name": "stdout",
     "output_type": "stream",
     "text": [
      "[{'gender': 'female', 'name': {'title': 'Ms', 'first': 'Iracilda', 'last': 'de Souza'}, 'location': {'street': {'number': 4297, 'name': 'Rua Santos Dumont '}, 'city': 'Contagem', 'state': 'Pernambuco', 'country': 'Brazil', 'postcode': 54763, 'coordinates': {'latitude': '-75.7172', 'longitude': '143.0627'}, 'timezone': {'offset': '-7:00', 'description': 'Mountain Time (US & Canada)'}}, 'email': 'iracilda.desouza@example.com', 'login': {'uuid': '65f36b4a-7041-4a9f-b0d1-27fdce5f698a', 'username': 'bigdog528', 'password': 'skiing', 'salt': 'aqgML89a', 'md5': '4dd82f4525a01d213cd91fd63c5b3e78', 'sha1': '49beaacbce05c87af58a9fc0f134228fc2074780', 'sha256': '7e41aad05de04ce358e74c98430ad5fa7ebc85a3e9cea29c2b23398b5d51e7b1'}, 'dob': {'date': '2000-09-14T19:13:58.598Z', 'age': 24}, 'registered': {'date': '2019-03-12T11:58:10.156Z', 'age': 6}, 'phone': '(83) 9365-6438', 'cell': '(48) 6670-6425', 'id': {'name': 'CPF', 'value': '025.961.129-10'}, 'picture': {'large': 'https://randomuser.me/api/portraits/women/75.jpg', 'medium': 'https://randomuser.me/api/portraits/med/women/75.jpg', 'thumbnail': 'https://randomuser.me/api/portraits/thumb/women/75.jpg'}, 'nat': 'BR'}, {'gender': 'male', 'name': {'title': 'Mr', 'first': 'Luca', 'last': 'Li'}, 'location': {'street': {'number': 7073, 'name': 'Dee Street'}, 'city': 'Napier', 'state': \"Hawke'S Bay\", 'country': 'New Zealand', 'postcode': 98048, 'coordinates': {'latitude': '-15.0467', 'longitude': '-47.3686'}, 'timezone': {'offset': '-1:00', 'description': 'Azores, Cape Verde Islands'}}, 'email': 'luca.li@example.com', 'login': {'uuid': 'd6daac1a-7390-439e-9223-f20c0b76b374', 'username': 'smallzebra199', 'password': 'fergus', 'salt': 'kOF6TctJ', 'md5': '777fb14413a5772456c250b6b26069cd', 'sha1': '018e44c1b97b1126e0da3e990d39519d12a1ddc3', 'sha256': '6e2fa771281a7b0189a04e959a1da28d39a728b89dbcc02266c9e267fdbcaff5'}, 'dob': {'date': '1961-01-22T07:56:23.515Z', 'age': 64}, 'registered': {'date': '2009-06-27T23:05:13.635Z', 'age': 15}, 'phone': '(314)-868-5860', 'cell': '(565)-022-9356', 'id': {'name': '', 'value': None}, 'picture': {'large': 'https://randomuser.me/api/portraits/men/28.jpg', 'medium': 'https://randomuser.me/api/portraits/med/men/28.jpg', 'thumbnail': 'https://randomuser.me/api/portraits/thumb/men/28.jpg'}, 'nat': 'NZ'}, {'gender': 'male', 'name': {'title': 'Mr', 'first': 'Herrmann', 'last': 'Klee'}, 'location': {'street': {'number': 4817, 'name': 'Burgstraße'}, 'city': 'Annaberg-Buchholz', 'state': 'Brandenburg', 'country': 'Germany', 'postcode': 50947, 'coordinates': {'latitude': '86.0965', 'longitude': '-118.9514'}, 'timezone': {'offset': '-1:00', 'description': 'Azores, Cape Verde Islands'}}, 'email': 'herrmann.klee@example.com', 'login': {'uuid': 'a8eb0595-df14-4545-96da-d8ca09a9134f', 'username': 'lazyfish287', 'password': 'betsy', 'salt': 'L8PQy5J4', 'md5': '236b85c4a53c26fbd021b3e9a8a7b29f', 'sha1': '879c8fd74f1a741006a40ec0fb5d605bfd649471', 'sha256': '827fe239b80ecfc2ce55433ab90b34e63b57d9c7c7b5ffb01d4550aeec5aeb99'}, 'dob': {'date': '1980-06-14T18:18:25.244Z', 'age': 44}, 'registered': {'date': '2013-03-14T10:00:25.330Z', 'age': 12}, 'phone': '0847-6778485', 'cell': '0172-4145453', 'id': {'name': 'SVNR', 'value': '12 140680 K 160'}, 'picture': {'large': 'https://randomuser.me/api/portraits/men/30.jpg', 'medium': 'https://randomuser.me/api/portraits/med/men/30.jpg', 'thumbnail': 'https://randomuser.me/api/portraits/thumb/men/30.jpg'}, 'nat': 'DE'}, {'gender': 'male', 'name': {'title': 'Mr', 'first': 'Ishwar', 'last': 'Nagane'}, 'location': {'street': {'number': 3398, 'name': 'Tripolia Bazar'}, 'city': 'Raipur', 'state': 'Bihar', 'country': 'India', 'postcode': 70758, 'coordinates': {'latitude': '-25.9698', 'longitude': '32.6925'}, 'timezone': {'offset': '+7:00', 'description': 'Bangkok, Hanoi, Jakarta'}}, 'email': 'ishwar.nagane@example.com', 'login': {'uuid': '93077673-0379-4faa-ae9e-2743a84d7c9c', 'username': 'whitefrog176', 'password': 'bigblock', 'salt': '4shVZLld', 'md5': 'e2835bd4570ff22c9a82be3bf9edea1f', 'sha1': '093bc14d07187d069ce156b806a33f7075c1717f', 'sha256': '631b641647dfae54d6ee9fd19b39eaf9657e3239359c522cbdb0762917211467'}, 'dob': {'date': '1995-09-22T01:51:30.828Z', 'age': 29}, 'registered': {'date': '2021-11-08T00:35:06.634Z', 'age': 3}, 'phone': '8912107325', 'cell': '7656268571', 'id': {'name': 'UIDAI', 'value': '138094797564'}, 'picture': {'large': 'https://randomuser.me/api/portraits/men/27.jpg', 'medium': 'https://randomuser.me/api/portraits/med/men/27.jpg', 'thumbnail': 'https://randomuser.me/api/portraits/thumb/men/27.jpg'}, 'nat': 'IN'}, {'gender': 'male', 'name': {'title': 'Mr', 'first': 'Eeli', 'last': 'Huhta'}, 'location': {'street': {'number': 3825, 'name': 'Hermiankatu'}, 'city': 'Oulainen', 'state': 'Finland Proper', 'country': 'Finland', 'postcode': 18394, 'coordinates': {'latitude': '41.6846', 'longitude': '133.6591'}, 'timezone': {'offset': '-7:00', 'description': 'Mountain Time (US & Canada)'}}, 'email': 'eeli.huhta@example.com', 'login': {'uuid': '7d846269-7941-4519-878d-5fc2ae41cd92', 'username': 'ticklishpanda878', 'password': 'mnbvcx', 'salt': 'TolNjHiK', 'md5': '12ad62aa946020bca2ec2a31d76ad91a', 'sha1': '260c5fada7506048b3b983e2aac54b27cdfa173d', 'sha256': 'aa7fc41e1b8d5ec1d269761b826009c10ee90336ed92234ce3a17bb51d113998'}, 'dob': {'date': '1961-05-12T05:57:02.840Z', 'age': 63}, 'registered': {'date': '2022-04-13T10:38:27.758Z', 'age': 2}, 'phone': '06-844-520', 'cell': '049-483-13-96', 'id': {'name': 'HETU', 'value': 'NaNNA217undefined'}, 'picture': {'large': 'https://randomuser.me/api/portraits/men/22.jpg', 'medium': 'https://randomuser.me/api/portraits/med/men/22.jpg', 'thumbnail': 'https://randomuser.me/api/portraits/thumb/men/22.jpg'}, 'nat': 'FI'}]\n",
      "[{'name': 'Ms Iracilda de Souza', 'email': 'iracilda.desouza@example.com'}, {'name': 'Mr Luca Li', 'email': 'luca.li@example.com'}, {'name': 'Mr Herrmann Klee', 'email': 'herrmann.klee@example.com'}, {'name': 'Mr Ishwar Nagane', 'email': 'ishwar.nagane@example.com'}, {'name': 'Mr Eeli Huhta', 'email': 'eeli.huhta@example.com'}]\n"
     ]
    },
    {
     "data": {
      "text/html": [
       "<div>\n",
       "<style scoped>\n",
       "    .dataframe tbody tr th:only-of-type {\n",
       "        vertical-align: middle;\n",
       "    }\n",
       "\n",
       "    .dataframe tbody tr th {\n",
       "        vertical-align: top;\n",
       "    }\n",
       "\n",
       "    .dataframe thead th {\n",
       "        text-align: right;\n",
       "    }\n",
       "</style>\n",
       "<table border=\"1\" class=\"dataframe\">\n",
       "  <thead>\n",
       "    <tr style=\"text-align: right;\">\n",
       "      <th></th>\n",
       "      <th>name</th>\n",
       "      <th>email</th>\n",
       "    </tr>\n",
       "  </thead>\n",
       "  <tbody>\n",
       "    <tr>\n",
       "      <th>0</th>\n",
       "      <td>Ms Iracilda de Souza</td>\n",
       "      <td>iracilda.desouza@example.com</td>\n",
       "    </tr>\n",
       "    <tr>\n",
       "      <th>1</th>\n",
       "      <td>Mr Luca Li</td>\n",
       "      <td>luca.li@example.com</td>\n",
       "    </tr>\n",
       "    <tr>\n",
       "      <th>2</th>\n",
       "      <td>Mr Herrmann Klee</td>\n",
       "      <td>herrmann.klee@example.com</td>\n",
       "    </tr>\n",
       "    <tr>\n",
       "      <th>3</th>\n",
       "      <td>Mr Ishwar Nagane</td>\n",
       "      <td>ishwar.nagane@example.com</td>\n",
       "    </tr>\n",
       "    <tr>\n",
       "      <th>4</th>\n",
       "      <td>Mr Eeli Huhta</td>\n",
       "      <td>eeli.huhta@example.com</td>\n",
       "    </tr>\n",
       "  </tbody>\n",
       "</table>\n",
       "</div>"
      ],
      "text/plain": [
       "                   name                         email\n",
       "0  Ms Iracilda de Souza  iracilda.desouza@example.com\n",
       "1            Mr Luca Li           luca.li@example.com\n",
       "2      Mr Herrmann Klee     herrmann.klee@example.com\n",
       "3      Mr Ishwar Nagane     ishwar.nagane@example.com\n",
       "4         Mr Eeli Huhta        eeli.huhta@example.com"
      ]
     },
     "execution_count": 77,
     "metadata": {},
     "output_type": "execute_result"
    }
   ],
   "source": [
    "import requests\n",
    "import pandas as pd\n",
    "\n",
    "url = \"https://randomuser.me/api/\"\n",
    "params = {\"results\":5}\n",
    "\n",
    "respond = requests.get(url,params=params)\n",
    "\n",
    "if respond.status_code == 200:\n",
    "    data = respond.json()\n",
    "    print(data[\"results\"])\n",
    "else:\n",
    "    print(f\"Error: {respond.status_code}\")\n",
    "\n",
    "users_list = []\n",
    "for user in data[\"results\"]:\n",
    "    user_info = {\n",
    "        \"name\": f\"{user['name']['title']} {user['name']['first']} {user['name']['last']}\",\n",
    "        \"email\": user[\"email\"]\n",
    "        }\n",
    "    users_list.append(user_info)  # Append dictionary to list\n",
    "\n",
    "print(users_list)\n",
    "\n",
    "\n",
    "                           \n",
    "\n"
   ]
  },
  {
   "cell_type": "code",
   "execution_count": 5,
   "id": "d59eb1b4-2960-41f7-944e-8ec5ceb33384",
   "metadata": {},
   "outputs": [
    {
     "name": "stdout",
     "output_type": "stream",
     "text": [
      "[{'fact': 'The average lifespan of an outdoor-only cat is about 3 to 5 years while an indoor-only cat can live 16 years or much longer.', 'length': 124}, {'fact': 'During the Middle Ages, cats were associated with withcraft, and on St. John’s Day, people all over Europe would stuff them into sacks and toss the cats into bonfires. On holy days, people celebrated by tossing cats from church towers.', 'length': 235}, {'fact': \"An adult lion's roar can be heard up to five miles (eight kilometers) away.\", 'length': 75}, {'fact': 'A cat can jump 5 times as high as it is tall.', 'length': 45}, {'fact': 'There are approximately 60,000 hairs per square inch on the back of a cat and about 120,000 per square inch on its underside.', 'length': 125}]\n",
      "                                                fact  length\n",
      "0  The average lifespan of an outdoor-only cat is...     124\n",
      "1  During the Middle Ages, cats were associated w...     235\n",
      "2  An adult lion's roar can be heard up to five m...      75\n",
      "3      A cat can jump 5 times as high as it is tall.      45\n",
      "4  There are approximately 60,000 hairs per squar...     125\n"
     ]
    }
   ],
   "source": [
    "import requests\n",
    "import pandas as pd\n",
    "\n",
    "\n",
    "url = \"https://catfact.ninja/fact\"\n",
    "\n",
    "facts = []\n",
    "for i in range(5):\n",
    "    respond = requests.get(url)\n",
    "    data =respond.json()\n",
    "    facts.append(data)\n",
    "print(facts)\n",
    "\n",
    "df = pd.DataFrame(facts)\n",
    "print(df)\n",
    "\n"
   ]
  },
  {
   "cell_type": "code",
   "execution_count": null,
   "id": "d5cba51d-ed9d-49f9-93b4-345829771e1f",
   "metadata": {},
   "outputs": [],
   "source": []
  }
 ],
 "metadata": {
  "kernelspec": {
   "display_name": "Python [conda env:base] *",
   "language": "python",
   "name": "conda-base-py"
  },
  "language_info": {
   "codemirror_mode": {
    "name": "ipython",
    "version": 3
   },
   "file_extension": ".py",
   "mimetype": "text/x-python",
   "name": "python",
   "nbconvert_exporter": "python",
   "pygments_lexer": "ipython3",
   "version": "3.12.7"
  }
 },
 "nbformat": 4,
 "nbformat_minor": 5
}
