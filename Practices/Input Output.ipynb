{
 "cells": [
  {
   "cell_type": "code",
   "execution_count": null,
   "id": "187806cc-3508-47ae-9b8b-7a68cf8f43c4",
   "metadata": {},
   "outputs": [],
   "source": [
    "\"\"\"Write a program to accept two numbers from the user and calculate multiplication\"\"\""
   ]
  },
  {
   "cell_type": "code",
   "execution_count": 18,
   "id": "5c245388-25ff-45df-b0e4-1f7baacfd894",
   "metadata": {},
   "outputs": [
    {
     "name": "stdin",
     "output_type": "stream",
     "text": [
      "Write your number 6\n",
      "Write your number 8\n"
     ]
    },
    {
     "name": "stdout",
     "output_type": "stream",
     "text": [
      "\n",
      "multiplication of you numbers is: 48\n"
     ]
    }
   ],
   "source": [
    "first_num = int(input(\"Write your number\"))\n",
    "second_number = int(input(\"Write your number\"))\n",
    "#\n",
    "print(\"\")\n",
    "print(f\"multiplication of you numbers is: {first_num*second_number}\")"
   ]
  },
  {
   "cell_type": "code",
   "execution_count": null,
   "id": "fb783296-5861-4d37-a62b-2b2a60d57f3d",
   "metadata": {},
   "outputs": [],
   "source": [
    "\"\"\"Ex 2: Use the print() function to format the given words in the mentioned format. Display the ** separator between each string.\"\"\""
   ]
  },
  {
   "cell_type": "code",
   "execution_count": 22,
   "id": "95572658-284d-4548-b1bf-8c3f6a307aab",
   "metadata": {},
   "outputs": [
    {
     "name": "stdout",
     "output_type": "stream",
     "text": [
      "Name**Is**James\n"
     ]
    }
   ],
   "source": [
    "print('Name', 'Is', 'James',sep=\"**\")\n"
   ]
  },
  {
   "cell_type": "code",
   "execution_count": null,
   "id": "0de4207e-53bf-4f0f-9a58-d34b86618706",
   "metadata": {},
   "outputs": [],
   "source": [
    "\"\"\" Ex3: Convert Decimal number to octal using print() output formatting\"\"\""
   ]
  },
  {
   "cell_type": "code",
   "execution_count": 26,
   "id": "b73358f4-9e6c-482e-a7cf-cd145b73574c",
   "metadata": {},
   "outputs": [
    {
     "name": "stdin",
     "output_type": "stream",
     "text": [
      "Write number here 8\n"
     ]
    },
    {
     "name": "stdout",
     "output_type": "stream",
     "text": [
      "\n",
      "The octal number of decimal number 8 is : 0o10\n"
     ]
    }
   ],
   "source": [
    "user = int(input(\"Write number here\"))\n",
    "oct_user = oct(user)\n",
    "print(\"\")\n",
    "print(f\"The octal number of decimal number {user} is : {oct_user}\")"
   ]
  },
  {
   "cell_type": "code",
   "execution_count": null,
   "id": "5f6aa55e-8c43-496a-b196-3fd640f33480",
   "metadata": {},
   "outputs": [],
   "source": [
    "\"\"\"Ex 4: Accept a list of 5 float numbers as an input from the user\"\"\""
   ]
  },
  {
   "cell_type": "code",
   "execution_count": 52,
   "id": "335ae7d3-f24f-487c-a9bf-94b4ef784f62",
   "metadata": {},
   "outputs": [
    {
     "name": "stdin",
     "output_type": "stream",
     "text": [
      "Enter elements of a list separated by space \n",
      " 3.3 3.4\n"
     ]
    },
    {
     "name": "stdout",
     "output_type": "stream",
     "text": [
      "\n",
      "[3.3, 3.4]\n"
     ]
    }
   ],
   "source": [
    "user = input(\"Enter elements of a list separated by space \\n\")\n",
    "#create empty list \n",
    "new_user = []\n",
    "#turn user into list\n",
    "user_list =user.split()\n",
    "#convert element of user_list into float number\n",
    "for i in user_list:\n",
    "    i=float(i)\n",
    "    new_user.append(i)\n",
    "\n",
    "print(\"\")\n",
    "print(new_user)\n"
   ]
  },
  {
   "cell_type": "code",
   "execution_count": 54,
   "id": "393a8de8-8b95-42c3-9bae-17070d9e8e1b",
   "metadata": {},
   "outputs": [
    {
     "name": "stdin",
     "output_type": "stream",
     "text": [
      "Enter elements of a list separated by space \n",
      " 3.3 3.4\n"
     ]
    },
    {
     "name": "stdout",
     "output_type": "stream",
     "text": [
      "\n",
      "[3.3, 3.4]\n"
     ]
    }
   ],
   "source": [
    "user = input(\"Enter elements of a list separated by space \\n\")\n",
    "#create empty list \n",
    "new_user = []\n",
    "#turn user into list\n",
    "user_list =user.split()\n",
    "#convert element of user_list into float number\n",
    "new_user = [float(i) for i in user_list]\n",
    "\n",
    "print(\"\")\n",
    "print(new_user)"
   ]
  },
  {
   "cell_type": "code",
   "execution_count": 56,
   "id": "1eb97420-3d48-4fa3-b65a-29360bbe1f9a",
   "metadata": {},
   "outputs": [
    {
     "name": "stdout",
     "output_type": "stream",
     "text": [
      "Enter number at location 0 :\n"
     ]
    },
    {
     "name": "stdin",
     "output_type": "stream",
     "text": [
      " 3.3\n"
     ]
    },
    {
     "name": "stdout",
     "output_type": "stream",
     "text": [
      "Enter number at location 1 :\n"
     ]
    },
    {
     "name": "stdin",
     "output_type": "stream",
     "text": [
      " 3.4\n"
     ]
    },
    {
     "name": "stdout",
     "output_type": "stream",
     "text": [
      "Enter number at location 2 :\n"
     ]
    },
    {
     "name": "stdin",
     "output_type": "stream",
     "text": [
      " 3.5\n"
     ]
    },
    {
     "name": "stdout",
     "output_type": "stream",
     "text": [
      "Enter number at location 3 :\n"
     ]
    },
    {
     "name": "stdin",
     "output_type": "stream",
     "text": [
      " 3.6\n"
     ]
    },
    {
     "name": "stdout",
     "output_type": "stream",
     "text": [
      "Enter number at location 4 :\n"
     ]
    },
    {
     "name": "stdin",
     "output_type": "stream",
     "text": [
      " 3.7\n"
     ]
    },
    {
     "name": "stdout",
     "output_type": "stream",
     "text": [
      "User List: [3.3, 3.4, 3.5, 3.6, 3.7]\n"
     ]
    }
   ],
   "source": [
    "numbers = []\n",
    "\n",
    "# 5 is the list size\n",
    "# run loop 5 times\n",
    "for i in range(0, 5):\n",
    "    print(\"Enter number at location\", i, \":\")\n",
    "    # accept float number from user\n",
    "    item = float(input())\n",
    "    # add it to the list\n",
    "    numbers.append(item)\n",
    "\n",
    "print(\"User List:\", numbers)"
   ]
  },
  {
   "cell_type": "code",
   "execution_count": null,
   "id": "9eab2fbb-ba77-42ab-a2c0-cc99d5c49a65",
   "metadata": {},
   "outputs": [],
   "source": [
    "\"\"\"Ex 7: Write a program to take three names as input from a user in the single input() function call.\"\"\""
   ]
  },
  {
   "cell_type": "code",
   "execution_count": 68,
   "id": "89f723a6-fedd-48a7-8d97-5435eaca3290",
   "metadata": {},
   "outputs": [
    {
     "name": "stdin",
     "output_type": "stream",
     "text": [
      "Enter three string a b c\n"
     ]
    },
    {
     "name": "stdout",
     "output_type": "stream",
     "text": [
      "Name1: a\n",
      "Name2: b\n",
      "Name3: c\n"
     ]
    }
   ],
   "source": [
    "user = input(\"Enter three string\")\n",
    "#convert user into list\n",
    "user_list = user.split()\n",
    "#\n",
    "for i in range(0,len(user_list),1):\n",
    "    print(f\"Name{i+1}: {user_list[i]}\")\n"
   ]
  },
  {
   "cell_type": "code",
   "execution_count": null,
   "id": "c8b70994-a833-4acc-a69f-c981ade2aeae",
   "metadata": {},
   "outputs": [],
   "source": []
  }
 ],
 "metadata": {
  "kernelspec": {
   "display_name": "Python [conda env:base] *",
   "language": "python",
   "name": "conda-base-py"
  },
  "language_info": {
   "codemirror_mode": {
    "name": "ipython",
    "version": 3
   },
   "file_extension": ".py",
   "mimetype": "text/x-python",
   "name": "python",
   "nbconvert_exporter": "python",
   "pygments_lexer": "ipython3",
   "version": "3.12.7"
  }
 },
 "nbformat": 4,
 "nbformat_minor": 5
}
