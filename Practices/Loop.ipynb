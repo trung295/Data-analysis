{
 "cells": [
  {
   "cell_type": "code",
   "execution_count": null,
   "id": "c809436b-7822-47e9-ad7c-9d4de35215cf",
   "metadata": {},
   "outputs": [],
   "source": [
    "\"\"\" Ex 1: Print first 10 natural numbers using while loop \"\"\""
   ]
  },
  {
   "cell_type": "code",
   "execution_count": null,
   "id": "0bff2261-7630-437a-a5c6-4661ebf17aaf",
   "metadata": {},
   "outputs": [],
   "source": []
  },
  {
   "cell_type": "code",
   "execution_count": 22,
   "id": "97bd8d81-6ca8-4448-9091-4adbc6976b29",
   "metadata": {},
   "outputs": [
    {
     "name": "stdout",
     "output_type": "stream",
     "text": [
      "1\n",
      "2\n",
      "3\n",
      "4\n",
      "5\n",
      "6\n",
      "7\n",
      "8\n",
      "9\n",
      "10\n"
     ]
    }
   ],
   "source": [
    "for i in range(1,11,1):\n",
    "    print(i)\n"
   ]
  },
  {
   "cell_type": "code",
   "execution_count": null,
   "id": "df38bebb-68ff-439d-9c77-76ff3e64ed43",
   "metadata": {},
   "outputs": [],
   "source": [
    "\"\"\" Ex2: Write a Python code to print the following number pattern using a loop.\n",
    "1 \n",
    "1 2 \n",
    "1 2 3 \n",
    "1 2 3 4 \n",
    "1 2 3 4 5 \"\"\""
   ]
  },
  {
   "cell_type": "code",
   "execution_count": 46,
   "id": "c58e3062-99d0-46c5-8229-f85122f5741f",
   "metadata": {},
   "outputs": [
    {
     "name": "stdout",
     "output_type": "stream",
     "text": [
      "*\n",
      "**\n",
      "***\n",
      "****\n",
      "*****\n"
     ]
    }
   ],
   "source": [
    "row = 5\n",
    "for i in range(1,row+1,1):\n",
    "    for j in range(1,i+1,1):\n",
    "        print(\"*\",end=\"\")\n",
    "    print(\"\")"
   ]
  },
  {
   "cell_type": "code",
   "execution_count": null,
   "id": "289149a4-42d5-44f7-9d05-e00fcac0304c",
   "metadata": {},
   "outputs": [],
   "source": [
    "\"\"\" Ex 3:Write a Python program to accept a number from a user and calculate the sum of all numbers from 1 to a given number\"\"\" "
   ]
  },
  {
   "cell_type": "code",
   "execution_count": 62,
   "id": "ad579e72-eac3-4bc7-ae2f-5e74d485575b",
   "metadata": {},
   "outputs": [
    {
     "name": "stdin",
     "output_type": "stream",
     "text": [
      "Enter number 10\n"
     ]
    },
    {
     "name": "stdout",
     "output_type": "stream",
     "text": [
      "Sum is: 55\n"
     ]
    }
   ],
   "source": [
    "user=int(input(\"Enter number\"))\n",
    "i=1\n",
    "j=0\n",
    "while i<=user+1:\n",
    "    j+=i-1\n",
    "    i+=1    \n",
    "print(f\"Sum is: {j}\")\n",
    "         \n",
    "         "
   ]
  },
  {
   "cell_type": "code",
   "execution_count": 76,
   "id": "2fac05e9-e181-4f89-a519-ae85139609b1",
   "metadata": {},
   "outputs": [
    {
     "name": "stdin",
     "output_type": "stream",
     "text": [
      "Enter number 10\n"
     ]
    },
    {
     "name": "stdout",
     "output_type": "stream",
     "text": [
      "Sum is: 55\n"
     ]
    }
   ],
   "source": [
    "user=int(input(\"Enter number\"))\n",
    "j=0\n",
    "for i in range(2,user+2,1):\n",
    "    j+=i-1\n",
    "print(f\"Sum is: {j}\")\n",
    "    "
   ]
  },
  {
   "cell_type": "code",
   "execution_count": null,
   "id": "836b3b62-7e1f-4a7d-bdd0-dea091df1c73",
   "metadata": {},
   "outputs": [],
   "source": [
    "\"\"\"Ex 4: Print multiplication table of a given number\"\"\""
   ]
  },
  {
   "cell_type": "code",
   "execution_count": 80,
   "id": "70c12e34-da89-47e1-99af-a92467846977",
   "metadata": {},
   "outputs": [
    {
     "name": "stdout",
     "output_type": "stream",
     "text": [
      "2\n",
      "4\n",
      "6\n",
      "8\n",
      "10\n",
      "12\n",
      "14\n",
      "16\n",
      "18\n",
      "20\n"
     ]
    }
   ],
   "source": [
    "num = 2\n",
    "for i in range(1,11,1):\n",
    "    print(num*i)"
   ]
  },
  {
   "cell_type": "code",
   "execution_count": null,
   "id": "aca17bde-7cee-4f14-98b8-39b6ee7344de",
   "metadata": {},
   "outputs": [],
   "source": [
    "\"\"\"ex5: Write a Python program to display only those numbers from a list that satisfy the following conditions\n",
    "\n",
    "The number must be divisible by five\n",
    "If the number is greater than 150, then skip it and move to the following number\n",
    "If the number is greater than 500, then stop the loop###"
   ]
  },
  {
   "cell_type": "code",
   "execution_count": 84,
   "id": "1373959b-7d5a-40c8-8e1b-cbc2be65b9e2",
   "metadata": {},
   "outputs": [
    {
     "name": "stdout",
     "output_type": "stream",
     "text": [
      "75\n",
      "150\n",
      "145\n"
     ]
    }
   ],
   "source": [
    "numbers = [12, 75, 150, 180, 145, 525, 50]\n",
    "for i in numbers:\n",
    "    if i >500:\n",
    "        break\n",
    "    elif i>150:\n",
    "        continue\n",
    "    elif i%5==0:\n",
    "        print(i)"
   ]
  },
  {
   "cell_type": "code",
   "execution_count": null,
   "id": "4c04691e-41f3-4ea7-ba02-8e6589c891d4",
   "metadata": {},
   "outputs": [],
   "source": [
    "\"\"\"ex6: Write a Python program to count the total number of digits in a number using a while loop.\n",
    "\n",
    "For example, the number is 75869, so the output should be 5.\"\"\""
   ]
  },
  {
   "cell_type": "code",
   "execution_count": 4,
   "id": "801b4457-f3e1-4075-b7ce-100b5bcba7c5",
   "metadata": {},
   "outputs": [
    {
     "name": "stdout",
     "output_type": "stream",
     "text": [
      "Total digits are: 5\n"
     ]
    }
   ],
   "source": [
    "num = 75869\n",
    "count = 0\n",
    "while num != 0:\n",
    "    # floor division\n",
    "    # to reduce the last digit from number\n",
    "    num = num // 10\n",
    "\n",
    "    # increment counter by 1\n",
    "    count = count + 1\n",
    "print(\"Total digits are:\", count)"
   ]
  },
  {
   "cell_type": "code",
   "execution_count": null,
   "id": "0d670c1b-b9e5-46b7-afbf-321fbfc56097",
   "metadata": {},
   "outputs": [],
   "source": [
    "\"\"\"EX 7: Write a Python program to print the reverse number pattern using a for loop.\n",
    "5 4 3 2 1 \n",
    "4 3 2 1 \n",
    "3 2 1 \n",
    "2 1 \n",
    "1\"\"\""
   ]
  },
  {
   "cell_type": "code",
   "execution_count": 20,
   "id": "406f41cc-9d66-4548-aab9-60f17d26bec0",
   "metadata": {},
   "outputs": [
    {
     "name": "stdout",
     "output_type": "stream",
     "text": [
      "54321\n",
      "4321\n",
      "321\n",
      "21\n",
      "1\n"
     ]
    }
   ],
   "source": [
    "for i in range(5,0,-1):\n",
    "    for j in range (i,0,-1):\n",
    "        print(j,end=\"\")\n",
    "    print(\"\")"
   ]
  },
  {
   "cell_type": "code",
   "execution_count": null,
   "id": "cedf7c3a-695b-4a86-bbf2-c8ad6f239e38",
   "metadata": {},
   "outputs": [],
   "source": [
    " \"\"\"Exercise 3: Countdown from 5 to 1\n",
    "Task: Use a while loop to print numbers from 5 down to 1.\"\"\""
   ]
  },
  {
   "cell_type": "code",
   "execution_count": 32,
   "id": "4eb3d745-288f-4b64-bba0-bf0d1d46114d",
   "metadata": {},
   "outputs": [
    {
     "name": "stdout",
     "output_type": "stream",
     "text": [
      "5\n",
      "4\n",
      "3\n",
      "2\n",
      "1\n"
     ]
    }
   ],
   "source": [
    "i = 5\n",
    "while i >0:\n",
    "    print(i)\n",
    "    i-=1"
   ]
  },
  {
   "cell_type": "code",
   "execution_count": 38,
   "id": "17d79007-0a5d-4df6-9a75-9a34706004cb",
   "metadata": {},
   "outputs": [
    {
     "name": "stdout",
     "output_type": "stream",
     "text": [
      "5050\n"
     ]
    }
   ],
   "source": [
    "j=0\n",
    "for i in range(1,101):\n",
    "    j=j+i\n",
    "print(j)"
   ]
  },
  {
   "cell_type": "code",
   "execution_count": null,
   "id": "781e8e13-e348-4d5d-bc70-7326ad091500",
   "metadata": {},
   "outputs": [],
   "source": [
    "\"\"\"Exercise 5: Multiplication table of a number\n",
    "Task:\n",
    "Ask the user for a number (like 5) and print the multiplication table for that number (from 1 to 10).\n",
    "Enter a number: 5\n",
    "5 x 1 = 5\n",
    "5 x 2 = 10\n",
    "...\n",
    "5 x 10 = 50\n",
    "\"\"\""
   ]
  },
  {
   "cell_type": "code",
   "execution_count": 48,
   "id": "26ae38f1-da20-4232-83e1-38b9ce30bd37",
   "metadata": {},
   "outputs": [
    {
     "name": "stdin",
     "output_type": "stream",
     "text": [
      "Enter number 20\n"
     ]
    },
    {
     "name": "stdout",
     "output_type": "stream",
     "text": [
      "20 x 1 = 20\n",
      "20 x 2 = 40\n",
      "20 x 3 = 60\n",
      "20 x 4 = 80\n",
      "20 x 5 = 100\n",
      "20 x 6 = 120\n",
      "20 x 7 = 140\n",
      "20 x 8 = 160\n",
      "20 x 9 = 180\n",
      "20 x 10 = 200\n"
     ]
    }
   ],
   "source": [
    "user = int(input(\"Enter number\"))\n",
    "for i in range(1,11):\n",
    "    print(f\"{user} x {i} = {user*i}\")"
   ]
  },
  {
   "cell_type": "code",
   "execution_count": null,
   "id": "6ec39412-1b82-4997-ba52-f99666b7e0b0",
   "metadata": {},
   "outputs": [],
   "source": [
    "\"\"\"Exercise 9: FizzBuzz (Classic Problem)\n",
    "Task:\n",
    "Print numbers from 1 to 30, but with a twist:\n",
    "\n",
    "If the number is divisible by 3, print \"Fizz\".\n",
    "If the number is divisible by 5, print \"Buzz\".\n",
    "If the number is divisible by both 3 and 5, print \"FizzBuzz\".\n",
    "Otherwise, just print the number.\"\"\""
   ]
  },
  {
   "cell_type": "code",
   "execution_count": 52,
   "id": "66529902-d881-4781-9521-c7e2b7119d7b",
   "metadata": {},
   "outputs": [
    {
     "name": "stdout",
     "output_type": "stream",
     "text": [
      "1\n",
      "2\n",
      "Fizz\n",
      "4\n",
      "Buzz\n",
      "Fizz\n",
      "7\n",
      "8\n",
      "Fizz\n",
      "Buzz\n",
      "11\n",
      "Fizz\n",
      "13\n",
      "14\n",
      "Fizz\n",
      "16\n",
      "17\n",
      "Fizz\n",
      "19\n",
      "Buzz\n",
      "Fizz\n",
      "22\n",
      "23\n",
      "Fizz\n",
      "Buzz\n",
      "26\n",
      "Fizz\n",
      "28\n",
      "29\n",
      "Fizz\n"
     ]
    }
   ],
   "source": [
    "for i in range(1,31):\n",
    "    if i%3==0:\n",
    "        print(\"Fizz\")\n",
    "    elif i%5==0:\n",
    "        print(\"Buzz\")\n",
    "    elif i%3==0 and i%5==0:\n",
    "        print(\"FizzBuzz\")\n",
    "    else:\n",
    "        print(i)\n",
    "    "
   ]
  },
  {
   "cell_type": "code",
   "execution_count": null,
   "id": "c8a7d415-8fe4-472e-a81c-9c84c70b97fc",
   "metadata": {},
   "outputs": [],
   "source": [
    "\"\"\"Exercise 10: Guess the Number Game\n",
    "Task:\n",
    "\n",
    "Use random to generate a secret number between 1 and 10.\n",
    "Ask the user to guess.\n",
    "Keep asking until they guess the right number.\n",
    "At the end, print \"You got it!\".\"\"\""
   ]
  },
  {
   "cell_type": "code",
   "execution_count": 72,
   "id": "1104f844-553d-4356-9538-05809e4a37c2",
   "metadata": {},
   "outputs": [
    {
     "name": "stdin",
     "output_type": "stream",
     "text": [
      "Enter here 7\n"
     ]
    },
    {
     "name": "stdout",
     "output_type": "stream",
     "text": [
      "too high\n"
     ]
    },
    {
     "name": "stdin",
     "output_type": "stream",
     "text": [
      "Enter here 5\n"
     ]
    },
    {
     "name": "stdout",
     "output_type": "stream",
     "text": [
      "too high\n"
     ]
    },
    {
     "name": "stdin",
     "output_type": "stream",
     "text": [
      "Enter here 1\n"
     ]
    },
    {
     "name": "stdout",
     "output_type": "stream",
     "text": [
      "Got it\n"
     ]
    }
   ],
   "source": [
    "import random\n",
    "secret_number = random.randint(1, 10)\n",
    "user_guess = int(input(\"Enter here\"))\n",
    "while user_guess != secret_number:\n",
    "    if user_guess>secret_number:\n",
    "        print(\"too high\")\n",
    "        user_guess = int(input(\"Enter here\"))\n",
    "    else:\n",
    "        print(\"too low\")\n",
    "        user_guess = int(input(\"Enter here\"))\n",
    "print(\"Got it\")\n",
    "    \n"
   ]
  },
  {
   "cell_type": "code",
   "execution_count": null,
   "id": "e6180704-35ae-49f3-abd0-fba8dfd235e2",
   "metadata": {},
   "outputs": [],
   "source": [
    "\"\"\"Exercise 8: Print list in reverse order using a loop\"\"\""
   ]
  },
  {
   "cell_type": "code",
   "execution_count": 5,
   "id": "1341d3b2-cc31-46bb-bab0-402cfcfa2c54",
   "metadata": {},
   "outputs": [
    {
     "name": "stdout",
     "output_type": "stream",
     "text": [
      "50\n",
      "40\n",
      "30\n",
      "20\n",
      "10\n"
     ]
    }
   ],
   "source": [
    "list1 = [10, 20, 30, 40, 50]\n",
    "for i in range(len(list1)-1,-1,-1):\n",
    "    print(list1[i])"
   ]
  },
  {
   "cell_type": "code",
   "execution_count": null,
   "id": "6fb82992-ccae-4669-bed8-fb297f8510da",
   "metadata": {},
   "outputs": [],
   "source": [
    "\"\"\"Display numbers from -10 to -1 using for loop\"\"\""
   ]
  },
  {
   "cell_type": "code",
   "execution_count": 7,
   "id": "431bd3a6-f056-4c09-838e-e948669cf00c",
   "metadata": {},
   "outputs": [
    {
     "name": "stdout",
     "output_type": "stream",
     "text": [
      "-10\n",
      "-9\n",
      "-8\n",
      "-7\n",
      "-6\n",
      "-5\n",
      "-4\n",
      "-3\n",
      "-2\n",
      "-1\n"
     ]
    }
   ],
   "source": [
    "for i in range(-10,0):\n",
    "    print(i)"
   ]
  },
  {
   "cell_type": "code",
   "execution_count": null,
   "id": "776904d8-7350-474a-8df2-cf14a7ffa504",
   "metadata": {},
   "outputs": [],
   "source": [
    "\"\"\"Exercise 10: Display a message “Done” after the successful execution of the for loop\"\"\""
   ]
  },
  {
   "cell_type": "code",
   "execution_count": 9,
   "id": "3bdd55a2-4d9d-4738-b2d4-f02d47929244",
   "metadata": {},
   "outputs": [
    {
     "name": "stdout",
     "output_type": "stream",
     "text": [
      "0\n",
      "1\n",
      "2\n",
      "3\n",
      "4\n",
      "Done!\n"
     ]
    }
   ],
   "source": [
    "for i in range(5):\n",
    "    print(i)\n",
    "else:\n",
    "    print(\"Done!\")"
   ]
  },
  {
   "cell_type": "code",
   "execution_count": null,
   "id": "2645a0bc-1ae9-4199-b389-9f3ee1b82e49",
   "metadata": {},
   "outputs": [],
   "source": [
    "\"\"\"Exercise 11: Print all prime numbers within a range\n",
    "Note: A Prime Number is a number that cannot be made by multiplying other whole numbers. A prime number is a natural number greater than 1 that is not a product of two smaller natural numbers.\n",
    "\n",
    "Examples:\n",
    "\n",
    "6 is not a prime number because it can be made by 2×3 = 6\n",
    "37 is a prime number because no other whole numbers multiply to make it.\"\"\""
   ]
  },
  {
   "cell_type": "code",
   "execution_count": 15,
   "id": "7ec1eacc-4a9a-4396-9bb5-3f005649efab",
   "metadata": {},
   "outputs": [
    {
     "name": "stdout",
     "output_type": "stream",
     "text": [
      "29\n",
      "31\n",
      "37\n",
      "41\n",
      "43\n",
      "47\n"
     ]
    }
   ],
   "source": [
    "#range\n",
    "start = 25\n",
    "end = 50\n",
    "i=start\n",
    "while i in range(start,end):\n",
    "    if i%2!=0 and i%3!=0 and i%5!=0 and i%7!=0:\n",
    "        print(i)\n",
    "    i+=1"
   ]
  },
  {
   "cell_type": "code",
   "execution_count": null,
   "id": "7e839a7b-c504-4ebc-b54f-e9e41cce37f0",
   "metadata": {},
   "outputs": [],
   "source": [
    "\"\"\"Exercise 12: Display Fibonacci series up to 10 terms\n",
    "Have you ever wondered about the Fibonacci Sequence? It’s a series of numbers in which the next number is found by adding up \n",
    "the two numbers before it. The first two numbers are 0 and 1.\n",
    "\n",
    "For example, 0, 1, 1, 2, 3, 5, 8, 13, 21. The next number in this series is 13 + 21 = 34.\"\"\""
   ]
  },
  {
   "cell_type": "code",
   "execution_count": 23,
   "id": "8159d248-2851-4b35-a418-e3ff7a5c50af",
   "metadata": {},
   "outputs": [
    {
     "name": "stdout",
     "output_type": "stream",
     "text": [
      "[0, 1, 1, 2, 3, 5, 8, 13, 21, 34]\n"
     ]
    }
   ],
   "source": [
    "num1 = 0\n",
    "num2= 1\n",
    "fib=[0,1]\n",
    "for i in range (8):\n",
    "    i = num1+num2\n",
    "    fib.append(i)\n",
    "    num1=num2\n",
    "    num2=i\n",
    "print(fib)\n",
    "    \n",
    "    \n"
   ]
  },
  {
   "cell_type": "code",
   "execution_count": null,
   "id": "80677afa-a1b4-4ce1-a2e2-ebe64007c790",
   "metadata": {},
   "outputs": [],
   "source": [
    "\"\"\"Find the factorial of a given number\n",
    "Write a Python program to use for loop to find the factorial of a given number.\n",
    "The factorial (symbol: !) means multiplying all numbers from the chosen number down to 1.\n",
    "For example, a factorial of 5! is 5 × 4 × 3 × 2 × 1 = 120\"\"\""
   ]
  },
  {
   "cell_type": "code",
   "execution_count": 45,
   "id": "55e56f7d-84d5-43b7-888e-632e3fb12e5d",
   "metadata": {},
   "outputs": [
    {
     "name": "stdin",
     "output_type": "stream",
     "text": [
      "enter here 0\n"
     ]
    },
    {
     "name": "stdout",
     "output_type": "stream",
     "text": [
      "1\n"
     ]
    }
   ],
   "source": [
    "user = int(input(\"enter here\"))\n",
    "factorial = 1\n",
    "if user<0:\n",
    "    print(\"Error\")\n",
    "else:\n",
    "    for i in range(1,user+1):\n",
    "        factorial*=i\n",
    "print(factorial)\n",
    "        \n",
    "        \n",
    "    \n",
    "\n"
   ]
  },
  {
   "cell_type": "code",
   "execution_count": null,
   "id": "f1a07043-5222-4377-8f6f-974a5a6444ca",
   "metadata": {},
   "outputs": [],
   "source": [
    "\"\"\"Reverse a integer number\"\"\""
   ]
  },
  {
   "cell_type": "code",
   "execution_count": 67,
   "id": "1c6b2540-85b1-470b-96d9-948171dc0837",
   "metadata": {},
   "outputs": [
    {
     "name": "stdout",
     "output_type": "stream",
     "text": [
      "<class 'int'>\n"
     ]
    }
   ],
   "source": [
    "given_number = 76542\n",
    "#turn int into list\n",
    "str_given_number =list(str(given_number))\n",
    "#reverse list\n",
    "str_given_number.reverse()\n",
    "#joint list so list turn into integer\n",
    "new_str_given_number = int(\"\".join(str_given_number))\n",
    "\n",
    "\n",
    "\n",
    "\n"
   ]
  },
  {
   "cell_type": "code",
   "execution_count": 75,
   "id": "e8770946-ef08-4a1e-b20c-78d2c14600ed",
   "metadata": {},
   "outputs": [
    {
     "name": "stdout",
     "output_type": "stream",
     "text": [
      "Given Number  76542\n",
      "Revere Number  24567\n"
     ]
    }
   ],
   "source": [
    "num = 76542\n",
    "reverse_number = 0\n",
    "print(\"Given Number \", num)\n",
    "while num > 0:\n",
    "    reminder = num % 10\n",
    "    reverse_number = (reverse_number*10)  + reminder\n",
    "    num = num // 10\n",
    "print(\"Revere Number \", reverse_number)"
   ]
  },
  {
   "cell_type": "code",
   "execution_count": null,
   "id": "dcc500b5-e963-4288-ba2c-0b244e2ac8f2",
   "metadata": {},
   "outputs": [],
   "source": [
    "\"\"\"Exercise 15: Print elements from a given list present at odd index positions\"\"\""
   ]
  },
  {
   "cell_type": "code",
   "execution_count": 91,
   "id": "65f4d6f5-b21a-4c9f-bebf-cc4fba2854e6",
   "metadata": {},
   "outputs": [
    {
     "name": "stdout",
     "output_type": "stream",
     "text": [
      "10\n",
      "30\n",
      "50\n",
      "70\n",
      "90\n"
     ]
    }
   ],
   "source": [
    "my_list = [10, 20, 30, 40, 50, 60, 70, 80, 90, 100]\n",
    "for i in range(0,len(my_list),2):\n",
    "    print(my_list[i])\n"
   ]
  },
  {
   "cell_type": "code",
   "execution_count": null,
   "id": "0f79697b-c431-4286-b85a-69159ec87f8b",
   "metadata": {},
   "outputs": [],
   "source": [
    "\"\"\"Write a Python program to print the cube of all numbers from 1 to a given number\"\"\""
   ]
  },
  {
   "cell_type": "code",
   "execution_count": 99,
   "id": "894bf74b-d1b4-4149-89ed-8e0c71804577",
   "metadata": {},
   "outputs": [
    {
     "name": "stdout",
     "output_type": "stream",
     "text": [
      "Current Number is : 1  and the cube is 1\n",
      "Current Number is : 2  and the cube is 8\n",
      "Current Number is : 3  and the cube is 27\n",
      "Current Number is : 4  and the cube is 64\n",
      "Current Number is : 5  and the cube is 125\n",
      "Current Number is : 6  and the cube is 216\n",
      "Current Number is : 7  and the cube is 343\n",
      "Current Number is : 8  and the cube is 512\n",
      "Current Number is : 9  and the cube is 729\n",
      "Current Number is : 10  and the cube is 1000\n"
     ]
    }
   ],
   "source": [
    "input_number = 10\n",
    "for i in range(1,input_number+1):\n",
    "    print(f\"Current Number is : {i}  and the cube is {i**3}\")\n",
    "    "
   ]
  },
  {
   "cell_type": "code",
   "execution_count": null,
   "id": "7ff8b004-7ef8-441b-a9be-a3df85f4ce39",
   "metadata": {},
   "outputs": [],
   "source": [
    "\"\"\"Write a program to calculate the sum of series up to n terms. \n",
    "For example, if n = 5 the series will become 2 + 22 + 222 + 2222 + 22222 = 24690\"\"\""
   ]
  },
  {
   "cell_type": "code",
   "execution_count": 133,
   "id": "635b673a-4d08-462c-924d-8ac4b6c38b76",
   "metadata": {},
   "outputs": [
    {
     "name": "stdout",
     "output_type": "stream",
     "text": [
      "24690\n"
     ]
    }
   ],
   "source": [
    "n=5\n",
    "num=2\n",
    "b=0\n",
    "total_sum=0\n",
    "for i in range(n):\n",
    "    a=num*10**i+b\n",
    "    b=a\n",
    "    total_sum+=a\n",
    "print(total_sum)"
   ]
  },
  {
   "cell_type": "code",
   "execution_count": null,
   "id": "6b2205a5-8468-4f89-aeda-045d3f2041fc",
   "metadata": {},
   "outputs": [],
   "source": [
    "\"\"\"Write a program to print the following start pattern using the for loop\n",
    "\n",
    "* \n",
    "* * \n",
    "* * * \n",
    "* * * * \n",
    "* * * * * \n",
    "* * * * \n",
    "* * * \n",
    "* * \n",
    "*\n",
    "\"\"\""
   ]
  },
  {
   "cell_type": "code",
   "execution_count": 3,
   "id": "52b2bc06-36ac-430c-b4cc-105a3a5aa34f",
   "metadata": {},
   "outputs": [
    {
     "name": "stdout",
     "output_type": "stream",
     "text": [
      "0\n",
      "1\n",
      "2\n"
     ]
    }
   ],
   "source": [
    "for x in range(0, 3):\n",
    "    print(x)"
   ]
  },
  {
   "cell_type": "code",
   "execution_count": 5,
   "id": "16de0d4d-9f5b-4a79-9f30-0bc66e45d398",
   "metadata": {},
   "outputs": [
    {
     "name": "stdout",
     "output_type": "stream",
     "text": [
      "0 A\n",
      "1 B\n",
      "2 C\n"
     ]
    }
   ],
   "source": [
    "for i, x in enumerate(['A', 'B', 'C']):\n",
    "    print(i, x)\n"
   ]
  },
  {
   "cell_type": "code",
   "execution_count": null,
   "id": "af2d8322-9d0e-4204-bb7e-29b05b60d7dd",
   "metadata": {},
   "outputs": [],
   "source": []
  }
 ],
 "metadata": {
  "kernelspec": {
   "display_name": "Python [conda env:base] *",
   "language": "python",
   "name": "conda-base-py"
  },
  "language_info": {
   "codemirror_mode": {
    "name": "ipython",
    "version": 3
   },
   "file_extension": ".py",
   "mimetype": "text/x-python",
   "name": "python",
   "nbconvert_exporter": "python",
   "pygments_lexer": "ipython3",
   "version": "3.12.7"
  }
 },
 "nbformat": 4,
 "nbformat_minor": 5
}
