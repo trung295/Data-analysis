{
 "cells": [
  {
   "cell_type": "code",
   "execution_count": null,
   "id": "cf2f5a8a-7476-42cc-9e72-b7075489159d",
   "metadata": {},
   "outputs": [],
   "source": [
    "\"\"\"Exercise 1: Reverse the tuple\"\"\""
   ]
  },
  {
   "cell_type": "code",
   "execution_count": 14,
   "id": "5130fbee-f68f-411a-8035-58140b03b5d2",
   "metadata": {},
   "outputs": [
    {
     "name": "stdout",
     "output_type": "stream",
     "text": [
      "(50, 40, 30, 20, 10)\n"
     ]
    }
   ],
   "source": [
    "tuple1 = (10, 20, 30, 40, 50)\n",
    "tuple1 = tuple1[::-1]\n",
    "print(tuple1)"
   ]
  },
  {
   "cell_type": "code",
   "execution_count": null,
   "id": "71f8306c-eacf-41b4-8e02-7d261df99d7c",
   "metadata": {},
   "outputs": [],
   "source": [
    "\"\"\"Exercises 2: The given tuple is a nested tuple. write a Python program to print the value 20.\"\"\""
   ]
  },
  {
   "cell_type": "code",
   "execution_count": 22,
   "id": "51b9d862-71dd-4f62-84c4-7928a9b78052",
   "metadata": {},
   "outputs": [
    {
     "name": "stdout",
     "output_type": "stream",
     "text": [
      "20\n"
     ]
    }
   ],
   "source": [
    "tuple1 = (\"Orange\", [10, 20, 30], (5, 15, 25))\n",
    "print(tuple1[1][1])"
   ]
  },
  {
   "cell_type": "code",
   "execution_count": null,
   "id": "13d07eb4-f9a1-475b-bd24-b5e46704120d",
   "metadata": {},
   "outputs": [],
   "source": [
    "\"\"\" Exercises 3: Write a program to unpack the following tuple into four variables and display each variable\"\"\""
   ]
  },
  {
   "cell_type": "code",
   "execution_count": 54,
   "id": "2a72aec4-4c1b-4083-9f04-247e8a0491cc",
   "metadata": {},
   "outputs": [
    {
     "name": "stdout",
     "output_type": "stream",
     "text": [
      "10\n",
      "20\n",
      "30\n",
      "40\n",
      "(10, 20, 30, 40)\n"
     ]
    }
   ],
   "source": [
    "tuple1 = (10, 20, 30, 40)\n",
    "(a,b,c,d) = tuple1\n",
    "print(a)\n",
    "print(b)\n",
    "print(c)\n",
    "print(d)\n",
    "print(tuple1)"
   ]
  },
  {
   "cell_type": "code",
   "execution_count": null,
   "id": "ed144798-e269-4a1c-b9ed-c1ba4f2046d6",
   "metadata": {},
   "outputs": [],
   "source": [
    "\"\"\"Exercises 4: Swap two tuples in Python\"\"\""
   ]
  },
  {
   "cell_type": "code",
   "execution_count": 52,
   "id": "64e25370-1990-4f4c-a3c9-d50ca25938f5",
   "metadata": {},
   "outputs": [
    {
     "name": "stdout",
     "output_type": "stream",
     "text": [
      "(11, 22)\n",
      "(99, 88)\n"
     ]
    }
   ],
   "source": [
    "tuple1 = (11, 22)\n",
    "tuple2 = (99, 88)\n",
    "tuple1, tuple2 = tuple2, tuple1\n",
    "print(tuple2)\n",
    "print(tuple1)"
   ]
  },
  {
   "cell_type": "code",
   "execution_count": null,
   "id": "39fe76e6-3535-4541-a596-6784d1c85491",
   "metadata": {},
   "outputs": [],
   "source": [
    "\"\"\"Ex 5: Write a program to copy elements 44 and 55 from the following tuple into a new tuple.\"\"\""
   ]
  },
  {
   "cell_type": "code",
   "execution_count": 68,
   "id": "5032b0fc-7c22-4d64-b06d-50e4f206e151",
   "metadata": {},
   "outputs": [
    {
     "name": "stdout",
     "output_type": "stream",
     "text": [
      "(44, 55)\n"
     ]
    }
   ],
   "source": [
    "tuple1 = (11, 22, 33, 44, 55, 66)\n",
    "tuple2 =[i for i in tuple1 if i == 44 or i == 55]\n",
    "tuple2 = tuple(tuple2)\n",
    "print(tuple2)\n",
    "              \n"
   ]
  },
  {
   "cell_type": "code",
   "execution_count": null,
   "id": "99517747-7148-4553-8759-d2c210494b57",
   "metadata": {},
   "outputs": [],
   "source": [
    "\"\"\"Ex 6: Given is a nested tuple. Write a program to modify the first item (22) of a list inside a following tuple to 222\"\"\""
   ]
  },
  {
   "cell_type": "code",
   "execution_count": 2,
   "id": "6663f197-100b-45cb-961c-1de5a14498ff",
   "metadata": {},
   "outputs": [
    {
     "name": "stdout",
     "output_type": "stream",
     "text": [
      "(11, [222, 33], 44, 55)\n"
     ]
    }
   ],
   "source": [
    "tuple1 = (11, [22, 33], 44, 55)\n",
    "tuple1[1][0] = 222\n",
    "print(tuple1)"
   ]
  },
  {
   "cell_type": "code",
   "execution_count": null,
   "id": "176a4103-f07b-48a3-be0b-18574d77f35e",
   "metadata": {},
   "outputs": [],
   "source": [
    "\"\"\" Ex7: Counts the number of occurrences of item 50 from a tuple\"\"\""
   ]
  },
  {
   "cell_type": "code",
   "execution_count": 6,
   "id": "57a3c94c-2411-44d8-8f0b-1859a22ccfb2",
   "metadata": {},
   "outputs": [
    {
     "name": "stdout",
     "output_type": "stream",
     "text": [
      "2\n"
     ]
    }
   ],
   "source": [
    "tuple1 = (50, 10, 60, 70, 50)\n",
    "print(tuple1.count(50))"
   ]
  },
  {
   "cell_type": "code",
   "execution_count": 4,
   "id": "9b34ef30-49af-4348-a823-90ab0716a8c3",
   "metadata": {},
   "outputs": [
    {
     "data": {
      "text/plain": [
       "2"
      ]
     },
     "execution_count": 4,
     "metadata": {},
     "output_type": "execute_result"
    }
   ],
   "source": [
    "def count_number(tuple1):\n",
    "    count = 0\n",
    "    for i in tuple1:\n",
    "        if i ==50:\n",
    "            count +=1\n",
    "    return count\n",
    "count_number((50, 10, 60, 70, 50))\n"
   ]
  },
  {
   "cell_type": "code",
   "execution_count": null,
   "id": "2e6492b0-0c5e-4b60-b7d9-ac776d5c5e82",
   "metadata": {},
   "outputs": [],
   "source": [
    "\"\"\" Ex8: Check if all items in the tuple are the same \"\"\""
   ]
  },
  {
   "cell_type": "code",
   "execution_count": 8,
   "id": "a0fdeed3-a3b4-41d9-a70c-2c0bf5f0fecf",
   "metadata": {},
   "outputs": [
    {
     "name": "stdout",
     "output_type": "stream",
     "text": [
      "True\n",
      "True\n",
      "True\n",
      "True\n"
     ]
    }
   ],
   "source": [
    "tuple1 = (45, 45, 45, 45)\n",
    "for i in tuple1:\n",
    "    if i ==tuple1[0]:\n",
    "        print(\"True\")\n",
    "    else: \n",
    "        print(\"false\")"
   ]
  },
  {
   "cell_type": "code",
   "execution_count": null,
   "id": "5ce1caca-8409-4f13-bb7b-ed93574a4c4c",
   "metadata": {},
   "outputs": [],
   "source": []
  }
 ],
 "metadata": {
  "kernelspec": {
   "display_name": "Python [conda env:base] *",
   "language": "python",
   "name": "conda-base-py"
  },
  "language_info": {
   "codemirror_mode": {
    "name": "ipython",
    "version": 3
   },
   "file_extension": ".py",
   "mimetype": "text/x-python",
   "name": "python",
   "nbconvert_exporter": "python",
   "pygments_lexer": "ipython3",
   "version": "3.12.7"
  }
 },
 "nbformat": 4,
 "nbformat_minor": 5
}
