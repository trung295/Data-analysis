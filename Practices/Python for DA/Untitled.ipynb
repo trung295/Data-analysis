{
 "cells": [
  {
   "cell_type": "code",
   "execution_count": 1,
   "id": "7894d3f3-1b31-4975-bf50-1ecaa3e0687a",
   "metadata": {},
   "outputs": [
    {
     "data": {
      "text/plain": [
       "array([1, 3, 5, 7])"
      ]
     },
     "execution_count": 1,
     "metadata": {},
     "output_type": "execute_result"
    }
   ],
   "source": [
    "import pandas as pd\n",
    "import numpy as np\n",
    "\n",
    "a = np.arange(1,8,2)\n",
    "a"
   ]
  },
  {
   "cell_type": "code",
   "execution_count": 69,
   "id": "412841f9-672b-4c45-b4cb-65a07492348f",
   "metadata": {},
   "outputs": [
    {
     "data": {
      "text/plain": [
       "pandas.core.series.Series"
      ]
     },
     "execution_count": 69,
     "metadata": {},
     "output_type": "execute_result"
    }
   ],
   "source": [
    "ages = pd.Series([20, 22, 25, 27, 21, 23, 37, 31, 61, 45, 41, 32])\n",
    "bins = [18,25,35,60,100]\n",
    "group_ages = ['young', 'aldult','senior','elder'] \n",
    "age_categories = pd.cut(ages, bins, labels=group_ages)\n",
    "type(ages)\n"
   ]
  },
  {
   "cell_type": "code",
   "execution_count": 83,
   "id": "a1cf7119-1a2f-4840-8a3d-b26b92ef148f",
   "metadata": {},
   "outputs": [
    {
     "data": {
      "text/plain": [
       "138   -3.004700\n",
       "259    3.112283\n",
       "409    3.554903\n",
       "Name: 2, dtype: float64"
      ]
     },
     "execution_count": 83,
     "metadata": {},
     "output_type": "execute_result"
    }
   ],
   "source": [
    "df = pd.DataFrame(np.random.standard_normal((1000,3)))\n",
    "df.describe()\n",
    "col = df[2]\n",
    "col[col.abs()>3]"
   ]
  },
  {
   "cell_type": "code",
   "execution_count": null,
   "id": "fe7e2f8b-934d-4f88-84d3-30f6457b4101",
   "metadata": {},
   "outputs": [],
   "source": []
  }
 ],
 "metadata": {
  "kernelspec": {
   "display_name": "Python [conda env:base] *",
   "language": "python",
   "name": "conda-base-py"
  },
  "language_info": {
   "codemirror_mode": {
    "name": "ipython",
    "version": 3
   },
   "file_extension": ".py",
   "mimetype": "text/x-python",
   "name": "python",
   "nbconvert_exporter": "python",
   "pygments_lexer": "ipython3",
   "version": "3.12.3"
  }
 },
 "nbformat": 4,
 "nbformat_minor": 5
}
