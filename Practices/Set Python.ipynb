{
 "cells": [
  {
   "cell_type": "code",
   "execution_count": null,
   "id": "5b12e8f8-563b-45f0-b7f6-138d85efe54d",
   "metadata": {},
   "outputs": [],
   "source": [
    "\"\"\" Ex1: Given a Python list, Write a program to add all its elements into a given set.\"\"\""
   ]
  },
  {
   "cell_type": "code",
   "execution_count": 8,
   "id": "495605a1-5a77-4b07-b3c1-42b8adb2c7c3",
   "metadata": {},
   "outputs": [
    {
     "name": "stdout",
     "output_type": "stream",
     "text": [
      "{'Black', 'Blue', 'Orange', 'Green', 'Red', 'Yellow'}\n"
     ]
    }
   ],
   "source": [
    "sample_set = {\"Yellow\", \"Orange\", \"Black\"}\n",
    "sample_list = [\"Blue\", \"Green\", \"Red\"]\n",
    "sample_set.update(sample_list)\n",
    "print(sample_set)"
   ]
  },
  {
   "cell_type": "code",
   "execution_count": null,
   "id": "a6112ba7-f497-4b7e-98c0-aa89824202f4",
   "metadata": {},
   "outputs": [],
   "source": [
    "\"\"\" Ex2: Return a new set of identical items from two sets\"\"\""
   ]
  },
  {
   "cell_type": "code",
   "execution_count": 24,
   "id": "70749cb4-1653-44da-ace8-721c753692d0",
   "metadata": {},
   "outputs": [
    {
     "name": "stdout",
     "output_type": "stream",
     "text": [
      "{40, 50, 30}\n"
     ]
    }
   ],
   "source": [
    "set1 = {10, 20, 30, 40, 50}\n",
    "set2 = {30, 40, 50, 60, 70}\n",
    "set3 = set1.intersection(set2)\n",
    "print(set3)\n",
    "    \n",
    "    "
   ]
  },
  {
   "cell_type": "code",
   "execution_count": null,
   "id": "6e7c164f-fc85-4d1b-8bf2-bac960434d9d",
   "metadata": {},
   "outputs": [],
   "source": [
    "\"\"\" Ex3: Write a Python program to return a new set with unique items from both sets by removing duplicates.\"\"\""
   ]
  },
  {
   "cell_type": "code",
   "execution_count": 28,
   "id": "13990228-1406-4071-8ad3-8019d4ce5c26",
   "metadata": {},
   "outputs": [
    {
     "name": "stdout",
     "output_type": "stream",
     "text": [
      "{70, 40, 10, 50, 20, 60, 30}\n"
     ]
    }
   ],
   "source": [
    "set1 = {10, 20, 30, 40, 50}\n",
    "set2 = {30, 40, 50, 60, 70}\n",
    "set3 = set1.union(set2)\n",
    "print(set3)"
   ]
  },
  {
   "cell_type": "code",
   "execution_count": null,
   "id": "b45a2c71-fd39-407a-897e-e74fea80b60b",
   "metadata": {},
   "outputs": [],
   "source": [
    "\"\"\"Ex4: Given two Python sets, write a Python program to update the first set with items that exist only in the first set and \n",
    "not in the second set.\"\"\""
   ]
  },
  {
   "cell_type": "code",
   "execution_count": 30,
   "id": "17c98b04-aa25-4806-a028-e05ce4233bac",
   "metadata": {},
   "outputs": [
    {
     "name": "stdout",
     "output_type": "stream",
     "text": [
      "{10, 30}\n"
     ]
    }
   ],
   "source": [
    "set1 = {10, 20, 30}\n",
    "set2 = {20, 40, 50}\n",
    "set3 = set1.difference(set2)\n",
    "print(set3)"
   ]
  },
  {
   "cell_type": "code",
   "execution_count": null,
   "id": "b97f8bce-eefa-451d-ab4e-9b64eff55f48",
   "metadata": {},
   "outputs": [],
   "source": [
    "\"\"\"Ex5: Write a Python program to remove items 10, 20, 30 from the following set at once.\"\"\""
   ]
  },
  {
   "cell_type": "code",
   "execution_count": 36,
   "id": "2c69cb72-e8be-404e-909a-5002c9a6758d",
   "metadata": {},
   "outputs": [
    {
     "name": "stdout",
     "output_type": "stream",
     "text": [
      "{40, 50}\n"
     ]
    }
   ],
   "source": [
    "set1 = {10, 20, 30, 40, 50}\n",
    "set2 = {x for x in set1 if x ==40 or x == 50}\n",
    "print(set2)"
   ]
  },
  {
   "cell_type": "code",
   "execution_count": 38,
   "id": "d76cda5e-c161-4199-92f5-455883643420",
   "metadata": {},
   "outputs": [
    {
     "name": "stdout",
     "output_type": "stream",
     "text": [
      "{50, 40}\n"
     ]
    }
   ],
   "source": [
    "set1 = {10, 20, 30, 40, 50}\n",
    "set1.difference_update({10,20,30})\n",
    "print(set1)"
   ]
  },
  {
   "cell_type": "code",
   "execution_count": null,
   "id": "a04b0945-025c-4ead-8eff-12b92c694090",
   "metadata": {},
   "outputs": [],
   "source": [
    "\"\"\" Ex 6: Return a set of elements present in Set A or B, but not both\"\"\""
   ]
  },
  {
   "cell_type": "code",
   "execution_count": 42,
   "id": "e74f956c-1446-4a0a-8268-6335d872adc2",
   "metadata": {},
   "outputs": [
    {
     "name": "stdout",
     "output_type": "stream",
     "text": [
      "{20, 70, 10, 60}\n"
     ]
    }
   ],
   "source": [
    "set1 = {10, 20, 30, 40, 50}\n",
    "set2 = {30, 40, 50, 60, 70}\n",
    "set3 = set1.symmetric_difference(set2)\n",
    "print(set3)"
   ]
  },
  {
   "cell_type": "code",
   "execution_count": null,
   "id": "d6d667f4-2754-4a08-86b8-5e07fbea91d1",
   "metadata": {},
   "outputs": [],
   "source": [
    "\"\"\" Ex7: Check if two sets have any elements in common. If yes, display the common elements\"\"\""
   ]
  },
  {
   "cell_type": "code",
   "execution_count": 48,
   "id": "ca6898da-ff2e-4352-b17a-350764d7364d",
   "metadata": {},
   "outputs": [
    {
     "name": "stdout",
     "output_type": "stream",
     "text": [
      "Two sets have items in common\n",
      "{10}\n"
     ]
    }
   ],
   "source": [
    "\n",
    "def display_common(set1,set2):\n",
    "    for i in set1:\n",
    "        for j in set2:\n",
    "            if j==i:\n",
    "                set3=set1.intersection(set2)\n",
    "                print(f\"\"\"Two sets have items in common\n",
    "{set3}\"\"\")\n",
    "display_common({10, 20, 30, 40, 50},{60, 70, 80, 90, 10})"
   ]
  },
  {
   "cell_type": "code",
   "execution_count": 54,
   "id": "929e9eb5-feef-4a7c-9663-cf459be8ce7a",
   "metadata": {},
   "outputs": [
    {
     "name": "stdout",
     "output_type": "stream",
     "text": [
      "Two sets have items in common\n",
      "{10}\n"
     ]
    }
   ],
   "source": [
    "def display_common(set1,set2):\n",
    "    result = set1.isdisjoint(set2)\n",
    "    if result == False:\n",
    "        set3 = set1.intersection(set2)\n",
    "        print(f\"\"\"Two sets have items in common\n",
    "{set3}\"\"\")\n",
    "display_common({10, 20, 30, 40, 50},{60, 70, 80, 90, 10})\n",
    "\n",
    "    \n"
   ]
  },
  {
   "cell_type": "code",
   "execution_count": null,
   "id": "bf8a4ac7-a9e9-4d33-a86f-467bd446797b",
   "metadata": {},
   "outputs": [],
   "source": [
    "\"\"\" Ex 8: Update set1 by adding items from set2, except common items\"\"\""
   ]
  },
  {
   "cell_type": "code",
   "execution_count": 56,
   "id": "1d492f5a-541a-4a43-9a1f-ad28a38dfccd",
   "metadata": {},
   "outputs": [
    {
     "name": "stdout",
     "output_type": "stream",
     "text": [
      "{20, 70, 10, 60}\n"
     ]
    }
   ],
   "source": [
    "set1 = {10, 20, 30, 40, 50}\n",
    "set2 = {30, 40, 50, 60, 70}\n",
    "set1.symmetric_difference_update(set2)\n",
    "print(set1)"
   ]
  },
  {
   "cell_type": "code",
   "execution_count": null,
   "id": "d669cf69-a084-47e6-89f7-e9c5877b8a2e",
   "metadata": {},
   "outputs": [],
   "source": [
    "\"\"\" Ex9: Remove items from set1 that are not common to both set1 and set2\"\"\""
   ]
  },
  {
   "cell_type": "code",
   "execution_count": 60,
   "id": "a69a4b8f-0acb-4d7c-b8cc-0317fd0c1f9e",
   "metadata": {},
   "outputs": [
    {
     "name": "stdout",
     "output_type": "stream",
     "text": [
      "{40, 50, 30}\n"
     ]
    }
   ],
   "source": [
    "set1 = {10, 20, 30, 40, 50}\n",
    "set2 = {30, 40, 50, 60, 70}\n",
    "set1.intersection_update(set2)\n",
    "print(set1)"
   ]
  },
  {
   "cell_type": "code",
   "execution_count": null,
   "id": "13e4f8a8-1850-43c9-89b1-3216fc7a5de1",
   "metadata": {},
   "outputs": [],
   "source": []
  }
 ],
 "metadata": {
  "kernelspec": {
   "display_name": "Python [conda env:base] *",
   "language": "python",
   "name": "conda-base-py"
  },
  "language_info": {
   "codemirror_mode": {
    "name": "ipython",
    "version": 3
   },
   "file_extension": ".py",
   "mimetype": "text/x-python",
   "name": "python",
   "nbconvert_exporter": "python",
   "pygments_lexer": "ipython3",
   "version": "3.12.7"
  }
 },
 "nbformat": 4,
 "nbformat_minor": 5
}
