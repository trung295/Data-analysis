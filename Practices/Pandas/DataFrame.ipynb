{
 "cells": [
  {
   "cell_type": "code",
   "execution_count": 4,
   "id": "ab6cdbdc-09ab-4af4-8727-75914d7e74ca",
   "metadata": {},
   "outputs": [
    {
     "name": "stdout",
     "output_type": "stream",
     "text": [
      "    Name  Age  Marks\n",
      "0    Joe   20  85.10\n",
      "1    Nat   21  77.80\n",
      "2  Harry   19  91.54\n",
      "3   Jack   17  72.00\n",
      "4   Jose   18  87.90\n"
     ]
    }
   ],
   "source": [
    "import pandas as pd\n",
    "\n",
    "student_dict = {'Name': ['Joe', 'Nat', 'Harry','Jack','Jose','Jill','Rose'],\n",
    "                'Age': [20, 21, 19,17,18,19,17],\n",
    "                'Marks': [85.10, 77.80, 91.54,72,87.9,90,72]\n",
    "               }\n",
    "#create DataFrame from dict\n",
    "df = pd.DataFrame(student_dict)\n",
    "print(df.head(5))"
   ]
  },
  {
   "cell_type": "code",
   "execution_count": 66,
   "id": "08a3aff6-0453-4618-9182-6dd4a2bf4a3c",
   "metadata": {},
   "outputs": [
    {
     "ename": "SyntaxError",
     "evalue": "invalid syntax (2554050767.py, line 1)",
     "output_type": "error",
     "traceback": [
      "\u001b[1;36m  Cell \u001b[1;32mIn[66], line 1\u001b[1;36m\u001b[0m\n\u001b[1;33m    pip install pandas\u001b[0m\n\u001b[1;37m        ^\u001b[0m\n\u001b[1;31mSyntaxError\u001b[0m\u001b[1;31m:\u001b[0m invalid syntax\n"
     ]
    }
   ],
   "source": [
    "pip install pandas\n"
   ]
  },
  {
   "cell_type": "code",
   "execution_count": 70,
   "id": "1e033d49-a6ab-44dd-b26f-83c636639cdc",
   "metadata": {},
   "outputs": [
    {
     "name": "stdout",
     "output_type": "stream",
     "text": [
      "Requirement already satisfied: numpy in c:\\users\\hoang\\anaconda3\\lib\\site-packages (1.26.4)\n",
      "Note: you may need to restart the kernel to use updated packages.\n"
     ]
    }
   ],
   "source": [
    "pip install numpy\n"
   ]
  },
  {
   "cell_type": "code",
   "execution_count": 58,
   "id": "a32e49c7-88f5-462a-aea0-717871266e99",
   "metadata": {},
   "outputs": [
    {
     "name": "stdout",
     "output_type": "stream",
     "text": [
      "    index        company   body-style  wheel-base  length engine-type num-of-cylinders  horsepower  average-mileage    price\n",
      "0       0    alfa-romero  convertible        88.6   168.8        dohc             four         111               21  13495.0\n",
      "1       1    alfa-romero  convertible        88.6   168.8        dohc             four         111               21  16500.0\n",
      "2       2    alfa-romero    hatchback        94.5   171.2        ohcv              six         154               19  16500.0\n",
      "3       3           audi        sedan        99.8   176.6         ohc             four         102               24  13950.0\n",
      "4       4           audi        sedan        99.4   176.6         ohc             five         115               18  17450.0\n",
      "5       5           audi        sedan        99.8   177.3         ohc             five         110               19  15250.0\n",
      "6       6           audi        wagon       105.8   192.7         ohc             five         110               19  18920.0\n",
      "7       9            bmw        sedan       101.2   176.8         ohc             four         101               23  16430.0\n",
      "8      10            bmw        sedan       101.2   176.8         ohc             four         101               23  16925.0\n",
      "9      11            bmw        sedan       101.2   176.8         ohc              six         121               21  20970.0\n",
      "10     13            bmw        sedan       103.5   189.0         ohc              six         182               16  30760.0\n",
      "11     14            bmw        sedan       103.5   193.8         ohc              six         182               16  41315.0\n",
      "12     15            bmw        sedan       110.0   197.0         ohc              six         182               15  36880.0\n",
      "13     16      chevrolet    hatchback        88.4   141.1           l            three          48               47   5151.0\n",
      "14     17      chevrolet    hatchback        94.5   155.9         ohc             four          70               38   6295.0\n",
      "15     18      chevrolet        sedan        94.5   158.8         ohc             four          70               38   6575.0\n",
      "16     19          dodge    hatchback        93.7   157.3         ohc             four          68               31   6377.0\n",
      "17     20          dodge    hatchback        93.7   157.3         ohc             four          68               31   6229.0\n",
      "18     27          honda        wagon        96.5   157.1         ohc             four          76               30   7295.0\n",
      "19     28          honda        sedan        96.5   175.4         ohc             four         101               24  12945.0\n",
      "20     29          honda        sedan        96.5   169.1         ohc             four         100               25  10345.0\n",
      "21     30          isuzu        sedan        94.3   170.7         ohc             four          78               24   6785.0\n",
      "22     31          isuzu        sedan        94.5   155.9         ohc             four          70               38      NaN\n",
      "23     32          isuzu        sedan        94.5   155.9         ohc             four          70               38      NaN\n",
      "24     33         jaguar        sedan       113.0   199.6        dohc              six         176               15  32250.0\n",
      "25     34         jaguar        sedan       113.0   199.6        dohc              six         176               15  35550.0\n",
      "26     35         jaguar        sedan       102.0   191.7        ohcv           twelve         262               13  36000.0\n",
      "27     36          mazda    hatchback        93.1   159.1         ohc             four          68               30   5195.0\n",
      "28     37          mazda    hatchback        93.1   159.1         ohc             four          68               31   6095.0\n",
      "29     38          mazda    hatchback        93.1   159.1         ohc             four          68               31   6795.0\n",
      "30     39          mazda    hatchback        95.3   169.0       rotor              two         101               17  11845.0\n",
      "31     43          mazda        sedan       104.9   175.0         ohc             four          72               31  18344.0\n",
      "32     44  mercedes-benz        sedan       110.0   190.9         ohc             five         123               22  25552.0\n",
      "33     45  mercedes-benz        wagon       110.0   190.9         ohc             five         123               22  28248.0\n",
      "34     46  mercedes-benz        sedan       120.9   208.1        ohcv            eight         184               14  40960.0\n",
      "35     47  mercedes-benz      hardtop       112.0   199.2        ohcv            eight         184               14  45400.0\n",
      "36     49     mitsubishi    hatchback        93.7   157.3         ohc             four          68               37   5389.0\n",
      "37     50     mitsubishi    hatchback        93.7   157.3         ohc             four          68               31   6189.0\n",
      "38     51     mitsubishi        sedan        96.3   172.4         ohc             four          88               25   6989.0\n",
      "39     52     mitsubishi        sedan        96.3   172.4         ohc             four          88               25   8189.0\n",
      "40     53         nissan        sedan        94.5   165.3         ohc             four          55               45   7099.0\n",
      "41     54         nissan        sedan        94.5   165.3         ohc             four          69               31   6649.0\n",
      "42     55         nissan        sedan        94.5   165.3         ohc             four          69               31   6849.0\n",
      "43     56         nissan        wagon        94.5   170.2         ohc             four          69               31   7349.0\n",
      "44     57         nissan        sedan       100.4   184.6        ohcv              six         152               19  13499.0\n",
      "45     61        porsche      hardtop        89.5   168.9        ohcf              six         207               17  34028.0\n",
      "46     62        porsche  convertible        89.5   168.9        ohcf              six         207               17  37028.0\n",
      "47     63        porsche    hatchback        98.4   175.7       dohcv            eight         288               17      NaN\n",
      "48     66         toyota    hatchback        95.7   158.7         ohc             four          62               35   5348.0\n",
      "49     67         toyota    hatchback        95.7   158.7         ohc             four          62               31   6338.0\n",
      "50     68         toyota    hatchback        95.7   158.7         ohc             four          62               31   6488.0\n",
      "51     69         toyota        wagon        95.7   169.7         ohc             four          62               31   6918.0\n",
      "52     70         toyota        wagon        95.7   169.7         ohc             four          62               27   7898.0\n",
      "53     71         toyota        wagon        95.7   169.7         ohc             four          62               27   8778.0\n",
      "54     79         toyota        wagon       104.5   187.8        dohc              six         156               19  15750.0\n",
      "55     80     volkswagen        sedan        97.3   171.7         ohc             four          52               37   7775.0\n",
      "56     81     volkswagen        sedan        97.3   171.7         ohc             four          85               27   7975.0\n",
      "57     82     volkswagen        sedan        97.3   171.7         ohc             four          52               37   7995.0\n",
      "58     86     volkswagen        sedan        97.3   171.7         ohc             four         100               26   9995.0\n",
      "59     87          volvo        sedan       104.3   188.8         ohc             four         114               23  12940.0\n",
      "60     88          volvo        wagon       104.3   188.8         ohc             four         114               23  13415.0\n",
      "index               0\n",
      "company             0\n",
      "body-style          0\n",
      "wheel-base          0\n",
      "length              0\n",
      "engine-type         0\n",
      "num-of-cylinders    0\n",
      "horsepower          0\n",
      "average-mileage     0\n",
      "price               3\n",
      "dtype: int64\n",
      "0\n"
     ]
    }
   ],
   "source": [
    "import pandas as pd\n",
    "\n",
    "file_path = r\"H:\\Data Analysis\\Python\\CSV\\Automobile_data.csv\"\n",
    "df = pd.read_csv(file_path)\n",
    "\n",
    "#adjust pandas setting\n",
    "\n",
    "pd.set_option(\"display.max_columns\",None) # show all column\n",
    "pd.set_option(\"display.max_rows\",None) # show all row\n",
    "pd.set_option(\"display.width\",1000) # increase column width\n",
    "print(df)\n",
    "\n",
    "print(df.isnull().sum()) #identify missing value\n",
    "print(df.duplicated().sum()) #identify dup values\n"
   ]
  },
  {
   "cell_type": "code",
   "execution_count": 60,
   "id": "ebdc4fa6-f667-45eb-984d-8e8d3eadef07",
   "metadata": {},
   "outputs": [
    {
     "name": "stdout",
     "output_type": "stream",
     "text": [
      "    index        company   body-style  wheel-base  length engine-type num-of-cylinders  horsepower  average-mileage    price\n",
      "0       0    alfa-romero  convertible        88.6   168.8        dohc             four         111               21  13495.0\n",
      "1       1    alfa-romero  convertible        88.6   168.8        dohc             four         111               21  16500.0\n",
      "2       2    alfa-romero    hatchback        94.5   171.2        ohcv              six         154               19  16500.0\n",
      "3       3           audi        sedan        99.8   176.6         ohc             four         102               24  13950.0\n",
      "4       4           audi        sedan        99.4   176.6         ohc             five         115               18  17450.0\n",
      "5       5           audi        sedan        99.8   177.3         ohc             five         110               19  15250.0\n",
      "6       6           audi        wagon       105.8   192.7         ohc             five         110               19  18920.0\n",
      "7       9            bmw        sedan       101.2   176.8         ohc             four         101               23  16430.0\n",
      "8      10            bmw        sedan       101.2   176.8         ohc             four         101               23  16925.0\n",
      "9      11            bmw        sedan       101.2   176.8         ohc              six         121               21  20970.0\n",
      "10     13            bmw        sedan       103.5   189.0         ohc              six         182               16  30760.0\n",
      "11     14            bmw        sedan       103.5   193.8         ohc              six         182               16  41315.0\n",
      "12     15            bmw        sedan       110.0   197.0         ohc              six         182               15  36880.0\n",
      "13     16      chevrolet    hatchback        88.4   141.1           l            three          48               47   5151.0\n",
      "14     17      chevrolet    hatchback        94.5   155.9         ohc             four          70               38   6295.0\n",
      "15     18      chevrolet        sedan        94.5   158.8         ohc             four          70               38   6575.0\n",
      "16     19          dodge    hatchback        93.7   157.3         ohc             four          68               31   6377.0\n",
      "17     20          dodge    hatchback        93.7   157.3         ohc             four          68               31   6229.0\n",
      "18     27          honda        wagon        96.5   157.1         ohc             four          76               30   7295.0\n",
      "19     28          honda        sedan        96.5   175.4         ohc             four         101               24  12945.0\n",
      "20     29          honda        sedan        96.5   169.1         ohc             four         100               25  10345.0\n",
      "21     30          isuzu        sedan        94.3   170.7         ohc             four          78               24   6785.0\n",
      "24     33         jaguar        sedan       113.0   199.6        dohc              six         176               15  32250.0\n",
      "25     34         jaguar        sedan       113.0   199.6        dohc              six         176               15  35550.0\n",
      "26     35         jaguar        sedan       102.0   191.7        ohcv           twelve         262               13  36000.0\n",
      "27     36          mazda    hatchback        93.1   159.1         ohc             four          68               30   5195.0\n",
      "28     37          mazda    hatchback        93.1   159.1         ohc             four          68               31   6095.0\n",
      "29     38          mazda    hatchback        93.1   159.1         ohc             four          68               31   6795.0\n",
      "30     39          mazda    hatchback        95.3   169.0       rotor              two         101               17  11845.0\n",
      "31     43          mazda        sedan       104.9   175.0         ohc             four          72               31  18344.0\n",
      "32     44  mercedes-benz        sedan       110.0   190.9         ohc             five         123               22  25552.0\n",
      "33     45  mercedes-benz        wagon       110.0   190.9         ohc             five         123               22  28248.0\n",
      "34     46  mercedes-benz        sedan       120.9   208.1        ohcv            eight         184               14  40960.0\n",
      "35     47  mercedes-benz      hardtop       112.0   199.2        ohcv            eight         184               14  45400.0\n",
      "36     49     mitsubishi    hatchback        93.7   157.3         ohc             four          68               37   5389.0\n",
      "37     50     mitsubishi    hatchback        93.7   157.3         ohc             four          68               31   6189.0\n",
      "38     51     mitsubishi        sedan        96.3   172.4         ohc             four          88               25   6989.0\n",
      "39     52     mitsubishi        sedan        96.3   172.4         ohc             four          88               25   8189.0\n",
      "40     53         nissan        sedan        94.5   165.3         ohc             four          55               45   7099.0\n",
      "41     54         nissan        sedan        94.5   165.3         ohc             four          69               31   6649.0\n",
      "42     55         nissan        sedan        94.5   165.3         ohc             four          69               31   6849.0\n",
      "43     56         nissan        wagon        94.5   170.2         ohc             four          69               31   7349.0\n",
      "44     57         nissan        sedan       100.4   184.6        ohcv              six         152               19  13499.0\n",
      "45     61        porsche      hardtop        89.5   168.9        ohcf              six         207               17  34028.0\n",
      "46     62        porsche  convertible        89.5   168.9        ohcf              six         207               17  37028.0\n",
      "48     66         toyota    hatchback        95.7   158.7         ohc             four          62               35   5348.0\n",
      "49     67         toyota    hatchback        95.7   158.7         ohc             four          62               31   6338.0\n",
      "50     68         toyota    hatchback        95.7   158.7         ohc             four          62               31   6488.0\n",
      "51     69         toyota        wagon        95.7   169.7         ohc             four          62               31   6918.0\n",
      "52     70         toyota        wagon        95.7   169.7         ohc             four          62               27   7898.0\n",
      "53     71         toyota        wagon        95.7   169.7         ohc             four          62               27   8778.0\n",
      "54     79         toyota        wagon       104.5   187.8        dohc              six         156               19  15750.0\n",
      "55     80     volkswagen        sedan        97.3   171.7         ohc             four          52               37   7775.0\n",
      "56     81     volkswagen        sedan        97.3   171.7         ohc             four          85               27   7975.0\n",
      "57     82     volkswagen        sedan        97.3   171.7         ohc             four          52               37   7995.0\n",
      "58     86     volkswagen        sedan        97.3   171.7         ohc             four         100               26   9995.0\n",
      "59     87          volvo        sedan       104.3   188.8         ohc             four         114               23  12940.0\n",
      "60     88          volvo        wagon       104.3   188.8         ohc             four         114               23  13415.0\n"
     ]
    }
   ],
   "source": [
    "import pandas as pd\n",
    "\n",
    "file_path = r\"H:\\Data Analysis\\Python\\CSV\\Automobile_data.csv\"\n",
    "df = pd.read_csv(file_path)\n",
    "\n",
    "#adjust pandas setting\n",
    "\n",
    "pd.set_option(\"display.max_columns\",None) # show all column\n",
    "pd.set_option(\"display.max_rows\",None) # show all row\n",
    "pd.set_option(\"display.width\",1000) # increase column width\n",
    "df = df.dropna()\n",
    "print(df)"
   ]
  },
  {
   "cell_type": "code",
   "execution_count": 128,
   "id": "2f974ed7-2b96-481d-b8da-43eff959b448",
   "metadata": {},
   "outputs": [
    {
     "name": "stdout",
     "output_type": "stream",
     "text": [
      "          company    price\n",
      "33  mercedes-benz  45400.0\n"
     ]
    }
   ],
   "source": [
    "import pandas as pd\n",
    "\n",
    "file_path = r\"H:\\Data Analysis\\Python\\CSV\\Automobile_data.csv\"\n",
    "df = pd.read_csv(file_path)\n",
    "\n",
    "#adjust pandas setting\n",
    "\n",
    "pd.set_option(\"display.max_columns\",None) # show all column\n",
    "pd.set_option(\"display.max_rows\",None) # show all row\n",
    "pd.set_option(\"display.width\",1000) # increase column width\n",
    "df = df.dropna(axis =0) # drop missing value row\n",
    "df=df.reset_index() # reset index\n",
    "a = df[[\"company\",\"price\"]] # show 2 column company and price\n",
    "df = df [['company','price']][df.price==df['price'].max()] # sort desending price\n",
    "print(df) # show the most expensive car\n"
   ]
  },
  {
   "cell_type": "code",
   "execution_count": 112,
   "id": "467bd368-f543-478e-89ef-e89c86086ed6",
   "metadata": {},
   "outputs": [
    {
     "name": "stdout",
     "output_type": "stream",
     "text": [
      "    name  age  marks\n",
      "0    Joe   20  85.10\n",
      "1    Sam   21    NaN\n",
      "2  Harry   19  91.54\n",
      "    name  age  marks\n",
      "0    Joe   20  85.10\n",
      "2  Harry   19  91.54\n",
      "   index   name  age  marks\n",
      "0      0    Joe   20  85.10\n",
      "1      2  Harry   19  91.54\n",
      "0      Joe\n",
      "1    Harry\n",
      "Name: name, dtype: object\n"
     ]
    }
   ],
   "source": [
    "import pandas as pd\n",
    "import numpy as np\n",
    "\n",
    "data = {\n",
    "    \"name\":[\"Joe\",\"Sam\",\"Harry\"],\n",
    "    \"age\":[20,21,19],\n",
    "    \"marks\":[85.1,np.nan,91.54]\n",
    "}\n",
    "df=pd.DataFrame(data)\n",
    "print(df)\n",
    "df=df.dropna(axis=0)\n",
    "print(df)\n",
    "df=df.reset_index()\n",
    "print(df)\n",
    "\n"
   ]
  },
  {
   "cell_type": "code",
   "execution_count": 114,
   "id": "c9659366-9c6b-458e-8520-95f740d5725f",
   "metadata": {},
   "outputs": [
    {
     "name": "stdout",
     "output_type": "stream",
     "text": [
      "{'brand': 'Ford', 'model': 'Mustang', 'year': 1964}\n"
     ]
    }
   ],
   "source": [
    "thisdict = {\n",
    "  \"brand\": \"Ford\",\n",
    "  \"model\": \"Mustang\",\n",
    "  \"year\": 1964\n",
    "}\n",
    "print(thisdict)"
   ]
  },
  {
   "cell_type": "code",
   "execution_count": 160,
   "id": "d78f4fb0-e30a-4e19-91b8-ac715703c13a",
   "metadata": {},
   "outputs": [
    {
     "name": "stdout",
     "output_type": "stream",
     "text": [
      "    fruit  quantity\n",
      "0   Apple       180\n",
      "1  Banana       120\n",
      "2  Orange         5\n"
     ]
    }
   ],
   "source": [
    "import pandas as pd\n",
    "fruit_list = [[\"Apple\",\"Banana\",\"Orange\"],[180,120,5]]\n",
    "fruit = fruit_list[0]\n",
    "quantity = fruit_list[1]\n",
    "fruit_dict = {\n",
    "    \"fruit\":fruit,\n",
    "    \"quantity\":quantity\n",
    "}\n",
    "df = pd.DataFrame(fruit_dict)\n",
    "print(df)"
   ]
  },
  {
   "cell_type": "code",
   "execution_count": 224,
   "id": "1360d13d-782b-462d-8549-802ca14b9328",
   "metadata": {},
   "outputs": [
    {
     "data": {
      "text/plain": [
       "27"
      ]
     },
     "execution_count": 224,
     "metadata": {},
     "output_type": "execute_result"
    }
   ],
   "source": [
    "import pandas as pd\n",
    "stu = {\n",
    "    \"Name\":[\"Alice\",\"Bob\",\"Charlie\"],\n",
    "    \"Age\":[24,27,22],\n",
    "    \"City\":[\"New York\",\"Chicago\",\"Boston\"],\n",
    "    \"Marks\":[85,78,92]\n",
    "}\n",
    "# create DataFrame \n",
    "df = pd.DataFrame(stu)\n",
    "marks_mean = df[\"Marks\"].mean() # find mean value of Marks column\n",
    "marks_median = df[\"Marks\"].median()\n",
    "marks_std = df[\"Marks\"].std()\n",
    "max_age = df[\"Age\"].max()\n",
    "min_age = df[\"Age\"].min()\n",
    "max_age"
   ]
  },
  {
   "cell_type": "code",
   "execution_count": 232,
   "id": "ad3d7b22-edfe-4284-91cb-2c6420e03fc0",
   "metadata": {},
   "outputs": [
    {
     "data": {
      "text/html": [
       "<div>\n",
       "<style scoped>\n",
       "    .dataframe tbody tr th:only-of-type {\n",
       "        vertical-align: middle;\n",
       "    }\n",
       "\n",
       "    .dataframe tbody tr th {\n",
       "        vertical-align: top;\n",
       "    }\n",
       "\n",
       "    .dataframe thead th {\n",
       "        text-align: right;\n",
       "    }\n",
       "</style>\n",
       "<table border=\"1\" class=\"dataframe\">\n",
       "  <thead>\n",
       "    <tr style=\"text-align: right;\">\n",
       "      <th></th>\n",
       "      <th>Name</th>\n",
       "      <th>Age</th>\n",
       "      <th>City</th>\n",
       "      <th>Marks</th>\n",
       "    </tr>\n",
       "  </thead>\n",
       "  <tbody>\n",
       "    <tr>\n",
       "      <th>0</th>\n",
       "      <td>Alice</td>\n",
       "      <td>24</td>\n",
       "      <td>New York</td>\n",
       "      <td>85</td>\n",
       "    </tr>\n",
       "  </tbody>\n",
       "</table>\n",
       "</div>"
      ],
      "text/plain": [
       "    Name  Age      City  Marks\n",
       "0  Alice   24  New York     85"
      ]
     },
     "execution_count": 232,
     "metadata": {},
     "output_type": "execute_result"
    }
   ],
   "source": [
    "import pandas as pd\n",
    "stu = {\n",
    "    \"Name\":[\"Alice\",\"Bob\",\"Charlie\"],\n",
    "    \"Age\":[24,27,22],\n",
    "    \"City\":[\"New York\",\"Chicago\",\"Boston\"],\n",
    "    \"Marks\":[85,78,92]\n",
    "}\n",
    "# create DataFrame \n",
    "df = pd.DataFrame(stu)\n",
    "filtered_df = df[df[\"Marks\"]==df[\"Marks\"].max()]\n",
    "loca = df[df[\"City\"]==\"New York\"]\n",
    "loca"
   ]
  },
  {
   "cell_type": "code",
   "execution_count": 260,
   "id": "da341169-f343-4373-a0d4-f218109a4912",
   "metadata": {},
   "outputs": [
    {
     "data": {
      "text/html": [
       "<div>\n",
       "<style scoped>\n",
       "    .dataframe tbody tr th:only-of-type {\n",
       "        vertical-align: middle;\n",
       "    }\n",
       "\n",
       "    .dataframe tbody tr th {\n",
       "        vertical-align: top;\n",
       "    }\n",
       "\n",
       "    .dataframe thead th {\n",
       "        text-align: right;\n",
       "    }\n",
       "</style>\n",
       "<table border=\"1\" class=\"dataframe\">\n",
       "  <thead>\n",
       "    <tr style=\"text-align: right;\">\n",
       "      <th></th>\n",
       "      <th>Name</th>\n",
       "      <th>Age</th>\n",
       "      <th>City</th>\n",
       "      <th>Marks</th>\n",
       "    </tr>\n",
       "  </thead>\n",
       "  <tbody>\n",
       "    <tr>\n",
       "      <th>2</th>\n",
       "      <td>Charlie</td>\n",
       "      <td>22</td>\n",
       "      <td>Boston</td>\n",
       "      <td>92</td>\n",
       "    </tr>\n",
       "    <tr>\n",
       "      <th>1</th>\n",
       "      <td>Bob</td>\n",
       "      <td>27</td>\n",
       "      <td>Chicago</td>\n",
       "      <td>78</td>\n",
       "    </tr>\n",
       "    <tr>\n",
       "      <th>0</th>\n",
       "      <td>Alice</td>\n",
       "      <td>24</td>\n",
       "      <td>New York</td>\n",
       "      <td>85</td>\n",
       "    </tr>\n",
       "  </tbody>\n",
       "</table>\n",
       "</div>"
      ],
      "text/plain": [
       "      Name  Age      City  Marks\n",
       "2  Charlie   22    Boston     92\n",
       "1      Bob   27   Chicago     78\n",
       "0    Alice   24  New York     85"
      ]
     },
     "execution_count": 260,
     "metadata": {},
     "output_type": "execute_result"
    }
   ],
   "source": [
    "import pandas as pd\n",
    "stu = {\n",
    "    \"Name\":[\"Alice\",\"Bob\",\"Charlie\"],\n",
    "    \"Age\":[24,27,22],\n",
    "    \"City\":[\"New York\",\"Chicago\",\"Boston\"],\n",
    "    \"Marks\":[85,78,92]\n",
    "}\n",
    "# create DataFrame \n",
    "df = pd.DataFrame(stu)\n",
    "df.sort_values(\"City\",ascending=True,inplace=True)\n",
    "df"
   ]
  },
  {
   "cell_type": "code",
   "execution_count": 254,
   "id": "3dddcf20-b800-475f-b5a9-289f2afda08c",
   "metadata": {},
   "outputs": [
    {
     "data": {
      "text/html": [
       "<div>\n",
       "<style scoped>\n",
       "    .dataframe tbody tr th:only-of-type {\n",
       "        vertical-align: middle;\n",
       "    }\n",
       "\n",
       "    .dataframe tbody tr th {\n",
       "        vertical-align: top;\n",
       "    }\n",
       "\n",
       "    .dataframe thead th {\n",
       "        text-align: right;\n",
       "    }\n",
       "</style>\n",
       "<table border=\"1\" class=\"dataframe\">\n",
       "  <thead>\n",
       "    <tr style=\"text-align: right;\">\n",
       "      <th></th>\n",
       "      <th>City</th>\n",
       "      <th>Age</th>\n",
       "    </tr>\n",
       "  </thead>\n",
       "  <tbody>\n",
       "    <tr>\n",
       "      <th>0</th>\n",
       "      <td>New York</td>\n",
       "      <td>24</td>\n",
       "    </tr>\n",
       "  </tbody>\n",
       "</table>\n",
       "</div>"
      ],
      "text/plain": [
       "       City  Age\n",
       "0  New York   24"
      ]
     },
     "execution_count": 254,
     "metadata": {},
     "output_type": "execute_result"
    }
   ],
   "source": [
    "import pandas as pd\n",
    "stu = {\n",
    "    \"Name\":[\"Alice\",\"Bob\",\"Charlie\"],\n",
    "    \"Age\":[24,27,22],\n",
    "    \"City\":[\"New York\",\"Chicago\",\"Boston\"],\n",
    "    \"Marks\":[85,78,92]\n",
    "}\n",
    "# create DataFrame \n",
    "df = pd.DataFrame(stu)\n",
    "a = df[[\"City\",\"Age\"]]\n",
    "a = a[a[\"City\"]==\"New York\"]\n",
    "a"
   ]
  },
  {
   "cell_type": "code",
   "execution_count": 69,
   "id": "814176fd-ee4e-4fec-9d89-b3b9ed4c93e6",
   "metadata": {},
   "outputs": [
    {
     "data": {
      "text/html": [
       "<div>\n",
       "<style scoped>\n",
       "    .dataframe tbody tr th:only-of-type {\n",
       "        vertical-align: middle;\n",
       "    }\n",
       "\n",
       "    .dataframe tbody tr th {\n",
       "        vertical-align: top;\n",
       "    }\n",
       "\n",
       "    .dataframe thead th {\n",
       "        text-align: right;\n",
       "    }\n",
       "</style>\n",
       "<table border=\"1\" class=\"dataframe\">\n",
       "  <thead>\n",
       "    <tr style=\"text-align: right;\">\n",
       "      <th></th>\n",
       "      <th>name</th>\n",
       "      <th>age</th>\n",
       "      <th>email</th>\n",
       "      <th>price</th>\n",
       "      <th>sales</th>\n",
       "      <th>experience</th>\n",
       "      <th>salary</th>\n",
       "      <th>date</th>\n",
       "      <th>review</th>\n",
       "      <th>discounted_price</th>\n",
       "      <th>domain</th>\n",
       "      <th>age_group</th>\n",
       "      <th>sales_category</th>\n",
       "      <th>high_earner</th>\n",
       "      <th>count</th>\n",
       "    </tr>\n",
       "  </thead>\n",
       "  <tbody>\n",
       "    <tr>\n",
       "      <th>0</th>\n",
       "      <td>ALICE JOHNSON</td>\n",
       "      <td>25</td>\n",
       "      <td>alice@gmail.com</td>\n",
       "      <td>120</td>\n",
       "      <td>1000</td>\n",
       "      <td>2</td>\n",
       "      <td>50000</td>\n",
       "      <td>05/01/2024</td>\n",
       "      <td>Great product! Works well.</td>\n",
       "      <td>108.0</td>\n",
       "      <td>gmail.com</td>\n",
       "      <td>Adult</td>\n",
       "      <td>Normal</td>\n",
       "      <td>False</td>\n",
       "      <td>4</td>\n",
       "    </tr>\n",
       "    <tr>\n",
       "      <th>1</th>\n",
       "      <td>BOB SMITH</td>\n",
       "      <td>17</td>\n",
       "      <td>bob@yahoo.com</td>\n",
       "      <td>250</td>\n",
       "      <td>1500</td>\n",
       "      <td>1</td>\n",
       "      <td>30000</td>\n",
       "      <td>15/12/2023</td>\n",
       "      <td>Not bad, but could be better.</td>\n",
       "      <td>225.0</td>\n",
       "      <td>yahoo.com</td>\n",
       "      <td>Teen</td>\n",
       "      <td>Normal</td>\n",
       "      <td>False</td>\n",
       "      <td>6</td>\n",
       "    </tr>\n",
       "    <tr>\n",
       "      <th>2</th>\n",
       "      <td>CHARLIE BROWN</td>\n",
       "      <td>35</td>\n",
       "      <td>charlie@outlook.com</td>\n",
       "      <td>300</td>\n",
       "      <td>2000</td>\n",
       "      <td>10</td>\n",
       "      <td>120000</td>\n",
       "      <td>10/02/2024</td>\n",
       "      <td>Excellent! Highly recommend.</td>\n",
       "      <td>270.0</td>\n",
       "      <td>outlook.com</td>\n",
       "      <td>Adult</td>\n",
       "      <td>Normal</td>\n",
       "      <td>True</td>\n",
       "      <td>3</td>\n",
       "    </tr>\n",
       "    <tr>\n",
       "      <th>3</th>\n",
       "      <td>DAVID LEE</td>\n",
       "      <td>12</td>\n",
       "      <td>david@hotmail.com</td>\n",
       "      <td>150</td>\n",
       "      <td>3000</td>\n",
       "      <td>0</td>\n",
       "      <td>15000</td>\n",
       "      <td>20/11/2023</td>\n",
       "      <td>Okay, but had some issues.</td>\n",
       "      <td>135.0</td>\n",
       "      <td>hotmail.com</td>\n",
       "      <td>Child</td>\n",
       "      <td>Normal</td>\n",
       "      <td>False</td>\n",
       "      <td>5</td>\n",
       "    </tr>\n",
       "    <tr>\n",
       "      <th>4</th>\n",
       "      <td>EVA GREEN</td>\n",
       "      <td>60</td>\n",
       "      <td>eva@icloud.com</td>\n",
       "      <td>500</td>\n",
       "      <td>400</td>\n",
       "      <td>20</td>\n",
       "      <td>200000</td>\n",
       "      <td>01/03/2024</td>\n",
       "      <td>Terrible experience, never again.</td>\n",
       "      <td>450.0</td>\n",
       "      <td>icloud.com</td>\n",
       "      <td>Senior</td>\n",
       "      <td>Normal</td>\n",
       "      <td>True</td>\n",
       "      <td>4</td>\n",
       "    </tr>\n",
       "  </tbody>\n",
       "</table>\n",
       "</div>"
      ],
      "text/plain": [
       "            name  age                email  price  sales  experience  salary  \\\n",
       "0  ALICE JOHNSON   25      alice@gmail.com    120   1000           2   50000   \n",
       "1      BOB SMITH   17        bob@yahoo.com    250   1500           1   30000   \n",
       "2  CHARLIE BROWN   35  charlie@outlook.com    300   2000          10  120000   \n",
       "3      DAVID LEE   12    david@hotmail.com    150   3000           0   15000   \n",
       "4      EVA GREEN   60       eva@icloud.com    500    400          20  200000   \n",
       "\n",
       "         date                             review  discounted_price  \\\n",
       "0  05/01/2024         Great product! Works well.             108.0   \n",
       "1  15/12/2023      Not bad, but could be better.             225.0   \n",
       "2  10/02/2024       Excellent! Highly recommend.             270.0   \n",
       "3  20/11/2023         Okay, but had some issues.             135.0   \n",
       "4  01/03/2024  Terrible experience, never again.             450.0   \n",
       "\n",
       "        domain age_group sales_category  high_earner  count  \n",
       "0    gmail.com     Adult         Normal        False      4  \n",
       "1    yahoo.com      Teen         Normal        False      6  \n",
       "2  outlook.com     Adult         Normal         True      3  \n",
       "3  hotmail.com     Child         Normal        False      5  \n",
       "4   icloud.com    Senior         Normal         True      4  "
      ]
     },
     "execution_count": 69,
     "metadata": {},
     "output_type": "execute_result"
    }
   ],
   "source": [
    "import pandas as pd\n",
    "\n",
    "data = {\n",
    "    \"name\": [\"Alice Johnson\", \"Bob Smith\", \"Charlie Brown\", \"David Lee\", \"Eva Green\"],\n",
    "    \"age\": [25, 17, 35, 12, 60],\n",
    "    \"email\": [\"alice@gmail.com\", \"bob@yahoo.com\", \"charlie@outlook.com\", \"david@hotmail.com\", \"eva@icloud.com\"],\n",
    "    \"price\": [120, 250, 300, 150, 500],\n",
    "    \"sales\": [1000, 1500, 2000, 3000, 400],\n",
    "    \"experience\": [2, 1, 10, 0, 20],\n",
    "    \"salary\": [50000, 30000, 120000, 15000, 200000],\n",
    "    \"date\": [\"2024-01-05 14:23:00\", \"2023-12-15 09:30:45\", \"2024-02-10 18:10:15\", \"2023-11-20 07:45:30\", \"2024-03-01 12:00:00\"],\n",
    "    \"review\": [\"Great product! Works well.\", \"Not bad, but could be better.\", \"Excellent! Highly recommend.\", \"Okay, but had some issues.\", \"Terrible experience, never again.\"]\n",
    "}\n",
    "df = pd.DataFrame(data)\n",
    "df[\"date\"] = pd.to_datetime(df[\"date\"])\n",
    "df\n",
    "# Apply a 10% discount to the price column and store it in a new column 'discounted_price'.\n",
    "df[\"discounted_price\"]=df[\"price\"].apply(lambda x:x*0.9)\n",
    "# Use a lambda function to convert all strings in a 'name' column to uppercase.\n",
    "df[\"name\"]=df[\"name\"].apply(lambda x: x.upper())\n",
    "# Extract the email domain from the 'email' column and store it in a new column 'domain'.\n",
    "df[\"domain\"] = df[\"email\"].apply(lambda x: x.split(\"@\")[1])\n",
    "# Check for missing values in any column using a lambda function.\n",
    "df.isnull().apply(lambda x: x.any(),axis =0)\n",
    "# Create an 'age_group' column that categorizes people as \"Child\", \"Teen\", \"Adult\", or \"Senior\".\n",
    "df[\"age_group\"] = df[\"age\"].apply(lambda x: \n",
    "    \"Child\" if x <= 12 else\n",
    "    \"Teen\" if x<= 19 else\n",
    "    \"Adult\" if x<= 59 else\n",
    "    \"Senior\")\n",
    "#Create a column 'sales_category' where values greater than mean + 2 std dev are \"Outlier\", otherwise \"Normal\".\n",
    "mean_sale = df[\"sales\"].mean()\n",
    "std_sale = df[\"sales\"].std()\n",
    "threshold_sale = mean_sale+2*std_sale\n",
    "df[\"sales_category\"] = df[\"sales\"].apply(lambda x:\n",
    "    \"Outlier\" if x>threshold_sale else\n",
    "    \"Normal\")\n",
    "# Convert 'date' to DD/MM/YYYY format using a lambda function.\n",
    "df[\"date\"] = df[\"date\"].apply(lambda x: x.strftime(\"%d/%m/%Y\"))\n",
    "# Create a new column 'high_earner' that is True if salary > 100K and experience > 5 years.\n",
    "df[\"high_earner\"] = df.apply(lambda x: x[\"salary\"] > 100000 and x[\"experience\"] > 5,axis =1)\n",
    "# Count the number of words in each 'review' using a lambda function.\n",
    "words = df[\"review\"].apply(lambda x: x.split())\n",
    "df[\"count\"] = df.apply(lambda x: len(x[\"review\"].split()),axis = 1)\n",
    "df"
   ]
  },
  {
   "cell_type": "code",
   "execution_count": 57,
   "id": "84ebd498-fb11-4a72-b3f5-2e4494712439",
   "metadata": {},
   "outputs": [
    {
     "data": {
      "text/plain": [
       "15"
      ]
     },
     "execution_count": 57,
     "metadata": {},
     "output_type": "execute_result"
    }
   ],
   "source": [
    "str1 =\"hoang@gmail.com\"\n",
    "count =0\n",
    "i=0\n",
    "while i<len(str1):\n",
    "    count+=1\n",
    "    i+=1\n",
    "count\n",
    "\n",
    "    "
   ]
  },
  {
   "cell_type": "code",
   "execution_count": 12,
   "id": "ef0aeb53-48f4-400d-ae87-1afc2e014816",
   "metadata": {},
   "outputs": [
    {
     "data": {
      "text/html": [
       "<div>\n",
       "<style scoped>\n",
       "    .dataframe tbody tr th:only-of-type {\n",
       "        vertical-align: middle;\n",
       "    }\n",
       "\n",
       "    .dataframe tbody tr th {\n",
       "        vertical-align: top;\n",
       "    }\n",
       "\n",
       "    .dataframe thead th {\n",
       "        text-align: right;\n",
       "    }\n",
       "</style>\n",
       "<table border=\"1\" class=\"dataframe\">\n",
       "  <thead>\n",
       "    <tr style=\"text-align: right;\">\n",
       "      <th></th>\n",
       "      <th>name</th>\n",
       "      <th>grade</th>\n",
       "    </tr>\n",
       "  </thead>\n",
       "  <tbody>\n",
       "    <tr>\n",
       "      <th>0</th>\n",
       "      <td>Hoang</td>\n",
       "      <td>1</td>\n",
       "    </tr>\n",
       "    <tr>\n",
       "      <th>1</th>\n",
       "      <td>Lan</td>\n",
       "      <td>6</td>\n",
       "    </tr>\n",
       "  </tbody>\n",
       "</table>\n",
       "</div>"
      ],
      "text/plain": [
       "    name  grade\n",
       "0  Hoang      1\n",
       "1    Lan      6"
      ]
     },
     "execution_count": 12,
     "metadata": {},
     "output_type": "execute_result"
    }
   ],
   "source": [
    "import pandas as pd\n",
    "sales_dict = {\"Jan\": 10000, \"Feb\": 12000, \"Mar\": 15000}\n",
    "\n",
    "data ={\n",
    "    \"name\" :[\"Hoang\",\"Lan\"],\n",
    "    \"grade\":[1,6]\n",
    "}\n",
    "\n",
    "df =pd.DataFrame(data)\n",
    "df"
   ]
  },
  {
   "cell_type": "code",
   "execution_count": null,
   "id": "267c3143-ef45-41a5-a101-860c2236c86d",
   "metadata": {},
   "outputs": [],
   "source": []
  }
 ],
 "metadata": {
  "kernelspec": {
   "display_name": "Python [conda env:base] *",
   "language": "python",
   "name": "conda-base-py"
  },
  "language_info": {
   "codemirror_mode": {
    "name": "ipython",
    "version": 3
   },
   "file_extension": ".py",
   "mimetype": "text/x-python",
   "name": "python",
   "nbconvert_exporter": "python",
   "pygments_lexer": "ipython3",
   "version": "3.12.7"
  }
 },
 "nbformat": 4,
 "nbformat_minor": 5
}
