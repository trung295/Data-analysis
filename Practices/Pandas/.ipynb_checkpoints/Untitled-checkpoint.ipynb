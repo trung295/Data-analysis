{
 "cells": [
  {
   "cell_type": "code",
   "execution_count": 1,
   "id": "a305cc38-75e2-4ca9-9a4b-8eea82a48629",
   "metadata": {},
   "outputs": [
    {
     "name": "stdout",
     "output_type": "stream",
     "text": [
      "Requirement already satisfied: pandas in c:\\users\\hoang\\anaconda3\\lib\\site-packages (2.2.2)\n",
      "Requirement already satisfied: numpy in c:\\users\\hoang\\anaconda3\\lib\\site-packages (1.26.4)\n",
      "Requirement already satisfied: seaborn in c:\\users\\hoang\\anaconda3\\lib\\site-packages (0.13.2)\n",
      "Requirement already satisfied: matplotlib in c:\\users\\hoang\\anaconda3\\lib\\site-packages (3.9.2)\n",
      "Requirement already satisfied: python-dateutil>=2.8.2 in c:\\users\\hoang\\anaconda3\\lib\\site-packages (from pandas) (2.9.0.post0)\n",
      "Requirement already satisfied: pytz>=2020.1 in c:\\users\\hoang\\anaconda3\\lib\\site-packages (from pandas) (2024.1)\n",
      "Requirement already satisfied: tzdata>=2022.7 in c:\\users\\hoang\\anaconda3\\lib\\site-packages (from pandas) (2023.3)\n",
      "Requirement already satisfied: contourpy>=1.0.1 in c:\\users\\hoang\\anaconda3\\lib\\site-packages (from matplotlib) (1.2.0)\n",
      "Requirement already satisfied: cycler>=0.10 in c:\\users\\hoang\\anaconda3\\lib\\site-packages (from matplotlib) (0.11.0)\n",
      "Requirement already satisfied: fonttools>=4.22.0 in c:\\users\\hoang\\anaconda3\\lib\\site-packages (from matplotlib) (4.51.0)\n",
      "Requirement already satisfied: kiwisolver>=1.3.1 in c:\\users\\hoang\\anaconda3\\lib\\site-packages (from matplotlib) (1.4.4)\n",
      "Requirement already satisfied: packaging>=20.0 in c:\\users\\hoang\\anaconda3\\lib\\site-packages (from matplotlib) (24.1)\n",
      "Requirement already satisfied: pillow>=8 in c:\\users\\hoang\\anaconda3\\lib\\site-packages (from matplotlib) (10.4.0)\n",
      "Requirement already satisfied: pyparsing>=2.3.1 in c:\\users\\hoang\\anaconda3\\lib\\site-packages (from matplotlib) (3.1.2)\n",
      "Requirement already satisfied: six>=1.5 in c:\\users\\hoang\\anaconda3\\lib\\site-packages (from python-dateutil>=2.8.2->pandas) (1.16.0)\n"
     ]
    }
   ],
   "source": [
    "!pip install pandas numpy seaborn matplotlib"
   ]
  },
  {
   "cell_type": "code",
   "execution_count": 123,
   "id": "8dcee7dc-165d-4e11-ba63-c7c18e8573e0",
   "metadata": {},
   "outputs": [
    {
     "name": "stdout",
     "output_type": "stream",
     "text": [
      "   OrderID CustomerID   OrderDate        Category  Quantity  UnitPrice  \\\n",
      "0     1000       C005  2024-03-26        Clothing         2     357.30   \n",
      "1     1001       C007  2024-03-30  Home & Kitchen         1     123.94   \n",
      "2     1002       C002  2024-03-10  Home & Kitchen         1     138.09   \n",
      "3     1003       C010  2024-03-31     Electronics         3     255.71   \n",
      "4     1004       C007  2024-03-01  Home & Kitchen         2     348.38   \n",
      "\n",
      "   TotalPrice   Region  \n",
      "0      714.60     Oulu  \n",
      "1      123.94     Oulu  \n",
      "2      138.09  Tampere  \n",
      "3      767.13    Espoo  \n",
      "4      696.76  Tampere  \n"
     ]
    }
   ],
   "source": [
    "import pandas as pd\n",
    "import numpy as np\n",
    "import seaborn as sns\n",
    "import matplotlib.pyplot as plt\n",
    "\n",
    "data = pd.read_csv(r\"C:\\Users\\Hoang\\Data analysis\\Datasets\\sales_data.csv\")\n",
    "df = pd.DataFrame(data)\n",
    "print(df.head())\n",
    "\n",
    "\n"
   ]
  },
  {
   "cell_type": "code",
   "execution_count": 121,
   "id": "9c09c08a-2778-437a-be9f-a361b741e7b3",
   "metadata": {},
   "outputs": [
    {
     "name": "stdout",
     "output_type": "stream",
     "text": [
      "<class 'pandas.core.frame.DataFrame'>\n",
      "RangeIndex: 50 entries, 0 to 49\n",
      "Data columns (total 8 columns):\n",
      " #   Column      Non-Null Count  Dtype  \n",
      "---  ------      --------------  -----  \n",
      " 0   OrderID     50 non-null     int64  \n",
      " 1   CustomerID  50 non-null     object \n",
      " 2   OrderDate   50 non-null     object \n",
      " 3   Category    50 non-null     object \n",
      " 4   Quantity    50 non-null     int64  \n",
      " 5   UnitPrice   50 non-null     float64\n",
      " 6   TotalPrice  50 non-null     float64\n",
      " 7   Region      50 non-null     object \n",
      "dtypes: float64(2), int64(2), object(4)\n",
      "memory usage: 3.3+ KB\n",
      "Overview of sale data: \n",
      "None\n",
      "Describe of quantities data:\n",
      "          OrderID   Quantity   UnitPrice   TotalPrice\n",
      "count    50.00000  50.000000   50.000000    50.000000\n",
      "mean   1024.50000   3.100000  282.637800   896.933800\n",
      "std      14.57738   1.432138  148.951614   642.038362\n",
      "min    1000.00000   1.000000   40.960000    52.300000\n",
      "25%    1012.25000   2.000000  127.182500   343.947500\n",
      "50%    1024.50000   3.000000  314.800000   779.235000\n",
      "75%    1036.75000   4.000000  420.270000  1408.925000\n",
      "max    1049.00000   5.000000  491.070000  2317.200000\n",
      "Unique values: \n",
      "OrderID       50\n",
      "CustomerID    10\n",
      "OrderDate     26\n",
      "Category       5\n",
      "Quantity       5\n",
      "UnitPrice     50\n",
      "TotalPrice    50\n",
      "Region         5\n",
      "dtype: int64\n"
     ]
    }
   ],
   "source": [
    "print(f\"Overview of sale data: \\n{df.info()}\")\n",
    "print(f\"Describe of quantities data:\\n{df.describe()}\")\n",
    "print(f\"Unique values: \\n{df.nunique()}\")"
   ]
  },
  {
   "cell_type": "code",
   "execution_count": 127,
   "id": "50a3b8ba-74b5-4d3a-929d-225ea1f920fe",
   "metadata": {},
   "outputs": [
    {
     "name": "stdout",
     "output_type": "stream",
     "text": [
      "Missing values : \n",
      "OrderID       0\n",
      "CustomerID    0\n",
      "OrderDate     0\n",
      "Category      0\n",
      "Quantity      0\n",
      "UnitPrice     0\n",
      "TotalPrice    0\n",
      "Region        0\n",
      "Equal         0\n",
      "dtype: int64\n",
      "Duplicate values:0\n"
     ]
    }
   ],
   "source": [
    "# convert orderdate column to date time\n",
    "df[\"OrderDate\"]=pd.to_datetime(df[\"OrderDate\"])\n",
    "\n",
    "# check missing values\n",
    "print(f\"Missing values : \\n{df.isnull().sum()}\")\n",
    "\n",
    "# check duplicate value\n",
    "print(f\"Duplicate values:{df.duplicated().sum()}\")\n",
    "\n"
   ]
  },
  {
   "cell_type": "code",
   "execution_count": 133,
   "id": "c045b22b-ba05-400c-acb9-6b3cf6a5313a",
   "metadata": {},
   "outputs": [
    {
     "name": "stdout",
     "output_type": "stream",
     "text": [
      "TotalPrice = UnitPrice*Quantity :True\n"
     ]
    }
   ],
   "source": [
    "#check TotalPrice = UnitPrice*Quantity\n",
    "df[\"Equal\"]=df[\"Quantity\"]*df[\"UnitPrice\"]\n",
    "print(f\"TotalPrice = UnitPrice*Quantity :{df[\"TotalPrice\"].round(2).equals(df[\"Equal\"].round(2))}\")\n"
   ]
  },
  {
   "cell_type": "code",
   "execution_count": 131,
   "id": "99390fdb-2a3a-4f6c-aca2-041f0881f3ce",
   "metadata": {},
   "outputs": [
    {
     "name": "stdout",
     "output_type": "stream",
     "text": [
      "Total sale per categories:Category\n",
      "Electronics       13258.67\n",
      "Home & Kitchen    11102.63\n",
      "Sports             9977.77\n",
      "Books              5950.82\n",
      "Clothing           4556.80\n",
      "Name: TotalPrice, dtype: float64\n",
      "Region with highest sale:Region\n",
      "Oulu        13338.80\n",
      "Turku       10039.70\n",
      "Tampere      8870.69\n",
      "Helsinki     6799.06\n",
      "Espoo        5798.44\n",
      "Name: TotalPrice, dtype: float64\n",
      "Top 3 customers by total spending:\n",
      "CustomerID\n",
      "C002    8161.92\n",
      "C010    6328.70\n",
      "C001    6166.23\n",
      "Name: TotalPrice, dtype: float64\n"
     ]
    }
   ],
   "source": [
    "#Total sales per category\n",
    "print(f\"Total sale per categories:{df.groupby(\"Category\")[\"TotalPrice\"].sum().sort_values(ascending=False)}\")\n",
    "\n",
    "# Region with the highest sales\n",
    "print(f\"Region with highest sale:{df.groupby(\"Region\")[\"TotalPrice\"].sum().sort_values(ascending=False)}\")\n",
    "#Top 3 customers by total spending\n",
    "print(f\"Top 3 customers by total spending:\\n{df.groupby(\"CustomerID\")[\"TotalPrice\"].sum().sort_values(ascending=False)[:3]}\")\n",
    "\n",
    "# Monthly sales trend\n",
    "# There only 1 month so I can analyze sale trend\n",
    "\n"
   ]
  },
  {
   "cell_type": "code",
   "execution_count": 129,
   "id": "d7f867de-ea66-481d-a403-999626f86d1f",
   "metadata": {},
   "outputs": [
    {
     "data": {
      "text/plain": [
       "Text(0.5, 1.0, 'Total sale per categories')"
      ]
     },
     "execution_count": 129,
     "metadata": {},
     "output_type": "execute_result"
    },
    {
     "data": {
      "image/png": "[encoded data removed]",
      "text/plain": [
       "<Figure size 640x480 with 1 Axes>"
      ]
     },
     "metadata": {},
     "output_type": "display_data"
    }
   ],
   "source": [
    "# Plot sales per category\n",
    "\n",
    "df.groupby(\"Category\")[\"TotalPrice\"].sum().sort_values(ascending=False).plot.bar(color=[\"red\",\"blue\",\"green\",\"yellow\",\"purple\"])\n",
    "plt.xticks(rotation =45)\n",
    "plt.ylabel(\"Total Price($)\")\n",
    "plt.title(\"Total sale per categories\")"
   ]
  },
  {
   "cell_type": "code",
   "execution_count": null,
   "id": "a7c187bb-daf0-4d4f-ba11-6f311b4a7794",
   "metadata": {},
   "outputs": [],
   "source": []
  }
 ],
 "metadata": {
  "kernelspec": {
   "display_name": "Python [conda env:base] *",
   "language": "python",
   "name": "conda-base-py"
  },
  "language_info": {
   "codemirror_mode": {
    "name": "ipython",
    "version": 3
   },
   "file_extension": ".py",
   "mimetype": "text/x-python",
   "name": "python",
   "nbconvert_exporter": "python",
   "pygments_lexer": "ipython3",
   "version": "3.12.7"
  }
 },
 "nbformat": 4,
 "nbformat_minor": 5
}
