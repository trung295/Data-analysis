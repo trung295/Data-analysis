{
 "cells": [
  {
   "cell_type": "code",
   "execution_count": 2,
   "id": "04246c39-a4c9-4128-a89c-50e418c683cf",
   "metadata": {},
   "outputs": [
    {
     "name": "stdout",
     "output_type": "stream",
     "text": [
      "John Doe\n"
     ]
    }
   ],
   "source": [
    "class Person:\n",
    "  def __init__(self, fname, lname):\n",
    "    self.firstname = fname\n",
    "    self.lastname = lname\n",
    "\n",
    "  def printname(self):\n",
    "    print(self.firstname, self.lastname)\n",
    "\n",
    "#Use the Person class to create an object, and then execute the printname method:\n",
    "\n",
    "x = Person(\"John\", \"Doe\")\n",
    "x.printname()"
   ]
  },
  {
   "cell_type": "code",
   "execution_count": 14,
   "id": "6560d417-da71-4b2d-9c23-02e4546b78b9",
   "metadata": {},
   "outputs": [
    {
     "name": "stdout",
     "output_type": "stream",
     "text": [
      "5\n"
     ]
    }
   ],
   "source": [
    "class My_class:\n",
    "    x=5\n",
    "p1 = My_class()\n",
    "print(p1.x)"
   ]
  },
  {
   "cell_type": "code",
   "execution_count": 16,
   "id": "e07e4aee-0518-47cb-8356-525c803318f2",
   "metadata": {},
   "outputs": [
    {
     "name": "stdout",
     "output_type": "stream",
     "text": [
      "John\n",
      "36\n"
     ]
    }
   ],
   "source": [
    "class Person:\n",
    "  def __init__(self, name, age):\n",
    "    self.name = name\n",
    "    self.age = age\n",
    "\n",
    "p1 = Person(\"John\", 36)\n",
    "\n",
    "print(p1.name)\n",
    "print(p1.age)"
   ]
  },
  {
   "cell_type": "code",
   "execution_count": 26,
   "id": "da0eae90-e76d-4158-8459-b09004414804",
   "metadata": {},
   "outputs": [
    {
     "name": "stdout",
     "output_type": "stream",
     "text": [
      "150 80000\n"
     ]
    }
   ],
   "source": [
    "class Vehicle:\n",
    "    def __init__(self, max_speed, mileage):\n",
    "        self.max_speed = max_speed\n",
    "        self.mileage = mileage\n",
    "Toyota = Vehicle(150,80000)\n",
    "print(Toyota.max_speed,Toyota.mileage)"
   ]
  },
  {
   "cell_type": "code",
   "execution_count": 30,
   "id": "5de64328-35ad-4b89-b0cd-8f7aaf5848de",
   "metadata": {},
   "outputs": [
    {
     "name": "stdout",
     "output_type": "stream",
     "text": [
      "<class '__main__.Vehicle'>\n"
     ]
    }
   ],
   "source": [
    "class Vehicle:\n",
    "    pass\n",
    "print(Vehicle)"
   ]
  },
  {
   "cell_type": "code",
   "execution_count": 8,
   "id": "ff9fdaec-de40-4209-b737-e8733e00884e",
   "metadata": {},
   "outputs": [
    {
     "name": "stdout",
     "output_type": "stream",
     "text": [
      "Vehicle name: School Volvo Speed: 180 Mileage: 12\n"
     ]
    }
   ],
   "source": [
    "class Vehicle:\n",
    "    def __init__(self,name,max_speed,mileage):\n",
    "        self.name = name\n",
    "        self.max_speed = max_speed\n",
    "        self.mileage = mileage\n",
    "    \n",
    "class Bus(Vehicle):\n",
    "    pass\n",
    "School_bus = Bus(\"School Volvo\",180,12)\n",
    "print(\"Vehicle name:\", School_bus.name, \"Speed:\", School_bus.max_speed, \"Mileage:\", School_bus.mileage)\n"
   ]
  },
  {
   "cell_type": "code",
   "execution_count": null,
   "id": "eb17d373-b2f3-491c-8f7a-71d62d260faa",
   "metadata": {},
   "outputs": [],
   "source": [
    "\"\"\"Exercise 1: Create a Simple Class and Object\n",
    "Task:\n",
    "\n",
    "Create a class called Car with an attribute brand.\n",
    "Create an object of this class and assign a brand name to it.\n",
    "Print the brand of the car.\"\"\""
   ]
  },
  {
   "cell_type": "code",
   "execution_count": 14,
   "id": "df032aa5-cf9a-4ed3-bafd-f0889a9a5e1c",
   "metadata": {},
   "outputs": [
    {
     "name": "stdout",
     "output_type": "stream",
     "text": [
      "Toyota\n"
     ]
    }
   ],
   "source": [
    "class Car:\n",
    "    def __init__(self,brand):\n",
    "        self.brand=brand\n",
    "my_car = Car(\"Toyota\")\n",
    "print(my_car.brand)"
   ]
  },
  {
   "cell_type": "code",
   "execution_count": null,
   "id": "43eb979c-be55-47cb-b1db-a50c22dcaf94",
   "metadata": {},
   "outputs": [],
   "source": [
    "\"\"\"Exercise 2: Add a Method to a Class\n",
    "Task:\n",
    "\n",
    "Modify the Car class from Exercise 1.\n",
    "Add a method show_brand() that prints the car's brand.\n",
    "Call the method from an object.\"\"\""
   ]
  },
  {
   "cell_type": "code",
   "execution_count": 16,
   "id": "8e2acf76-c9fc-4753-85d0-4019073cff80",
   "metadata": {},
   "outputs": [
    {
     "name": "stdout",
     "output_type": "stream",
     "text": [
      "The car brand is Toyota\n"
     ]
    }
   ],
   "source": [
    "# Create a class\n",
    "class Car:\n",
    "    # create a constructor with a parameter brand\n",
    "    def __init__(self,brand):\n",
    "        self.brand=brand # class attribute is an instance varialbe\n",
    "    # create method\n",
    "    def show_brand(self):\n",
    "        print(\"The car brand is\", self.brand)\n",
    "my_car = Car(\"Toyota\")\n",
    "my_car.show_brand()\n",
    "    "
   ]
  },
  {
   "cell_type": "code",
   "execution_count": null,
   "id": "95b22c76-93a9-4787-af06-74ea367e95bd",
   "metadata": {},
   "outputs": [],
   "source": [
    "\"\"\"Exercise 3: Using the Constructor (__init__ method)\n",
    "Task:\n",
    "\n",
    "Create a class Person with attributes name and age.\n",
    "Use the __init__ method to assign values when creating an object.\n",
    "Print the values of name and age for a Person object.\"\"\""
   ]
  },
  {
   "cell_type": "code",
   "execution_count": 22,
   "id": "809c07d9-fbf0-4a52-80c7-4d0fe4508532",
   "metadata": {},
   "outputs": [
    {
     "name": "stdout",
     "output_type": "stream",
     "text": [
      "Name: Hoang\n",
      "Age: 40\n"
     ]
    }
   ],
   "source": [
    "class Person:\n",
    "    def __init__(self,name,age):\n",
    "        self.name=name\n",
    "        self.age=age\n",
    "me = Person(\"Hoang\",40)\n",
    "print(\"Name:\",me.name)\n",
    "print(\"Age:\",me.age)"
   ]
  },
  {
   "cell_type": "code",
   "execution_count": null,
   "id": "2bdbf73b-eba4-4609-ad0c-b9b7d9fb230e",
   "metadata": {},
   "outputs": [],
   "source": [
    "\"\"\"Exercise 4: Multiple Objects\n",
    "Task:\n",
    "\n",
    "Create a class Student with attributes name and grade.\n",
    "Create multiple student objects with different values.\n",
    "Print their details.\"\"\""
   ]
  },
  {
   "cell_type": "code",
   "execution_count": 32,
   "id": "915737a9-a4ab-48de-955e-4f529e12c5ef",
   "metadata": {},
   "outputs": [
    {
     "ename": "SyntaxError",
     "evalue": "unexpected character after line continuation character (3876048422.py, line 6)",
     "output_type": "error",
     "traceback": [
      "\u001b[1;36m  Cell \u001b[1;32mIn[32], line 6\u001b[1;36m\u001b[0m\n\u001b[1;33m    print(\"Student name:\",self.name,\\n,\"Student grade:\",self.grade)\u001b[0m\n\u001b[1;37m                                     ^\u001b[0m\n\u001b[1;31mSyntaxError\u001b[0m\u001b[1;31m:\u001b[0m unexpected character after line continuation character\n"
     ]
    }
   ],
   "source": [
    "class Studen:\n",
    "    def __init__(self,name,grade):\n",
    "        self.name=name\n",
    "        self.grade=grade\n",
    "    def show(self):\n",
    "        print(\"Student name:\",self.name,\"Student grade:\",self.grade)\n",
    "s1 =Studen(\"Alisa\",8)\n",
    "s2= Studen(\"Mike\",5)\n",
    "s1.show()\n",
    "s2.show()"
   ]
  },
  {
   "cell_type": "code",
   "execution_count": null,
   "id": "12300345-9255-4be7-be63-3ad66155e1b5",
   "metadata": {},
   "outputs": [],
   "source": [
    "\"\"\"Exercise 5: Class with Default Values\n",
    "Task:\n",
    "\n",
    "Create a class Animal with a class attribute species = \"Mammal\".\n",
    "Create an object and print the species.\"\"\""
   ]
  },
  {
   "cell_type": "code",
   "execution_count": 4,
   "id": "05799959-bba5-4eb0-af5e-2751bc613a40",
   "metadata": {},
   "outputs": [
    {
     "name": "stdout",
     "output_type": "stream",
     "text": [
      "Kiki\n"
     ]
    }
   ],
   "source": [
    "class Animal:\n",
    "    species = \"mamal\"\n",
    "    def __init__(self,name,age):\n",
    "        self.name = name\n",
    "        self.age = age\n",
    "a1 = Animal(\"Kiki\", 8)\n",
    "print(a1.name)\n"
   ]
  },
  {
   "cell_type": "code",
   "execution_count": 16,
   "id": "8c4b76fc-0457-47ac-8297-c0d2b433e912",
   "metadata": {},
   "outputs": [
    {
     "name": "stdout",
     "output_type": "stream",
     "text": [
      "Toyota\n"
     ]
    }
   ],
   "source": [
    "class Vehicle:\n",
    "    car = \"Toyota\"\n",
    "my_car = Vehicle\n",
    "print(my_car.car)"
   ]
  },
  {
   "cell_type": "code",
   "execution_count": 10,
   "id": "291ed7d5-e1db-4631-acdf-87d4c53b0c6b",
   "metadata": {},
   "outputs": [
    {
     "name": "stdout",
     "output_type": "stream",
     "text": [
      "Name: Hoang Sex: male Profession: engineer\n",
      "Hoang working as a engineer\n"
     ]
    }
   ],
   "source": [
    "class Person:\n",
    "    def __init__(self, name, sex, profession):\n",
    "        # data members (instance variables)\n",
    "        self.name = name\n",
    "        self.sex = sex\n",
    "        self.profession = profession\n",
    "\n",
    "    # Behavior (instance methods)\n",
    "    def show(self):\n",
    "        print('Name:', self.name, 'Sex:', self.sex, 'Profession:', self.profession)\n",
    "\n",
    "    # Behavior (instance methods)\n",
    "    def work(self):\n",
    "        print(self.name, 'working as a', self.profession)\n",
    "s1 = Person(\"Hoang\",\"male\",\"engineer\")\n",
    "s1.show()\n",
    "s1.work()\n"
   ]
  },
  {
   "cell_type": "code",
   "execution_count": null,
   "id": "0f204667-cef3-47b7-84c9-a3c22ef788f3",
   "metadata": {},
   "outputs": [],
   "source": [
    "\"\"\"Exercise 6: Modify Object Attributes\n",
    "Task:\n",
    "\n",
    "Create a Laptop class with an attribute price.\n",
    "Change the price of an object after creation and print it.\"\"\""
   ]
  },
  {
   "cell_type": "code",
   "execution_count": 22,
   "id": "a8f87847-821f-4a53-8529-1ba2dc7ce209",
   "metadata": {},
   "outputs": [
    {
     "name": "stdout",
     "output_type": "stream",
     "text": [
      "650\n",
      "700\n"
     ]
    }
   ],
   "source": [
    "class Laptop:\n",
    "    def __init__(self,brand,price):\n",
    "        self.brand = brand\n",
    "        self.price = price\n",
    "    def change_price(self,new_price):\n",
    "        self.price = new_price    \n",
    "s1 = Laptop(\"Dell\",650)\n",
    "print(s1.price)\n",
    "s1.change_price(700)\n",
    "print(s1.price)"
   ]
  },
  {
   "cell_type": "code",
   "execution_count": null,
   "id": "efa49c42-18c2-452b-b48a-4eab50510768",
   "metadata": {},
   "outputs": [],
   "source": [
    "\"\"\"Exercise 7: Create a Method that Returns a Value\n",
    "Task:\n",
    "\n",
    "Create a class Rectangle with attributes length and width.\n",
    "Add a method area() that returns the area of the rectangle.\n",
    "Create a rectangle object and print its area.\"\"\""
   ]
  },
  {
   "cell_type": "code",
   "execution_count": 34,
   "id": "8f032718-ee37-4c25-a08d-b2d48f46f2b3",
   "metadata": {},
   "outputs": [
    {
     "name": "stdout",
     "output_type": "stream",
     "text": [
      "Area of rectangle: 600\n"
     ]
    }
   ],
   "source": [
    "class Rectangle:\n",
    "    # constructor\n",
    "    def __init__(self,length,width):\n",
    "        self.length = length\n",
    "        self.width = width\n",
    "    # instance method\n",
    "    def area(self):\n",
    "        return self.length*self.width\n",
    "s1 = Rectangle(20,30)\n",
    "print(\"Area of rectangle:\",s1.area())\n",
    "    \n",
    "    "
   ]
  },
  {
   "cell_type": "code",
   "execution_count": 36,
   "id": "8b4cfaa7-9ac1-4115-a708-b508c3f6307d",
   "metadata": {},
   "outputs": [
    {
     "name": "stdout",
     "output_type": "stream",
     "text": [
      "Vehicle Name:  School Volvo Speed:  180 Mileage:  12\n"
     ]
    }
   ],
   "source": [
    "class Vehicle:\n",
    "\n",
    "    def __init__(self, name, max_speed, mileage):\n",
    "        self.name = name\n",
    "        self.max_speed = max_speed\n",
    "        self.mileage = mileage\n",
    "bus = Vehicle(\"School Volvo\",180,12)\n",
    "print(\"Vehicle Name: \",bus.name,\"Speed: \",bus.max_speed,\"Mileage: \",bus.mileage)"
   ]
  },
  {
   "cell_type": "code",
   "execution_count": null,
   "id": "094fb075-a338-456f-a16e-66fe04904345",
   "metadata": {},
   "outputs": [],
   "source": [
    "\"\"\"Exercise 4: Modify an Attribute Using a Method\n",
    "Create a Car class with attributes brand and price.\n",
    "Add a method change_price(new_price) to update the price.\n",
    "Test it by changing the price of a car object.\n",
    ".\"\"\""
   ]
  },
  {
   "cell_type": "code",
   "execution_count": 38,
   "id": "ba8989ae-aeda-4208-936c-eb05fee51c25",
   "metadata": {},
   "outputs": [
    {
     "name": "stdout",
     "output_type": "stream",
     "text": [
      "price: 120000\n",
      "After sale: 80000\n"
     ]
    }
   ],
   "source": [
    "class Car:\n",
    "    # constructor\n",
    "    def __init__(self,brand,price):\n",
    "        self.brand = brand\n",
    "        self.price = price\n",
    "    # method\n",
    "    def change_price(self, new_price):\n",
    "        self.price = new_price\n",
    "s1 = Car(\"Audi\",120000)\n",
    "print(\"price:\",s1.price)\n",
    "#change price\n",
    "s1.change_price(80000)\n",
    "print(\"After sale:\",s1.price)"
   ]
  },
  {
   "cell_type": "code",
   "execution_count": null,
   "id": "11a66c2b-df92-470f-b6ad-e2491e9827d5",
   "metadata": {},
   "outputs": [],
   "source": [
    "\"\"\"Exercise 7: Class with a Constructor Default Value\n",
    "Create a Book class with attributes title and author.\n",
    "Set the default author to \"Unknown\" if not provided.\n",
    "Create multiple objects and print their details.\"\"\""
   ]
  },
  {
   "cell_type": "code",
   "execution_count": 42,
   "id": "2b765169-cf20-49e3-8787-b2701988738b",
   "metadata": {},
   "outputs": [
    {
     "name": "stdout",
     "output_type": "stream",
     "text": [
      "Kevin\n"
     ]
    }
   ],
   "source": [
    "class Book:\n",
    "    def __init__(self,title,author=\"Unknow\"):\n",
    "        self.title=title\n",
    "        self.author=author\n",
    "s1=Book(\"Harry\",\"Kevin\")\n",
    "print(s1.author)"
   ]
  },
  {
   "cell_type": "code",
   "execution_count": null,
   "id": "daa3e164-114b-4d40-9ec9-3c7b6c3cabc6",
   "metadata": {},
   "outputs": [],
   "source": [
    "\"\"\"Exercise 8: Employee Salary Update\n",
    "Create a class Employee with attributes name and salary.\n",
    "Add a method give_raise(amount) that increases the salary.\n",
    "Create an employee object, update the salary, and print the details.\"\"\""
   ]
  },
  {
   "cell_type": "code",
   "execution_count": 44,
   "id": "870ea72f-4e6d-48d4-9860-63904d944cdc",
   "metadata": {},
   "outputs": [
    {
     "name": "stdout",
     "output_type": "stream",
     "text": [
      "2000\n",
      "2200\n"
     ]
    }
   ],
   "source": [
    "class Employee:\n",
    "    #constructor\n",
    "    def __init__(self,name,salary):\n",
    "        self.name=name\n",
    "        self.salary=salary\n",
    "    #method\n",
    "    def give_raise(self,amount):\n",
    "        self.salary=amount\n",
    "worker =Employee(\"Kevin\",2000)\n",
    "print(worker.salary)\n",
    "worker.give_raise(2200)\n",
    "print(worker.salary)"
   ]
  },
  {
   "cell_type": "code",
   "execution_count": null,
   "id": "33e5257b-52bf-4c57-993f-26e2c6c0a0ca",
   "metadata": {},
   "outputs": [],
   "source": [
    "\"\"\"Exercise 9: Bank Account Class\n",
    "Create a BankAccount class with attributes account_holder and balance.\n",
    "Add a method deposit(amount) to increase balance.\n",
    "Add a method withdraw(amount) to reduce balance (if enough funds).\"\"\"\n"
   ]
  },
  {
   "cell_type": "code",
   "execution_count": 92,
   "id": "bf6116a1-bce7-434e-934c-b3d35d3cb489",
   "metadata": {},
   "outputs": [
    {
     "name": "stdout",
     "output_type": "stream",
     "text": [
      "Initial banlance: 10000\n",
      "New balance: 10700\n",
      "Insuffient money Available Balance: 10700\n"
     ]
    }
   ],
   "source": [
    "class BankAccount:\n",
    "    def __init__(self,account_holder,balance):\n",
    "        self.account_holder=account_holder\n",
    "        self.balance=balance\n",
    "    def show(self):\n",
    "        print(\"Initial banlance:\",self.balance)\n",
    "    \n",
    "    def deposit(self,amount):\n",
    "        self.balance=self.balance+amount\n",
    "        print(\"New balance:\",self.balance)\n",
    "        \n",
    "    def withdraw(self,amount):\n",
    "        if self.balance >= amount:\n",
    "            self.balance = self.balance-amount\n",
    "            print(\"New balance:\", self.balance)\n",
    "        else:\n",
    "            print(\"Insuffient money\",\"Available Balance:\",self.balance)\n",
    "s1 =BankAccount(\"Hoang\",10000)\n",
    "s1.show()\n",
    "s1.deposit(700)\n",
    "s1.withdraw(11000)\n",
    "\n"
   ]
  },
  {
   "cell_type": "code",
   "execution_count": null,
   "id": "80633707-c70a-4cb3-b0c0-cfaf703fddc3",
   "metadata": {},
   "outputs": [],
   "source": [
    "\"\"\"Exercise 10: Library System\n",
    "Create a Library class that has a list of books.\n",
    "Add methods add_book(book_name) and show_books().\n",
    "Create a library object, add books, and display them.\"\"\""
   ]
  },
  {
   "cell_type": "code",
   "execution_count": 189,
   "id": "405fe663-119e-431b-82c3-f68debd0a7e3",
   "metadata": {},
   "outputs": [
    {
     "name": "stdout",
     "output_type": "stream",
     "text": [
      "Adding book: c\n",
      "1: a\n",
      "2: b\n",
      "3: c\n"
     ]
    }
   ],
   "source": [
    "class Library:\n",
    "    def __init__(self,*books):\n",
    "        self.books = list(books)\n",
    "    def add_book(self,new_book):\n",
    "        self.books.append(new_book)\n",
    "        print(\"Adding book:\", new_book)\n",
    "    def show_books(self):\n",
    "        if len(self.books)==0:\n",
    "            print(\"No book in library\")\n",
    "        else:\n",
    "            for i, book in enumerate(self.books,1):\n",
    "                print(f\"{i}: {book}\")\n",
    "s1 = Library(\"a\",\"b\")\n",
    "s1.add_book(\"c\")\n",
    "s1.show_books()\n",
    "  "
   ]
  },
  {
   "cell_type": "code",
   "execution_count": 193,
   "id": "39d274b6-f786-4032-87ed-7708d08450c1",
   "metadata": {},
   "outputs": [
    {
     "name": "stdout",
     "output_type": "stream",
     "text": [
      "Index 1: Geeks\n",
      "Index 2: for\n",
      "Index 3: Geeks\n"
     ]
    }
   ],
   "source": [
    "a = [\"Geeks\", \"for\", \"Geeks\"]\n",
    "\n",
    "# Iterating list using enumerate to get both index and element\n",
    "for i, name in enumerate(a,1):\n",
    "    print(f\"Index {i}: {name}\")\n"
   ]
  },
  {
   "cell_type": "code",
   "execution_count": null,
   "id": "b5235635-7b03-4b01-b14c-9838a835ef73",
   "metadata": {},
   "outputs": [],
   "source": [
    "\"\"\"Exercise 1: Animal and Dog Classes\n",
    "Create a class Animal with an attribute name and a method speak() that prints \"I am an animal!\".\n",
    "Create a class Dog that inherits from Animal and overrides the speak() method to print \"Woof!\".\"\"\"\n"
   ]
  },
  {
   "cell_type": "code",
   "execution_count": 195,
   "id": "6e84d2a3-b9fb-47ad-b38e-29b39dbe840d",
   "metadata": {},
   "outputs": [
    {
     "name": "stdout",
     "output_type": "stream",
     "text": [
      "Woof!\n"
     ]
    }
   ],
   "source": [
    "class Animal:\n",
    "    def __init__(self,name):\n",
    "        self.name=name\n",
    "    def speak(self):\n",
    "        print(\"I am an animal!\")\n",
    "\n",
    "class Dog(Animal):\n",
    "    def speak(self):\n",
    "        print(\"Woof!\")\n",
    "s1=Dog(\"kiki\")\n",
    "s1.speak()\n",
    "    "
   ]
  },
  {
   "cell_type": "code",
   "execution_count": null,
   "id": "74869137-5802-4023-a39e-80d387ad8758",
   "metadata": {},
   "outputs": [],
   "source": [
    "\"\"\"Exercise 2: Shape and Rectangle Classes\n",
    "Create a class Shape with a method area() that returns 0.\n",
    "Create a class Rectangle that inherits from Shape and overrides the area() method to calculate and return the area of a rectangle (area = length * width).\n",
    "Create an object of Rectangle and print its area.\"\"\""
   ]
  },
  {
   "cell_type": "code",
   "execution_count": 199,
   "id": "cd4b2924-9aff-4523-bcb3-9bac37249d83",
   "metadata": {},
   "outputs": [
    {
     "name": "stdout",
     "output_type": "stream",
     "text": [
      "600\n"
     ]
    }
   ],
   "source": [
    "class Shape:\n",
    "    def area(self):\n",
    "        return 0\n",
    "class Rectangle(Shape):\n",
    "    def __init__(self,length,width):\n",
    "        self.length=length\n",
    "        self.width=width\n",
    "    def area(self):\n",
    "        return self.length*self.width\n",
    "s1=Rectangle(20,30)\n",
    "print(s1.area())"
   ]
  },
  {
   "cell_type": "code",
   "execution_count": null,
   "id": "97cd3e57-43fd-4119-8742-4c83b3c6d0a5",
   "metadata": {},
   "outputs": [],
   "source": [
    "\"\"\"Exercise 3: Vehicle and Car Classes\n",
    "Create a class Vehicle with an attribute speed and a method drive() that prints \"The vehicle is moving!\".\n",
    "Create a class Car that inherits from Vehicle and adds an attribute brand and a method honk() that prints \"Beep beep!\".\n",
    "Create an object of Car, set the speed, and call both drive() and honk() methods.\"\"\""
   ]
  },
  {
   "cell_type": "code",
   "execution_count": 229,
   "id": "97eade08-80ce-4f92-a4e3-cd206a1ffc37",
   "metadata": {},
   "outputs": [
    {
     "name": "stdout",
     "output_type": "stream",
     "text": [
      "200\n",
      "The vehicle is moving!\n",
      "Beep beep!\n"
     ]
    }
   ],
   "source": [
    "class Vehicle:\n",
    "    def __init__(self,speed):\n",
    "        self.speed=speed\n",
    "    def drive(self):\n",
    "        print(\"The vehicle is moving!\")\n",
    "class Car(Vehicle):\n",
    "    def __init__(self,speed,brand=\"Audi\"):\n",
    "        super().__init__(speed)\n",
    "        self.brand=brand\n",
    "    def honk(self):\n",
    "        print(\"Beep beep!\")\n",
    "car = Car(200)\n",
    "print(car.speed)\n",
    "car.drive()\n",
    "car.honk()    "
   ]
  },
  {
   "cell_type": "code",
   "execution_count": 227,
   "id": "875ec180-cfed-4396-9ba2-6d3576ab4550",
   "metadata": {},
   "outputs": [
    {
     "name": "stdout",
     "output_type": "stream",
     "text": [
      "Welcome Mike Olsen to the class of 2024\n"
     ]
    }
   ],
   "source": [
    "\"\"\"Exercise 4: Employee and Manager Classes\n",
    "Create a class Employee with attributes name and salary.\n",
    "Create a method get_salary() in the Employee class that returns the salary.\n",
    "Create a class Manager that inherits from Employee and adds an additional attribute bonus.\n",
    "Override the get_salary() method in the Manager class to return the salary plus the bonus.\n",
    "Create an object of Manager and print the salary with the bonus.\"\"\""
   ]
  },
  {
   "cell_type": "code",
   "execution_count": 245,
   "id": "fd37100a-4743-46f3-b47f-c90e1ba08c94",
   "metadata": {},
   "outputs": [
    {
     "name": "stdout",
     "output_type": "stream",
     "text": [
      "new salary: 2300\n",
      "None\n"
     ]
    }
   ],
   "source": [
    "class Employee:\n",
    "    def __init__(self,name,salary):\n",
    "        self.name=name\n",
    "        self.salary=salary\n",
    "    def get_salary(self):\n",
    "        return self.salary\n",
    "class Manager(Employee):\n",
    "    def __init__(self,name,salary,bonus):\n",
    "        super().__init__(name,salary)\n",
    "        self.bonus=bonus\n",
    "    def get_salary(self):\n",
    "        self.salary+=self.bonus\n",
    "        print(\"new salary:\", self.salary)\n",
    "a =Manager(\"Hoang\",2000,300)\n",
    "print(a.get_salary())\n",
    "    "
   ]
  },
  {
   "cell_type": "code",
   "execution_count": null,
   "id": "e932237a-6471-441c-9ee7-43d40feb0147",
   "metadata": {},
   "outputs": [],
   "source": [
    "\"\"\"Exercise 5: Person and Student Classes\n",
    "Create a class Person with attributes name and age.\n",
    "Create a method introduce() in Person that prints \"Hi, my name is <name> and I am <age> years old.\".\n",
    "Create a class Student that inherits from Person and adds an additional attribute grade.\n",
    "Override the introduce() method in Student to include the student's grade.\"\"\""
   ]
  },
  {
   "cell_type": "code",
   "execution_count": 253,
   "id": "d88182ff-4b72-44ea-ae0d-66e02825f443",
   "metadata": {},
   "outputs": [
    {
     "name": "stdout",
     "output_type": "stream",
     "text": [
      "Hi, my name is Hoang and I am 21 years old. My grade is 8\n"
     ]
    }
   ],
   "source": [
    "class Person:\n",
    "    def __init__(self,name,age):\n",
    "        self.name=name\n",
    "        self.age=age\n",
    "    def introduce(self):\n",
    "        print(f\"Hi, my name is {name} and I am {age} years old.\")\n",
    "\n",
    "class Student(Person):\n",
    "    def __init__(self,name,age,grade):\n",
    "        super().__init__(name,age)\n",
    "        self.grade=grade\n",
    "    def introduce(self):\n",
    "        print(f\"Hi, my name is {self.name} and I am {self.age} years old. My grade is {self.grade}\")\n",
    "a1 = Student(\"Hoang\",21,8)\n",
    "a1.introduce()"
   ]
  },
  {
   "cell_type": "code",
   "execution_count": null,
   "id": "37c8dedc-545d-4876-8f3e-13b7d534676b",
   "metadata": {},
   "outputs": [],
   "source": [
    "\"\"\"Exercise 6: BankAccount and SavingsAccount Classes\n",
    "Create a class BankAccount with attributes account_holder and balance.\n",
    "Add a method deposit() to increase the balance.\n",
    "Create a class SavingsAccount that inherits from BankAccount and adds an additional attribute interest_rate.\n",
    "Create a method calculate_interest() in SavingsAccount to calculate the interest based on the balance and interest rate.\n",
    "Create an object of SavingsAccount and calculate the interest.\"\"\""
   ]
  },
  {
   "cell_type": "code",
   "execution_count": 5,
   "id": "8ada35cb-b192-4a9c-8145-7b898ee1b1f0",
   "metadata": {},
   "outputs": [
    {
     "name": "stdout",
     "output_type": "stream",
     "text": [
      "45.0\n"
     ]
    }
   ],
   "source": [
    "class BankAccount:\n",
    "    def __init__(self,account_holder,balance):\n",
    "        self.account_holder=account_holder\n",
    "        self.balance=balance\n",
    "    def deposit(self,add):\n",
    "        self.balance +=add\n",
    "class SavingsAccount(BankAccount):\n",
    "    def __init__(self,account_holder,balance,interest_rate):\n",
    "        super().__init__(account_holder,balance)\n",
    "        self.interest_rate=interest_rate\n",
    "    def calculate_interest(self):\n",
    "        return self.balance *self.interest_rate/100\n",
    "\n",
    "a1 = SavingsAccount(\"Hoang\",3000,1.5)\n",
    "print(a1.calculate_interest())\n",
    "        "
   ]
  },
  {
   "cell_type": "code",
   "execution_count": null,
   "id": "92ec7f06-ea90-42ab-a535-bc6de4fc2543",
   "metadata": {},
   "outputs": [],
   "source": [
    "\"\"\"Exercise 7: Animal and Cat Classes\n",
    "Create a class Animal with a method make_sound() that prints \"Animal sound\".\n",
    "Create a class Cat that inherits from Animal and overrides the make_sound() method to print \"Meow\".\n",
    "Create an object of Cat and call the make_sound() method.\"\"\""
   ]
  },
  {
   "cell_type": "code",
   "execution_count": 7,
   "id": "aa96d256-6f4c-4a2d-9ea3-3550951becd9",
   "metadata": {},
   "outputs": [
    {
     "name": "stdout",
     "output_type": "stream",
     "text": [
      "Meow\n"
     ]
    }
   ],
   "source": [
    "class Animal:\n",
    "    def make_sound(self):\n",
    "        print(\"Animal sound\")\n",
    "class Cat(Animal):\n",
    "    def make_sound(self):\n",
    "        print(\"Meow\")\n",
    "a = Cat()\n",
    "a.make_sound()"
   ]
  },
  {
   "cell_type": "code",
   "execution_count": null,
   "id": "bac92f8b-ed62-4151-98cc-82f033bc5414",
   "metadata": {},
   "outputs": [],
   "source": [
    "\"\"\"Exercise 8: BankAccount and CheckingAccount Classes\n",
    "Create a class BankAccount with attributes account_number and balance.\n",
    "Add a method withdraw() to withdraw money.\n",
    "Create a class CheckingAccount that inherits from BankAccount and adds an additional attribute overdraft_limit.\n",
    "Override the withdraw() method in CheckingAccount to allow withdrawal even if the balance goes below 0, as long as it doesn’t \n",
    "exceed the overdraft_limit.\"\"\""
   ]
  },
  {
   "cell_type": "code",
   "execution_count": 19,
   "id": "e1b923aa-76d5-4251-959c-8ac44b0cc726",
   "metadata": {},
   "outputs": [
    {
     "name": "stdout",
     "output_type": "stream",
     "text": [
      "not allow\n",
      "None\n"
     ]
    }
   ],
   "source": [
    "class BankAccount:\n",
    "    def __init__(self,account_number,balance):\n",
    "        self.account_number = account_number\n",
    "        self.balance = balance\n",
    "    def withdraw(self,subs):\n",
    "        if subs>self.balance:\n",
    "            print(\"Not sufficient money in your account\")\n",
    "        else:\n",
    "            self.balance-=subs\n",
    "class CheckingAccount(BankAccount):\n",
    "    def __init__(self,account_number,balance,overdraft_limit):\n",
    "        super().__init__(account_number,balance)\n",
    "        self.overdraft_limit=overdraft_limit\n",
    "    def withdraw(self,subs):\n",
    "        if subs>self.overdraft_limit:\n",
    "            print(\"not allow\")\n",
    "        else:\n",
    "            return self.balance-subs\n",
    "a = CheckingAccount(1,3000,4000)\n",
    "print(a.withdraw(4100))\n",
    "\n",
    "        "
   ]
  },
  {
   "cell_type": "code",
   "execution_count": 29,
   "id": "ab17ddb2-6576-4860-b8e0-8966e7b77dd0",
   "metadata": {},
   "outputs": [
    {
     "name": "stdout",
     "output_type": "stream",
     "text": [
      "Withdrawal successful! New balance: -1100\n",
      "Withdrawal denied! Exceeds overdraft limit.\n"
     ]
    }
   ],
   "source": [
    "class BankAccount:\n",
    "    def __init__(self, account_number, balance):\n",
    "        self.account_number = account_number\n",
    "        self.balance = balance\n",
    "\n",
    "    def withdraw(self, amount):\n",
    "        if amount > self.balance:\n",
    "            print(\"Not sufficient funds in your account.\")\n",
    "        else:\n",
    "            self.balance -= amount  # Update balance\n",
    "            print(f\"Withdrawal successful! New balance: {self.balance}\")\n",
    "\n",
    "class CheckingAccount(BankAccount):\n",
    "    def __init__(self, account_number, balance, overdraft_limit):\n",
    "        super().__init__(account_number, balance)\n",
    "        self.overdraft_limit = overdraft_limit\n",
    "\n",
    "    def withdraw(self, amount):\n",
    "        # Allow overdraft up to overdraft_limit\n",
    "        if amount > self.balance + self.overdraft_limit:\n",
    "            print(\"Withdrawal denied! Exceeds overdraft limit.\")\n",
    "        else:\n",
    "            self.balance -= amount  # Update balance (can go negative)\n",
    "            print(f\"Withdrawal successful! New balance: {self.balance}\")\n",
    "\n",
    "# Create a CheckingAccount object\n",
    "a = CheckingAccount(1, 3000, 4000)\n",
    "\n",
    "# Test withdrawals\n",
    "a.withdraw(4100)  # Allowed (balance + overdraft limit = 7000)\n",
    "a.withdraw(4100)  # Denied (exceeds overdraft limit)\n"
   ]
  },
  {
   "cell_type": "code",
   "execution_count": 31,
   "id": "11249b24-e6a9-4033-8e7d-833acdf88897",
   "metadata": {},
   "outputs": [
    {
     "data": {
      "text/plain": [
       "'The seating capacity of a bus is 50 passengers'"
      ]
     },
     "execution_count": 31,
     "metadata": {},
     "output_type": "execute_result"
    }
   ],
   "source": [
    "class Vehicle:\n",
    "    def __init__(self, name, max_speed, mileage):\n",
    "        self.name = name\n",
    "        self.max_speed = max_speed\n",
    "        self.mileage = mileage\n",
    "\n",
    "    def seating_capacity(self, capacity):\n",
    "        return f\"The seating capacity of a {self.name} is {capacity} passengers\"\n",
    "class Bus(Vehicle):\n",
    "    def seating_capacity(self, capacity=50):\n",
    "        return f\"The seating capacity of a {self.name} is {capacity} passengers\"\n",
    "a = Bus(\"bus\",80,112)\n",
    "a.seating_capacity()"
   ]
  },
  {
   "cell_type": "code",
   "execution_count": 47,
   "id": "278db188-3d7d-4c72-b95c-8fc0eddef3d4",
   "metadata": {},
   "outputs": [
    {
     "name": "stdout",
     "output_type": "stream",
     "text": [
      "Color: white Vehicle name: School Volvo Speed: 180 Mileage: 12\n"
     ]
    }
   ],
   "source": [
    "class Vehicle:\n",
    "    color = \"white\"\n",
    "    def __init__(self, name, max_speed, mileage):\n",
    "        self.name = name\n",
    "        self.max_speed = max_speed\n",
    "        self.mileage = mileage\n",
    "    def show(self):\n",
    "        print(\"Color:\", self.color, \"Vehicle name:\", self.name, \"Speed:\", self.max_speed, \"Mileage:\", self.mileage)\n",
    "class Bus(Vehicle):\n",
    "    pass\n",
    "\n",
    "class Car(Vehicle):\n",
    "    pass\n",
    "\n",
    "a = Bus(\"School Volvo\",180,12)\n",
    "a.show()"
   ]
  },
  {
   "cell_type": "code",
   "execution_count": null,
   "id": "e9aa120c-3371-4efc-89ac-811afafe2e3b",
   "metadata": {},
   "outputs": [],
   "source": [
    "\"\"\"Create a Bus child class that inherits from the Vehicle class. The default fare charge of any vehicle is seating capacity * 100.\n",
    "If Vehicle is Bus instance, we need to add an extra 10% on full fare as a maintenance charge. So total fare for bus instance will become the \n",
    "final amount = total fare + 10% of the total fare.\n",
    "\n",
    "Note: The bus seating capacity is 50. so the final fare amount should be 5500. You need to override the fare() method of a Vehicle class in Bus class.\n",
    "\n",
    "Use the following code for your parent Vehicle class. We need to access the parent class from inside a method of a child class.\"\"\"\n"
   ]
  },
  {
   "cell_type": "code",
   "execution_count": 49,
   "id": "58368fa0-b9a2-40d0-9f2c-ca08b23b411d",
   "metadata": {},
   "outputs": [
    {
     "name": "stdout",
     "output_type": "stream",
     "text": [
      "Total Bus fare is: 5500\n"
     ]
    }
   ],
   "source": [
    "class Vehicle:\n",
    "    def __init__(self, name, mileage, capacity):\n",
    "        self.name = name\n",
    "        self.mileage = mileage\n",
    "        self.capacity = capacity\n",
    "\n",
    "    def fare(self):\n",
    "        return self.capacity * 100\n",
    "\n",
    "class Bus(Vehicle):\n",
    "    def fare(self):\n",
    "        return self.capacity*100+self.capacity*10\n",
    "School_bus = Bus(\"School Volvo\", 12, 50)\n",
    "print(\"Total Bus fare is:\", School_bus.fare())"
   ]
  },
  {
   "cell_type": "code",
   "execution_count": 15,
   "id": "fb337c1f-b014-4389-bff6-7d2046b48cc8",
   "metadata": {},
   "outputs": [
    {
     "name": "stdout",
     "output_type": "stream",
     "text": [
      "Toyota has a speed 120\n"
     ]
    }
   ],
   "source": [
    "class Car:\n",
    "    max_speed = 120\n",
    "    def __init__(self,make,model,color,speed=0):\n",
    "        self.make =make\n",
    "        self.model=model\n",
    "        self.color=color\n",
    "        self.speed =speed\n",
    "    def accelerate(self, acceleration):\n",
    "        if acceleration < self.max_speed:\n",
    "            self.speed +=acceleration\n",
    "        else:\n",
    "            self.speed = self.max_speed\n",
    "    def get_speed(self):\n",
    "        return self.speed\n",
    "car1=Car(\"Toyota\",\"Camry\",\"Blue\")\n",
    "car2=Car(\"Honda\",\"Civic\",\"Red\")\n",
    "car1.accelerate(140)\n",
    "print (f\"{car1.make} has a speed {car1.get_speed()}\")"
   ]
  },
  {
   "cell_type": "code",
   "execution_count": 35,
   "id": "c22c3ed7-6da5-4fbc-b396-cd8661b02be9",
   "metadata": {},
   "outputs": [
    {
     "data": {
      "text/plain": [
       "13"
      ]
     },
     "execution_count": 35,
     "metadata": {},
     "output_type": "execute_result"
    }
   ],
   "source": [
    "import matplotlib.pyplot as plt\n",
    "%matplotlib inline\n",
    "\n",
    "class Circle:\n",
    "    def __init__(self,radius=3,color=\"red\"):\n",
    "        self.radius = radius\n",
    "        self.color=color\n",
    "    def add_radius(self,r):\n",
    "        self.radius+=r\n",
    "        return self.radius\n",
    "    def drawCircle(self):\n",
    "        plt.gca().add_patch(plt.Circle((0, 0), radius=self.radius, fc=self.color))\n",
    "        plt.axis('scaled')\n",
    "        plt.show() \n",
    "blueCircle=Circle(10,\"blue\")\n",
    "dir(blueCircle)\n",
    "blueCircle.radius=1\n",
    "blueCircle.color\n",
    "blueCircle.add_radius(5)\n",
    "blueCircle.add_radius(7)"
   ]
  },
  {
   "cell_type": "code",
   "execution_count": null,
   "id": "be0d05c5-c655-45b1-8240-c9860ae18cdb",
   "metadata": {},
   "outputs": [],
   "source": [
    "\"\"\" Write a Python program to create a class representing a Circle. Include methods to calculate its area and perimeter.\"\"\""
   ]
  },
  {
   "cell_type": "code",
   "execution_count": 41,
   "id": "d09a7e12-bbfc-4716-a4fd-e4f959b8057f",
   "metadata": {},
   "outputs": [
    {
     "data": {
      "text/plain": [
       "31.400000000000002"
      ]
     },
     "execution_count": 41,
     "metadata": {},
     "output_type": "execute_result"
    }
   ],
   "source": [
    "class Circle:\n",
    "    pi=3.14\n",
    "    def __init__(self,radius):\n",
    "        self.radius=radius\n",
    "    def area(self):\n",
    "        return self.radius*self.pi\n",
    "        \n",
    "    def perimeter(self):\n",
    "        return 2*self.radius*self.pi\n",
    "        \n",
    "s1 = Circle(5)\n",
    "s1.area()\n",
    "s1.perimeter()\n",
    "        "
   ]
  },
  {
   "cell_type": "code",
   "execution_count": null,
   "id": "e2d79953-7d87-4f11-abb5-a05b13fd0f99",
   "metadata": {},
   "outputs": [],
   "source": []
  }
 ],
 "metadata": {
  "kernelspec": {
   "display_name": "Python [conda env:base] *",
   "language": "python",
   "name": "conda-base-py"
  },
  "language_info": {
   "codemirror_mode": {
    "name": "ipython",
    "version": 3
   },
   "file_extension": ".py",
   "mimetype": "text/x-python",
   "name": "python",
   "nbconvert_exporter": "python",
   "pygments_lexer": "ipython3",
   "version": "3.12.7"
  }
 },
 "nbformat": 4,
 "nbformat_minor": 5
}
