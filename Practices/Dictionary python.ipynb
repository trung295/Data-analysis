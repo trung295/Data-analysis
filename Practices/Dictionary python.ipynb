{
 "cells": [
  {
   "cell_type": "code",
   "execution_count": null,
   "id": "8f8e3235-23a1-484d-9b4d-1f2e2dc27427",
   "metadata": {},
   "outputs": [],
   "source": [
    "\"\"\"Below are the two lists. Write a Python program to convert them into a dictionary in a way that item from list1 is the key \n",
    "and item from list2 is the value\"\"\""
   ]
  },
  {
   "cell_type": "code",
   "execution_count": 6,
   "id": "d9e14756-f9d2-411c-8ce1-4bb4d3eee3e9",
   "metadata": {},
   "outputs": [
    {
     "name": "stdout",
     "output_type": "stream",
     "text": [
      "{'Ten': 10, 'Twenty': 20, 'Thirty': 30}\n"
     ]
    }
   ],
   "source": [
    "keys = ['Ten', 'Twenty', 'Thirty']\n",
    "values = [10, 20, 30]\n",
    "new_dict = dict(zip(keys,values))\n",
    "\n",
    "print(new_dict)"
   ]
  },
  {
   "cell_type": "code",
   "execution_count": 10,
   "id": "59c7f8d6-80f2-4b01-aa64-66b230b01339",
   "metadata": {},
   "outputs": [
    {
     "name": "stdout",
     "output_type": "stream",
     "text": [
      "{'Ten': 10, 'Twenty': 20, 'Thirty': 30}\n"
     ]
    }
   ],
   "source": [
    "keys = ['Ten', 'Twenty', 'Thirty']\n",
    "values = [10, 20, 30]\n",
    "new_dict = dict()\n",
    "for i in range(len(keys)):\n",
    "    new_dict.update({keys[i]:values[i]})\n",
    "print(new_dict)"
   ]
  },
  {
   "cell_type": "code",
   "execution_count": null,
   "id": "fcc9074b-98dc-4564-ab89-a746394438a9",
   "metadata": {},
   "outputs": [],
   "source": [
    "\"\"\" Ex2: Merge two Python dictionaries into one\"\"\""
   ]
  },
  {
   "cell_type": "code",
   "execution_count": 12,
   "id": "edb08f5f-aec8-41ea-9f18-d68add2e3b3f",
   "metadata": {},
   "outputs": [
    {
     "name": "stdout",
     "output_type": "stream",
     "text": [
      "{'Ten': 10, 'Twenty': 20, 'Thirty': 30, 'Fourty': 40, 'Fifty': 50}\n"
     ]
    }
   ],
   "source": [
    "dict1 = {'Ten': 10, 'Twenty': 20, 'Thirty': 30}\n",
    "dict2 = {'Thirty': 30, 'Fourty': 40, 'Fifty': 50}\n",
    "dict1.update(dict2)\n",
    "print(dict1)"
   ]
  },
  {
   "cell_type": "code",
   "execution_count": null,
   "id": "db4ce5af-9e9f-4928-8414-bd1c0c3cd457",
   "metadata": {},
   "outputs": [],
   "source": [
    "\"\"\"Print the value of key ‘history’ from the below dict\"\"\""
   ]
  },
  {
   "cell_type": "code",
   "execution_count": null,
   "id": "9d1ccfb6-313e-4b5d-a398-29cfc0c5aa05",
   "metadata": {},
   "outputs": [],
   "source": []
  },
  {
   "cell_type": "code",
   "execution_count": 34,
   "id": "6899197c-9467-4e2a-90f1-ad555e8dcb52",
   "metadata": {},
   "outputs": [
    {
     "name": "stdout",
     "output_type": "stream",
     "text": [
      "80\n"
     ]
    }
   ],
   "source": [
    "sampleDict = {\n",
    "    \"class\": {\n",
    "        \"student\": {\n",
    "            \"name\": \"Mike\",\n",
    "            \"marks\": {\n",
    "                \"physics\": 70,\n",
    "                \"history\": 80\n",
    "            }\n",
    "        }\n",
    "    }\n",
    "}\n",
    "print(sampleDict[\"class\"][\"student\"][\"marks\"][\"history\"])"
   ]
  },
  {
   "cell_type": "code",
   "execution_count": null,
   "id": "62430038-041f-45bc-8039-627210ab5cc5",
   "metadata": {},
   "outputs": [],
   "source": [
    "\"\"\"Ex 4: Initialize dictionary with default values\"\"\""
   ]
  },
  {
   "cell_type": "code",
   "execution_count": 40,
   "id": "c65f1562-00b3-4270-8731-fb14ae3daa86",
   "metadata": {},
   "outputs": [
    {
     "name": "stdout",
     "output_type": "stream",
     "text": [
      "{'Kelly': {'designation': 'Developer', 'salary': 8000}, 'Emma': {'designation': 'Developer', 'salary': 8000}}\n"
     ]
    }
   ],
   "source": [
    "employees = ['Kelly', 'Emma']\n",
    "defaults = {\"designation\": 'Developer', \"salary\": 8000}\n",
    "new_dict = dict.fromkeys(employees,defaults)\n",
    "print(new_dict)"
   ]
  },
  {
   "cell_type": "code",
   "execution_count": null,
   "id": "5cb33eb9-4210-4a1c-a1e4-20227e1f8bc8",
   "metadata": {},
   "outputs": [],
   "source": [
    "\"\"\"Ex 5: Create a dictionary by extracting the keys from a given dictionary\"\"\""
   ]
  },
  {
   "cell_type": "code",
   "execution_count": 126,
   "id": "db61c5ea-748b-4566-af89-728b4c55be1e",
   "metadata": {},
   "outputs": [
    {
     "name": "stdout",
     "output_type": "stream",
     "text": [
      "{'name': 'Kelly', 'salary': 8000}\n"
     ]
    }
   ],
   "source": [
    "sample_dict = {\n",
    "    \"name\": \"Kelly\",\n",
    "    \"age\": 25,\n",
    "    \"salary\": 8000,\n",
    "    \"city\": \"New york\"}\n",
    "new_dict = dict()\n",
    "for i in sample_dict.keys():\n",
    "    if i == \"name\" or i == \"salary\":\n",
    "        new_dict.update({i:sample_dict[i]})\n",
    "print(new_dict)"
   ]
  },
  {
   "cell_type": "code",
   "execution_count": null,
   "id": "c45e1501-75ea-45e7-b243-4b6d47e82692",
   "metadata": {},
   "outputs": [],
   "source": [
    "\"\"\"Ex6: Delete a list of keys from a dictionary\"\"\""
   ]
  },
  {
   "cell_type": "code",
   "execution_count": 128,
   "id": "e92e24ba-f26a-4e28-b9ae-272a2bad0388",
   "metadata": {},
   "outputs": [
    {
     "name": "stdout",
     "output_type": "stream",
     "text": [
      "{'age': 25, 'city': 'New york'}\n"
     ]
    }
   ],
   "source": [
    "sample_dict = {\n",
    "    \"name\": \"Kelly\",\n",
    "    \"age\": 25,\n",
    "    \"salary\": 8000,\n",
    "    \"city\": \"New york\"\n",
    "}\n",
    "\n",
    "# Keys to remove\n",
    "keys = [\"name\", \"salary\"]\n",
    "for i in keys:\n",
    "    if i in sample_dict:\n",
    "        sample_dict.pop(i)\n",
    "print(sample_dict)"
   ]
  },
  {
   "cell_type": "code",
   "execution_count": null,
   "id": "18ef031e-0f57-41e1-93a2-4e20b7b8e814",
   "metadata": {},
   "outputs": [],
   "source": [
    "\"\"\"Ex 7: Write a Python program to check if value 200 exists in the following dictionary.\"\"\""
   ]
  },
  {
   "cell_type": "code",
   "execution_count": 134,
   "id": "a4aa7418-9d15-4a6c-a20f-44ed20e31c47",
   "metadata": {},
   "outputs": [
    {
     "name": "stdout",
     "output_type": "stream",
     "text": [
      "200 present in a dict\n"
     ]
    }
   ],
   "source": [
    "sample_dict = {'a': 100, 'b': 200, 'c': 300}\n",
    "if 200 in sample_dict.values():\n",
    "    print(\"200 present in a dict\")"
   ]
  },
  {
   "cell_type": "code",
   "execution_count": null,
   "id": "d498295b-910a-45b3-b891-46d91fea0e51",
   "metadata": {},
   "outputs": [],
   "source": [
    "\"\"\" Ex8: Write a program to rename a key city to a location in the following dictionary.\"\"\""
   ]
  },
  {
   "cell_type": "code",
   "execution_count": 150,
   "id": "e37fe9a3-8e0c-452e-98a5-69dc7b11ba87",
   "metadata": {},
   "outputs": [
    {
     "ename": "RuntimeError",
     "evalue": "dictionary changed size during iteration",
     "output_type": "error",
     "traceback": [
      "\u001b[1;31m---------------------------------------------------------------------------\u001b[0m",
      "\u001b[1;31mRuntimeError\u001b[0m                              Traceback (most recent call last)",
      "Cell \u001b[1;32mIn[150], line 7\u001b[0m\n\u001b[0;32m      1\u001b[0m sample_dict \u001b[38;5;241m=\u001b[39m {\n\u001b[0;32m      2\u001b[0m   \u001b[38;5;124m\"\u001b[39m\u001b[38;5;124mname\u001b[39m\u001b[38;5;124m\"\u001b[39m: \u001b[38;5;124m\"\u001b[39m\u001b[38;5;124mKelly\u001b[39m\u001b[38;5;124m\"\u001b[39m,\n\u001b[0;32m      3\u001b[0m   \u001b[38;5;124m\"\u001b[39m\u001b[38;5;124mage\u001b[39m\u001b[38;5;124m\"\u001b[39m:\u001b[38;5;241m25\u001b[39m,\n\u001b[0;32m      4\u001b[0m   \u001b[38;5;124m\"\u001b[39m\u001b[38;5;124msalary\u001b[39m\u001b[38;5;124m\"\u001b[39m: \u001b[38;5;241m8000\u001b[39m,\n\u001b[0;32m      5\u001b[0m   \u001b[38;5;124m\"\u001b[39m\u001b[38;5;124mcity\u001b[39m\u001b[38;5;124m\"\u001b[39m: \u001b[38;5;124m\"\u001b[39m\u001b[38;5;124mNew york\u001b[39m\u001b[38;5;124m\"\u001b[39m\n\u001b[0;32m      6\u001b[0m }\n\u001b[1;32m----> 7\u001b[0m \u001b[38;5;28;01mfor\u001b[39;00m i \u001b[38;5;129;01min\u001b[39;00m sample_dict:\n\u001b[0;32m      8\u001b[0m     \u001b[38;5;28;01mdel\u001b[39;00m sample_dict[i]\n\u001b[0;32m      9\u001b[0m sample_dict\u001b[38;5;241m.\u001b[39mupdate({\u001b[38;5;124m\"\u001b[39m\u001b[38;5;124mlocation\u001b[39m\u001b[38;5;124m\"\u001b[39m:\u001b[38;5;124m\"\u001b[39m\u001b[38;5;124mNew york\u001b[39m\u001b[38;5;124m\"\u001b[39m})\n",
      "\u001b[1;31mRuntimeError\u001b[0m: dictionary changed size during iteration"
     ]
    }
   ],
   "source": [
    "sample_dict = {\n",
    "  \"name\": \"Kelly\",\n",
    "  \"age\":25,\n",
    "  \"salary\": 8000,\n",
    "  \"city\": \"New york\"\n",
    "}\n",
    "for i in sample_dict:\n",
    "    del sample_dict[i]\n",
    "sample_dict.update({\"location\":\"New york\"})\n",
    "print(sample_dict)"
   ]
  },
  {
   "cell_type": "code",
   "execution_count": null,
   "id": "3fc1232f-da63-4e83-8a13-3e4828eb5ef6",
   "metadata": {},
   "outputs": [],
   "source": [
    "\"\"\"Ex 9: Get the key of a minimum value from the following dictionary\"\"\""
   ]
  },
  {
   "cell_type": "code",
   "execution_count": 174,
   "id": "146aa570-5f51-4a9a-b7c7-8e2f44babe18",
   "metadata": {},
   "outputs": [
    {
     "name": "stdout",
     "output_type": "stream",
     "text": [
      "dict_keys(['Physics', 'Math', 'history'])\n",
      "Math\n"
     ]
    }
   ],
   "source": [
    "sample_dict = {\n",
    "  'Physics': 82,\n",
    "  'Math': 65,\n",
    "  'history': 75\n",
    "}\n",
    "min_key = min(sample_dict)\n",
    "print(sample_dict.keys())\n",
    "print(min_key)"
   ]
  },
  {
   "cell_type": "code",
   "execution_count": null,
   "id": "4bbc7984-acd0-44f2-a8da-3c702d9df8c8",
   "metadata": {},
   "outputs": [],
   "source": [
    "\"\"\"Ex 10: Write a Python program to change Brad’s salary to 8500 in the following dictionary.\"\"\""
   ]
  },
  {
   "cell_type": "code",
   "execution_count": 190,
   "id": "e6d4ce91-0508-4116-9c50-b2edb0206f30",
   "metadata": {},
   "outputs": [
    {
     "name": "stdout",
     "output_type": "stream",
     "text": [
      "{'emp1': {'name': 'Jhon', 'salary': 7500}, 'emp2': {'name': 'Emma', 'salary': 8000}, 'emp3': {'name': 'Brad', 'salary': 8500}}\n",
      "emp1\n",
      "name : Jhon\n",
      "salary : 7500\n",
      "emp2\n",
      "name : Emma\n",
      "salary : 8000\n",
      "emp3\n",
      "name : Brad\n",
      "salary : 8500\n"
     ]
    }
   ],
   "source": [
    "sample_dict = {\n",
    "    'emp1': {'name': 'Jhon', 'salary': 7500},\n",
    "    'emp2': {'name': 'Emma', 'salary': 8000},\n",
    "    'emp3': {'name': 'Brad', 'salary': 500}\n",
    "}\n",
    "sample_dict[\"emp3\"][\"salary\"] = 8500\n",
    "print(sample_dict)\n",
    "for i, obj in sample_dict.items():\n",
    "    print(i)\n",
    "    for y in obj:\n",
    "        print(y, \":\", obj[y])\n"
   ]
  },
  {
   "cell_type": "code",
   "execution_count": null,
   "id": "ec08e27e-8b84-44cc-8784-778bf0838b50",
   "metadata": {},
   "outputs": [],
   "source": []
  }
 ],
 "metadata": {
  "kernelspec": {
   "display_name": "Python [conda env:base] *",
   "language": "python",
   "name": "conda-base-py"
  },
  "language_info": {
   "codemirror_mode": {
    "name": "ipython",
    "version": 3
   },
   "file_extension": ".py",
   "mimetype": "text/x-python",
   "name": "python",
   "nbconvert_exporter": "python",
   "pygments_lexer": "ipython3",
   "version": "3.12.7"
  }
 },
 "nbformat": 4,
 "nbformat_minor": 5
}
