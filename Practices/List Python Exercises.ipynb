{
 "cells": [
  {
   "cell_type": "code",
   "execution_count": null,
   "id": "bc74adf6-3b97-491e-974c-bcc489b71cb2",
   "metadata": {},
   "outputs": [],
   "source": [
    "\"\"\"Exercise 1: Reverse a list in Python\"\"\""
   ]
  },
  {
   "cell_type": "code",
   "execution_count": 2,
   "id": "983c9e4e-12d7-43e0-9e3c-a7efafe1ce7a",
   "metadata": {},
   "outputs": [
    {
     "name": "stdout",
     "output_type": "stream",
     "text": [
      "[500, 400, 300, 200, 100]\n"
     ]
    }
   ],
   "source": [
    "list1 = [100, 200, 300, 400, 500]\n",
    "list1.reverse()\n",
    "print(list1)"
   ]
  },
  {
   "cell_type": "code",
   "execution_count": null,
   "id": "3f47f77b-6951-41eb-86d1-3a95afe0b0ef",
   "metadata": {},
   "outputs": [],
   "source": [
    "\"\"\"Exercise 2: Write a program to add two lists index-wise. Create a new list that contains the 0th index item from both the list, \n",
    "then the 1st index item, and so on till the last element. any leftover items will get added at the end of the new list.\"\"\""
   ]
  },
  {
   "cell_type": "code",
   "execution_count": 34,
   "id": "3fc28bf5-76ca-4800-ad50-88e4ce522f64",
   "metadata": {},
   "outputs": [
    {
     "name": "stdout",
     "output_type": "stream",
     "text": [
      "[('M', 'y'), ('na', 'me'), ('i', 's'), ('Ke', 'lly')]\n"
     ]
    }
   ],
   "source": [
    "list1 = [\"M\", \"na\", \"i\", \"Ke\"]\n",
    "list2 = [\"y\", \"me\", \"s\", \"lly\"]\n",
    "list3 = zip(list1,list2)\n",
    "print(list(list3))"
   ]
  },
  {
   "cell_type": "code",
   "execution_count": 26,
   "id": "02d3f924-8514-41ae-86d7-e469d9c121b2",
   "metadata": {},
   "outputs": [
    {
     "name": "stdout",
     "output_type": "stream",
     "text": [
      "['My', 'name', 'is', 'Kelly', 'haho', 'ni']\n"
     ]
    }
   ],
   "source": [
    "list1 = [\"M\", \"na\", \"i\", \"Ke\", \"ha\", \"ni\"]\n",
    "list2 = [\"y\", \"me\", \"s\", \"lly\",\"ho\"]\n",
    "list3 = []\n",
    "i=0\n",
    "length_list1 = len(list1)\n",
    "length_list2 = len(list2)\n",
    "# decide which list bigger\n",
    "if length_list1 > length_list2:\n",
    "    while i < length_list2:\n",
    "        list3.append(list1[i]+list2[i])\n",
    "        i+=1\n",
    "    else:\n",
    "        list3.append(list1[i])\n",
    "        i+=1\n",
    "else:\n",
    "    while i < length_list1:\n",
    "        list3.append(list1[i]+list2[i])\n",
    "        i+=1\n",
    "    else:\n",
    "        list3.append(list2[i])\n",
    "        i+=1\n",
    "print(list3)    \n"
   ]
  },
  {
   "cell_type": "code",
   "execution_count": null,
   "id": "46444799-e817-485e-bc43-a119542ea71a",
   "metadata": {},
   "outputs": [],
   "source": [
    "\"\"\"Exercise 3: Turn every item of a list into its square\"\"\""
   ]
  },
  {
   "cell_type": "code",
   "execution_count": 36,
   "id": "4b506f11-9f4d-4608-8f55-113e258936e0",
   "metadata": {},
   "outputs": [
    {
     "name": "stdout",
     "output_type": "stream",
     "text": [
      "[1, 4, 9, 16, 25, 36, 49]\n"
     ]
    }
   ],
   "source": [
    "numbers = [1, 2, 3, 4, 5, 6, 7]\n",
    "square_num = []\n",
    "for i in numbers:\n",
    "    square_num.append(i*i)\n",
    "print(square_num)"
   ]
  },
  {
   "cell_type": "code",
   "execution_count": 42,
   "id": "431116ef-aa38-4101-80b2-3f47c6172d05",
   "metadata": {},
   "outputs": [
    {
     "name": "stdout",
     "output_type": "stream",
     "text": [
      "[1, 4, 9, 16, 25, 36, 49]\n"
     ]
    }
   ],
   "source": [
    "numbers = [1, 2, 3, 4, 5, 6, 7]\n",
    "square_num = [i*i for i in numbers]\n",
    "print(square_num)"
   ]
  },
  {
   "cell_type": "code",
   "execution_count": 56,
   "id": "6a461266-9d3b-4c89-85d3-d974ab30c40c",
   "metadata": {},
   "outputs": [
    {
     "name": "stdout",
     "output_type": "stream",
     "text": [
      "['Hello Dear', 'Hello Sir', 'take Dear', 'take Sir']\n"
     ]
    }
   ],
   "source": [
    "\"\"\"Exercise 4: Concatenate two lists in the following order\"\"\"\n",
    "list1 = [\"Hello \", \"take \"]\n",
    "list2 = [\"Dear\", \"Sir\"]\n",
    "list3=[]\n",
    "for x in list1:\n",
    "    for y in list2:\n",
    "        list3.append(x+y)\n",
    "print(list3)"
   ]
  },
  {
   "cell_type": "code",
   "execution_count": 58,
   "id": "fa4d4692-96b0-4379-beb1-578a74c5eb7a",
   "metadata": {},
   "outputs": [
    {
     "name": "stdout",
     "output_type": "stream",
     "text": [
      "['Hello Dear', 'Hello Sir', 'take Dear', 'take Sir']\n"
     ]
    }
   ],
   "source": [
    "list1 = [\"Hello \", \"take \"]\n",
    "list2 = [\"Dear\", \"Sir\"]\n",
    "list3 =[x+y for x in list1 for y in list2]\n",
    "print(list3)"
   ]
  },
  {
   "cell_type": "code",
   "execution_count": null,
   "id": "5c79c18f-bb76-4513-9882-47854c167c2e",
   "metadata": {},
   "outputs": [],
   "source": [
    "\"\"\"Exercise 5: Given a two Python list. Write a program to iterate both lists simultaneously and display items from list1 in \n",
    "original order and items from list2 in reverse order."
   ]
  },
  {
   "cell_type": "code",
   "execution_count": 68,
   "id": "f8d79979-7e9c-4631-b529-c5d72068f7b5",
   "metadata": {},
   "outputs": [
    {
     "name": "stdout",
     "output_type": "stream",
     "text": [
      "(10, 400)\n",
      "(20, 300)\n",
      "(30, 200)\n",
      "(40, 100)\n"
     ]
    }
   ],
   "source": [
    "list1 = [10, 20, 30, 40]\n",
    "list2 = [100, 200, 300, 400]\n",
    "list2.reverse()\n",
    "zipped = zip(list1,list2)\n",
    "for i in list(zipped):\n",
    "    print(i)"
   ]
  },
  {
   "cell_type": "code",
   "execution_count": 70,
   "id": "291cf20d-e0f7-45e9-a504-d5a512ebe274",
   "metadata": {},
   "outputs": [
    {
     "name": "stdout",
     "output_type": "stream",
     "text": [
      "10 400\n",
      "20 300\n",
      "30 200\n",
      "40 100\n"
     ]
    }
   ],
   "source": [
    "list1 = [10, 20, 30, 40]\n",
    "list2 = [100, 200, 300, 400]\n",
    "list2.reverse()\n",
    "for x,y in zip(list1,list2):\n",
    "    print(x,y)"
   ]
  },
  {
   "cell_type": "code",
   "execution_count": null,
   "id": "745bd125-5f66-4f82-90e5-a42131279977",
   "metadata": {},
   "outputs": [],
   "source": [
    "\"\"\"Exercise 6: Remove empty strings from the list of strings\"\"\""
   ]
  },
  {
   "cell_type": "code",
   "execution_count": 74,
   "id": "88d8c633-91d0-4176-b0cc-bc90fed768b5",
   "metadata": {},
   "outputs": [
    {
     "name": "stdout",
     "output_type": "stream",
     "text": [
      "['Mike', 'Emma', 'Kelly', 'Brad']\n"
     ]
    }
   ],
   "source": [
    "list1 = [\"Mike\", \"\", \"Emma\", \"Kelly\", \"\", \"Brad\"]\n",
    "for i in list1:\n",
    "    if i ==\"\":\n",
    "        list1.remove(i)\n",
    "print (list1)"
   ]
  },
  {
   "cell_type": "code",
   "execution_count": null,
   "id": "0cdd039c-7299-4062-b6c1-b113c1f77576",
   "metadata": {},
   "outputs": [],
   "source": [
    "\"\"\"Exercise 8: You have given a nested list. Write a program to extend it by adding the sublist [\"h\", \"i\", \"j\"] in \n",
    "such a way that it will look like the following list\"\"\""
   ]
  },
  {
   "cell_type": "code",
   "execution_count": 18,
   "id": "86a0c3f2-f21e-4490-8c94-cf8190fe7d19",
   "metadata": {},
   "outputs": [
    {
     "name": "stdout",
     "output_type": "stream",
     "text": [
      "['a', 'b', ['c', ['d', 'e', ['f', 'g', 'h', 'i', 'j'], 'k'], 'l'], 'm', 'n']\n"
     ]
    }
   ],
   "source": [
    "list1 = [\"a\", \"b\", [\"c\", [\"d\", \"e\", [\"f\", \"g\"], \"k\"], \"l\"], \"m\", \"n\"]\n",
    "sub_list = [\"h\", \"i\", \"j\"]\n",
    "\n",
    "list1[2][1][2].extend(sub_list)\n",
    "print(list1)"
   ]
  },
  {
   "cell_type": "code",
   "execution_count": null,
   "id": "87edacc3-0946-4466-ba60-84230c919a3c",
   "metadata": {},
   "outputs": [],
   "source": [
    "\"\"\" Ex 9: You have given a Python list. Write a program to find value 20 in the list, and if it is present, replace it with 200.\n",
    "Only update the first occurrence of an item."
   ]
  },
  {
   "cell_type": "code",
   "execution_count": 34,
   "id": "8316a73d-e342-4f4f-ae95-8cd36c6b394d",
   "metadata": {},
   "outputs": [
    {
     "name": "stdout",
     "output_type": "stream",
     "text": [
      "[5, 10, 15, 200, 25, 50, 20]\n"
     ]
    }
   ],
   "source": [
    "list1 = [5, 10, 15, 20, 25, 50, 20]\n",
    "for i in range (len(list1)):\n",
    "    if list1[i] == 20:\n",
    "        list1[i] = 200\n",
    "        break\n",
    "print(list1)"
   ]
  },
  {
   "cell_type": "code",
   "execution_count": null,
   "id": "8cfd280b-1502-47b2-8ceb-045c2a5762d5",
   "metadata": {},
   "outputs": [],
   "source": [
    "\"\"\" Ex 10: Write a Python program to count the number of strings from a given list of strings. The string length is 2 or more \n",
    "and the first and last characters are the same.\"\"\""
   ]
  },
  {
   "cell_type": "code",
   "execution_count": 54,
   "id": "73616e5e-5333-47c2-bb16-a1565883394d",
   "metadata": {},
   "outputs": [
    {
     "name": "stdout",
     "output_type": "stream",
     "text": [
      "2\n"
     ]
    }
   ],
   "source": [
    "list1 = ['abc', 'xyz', 'aba', '1221']\n",
    "new_list=[]\n",
    "for i in list1:\n",
    "    if len(i)>2 and i[0] == i[-1]:\n",
    "        new_list.append(i)\n",
    "print(len(new_list))\n",
    "        \n",
    "            "
   ]
  },
  {
   "cell_type": "code",
   "execution_count": 58,
   "id": "b85d844d-31ee-48d8-8b20-1fefb9f53974",
   "metadata": {},
   "outputs": [
    {
     "name": "stdout",
     "output_type": "stream",
     "text": [
      "2\n"
     ]
    }
   ],
   "source": [
    "list1 = ['abc', 'xyz', 'aba', '1221']\n",
    "new_list = [i for i in list1 if len(i)>2 and i[0] == i[-1]]\n",
    "print(len(new_list))"
   ]
  },
  {
   "cell_type": "code",
   "execution_count": 66,
   "id": "5d4e283d-cdbb-4de4-97cc-4e4a7fa818ac",
   "metadata": {},
   "outputs": [
    {
     "data": {
      "text/plain": [
       "3"
      ]
     },
     "execution_count": 66,
     "metadata": {},
     "output_type": "execute_result"
    }
   ],
   "source": [
    "def count_string(list1):\n",
    "    count = 0\n",
    "    for i in list1:\n",
    "        if len(i)>2 and i[0]==i[-1]:\n",
    "            count+=1\n",
    "    return count\n",
    "        \n",
    "count_string(['abc', 'xyz', 'aba', '1221',\"373\"])"
   ]
  },
  {
   "cell_type": "code",
   "execution_count": null,
   "id": "f85304e3-1f96-4d4b-8ce6-02f6e3ecf38b",
   "metadata": {},
   "outputs": [],
   "source": []
  }
 ],
 "metadata": {
  "kernelspec": {
   "display_name": "Python [conda env:base] *",
   "language": "python",
   "name": "conda-base-py"
  },
  "language_info": {
   "codemirror_mode": {
    "name": "ipython",
    "version": 3
   },
   "file_extension": ".py",
   "mimetype": "text/x-python",
   "name": "python",
   "nbconvert_exporter": "python",
   "pygments_lexer": "ipython3",
   "version": "3.12.7"
  }
 },
 "nbformat": 4,
 "nbformat_minor": 5
}
