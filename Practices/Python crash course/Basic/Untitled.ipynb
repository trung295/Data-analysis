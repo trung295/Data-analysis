{
 "cells": [
  {
   "cell_type": "code",
   "execution_count": 2,
   "id": "7a0773c8-f16b-4214-a35c-fc8c51c70614",
   "metadata": {},
   "outputs": [
    {
     "name": "stdout",
     "output_type": "stream",
     "text": [
      "{'color': 'green', 'points': 5}\n"
     ]
    }
   ],
   "source": [
    "alien_0 = {'color': 'green', 'points': 5}\n",
    "print(alien_0)"
   ]
  },
  {
   "cell_type": "code",
   "execution_count": 4,
   "id": "947b735c-0a99-462d-bfc2-e2c800ad7b1e",
   "metadata": {},
   "outputs": [
    {
     "name": "stdout",
     "output_type": "stream",
     "text": [
      "{'color': 'green', 'points': 5, 'x_position': 0, 'y_position': 25}\n"
     ]
    }
   ],
   "source": [
    "alien_0['x_position'] = 0\n",
    "alien_0['y_position'] = 25\n",
    "print(alien_0)"
   ]
  },
  {
   "cell_type": "code",
   "execution_count": 6,
   "id": "2c880d3d-039d-4fa2-b897-ccc11c17fb62",
   "metadata": {},
   "outputs": [
    {
     "name": "stdout",
     "output_type": "stream",
     "text": [
      "{'color': 'green', 'points': 5}\n"
     ]
    }
   ],
   "source": [
    "alien_0 = {}\n",
    "alien_0['color'] = 'green'\n",
    "alien_0['points'] = 5\n",
    "print(alien_0)"
   ]
  },
  {
   "cell_type": "code",
   "execution_count": 8,
   "id": "8f72c33c-4504-4d20-8321-7073164dc193",
   "metadata": {},
   "outputs": [
    {
     "name": "stdout",
     "output_type": "stream",
     "text": [
      "Original position: 0\n"
     ]
    }
   ],
   "source": [
    "alien_0 = {'x_position': 0, 'y_position': 25, 'speed': 'medium'}\n",
    "print(f\"Original position: {alien_0['x_position']}\")"
   ]
  },
  {
   "cell_type": "code",
   "execution_count": 10,
   "id": "86f3529a-053e-44db-9ac7-44a400c59813",
   "metadata": {},
   "outputs": [
    {
     "name": "stdout",
     "output_type": "stream",
     "text": [
      "New position: 2\n"
     ]
    }
   ],
   "source": [
    "# Move the alien to the right.\n",
    "# Determine how far to move the alien based on its current speed.\n",
    "if alien_0['speed'] == 'slow':\n",
    "    x_increment = 1\n",
    "elif alien_0['speed'] == 'medium':\n",
    "    x_increment = 2\n",
    "else:\n",
    "    # This must be fast alien\n",
    "    x_increment = 3\n",
    "\n",
    "# The new position is the old position plus the increment.\n",
    "alien_0['x_position'] = alien_0['x_position'] + x_increment\n",
    "\n",
    "print(f'New position: {alien_0['x_position']}')\n"
   ]
  },
  {
   "cell_type": "code",
   "execution_count": 30,
   "id": "c38db124-b5c0-4a88-9d0c-3508e210ae8a",
   "metadata": {},
   "outputs": [
    {
     "data": {
      "text/plain": [
       "'python'"
      ]
     },
     "execution_count": 30,
     "metadata": {},
     "output_type": "execute_result"
    }
   ],
   "source": [
    "favorite_languages = {\n",
    "    'jen': 'python',\n",
    "    'sarah': 'c',\n",
    "    'edward': 'rust',\n",
    "    'phil': 'python',\n",
    "    }\n",
    "favorite_languages.get('jen')"
   ]
  },
  {
   "cell_type": "markdown",
   "id": "d864c477-1275-47db-9f8f-a83334b363c0",
   "metadata": {},
   "source": [
    "📝 6-1. Person: Use a dictionary to store information about a person you know.\n",
    "Store their first name, last name, age, and the city in which they live. You\n",
    "should have keys such as first_name, last_name, age, and city. Print each piece\n",
    "of information stored in your dictionary."
   ]
  },
  {
   "cell_type": "code",
   "execution_count": 18,
   "id": "d0364d71-53b3-42d7-b74e-07d33f7d013e",
   "metadata": {},
   "outputs": [
    {
     "name": "stdout",
     "output_type": "stream",
     "text": [
      "She is Yuu Shinoda. She is 25 years old and she live in Tokyo\n"
     ]
    }
   ],
   "source": [
    "girl1 = {\n",
    "    'first_name': 'Yuu',\n",
    "    'last_name': 'Shinoda',\n",
    "    'age': 25,\n",
    "    'city': 'Tokyo',\n",
    "    }\n",
    "print(f'She is {girl1['first_name']} {crush['last_name']}. She is {girl1['age']} years old and she live in {girl1['city']}')"
   ]
  },
  {
   "cell_type": "markdown",
   "id": "8c8bb46b-0823-4179-975f-851141dad975",
   "metadata": {},
   "source": [
    "📝 6-2. Favorite Numbers: Use a dictionary to store people’s favorite numbers.\n",
    "Think of five names, and use them as keys in your dictionary. Think of a favorite number \n",
    "for each person, and store each as a value in your dictionary. Print\n",
    "each person’s name and their favorite number. For even more fun, poll a few\n",
    "friends and get some actual data for your program."
   ]
  },
  {
   "cell_type": "code",
   "execution_count": 22,
   "id": "f4360580-b02d-4e15-b42f-5a68ce5635fa",
   "metadata": {},
   "outputs": [
    {
     "name": "stdout",
     "output_type": "stream",
     "text": [
      "Favorite number of Yuu is 9\n",
      "Favorite number of Sakura is 8\n",
      "Favorite number of Miu is 8\n",
      "Favorite number of Hina is 9\n",
      "Favorite number of Anri is 8\n"
     ]
    }
   ],
   "source": [
    "favorite_numbers = {\n",
    "    'Yuu': 9,\n",
    "    'Sakura': 8,\n",
    "    'Miu': 8,\n",
    "    'Hina': 9,\n",
    "    'Anri': 8\n",
    "    }\n",
    "print(f'Favorite number of Yuu is {favorite_numbers['Yuu']}')\n",
    "print(f'Favorite number of Sakura is {favorite_numbers['Sakura']}')\n",
    "print(f'Favorite number of Miu is {favorite_numbers['Miu']}')\n",
    "print(f'Favorite number of Hina is {favorite_numbers['Hina']}')\n",
    "print(f'Favorite number of Anri is {favorite_numbers['Anri']}')"
   ]
  },
  {
   "cell_type": "code",
   "execution_count": 38,
   "id": "f97d78fd-903e-405f-988f-7f82150e08eb",
   "metadata": {},
   "outputs": [
    {
     "name": "stdout",
     "output_type": "stream",
     "text": [
      "Key: username\n",
      "Value: YuuShi\n",
      "\n",
      "Key: first\n",
      "Value: Yuu\n",
      "\n",
      "Key: last\n",
      "Value: Shinoda\n",
      "\n"
     ]
    }
   ],
   "source": [
    "user_0 = {\n",
    "    'username': 'YuuShi',\n",
    "    'first': 'Yuu',\n",
    "    'last': 'Shinoda',\n",
    "    }\n",
    "for key, value in user_0.items():\n",
    "    print(f'Key: {key}')\n",
    "    print(f'Value: {value}\\n')"
   ]
  },
  {
   "cell_type": "markdown",
   "id": "bbcb38a8-90cf-4a7e-8e0c-64e7cc26fbb7",
   "metadata": {},
   "source": [
    "📝 6-3. Glossary: A Python dictionary can be used to model an actual dictionary.\n",
    "However, to avoid confusion, let’s call it a glossary.\n",
    "• Think of five programming words you’ve learned about in the previous\n",
    "chapters. Use these words as the keys in your glossary, and store their\n",
    "meanings as values.\n",
    "• Print each word and its meaning as neatly formatted output. You might\n",
    "print the word followed by a colon and then its meaning, or print the word\n",
    "on one line and then print its meaning indented on a second line. Use the\n",
    "newline character (\\n) to insert a blank line between each word-meaning\n",
    "pair in your output."
   ]
  },
  {
   "cell_type": "code",
   "execution_count": 42,
   "id": "9a495b73-5fb2-47c9-bbb0-a9530b30eecd",
   "metadata": {},
   "outputs": [
    {
     "name": "stdout",
     "output_type": "stream",
     "text": [
      "upper(): convert string to upper case\n",
      "lower(): convert string to lower case\n",
      "capitalize(): convert first string word to upper case\n",
      "title(): cover every first string words to upper case\n",
      "strip(): remove space in string\n"
     ]
    }
   ],
   "source": [
    "programming_words = {\n",
    "    'upper': 'convert string to upper case',\n",
    "    'lower': 'convert string to lower case',\n",
    "    'capitalize': 'convert first string word to upper case',\n",
    "    'title': 'cover every first string words to upper case',\n",
    "    'strip': 'remove space in string',\n",
    "    }\n",
    "print(f'upper(): {programming_words['upper']}')\n",
    "print(f'lower(): {programming_words['lower']}')\n",
    "print(f'capitalize(): {programming_words['capitalize']}')\n",
    "print(f'title(): {programming_words['title']}')\n",
    "print(f'strip(): {programming_words['strip']}')"
   ]
  },
  {
   "cell_type": "markdown",
   "id": "317166f5-b234-43c5-b82c-a8e50c23e8a6",
   "metadata": {},
   "source": [
    "📝 6-4. Glossary 2: Now that you know how to loop through a dictionary, clean\n",
    "up the code from Exercise 6-3 (page 99) by replacing your series of print()\n",
    "calls with a loop that runs through the dictionary’s keys and values. When\n",
    "you’re sure that your loop works, add five more Python terms to your glossary.\n",
    "When you run your program again, these new words and meanings should\n",
    "automatically be included in the output."
   ]
  },
  {
   "cell_type": "code",
   "execution_count": 50,
   "id": "09c1dfbd-06ee-462e-a107-e9955ce06085",
   "metadata": {},
   "outputs": [
    {
     "name": "stdout",
     "output_type": "stream",
     "text": [
      "upper(): convert string to upper case\n",
      "lower(): convert string to lower case\n",
      "capitalize(): convert first string word to upper case\n",
      "title(): cover every first string words to upper case\n",
      "strip(): remove space in string\n",
      "lstrip(): remove space in left side of string\n",
      "rstrip(): remove space in right side of string\n"
     ]
    }
   ],
   "source": [
    "programming_words = {\n",
    "    'upper': 'convert string to upper case',\n",
    "    'lower': 'convert string to lower case',\n",
    "    'capitalize': 'convert first string word to upper case',\n",
    "    'title': 'cover every first string words to upper case',\n",
    "    'strip': 'remove space in string',\n",
    "    }\n",
    "programming_words['lstrip'] = 'remove space in left side of string'\n",
    "programming_words['rstrip'] = 'remove space in right side of string'\n",
    "for method, meaning in programming_words.items():\n",
    "    print(f'{method}(): {meaning}')"
   ]
  },
  {
   "cell_type": "markdown",
   "id": "9b60275f-0236-4ed2-9c31-c60c7b462bd0",
   "metadata": {},
   "source": [
    "📝 6-5. Rivers: Make a dictionary containing three major rivers and the country\n",
    "each river runs through. One key-value pair might be 'nile': 'egypt'.\n",
    "• Use a loop to print a sentence about each river, such as The Nile runs\n",
    "through Egypt.\n",
    "• Use a loop to print the name of each river included in the dictionary.\n",
    "• Use a loop to print the name of each country included in the dictionary."
   ]
  },
  {
   "cell_type": "code",
   "execution_count": 60,
   "id": "18b8f12d-b76c-488e-a53d-df2b9f80144a",
   "metadata": {},
   "outputs": [
    {
     "name": "stdout",
     "output_type": "stream",
     "text": [
      "Nile run through Egypt\n",
      "Volga run through Russia\n",
      "Tg run through China\n",
      "\n",
      "Nile\n",
      "Volga\n",
      "Tg\n",
      "\n",
      "Egypt\n",
      "Russia\n",
      "China\n"
     ]
    }
   ],
   "source": [
    "rivers = {\n",
    "    'Nile': 'Egypt',\n",
    "    'Volga': 'Russia',\n",
    "    'TG': 'China'\n",
    "    }\n",
    "for river, country in rivers.items():\n",
    "    print(f'{river.title()} run through {country.title()}')\n",
    "print('')\n",
    "for river in rivers.keys():\n",
    "    print (river.title())\n",
    "print('')\n",
    "for country in rivers.values():\n",
    "    print(country.title())"
   ]
  },
  {
   "cell_type": "markdown",
   "id": "240a259c-fdee-4cc6-932a-56ed201a8b3b",
   "metadata": {},
   "source": [
    "📝 6-6. Polling: Use the code in favorite_languages.py (page 96).\n",
    "• Make a list of people who should take the favorite languages poll. Include\n",
    "some names that are already in the dictionary and some that are not.\n",
    "• Loop through the list of people who should take the poll. If they have\n",
    "already taken the poll, print a message thanking them for responding.\n",
    "If they have not yet taken the poll, print a message inviting them to take\n",
    "the poll."
   ]
  },
  {
   "cell_type": "code",
   "execution_count": 62,
   "id": "aba13a63-6960-46d5-9d4f-6ea775f175a1",
   "metadata": {},
   "outputs": [
    {
     "name": "stdout",
     "output_type": "stream",
     "text": [
      "Would Terry want to take the poll?\n",
      "Would Leah want to take the poll?\n",
      "Thank Sarah for responding\n",
      "Thank Phil for responding\n"
     ]
    }
   ],
   "source": [
    "favorite_languages = {\n",
    "    'jen': 'python',\n",
    "    'sarah': 'c',\n",
    "    'edward': 'java',\n",
    "    'phil': 'python',\n",
    "    }\n",
    "people = ['Terry','Leah','Sarah','Phil']\n",
    "for person in people:\n",
    "    if person.lower() in favorite_languages.keys():\n",
    "        print(f'Thank {person.title()} for responding')\n",
    "    else:\n",
    "        print(f'Would {person.title()} want to take the poll?')"
   ]
  },
  {
   "cell_type": "code",
   "execution_count": null,
   "id": "7dfcd82e-94d0-4933-b244-0c11b71b7d0f",
   "metadata": {},
   "outputs": [],
   "source": []
  }
 ],
 "metadata": {
  "kernelspec": {
   "display_name": "Python [conda env:base] *",
   "language": "python",
   "name": "conda-base-py"
  },
  "language_info": {
   "codemirror_mode": {
    "name": "ipython",
    "version": 3
   },
   "file_extension": ".py",
   "mimetype": "text/x-python",
   "name": "python",
   "nbconvert_exporter": "python",
   "pygments_lexer": "ipython3",
   "version": "3.12.3"
  }
 },
 "nbformat": 4,
 "nbformat_minor": 5
}
