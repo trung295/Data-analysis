{
 "cells": [
  {
   "cell_type": "markdown",
   "id": "7caa0b36-d2d3-4691-8e5b-c291ad6fbe1c",
   "metadata": {},
   "source": [
    "9-1. Restaurant: Make a class called Restaurant. The __init__() method for Restaurant should store two attributes: a restaurant_name and a cuisine_type. Make a method called describe_restaurant() that prints these two pieces of information, and a method called open_restaurant() that prints a message indicating that the restaurant is open.\n",
    "Make an instance called restaurant from your class. Print the two attributes individually, and then call both methods."
   ]
  },
  {
   "cell_type": "code",
   "execution_count": 12,
   "id": "29785c83-4b29-41e8-8a18-ef392508b145",
   "metadata": {},
   "outputs": [
    {
     "name": "stdout",
     "output_type": "stream",
     "text": [
      "The restaurant name is Sheng\n",
      "The restaurant cuisine is India\n",
      "The Sheng is a India restaurant\n",
      "Restaurant Sheng is open now\n"
     ]
    }
   ],
   "source": [
    "class Restaurant:\n",
    "    \"\"\" Make a restaurant with name and cuisine type \"\"\"\n",
    "    def __init__(self, name, cuisine):\n",
    "        \"\"\" Initialize name and cuisine type attributes. \"\"\"\n",
    "        self.name = name\n",
    "        self.cuisine = cuisine\n",
    "\n",
    "    def describe_restaurant(self):\n",
    "        \"\"\" Introduce about restaurant \"\"\"\n",
    "        print(f'The {self.name} is a {self.cuisine} restaurant')\n",
    "\n",
    "    def open_restaurant(self):\n",
    "        print(f'Restaurant {self.name} is open now')\n",
    "\n",
    "my_restaurant = Restaurant('Sheng', 'India')\n",
    "print(f'The restaurant name is {my_restaurant.name}')\n",
    "print(f'The restaurant cuisine is {my_restaurant.cuisine}')\n",
    "my_restaurant.describe_restaurant()\n",
    "my_restaurant.open_restaurant()"
   ]
  },
  {
   "cell_type": "markdown",
   "id": "e58d6c7b-9173-4a43-bcf0-1860e72cd3ae",
   "metadata": {},
   "source": [
    "9-2. Three Restaurants: Start with your class from Exercise 9-1. Create three different instances from the class, and call describe_restaurant() for each instance."
   ]
  },
  {
   "cell_type": "code",
   "execution_count": 15,
   "id": "95a0a1db-7b9e-40ec-876a-30b46dd1087c",
   "metadata": {},
   "outputs": [
    {
     "name": "stdout",
     "output_type": "stream",
     "text": [
      "The Anna is a Thai restaurant\n"
     ]
    }
   ],
   "source": [
    "thai_restaurant = Restaurant('Anna', 'Thai')\n",
    "thai_restaurant.describe_restaurant()\n"
   ]
  },
  {
   "cell_type": "markdown",
   "id": "16d4917c-5633-486b-a2ea-8c57c49d7a33",
   "metadata": {},
   "source": [
    "9-3. Users: Make a class called User. Create two attributes called first_name and last_name, and then create several other attributes that are typically stored in a user profile. Make a method called describe_user() that prints a summary of the user’s information. Make another method called greet_user() that prints a personalized greeting to the user.\n",
    "Create several instances representing different users, and call both methods for each user."
   ]
  },
  {
   "cell_type": "code",
   "execution_count": 22,
   "id": "de62ee3d-4713-40b3-996a-2cce593e0889",
   "metadata": {},
   "outputs": [
    {
     "name": "stdout",
     "output_type": "stream",
     "text": [
      "User full name is: Nene Tanaka\n",
      "Greeting Nene Tanaka\n"
     ]
    }
   ],
   "source": [
    "class User:\n",
    "    \"\"\" Define an user \"\"\"\n",
    "    def __init__(self, first_name, last_name):\n",
    "        \"\"\" Initilize a first name and last name attributes \"\"\"\n",
    "        self.first_name = first_name.title()\n",
    "        self.last_name = last_name.title()\n",
    "\n",
    "    def describe_user(self):\n",
    "        print(f'User full name is: {self.first_name} {self.last_name}')\n",
    "\n",
    "    def greet_user (self):\n",
    "        print(f'Greeting {self.first_name} {self.last_name}')\n",
    "\n",
    "user1 = User('nene', 'tanaka')\n",
    "user1.describe_user()\n",
    "user1.greet_user()"
   ]
  },
  {
   "cell_type": "code",
   "execution_count": 34,
   "id": "f847ab55-afe2-46c7-b571-2eed26fd1537",
   "metadata": {},
   "outputs": [
    {
     "name": "stdout",
     "output_type": "stream",
     "text": [
      "The car is Audi A4 2019\n",
      "The car's mileage is 0\n",
      "The car's mileage is 20\n",
      "You can not roll back odometer\n",
      "The car's mileage is 20\n"
     ]
    }
   ],
   "source": [
    "class Car:\n",
    "    \"\"\" Create a car blueprint \"\"\"\n",
    "    def __init__(self, name, model, year):\n",
    "        self.name = name\n",
    "        self.model = model\n",
    "        self.year = year\n",
    "        self.odometer = 0\n",
    "    def describe_car(self):\n",
    "        print(f'The car is {self.name} {self.model} {self.year}')\n",
    "\n",
    "    def update_odometer(self,mileage):\n",
    "        if mileage >= self.odometer:\n",
    "            self.odometer = mileage\n",
    "        else:\n",
    "            print('You can not roll back odometer')\n",
    "\n",
    "    def read_odometer(self):\n",
    "        print(f\"The car's mileage is {self.odometer}\")\n",
    "\n",
    "my_car = Car('Audi', 'A4', 2019)\n",
    "my_car.describe_car()\n",
    "my_car.read_odometer()\n",
    "my_car.update_odometer(20)\n",
    "my_car.read_odometer()\n",
    "my_car.update_odometer(10)\n",
    "my_car.read_odometer()"
   ]
  },
  {
   "cell_type": "markdown",
   "id": "0737a258-5aff-4ca7-a1dc-48abb88c8b0b",
   "metadata": {},
   "source": [
    "9-4. Number Served: Start with your program from Exercise 9-1 (page 162). Add an attribute called number_served with a default value of 0. Create an instance called restaurant from this class. Print the number of customers the restaurant has served, and then change this value and print it again.\n",
    "Add a method called set_number_served() that lets you set the number of\n",
    "customers that have been served. Call this method with a new number and print\n",
    "the value again.\n",
    "Add a method called increment_number_served() that lets you increment\n",
    "the number of customers who’ve been served. Call this method with any number\n",
    "you like that could represent how many customers were served in, say, a day of\n",
    "business."
   ]
  },
  {
   "cell_type": "code",
   "execution_count": 45,
   "id": "5b507aaf-2b2f-4c5f-ace5-0e75120490a0",
   "metadata": {},
   "outputs": [
    {
     "name": "stdout",
     "output_type": "stream",
     "text": [
      "Restaurant Anri served 0 customers\n",
      "Restaurant Anri served 20 customers\n",
      "Restaurant Anri served 30 customers\n",
      "Restaurant Anri served 70 customers\n"
     ]
    }
   ],
   "source": [
    "class Restaurant:\n",
    "    \"\"\" Make a restaurant with name and cuisine type \"\"\"\n",
    "    def __init__(self, name, cuisine):\n",
    "        \"\"\" Initialize name and cuisine type attributes. \"\"\"\n",
    "        self.name = name\n",
    "        self.cuisine = cuisine\n",
    "        self.number_served = 0\n",
    "\n",
    "    def describe_restaurant(self):\n",
    "        \"\"\" Introduce about restaurant \"\"\"\n",
    "        print(f'The {self.name} is a {self.cuisine} restaurant')\n",
    "\n",
    "    def set_number_serve(self,number_customers):\n",
    "        self.number_served = number_customers\n",
    "\n",
    "    def increment_number_served(self,customers):\n",
    "        self.number_served += customers\n",
    "\n",
    "    def display_number_customers(self):\n",
    "        print(f'Restaurant {self.name} served {self.number_served} customers')\n",
    "\n",
    "    def open_restaurant(self):\n",
    "        print(f'Restaurant {self.name} is open now')\n",
    "my_restaurant = Restaurant('Anri', 'Sushi')\n",
    "print(f'Restaurant {my_restaurant.name} served {my_restaurant.number_served} customers')\n",
    "my_restaurant.number_served = 20\n",
    "print(f'Restaurant {my_restaurant.name} served {my_restaurant.number_served} customers')\n",
    "my_restaurant.set_number_serve(30)\n",
    "my_restaurant.display_number_customers()\n",
    "my_restaurant.increment_number_served(40)\n",
    "my_restaurant.display_number_customers()\n"
   ]
  },
  {
   "cell_type": "markdown",
   "id": "2e3bb1ea-10d2-48b4-8212-4f41de46444c",
   "metadata": {},
   "source": [
    "9-5. Login Attempts: Add an attribute called login_attempts to your User class\n",
    "from Exercise 9-3 (page 162). Write a method called increment_login_attempts()\n",
    "that increments the value of login_attempts by 1. Write another method called\n",
    "reset_login_attempts() that resets the value of login_attempts to 0.\n",
    "Make an instance of the User class and call increment_login_attempts()\n",
    "several times. Print the value of login_attempts to make sure it was incremented\n",
    "properly, and then call reset_login_attempts(). Print login_attempts again to\n",
    "make sure it was reset to 0."
   ]
  },
  {
   "cell_type": "code",
   "execution_count": 55,
   "id": "be339770-b6ea-4386-9eda-2ed5f975ea7c",
   "metadata": {},
   "outputs": [
    {
     "name": "stdout",
     "output_type": "stream",
     "text": [
      "70\n",
      "0\n"
     ]
    }
   ],
   "source": [
    "class User:\n",
    "    \"\"\" Define an user \"\"\"\n",
    "    def __init__(self, first_name, last_name):\n",
    "        \"\"\" Initilize a first name and last name attributes \"\"\"\n",
    "        self.first_name = first_name.title()\n",
    "        self.last_name = last_name.title()\n",
    "        self.login_attempts = 0\n",
    "\n",
    "    def increment_login_attempts(self,number_login_attemps):\n",
    "        self.login_attempts += number_login_attemps\n",
    "\n",
    "    def reset_login_attemps(self):\n",
    "        self.login_attempts = 0\n",
    "\n",
    "    def describe_user(self):\n",
    "        print(f'User full name is: {self.first_name} {self.last_name}')\n",
    "\n",
    "\n",
    "    def greet_user (self):\n",
    "        print(f'Greeting {self.first_name} {self.last_name}')\n",
    "\n",
    "user2 = User('Hina', 'Kinami')\n",
    "user2.increment_login_attempts(20)\n",
    "user2.increment_login_attempts(40)\n",
    "user2.increment_login_attempts(10)\n",
    "print(f'{user2.login_attempts}')\n",
    "user2.reset_login_attemps()\n",
    "print(f'{user2.login_attempts}')"
   ]
  },
  {
   "cell_type": "code",
   "execution_count": 61,
   "id": "ec95cbd3-4dd1-4463-9994-3b04740bd2b2",
   "metadata": {},
   "outputs": [
    {
     "name": "stdout",
     "output_type": "stream",
     "text": [
      "The car is nissan leaf 2024\n",
      "This car has a 40-kWh battery\n"
     ]
    }
   ],
   "source": [
    "class Car:\n",
    "    \"\"\" Create a car blueprint \"\"\"\n",
    "    def __init__(self, name, model, year):\n",
    "        self.name = name\n",
    "        self.model = model\n",
    "        self.year = year\n",
    "        self.odometer = 0\n",
    "    def describe_car(self):\n",
    "        print(f'The car is {self.name} {self.model} {self.year}')\n",
    "\n",
    "    def update_odometer(self,mileage):\n",
    "        if mileage >= self.odometer:\n",
    "            self.odometer = mileage\n",
    "        else:\n",
    "            print('You can not roll back odometer')\n",
    "     \n",
    "    def read_odometer(self):\n",
    "        print(f\"The car's mileage is {self.odometer}\")\n",
    "\n",
    "    \n",
    "        \n",
    "\n",
    "class ElectricCar(Car):\n",
    "    def __init__(self, name, model, year):\n",
    "        super().__init__(name, model, year)\n",
    "        self.battery_size = 40\n",
    "\n",
    "    def describe_battery(self):\n",
    "        print(f'This car has a {self.battery_size}-kWh battery')\n",
    "\n",
    "    def fill_gas_tank(self):\n",
    "        print('This car does not have a gas tank')\n",
    "\n",
    "my_leaf = ElectricCar('nissan', 'leaf', 2024)\n",
    "my_leaf.describe_car()\n",
    "my_leaf.describe_battery()"
   ]
  },
  {
   "cell_type": "markdown",
   "id": "31da4465-aa7e-4518-a82e-4cd847f75e84",
   "metadata": {},
   "source": [
    "9-6. Ice Cream Stand: An ice cream stand is a specific kind of restaurant. Write\n",
    "a class called IceCreamStand that inherits from the Restaurant class you wrote in\n",
    "Exercise 9-1 (page 162) or Exercise 9-4 (page 166). Either version of the class\n",
    "will work; just pick the one you like better. Add an attribute called flavors that\n",
    "stores a list of ice cream flavors. Write a method that displays these flavors.\n",
    "Create an instance of IceCreamStand, and call this method."
   ]
  },
  {
   "cell_type": "code",
   "execution_count": 103,
   "id": "11ccb29d-8ef7-477d-a4f0-4c677e882f90",
   "metadata": {},
   "outputs": [
    {
     "name": "stdout",
     "output_type": "stream",
     "text": [
      "Ice cream flavors:\n",
      "-vani\n",
      "-socola\n"
     ]
    }
   ],
   "source": [
    "class Restaurant:\n",
    "    \"\"\" Make a restaurant with name and cuisine type \"\"\"\n",
    "    def __init__(self, name, cuisine):\n",
    "        \"\"\" Initialize name and cuisine type attributes. \"\"\"\n",
    "        self.name = name\n",
    "        self.cuisine = cuisine\n",
    "        self.number_served = 0\n",
    "\n",
    "    def describe_restaurant(self):\n",
    "        \"\"\" Introduce about restaurant \"\"\"\n",
    "        print(f'The {self.name} is a {self.cuisine} restaurant')\n",
    "\n",
    "    def set_number_serve(self,number_customers):\n",
    "        self.number_served = number_customers\n",
    "\n",
    "    def increment_number_served(self,customers):\n",
    "        self.number_served += customers\n",
    "\n",
    "    def display_number_customers(self):\n",
    "        print(f'Restaurant {self.name} served {self.number_served} customers')\n",
    "\n",
    "    def open_restaurant(self):\n",
    "        print(f'Restaurant {self.name} is open now')\n",
    "\n",
    "\n",
    "class IceCreamStand(Restaurant):\n",
    "    \"\"\" make a child class Ice cream of class restaurant \"\"\"\n",
    "    def __init__(self, name, cuisine, *flavors):\n",
    "        super(). __init__(name, cuisine)\n",
    "        self.flavors = []\n",
    "\n",
    "    def add_flavor(self, *add_flavors):\n",
    "        for add_flavor in add_flavors:\n",
    "            self.flavors.append(add_flavor)\n",
    "        return self.flavors\n",
    "\n",
    "    def display_flavors(self):\n",
    "        print(f'Ice cream flavors:')\n",
    "        for flavor in self.flavors:\n",
    "            print(f'-{flavor}')\n",
    "ice_cream1 = IceCreamStand('Yuu', 'Japanese')\n",
    "ice_cream1.add_flavor('vani', 'socola')\n",
    "ice_cream1.display_flavors()"
   ]
  },
  {
   "cell_type": "code",
   "execution_count": null,
   "id": "e307b4e7-7eb1-4073-a2df-5dee1732b0d5",
   "metadata": {},
   "outputs": [],
   "source": []
  }
 ],
 "metadata": {
  "kernelspec": {
   "display_name": "Python [conda env:base] *",
   "language": "python",
   "name": "conda-base-py"
  },
  "language_info": {
   "codemirror_mode": {
    "name": "ipython",
    "version": 3
   },
   "file_extension": ".py",
   "mimetype": "text/x-python",
   "name": "python",
   "nbconvert_exporter": "python",
   "pygments_lexer": "ipython3",
   "version": "3.12.3"
  }
 },
 "nbformat": 4,
 "nbformat_minor": 5
}
