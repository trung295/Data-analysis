{
 "cells": [
  {
   "cell_type": "code",
   "execution_count": 2,
   "id": "7a0773c8-f16b-4214-a35c-fc8c51c70614",
   "metadata": {},
   "outputs": [
    {
     "name": "stdout",
     "output_type": "stream",
     "text": [
      "{'color': 'green', 'points': 5}\n"
     ]
    }
   ],
   "source": [
    "alien_0 = {'color': 'green', 'points': 5}\n",
    "print(alien_0)"
   ]
  },
  {
   "cell_type": "code",
   "execution_count": 4,
   "id": "947b735c-0a99-462d-bfc2-e2c800ad7b1e",
   "metadata": {},
   "outputs": [
    {
     "name": "stdout",
     "output_type": "stream",
     "text": [
      "{'color': 'green', 'points': 5, 'x_position': 0, 'y_position': 25}\n"
     ]
    }
   ],
   "source": [
    "alien_0['x_position'] = 0\n",
    "alien_0['y_position'] = 25\n",
    "print(alien_0)"
   ]
  },
  {
   "cell_type": "code",
   "execution_count": 6,
   "id": "2c880d3d-039d-4fa2-b897-ccc11c17fb62",
   "metadata": {},
   "outputs": [
    {
     "name": "stdout",
     "output_type": "stream",
     "text": [
      "{'color': 'green', 'points': 5}\n"
     ]
    }
   ],
   "source": [
    "alien_0 = {}\n",
    "alien_0['color'] = 'green'\n",
    "alien_0['points'] = 5\n",
    "print(alien_0)"
   ]
  },
  {
   "cell_type": "code",
   "execution_count": 8,
   "id": "8f72c33c-4504-4d20-8321-7073164dc193",
   "metadata": {},
   "outputs": [
    {
     "name": "stdout",
     "output_type": "stream",
     "text": [
      "Original position: 0\n"
     ]
    }
   ],
   "source": [
    "alien_0 = {'x_position': 0, 'y_position': 25, 'speed': 'medium'}\n",
    "print(f\"Original position: {alien_0['x_position']}\")"
   ]
  },
  {
   "cell_type": "code",
   "execution_count": 10,
   "id": "86f3529a-053e-44db-9ac7-44a400c59813",
   "metadata": {},
   "outputs": [
    {
     "name": "stdout",
     "output_type": "stream",
     "text": [
      "New position: 2\n"
     ]
    }
   ],
   "source": [
    "# Move the alien to the right.\n",
    "# Determine how far to move the alien based on its current speed.\n",
    "if alien_0['speed'] == 'slow':\n",
    "    x_increment = 1\n",
    "elif alien_0['speed'] == 'medium':\n",
    "    x_increment = 2\n",
    "else:\n",
    "    # This must be fast alien\n",
    "    x_increment = 3\n",
    "\n",
    "# The new position is the old position plus the increment.\n",
    "alien_0['x_position'] = alien_0['x_position'] + x_increment\n",
    "\n",
    "print(f'New position: {alien_0['x_position']}')\n"
   ]
  },
  {
   "cell_type": "code",
   "execution_count": 30,
   "id": "c38db124-b5c0-4a88-9d0c-3508e210ae8a",
   "metadata": {},
   "outputs": [
    {
     "data": {
      "text/plain": [
       "'python'"
      ]
     },
     "execution_count": 30,
     "metadata": {},
     "output_type": "execute_result"
    }
   ],
   "source": [
    "favorite_languages = {\n",
    "    'jen': 'python',\n",
    "    'sarah': 'c',\n",
    "    'edward': 'rust',\n",
    "    'phil': 'python',\n",
    "    }\n",
    "favorite_languages.get('jen')"
   ]
  },
  {
   "cell_type": "markdown",
   "id": "d864c477-1275-47db-9f8f-a83334b363c0",
   "metadata": {},
   "source": [
    "📝 6-1. Person: Use a dictionary to store information about a person you know.\n",
    "Store their first name, last name, age, and the city in which they live. You\n",
    "should have keys such as first_name, last_name, age, and city. Print each piece\n",
    "of information stored in your dictionary."
   ]
  },
  {
   "cell_type": "code",
   "execution_count": 18,
   "id": "d0364d71-53b3-42d7-b74e-07d33f7d013e",
   "metadata": {},
   "outputs": [
    {
     "name": "stdout",
     "output_type": "stream",
     "text": [
      "She is Yuu Shinoda. She is 25 years old and she live in Tokyo\n"
     ]
    }
   ],
   "source": [
    "girl1 = {\n",
    "    'first_name': 'Yuu',\n",
    "    'last_name': 'Shinoda',\n",
    "    'age': 25,\n",
    "    'city': 'Tokyo',\n",
    "    }\n",
    "print(f'She is {girl1['first_name']} {crush['last_name']}. She is {girl1['age']} years old and she live in {girl1['city']}')"
   ]
  },
  {
   "cell_type": "markdown",
   "id": "8c8bb46b-0823-4179-975f-851141dad975",
   "metadata": {},
   "source": [
    "📝 6-2. Favorite Numbers: Use a dictionary to store people’s favorite numbers.\n",
    "Think of five names, and use them as keys in your dictionary. Think of a favorite number \n",
    "for each person, and store each as a value in your dictionary. Print\n",
    "each person’s name and their favorite number. For even more fun, poll a few\n",
    "friends and get some actual data for your program."
   ]
  },
  {
   "cell_type": "code",
   "execution_count": 22,
   "id": "f4360580-b02d-4e15-b42f-5a68ce5635fa",
   "metadata": {},
   "outputs": [
    {
     "name": "stdout",
     "output_type": "stream",
     "text": [
      "Favorite number of Yuu is 9\n",
      "Favorite number of Sakura is 8\n",
      "Favorite number of Miu is 8\n",
      "Favorite number of Hina is 9\n",
      "Favorite number of Anri is 8\n"
     ]
    }
   ],
   "source": [
    "favorite_numbers = {\n",
    "    'Yuu': 9,\n",
    "    'Sakura': 8,\n",
    "    'Miu': 8,\n",
    "    'Hina': 9,\n",
    "    'Anri': 8\n",
    "    }\n",
    "print(f'Favorite number of Yuu is {favorite_numbers['Yuu']}')\n",
    "print(f'Favorite number of Sakura is {favorite_numbers['Sakura']}')\n",
    "print(f'Favorite number of Miu is {favorite_numbers['Miu']}')\n",
    "print(f'Favorite number of Hina is {favorite_numbers['Hina']}')\n",
    "print(f'Favorite number of Anri is {favorite_numbers['Anri']}')"
   ]
  },
  {
   "cell_type": "code",
   "execution_count": 38,
   "id": "f97d78fd-903e-405f-988f-7f82150e08eb",
   "metadata": {},
   "outputs": [
    {
     "name": "stdout",
     "output_type": "stream",
     "text": [
      "Key: username\n",
      "Value: YuuShi\n",
      "\n",
      "Key: first\n",
      "Value: Yuu\n",
      "\n",
      "Key: last\n",
      "Value: Shinoda\n",
      "\n"
     ]
    }
   ],
   "source": [
    "user_0 = {\n",
    "    'username': 'YuuShi',\n",
    "    'first': 'Yuu',\n",
    "    'last': 'Shinoda',\n",
    "    }\n",
    "for key, value in user_0.items():\n",
    "    print(f'Key: {key}')\n",
    "    print(f'Value: {value}\\n')"
   ]
  },
  {
   "cell_type": "markdown",
   "id": "bbcb38a8-90cf-4a7e-8e0c-64e7cc26fbb7",
   "metadata": {},
   "source": [
    "📝 6-3. Glossary: A Python dictionary can be used to model an actual dictionary.\n",
    "However, to avoid confusion, let’s call it a glossary.\n",
    "• Think of five programming words you’ve learned about in the previous\n",
    "chapters. Use these words as the keys in your glossary, and store their\n",
    "meanings as values.\n",
    "• Print each word and its meaning as neatly formatted output. You might\n",
    "print the word followed by a colon and then its meaning, or print the word\n",
    "on one line and then print its meaning indented on a second line. Use the\n",
    "newline character (\\n) to insert a blank line between each word-meaning\n",
    "pair in your output."
   ]
  },
  {
   "cell_type": "code",
   "execution_count": 42,
   "id": "9a495b73-5fb2-47c9-bbb0-a9530b30eecd",
   "metadata": {},
   "outputs": [
    {
     "name": "stdout",
     "output_type": "stream",
     "text": [
      "upper(): convert string to upper case\n",
      "lower(): convert string to lower case\n",
      "capitalize(): convert first string word to upper case\n",
      "title(): cover every first string words to upper case\n",
      "strip(): remove space in string\n"
     ]
    }
   ],
   "source": [
    "programming_words = {\n",
    "    'upper': 'convert string to upper case',\n",
    "    'lower': 'convert string to lower case',\n",
    "    'capitalize': 'convert first string word to upper case',\n",
    "    'title': 'cover every first string words to upper case',\n",
    "    'strip': 'remove space in string',\n",
    "    }\n",
    "print(f'upper(): {programming_words['upper']}')\n",
    "print(f'lower(): {programming_words['lower']}')\n",
    "print(f'capitalize(): {programming_words['capitalize']}')\n",
    "print(f'title(): {programming_words['title']}')\n",
    "print(f'strip(): {programming_words['strip']}')"
   ]
  },
  {
   "cell_type": "markdown",
   "id": "317166f5-b234-43c5-b82c-a8e50c23e8a6",
   "metadata": {},
   "source": [
    "📝 6-4. Glossary 2: Now that you know how to loop through a dictionary, clean\n",
    "up the code from Exercise 6-3 (page 99) by replacing your series of print()\n",
    "calls with a loop that runs through the dictionary’s keys and values. When\n",
    "you’re sure that your loop works, add five more Python terms to your glossary.\n",
    "When you run your program again, these new words and meanings should\n",
    "automatically be included in the output."
   ]
  },
  {
   "cell_type": "code",
   "execution_count": 50,
   "id": "09c1dfbd-06ee-462e-a107-e9955ce06085",
   "metadata": {},
   "outputs": [
    {
     "name": "stdout",
     "output_type": "stream",
     "text": [
      "upper(): convert string to upper case\n",
      "lower(): convert string to lower case\n",
      "capitalize(): convert first string word to upper case\n",
      "title(): cover every first string words to upper case\n",
      "strip(): remove space in string\n",
      "lstrip(): remove space in left side of string\n",
      "rstrip(): remove space in right side of string\n"
     ]
    }
   ],
   "source": [
    "programming_words = {\n",
    "    'upper': 'convert string to upper case',\n",
    "    'lower': 'convert string to lower case',\n",
    "    'capitalize': 'convert first string word to upper case',\n",
    "    'title': 'cover every first string words to upper case',\n",
    "    'strip': 'remove space in string',\n",
    "    }\n",
    "programming_words['lstrip'] = 'remove space in left side of string'\n",
    "programming_words['rstrip'] = 'remove space in right side of string'\n",
    "for method, meaning in programming_words.items():\n",
    "    print(f'{method}(): {meaning}')"
   ]
  },
  {
   "cell_type": "markdown",
   "id": "9b60275f-0236-4ed2-9c31-c60c7b462bd0",
   "metadata": {},
   "source": [
    "📝 6-5. Rivers: Make a dictionary containing three major rivers and the country\n",
    "each river runs through. One key-value pair might be 'nile': 'egypt'.\n",
    "• Use a loop to print a sentence about each river, such as The Nile runs\n",
    "through Egypt.\n",
    "• Use a loop to print the name of each river included in the dictionary.\n",
    "• Use a loop to print the name of each country included in the dictionary."
   ]
  },
  {
   "cell_type": "code",
   "execution_count": 60,
   "id": "18b8f12d-b76c-488e-a53d-df2b9f80144a",
   "metadata": {},
   "outputs": [
    {
     "name": "stdout",
     "output_type": "stream",
     "text": [
      "Nile run through Egypt\n",
      "Volga run through Russia\n",
      "Tg run through China\n",
      "\n",
      "Nile\n",
      "Volga\n",
      "Tg\n",
      "\n",
      "Egypt\n",
      "Russia\n",
      "China\n"
     ]
    }
   ],
   "source": [
    "rivers = {\n",
    "    'Nile': 'Egypt',\n",
    "    'Volga': 'Russia',\n",
    "    'TG': 'China'\n",
    "    }\n",
    "for river, country in rivers.items():\n",
    "    print(f'{river.title()} run through {country.title()}')\n",
    "print('')\n",
    "for river in rivers.keys():\n",
    "    print (river.title())\n",
    "print('')\n",
    "for country in rivers.values():\n",
    "    print(country.title())"
   ]
  },
  {
   "cell_type": "markdown",
   "id": "240a259c-fdee-4cc6-932a-56ed201a8b3b",
   "metadata": {},
   "source": [
    "📝 6-6. Polling: Use the code in favorite_languages.py (page 96).\n",
    "• Make a list of people who should take the favorite languages poll. Include\n",
    "some names that are already in the dictionary and some that are not.\n",
    "• Loop through the list of people who should take the poll. If they have\n",
    "already taken the poll, print a message thanking them for responding.\n",
    "If they have not yet taken the poll, print a message inviting them to take\n",
    "the poll."
   ]
  },
  {
   "cell_type": "code",
   "execution_count": 62,
   "id": "aba13a63-6960-46d5-9d4f-6ea775f175a1",
   "metadata": {},
   "outputs": [
    {
     "name": "stdout",
     "output_type": "stream",
     "text": [
      "Would Terry want to take the poll?\n",
      "Would Leah want to take the poll?\n",
      "Thank Sarah for responding\n",
      "Thank Phil for responding\n"
     ]
    }
   ],
   "source": [
    "favorite_languages = {\n",
    "    'jen': 'python',\n",
    "    'sarah': 'c',\n",
    "    'edward': 'java',\n",
    "    'phil': 'python',\n",
    "    }\n",
    "people = ['Terry','Leah','Sarah','Phil']\n",
    "for person in people:\n",
    "    if person.lower() in favorite_languages.keys():\n",
    "        print(f'Thank {person.title()} for responding')\n",
    "    else:\n",
    "        print(f'Would {person.title()} want to take the poll?')"
   ]
  },
  {
   "cell_type": "code",
   "execution_count": 1,
   "id": "7dfcd82e-94d0-4933-b244-0c11b71b7d0f",
   "metadata": {},
   "outputs": [
    {
     "name": "stdout",
     "output_type": "stream",
     "text": [
      "{'color': 'green', 'points': 5}\n",
      "{'color': 'yellow', 'points': 10}\n",
      "{'color': 'red', 'points': 15}\n"
     ]
    }
   ],
   "source": [
    "alien_0 = {'color': 'green', 'points': 5}\n",
    "alien_1 = {'color': 'yellow', 'points': 10}\n",
    "alien_2 = {'color': 'red', 'points': 15}\n",
    "aliens = [alien_0, alien_1, alien_2]\n",
    "for alien in aliens:\n",
    "    print(alien)\n"
   ]
  },
  {
   "cell_type": "code",
   "execution_count": 3,
   "id": "f18922c1-f193-4cf3-8c09-238d2084f2cb",
   "metadata": {},
   "outputs": [
    {
     "name": "stdout",
     "output_type": "stream",
     "text": [
      "{'color': 'green', 'points': 5, 'speed': 'slow'}\n",
      "{'color': 'green', 'points': 5, 'speed': 'slow'}\n",
      "{'color': 'green', 'points': 5, 'speed': 'slow'}\n",
      "{'color': 'green', 'points': 5, 'speed': 'slow'}\n",
      "{'color': 'green', 'points': 5, 'speed': 'slow'}\n"
     ]
    }
   ],
   "source": [
    "aliens = []\n",
    "for alien_number in range(30):\n",
    "    new_alien = {\n",
    "        'color': 'green',\n",
    "        'points': 5,\n",
    "        'speed': 'slow'\n",
    "        }\n",
    "    aliens.append(new_alien)\n",
    "for alien in aliens[:5]:\n",
    "    print(alien)"
   ]
  },
  {
   "cell_type": "code",
   "execution_count": 13,
   "id": "8f2f41db-cc78-41f6-8209-75cd5e311378",
   "metadata": {},
   "outputs": [
    {
     "name": "stdout",
     "output_type": "stream",
     "text": [
      "{'color': 'yellow', 'points': 10, 'speed': 'medium'}\n",
      "{'color': 'yellow', 'points': 10, 'speed': 'medium'}\n",
      "{'color': 'yellow', 'points': 10, 'speed': 'medium'}\n",
      "{'color': 'yellow', 'points': 10, 'speed': 'medium'}\n",
      "{'color': 'green', 'points': 5, 'speed': 'slow'}\n",
      "{'color': 'green', 'points': 5, 'speed': 'slow'}\n",
      "{'color': 'green', 'points': 5, 'speed': 'slow'}\n",
      "{'color': 'green', 'points': 5, 'speed': 'slow'}\n",
      "{'color': 'green', 'points': 5, 'speed': 'slow'}\n",
      "{'color': 'green', 'points': 5, 'speed': 'slow'}\n"
     ]
    }
   ],
   "source": [
    "for alien in aliens[4:]:\n",
    "    if alien['color'] == 'yellow':\n",
    "        alien['color'] = 'green'\n",
    "        alien['points'] = 5\n",
    "        alien['speed'] = 'slow'\n",
    "for alien in aliens[:10]:\n",
    "    print(alien)"
   ]
  },
  {
   "cell_type": "code",
   "execution_count": 25,
   "id": "c045f1c2-1320-4107-bd9a-21519613e6e3",
   "metadata": {},
   "outputs": [
    {
     "name": "stdout",
     "output_type": "stream",
     "text": [
      "Jen's favorite languages are:\n",
      "Python\n",
      "Rust\n",
      "Sarah's favorite language is:\n",
      "C\n",
      "Edward's favorite languages are:\n",
      "Rust\n",
      "Go\n",
      "Phil's favorite languages are:\n",
      "Python\n",
      "Haskell\n"
     ]
    }
   ],
   "source": [
    "favorite_languages = {\n",
    "    'jen': ['python', 'rust'],\n",
    "    'sarah': ['c'],\n",
    "    'edward': ['rust', 'go'],\n",
    "    'phil': ['python', 'haskell'],\n",
    "    }\n",
    "\n",
    "for name, languages in favorite_languages.items():\n",
    "    if len(languages) >1:\n",
    "        print(f\"{name.title()}'s favorite languages are:\")\n",
    "        for language in languages:\n",
    "            print(language.title())\n",
    "    else:\n",
    "        print(f\"{name.title()}'s favorite language is:\")\n",
    "        for language in languages:\n",
    "            print(language.title())\n",
    "\n"
   ]
  },
  {
   "cell_type": "markdown",
   "id": "f69a0b36-1390-4d50-8499-f42b6b7e661f",
   "metadata": {},
   "source": [
    "6-7. People: Start with the program you wrote for Exercise 6-1 (page 98). Make\n",
    "two new dictionaries representing different people, and store all three dictionaries\n",
    "in a list called people. Loop through your list of people. As you loop through\n",
    "the list, print everything you know about each person."
   ]
  },
  {
   "cell_type": "code",
   "execution_count": 31,
   "id": "6ec6733c-83b9-4d61-beba-0f18b01e530b",
   "metadata": {},
   "outputs": [
    {
     "name": "stdout",
     "output_type": "stream",
     "text": [
      "She is Yuu Shinoda. She is 25 years old and she live in Tokyo\n",
      "She is Hina Kinami. She is 20 years old and she live in Kyoto\n",
      "She is Sakura Kirishima. She is 24 years old and she live in Tokyo\n"
     ]
    }
   ],
   "source": [
    "girl1 = {\n",
    "    'first_name': 'Yuu',\n",
    "    'last_name': 'Shinoda',\n",
    "    'age': 25,\n",
    "    'city': 'Tokyo',\n",
    "    }\n",
    "girl2 = {\n",
    "    'first_name': 'Hina',\n",
    "    'last_name': 'Kinami',\n",
    "    'age': 20,\n",
    "    'city': 'Kyoto',\n",
    "    }\n",
    "girl3 = {\n",
    "    'first_name': 'Sakura',\n",
    "    'last_name': 'Kirishima',\n",
    "    'age': 24,\n",
    "    'city': 'Tokyo',\n",
    "    }\n",
    "people = [girl1,girl2,girl3]\n",
    "for person in people:\n",
    "    print(f'She is {person['first_name']} {person['last_name']}. She is {person['age']} years old and she live in {person['city']}')"
   ]
  },
  {
   "cell_type": "markdown",
   "id": "1978306f-e05e-4e07-865b-b94a78fc4199",
   "metadata": {},
   "source": [
    "6-8. Pets: Make several dictionaries, where each dictionary represents a different\n",
    "pet. In each dictionary, include the kind of animal and the owner’s name.\n",
    "Store these dictionaries in a list called pets. Next, loop through your list and as\n",
    "you do, print everything you know about each pet."
   ]
  },
  {
   "cell_type": "code",
   "execution_count": 3,
   "id": "bedc799c-bd77-45f0-9c52-ad9e515659e2",
   "metadata": {},
   "outputs": [
    {
     "name": "stdout",
     "output_type": "stream",
     "text": [
      "The owner of this dog is Terry\n",
      "The owner of this cat is Karen\n",
      "The owner of this mouse is Nastya\n"
     ]
    }
   ],
   "source": [
    "pet1 = {\n",
    "    'animal': 'dog',\n",
    "    'owner': 'Terry',\n",
    "}\n",
    "pet2 = {\n",
    "    'animal': 'cat',\n",
    "    'owner': 'Karen',\n",
    "}\n",
    "pet3 = {\n",
    "    'animal': 'mouse',\n",
    "    'owner': 'Nastya',\n",
    "}\n",
    "pets = [pet1,pet2,pet3]\n",
    "for pet in pets:\n",
    "    print(f'The owner of this {pet['animal']} is {pet['owner']}')"
   ]
  },
  {
   "cell_type": "markdown",
   "id": "e55047c9-eaa5-4b8b-aa0b-6a36d6330c97",
   "metadata": {},
   "source": [
    "6-9. Favorite Places: Make a dictionary called favorite_places. Think of three\n",
    "names to use as keys in the dictionary, and store one to three favorite places for\n",
    "each person. To make this exercise a bit more interesting, ask some friends to\n",
    "name a few of their favorite places. Loop through the dictionary, and print each\n",
    "person’s name and their favorite places."
   ]
  },
  {
   "cell_type": "code",
   "execution_count": 5,
   "id": "be268d80-92a2-41b1-b23c-ad333e935797",
   "metadata": {},
   "outputs": [
    {
     "name": "stdout",
     "output_type": "stream",
     "text": [
      "Favorite place of Nene are:\n",
      "Sofa\n",
      "Bedroom\n",
      "Favorite place of Miu are:\n",
      "Wc\n",
      "Bathroom\n",
      "Favorite place of Hina are:\n",
      "Restaurant\n",
      "Office\n"
     ]
    }
   ],
   "source": [
    "favorite_places = {\n",
    "    'Nene': ['sofa','bedroom'],\n",
    "    'Miu': ['wc','bathroom'],\n",
    "    'Hina': ['restaurant','office']\n",
    "}\n",
    "for name, favorite_place in favorite_places.items():\n",
    "    print(f'Favorite place of {name} are:')\n",
    "    for place in favorite_place:\n",
    "        print(place.title())"
   ]
  },
  {
   "cell_type": "markdown",
   "id": "66996231-9532-4f33-ac44-6fa0c6b0dcfb",
   "metadata": {},
   "source": [
    "6-10. Favorite Numbers: Modify your program from Exercise 6-2 (page 98) so\n",
    "each person can have more than one favorite number. Then print each person’s\n",
    "name along with their favorite numbers."
   ]
  },
  {
   "cell_type": "code",
   "execution_count": 15,
   "id": "010d94e4-4954-4dfb-a93f-54abd9db37e8",
   "metadata": {},
   "outputs": [
    {
     "name": "stdout",
     "output_type": "stream",
     "text": [
      "Favorite numbers of Yuu are:\n",
      "9\n",
      "12\n",
      "11\n",
      "Favorite numbers of Sakura are:\n",
      "8\n",
      "6\n",
      "Favorite number of Miu is:\n",
      "8\n",
      "Favorite numbers of Hina are:\n",
      "9\n",
      "21\n",
      "33\n",
      "Favorite number of Anri is:\n",
      "8\n"
     ]
    },
    {
     "data": {
      "text/plain": [
       "['Anri', 'Hina', 'Miu', 'Sakura', 'Yuu']"
      ]
     },
     "execution_count": 15,
     "metadata": {},
     "output_type": "execute_result"
    }
   ],
   "source": [
    "favorite_numbers = {\n",
    "    'Yuu': [9,12,11],\n",
    "    'Sakura': [8,6],\n",
    "    'Miu': [8],\n",
    "    'Hina': [9,21,33],\n",
    "    'Anri': [8],\n",
    "    }\n",
    "for name, favorite_number in favorite_numbers.items():\n",
    "    if len(favorite_number) >1:\n",
    "        print(f'Favorite numbers of {name} are:')\n",
    "        for number in favorite_number:\n",
    "            print(number)\n",
    "    else:\n",
    "        print(f'Favorite number of {name} is:')\n",
    "        for number in favorite_number:\n",
    "            print(number)\n",
    "            \n",
    "    "
   ]
  },
  {
   "cell_type": "markdown",
   "id": "db25f839-34cf-481d-ab37-74c0f72c7885",
   "metadata": {},
   "source": [
    "6-11. Cities: Make a dictionary called cities. Use the names of three cities as\n",
    "keys in your dictionary. Create a dictionary of information about each city and\n",
    "include the country that the city is in, its approximate population, and one fact\n",
    "about that city. The keys for each city’s dictionary should be something like\n",
    "country, population, and fact. Print the name of each city and all of the information\n",
    "you have stored about it."
   ]
  },
  {
   "cell_type": "code",
   "execution_count": 39,
   "id": "98c2a23e-c4d0-4ae5-a597-f6ca4fbb2ea6",
   "metadata": {},
   "outputs": [
    {
     "name": "stdout",
     "output_type": "stream",
     "text": [
      "City name: Helsinki\n",
      " Population: 600000\n",
      " Country: Finland\n",
      " Fact: Most happinest city\n",
      "\n",
      "City name: Tampere\n",
      " Population: 500000\n",
      " Country: Finland\n",
      " Fact: best living city\n",
      "\n",
      "City name: Turku\n",
      " Population: 300000\n",
      " Country: Finland\n",
      " Fact: cultural city\n",
      "\n"
     ]
    }
   ],
   "source": [
    "cities = {\n",
    "    'helsinki' : {\n",
    "        'population': 600_000,\n",
    "        'country': 'Finland',\n",
    "        'fact': 'Most happinest city'\n",
    "        },\n",
    "    'Tampere' : {\n",
    "        'population': 500_000,\n",
    "        'country': 'Finland',\n",
    "        'fact': 'best living city',\n",
    "        },\n",
    "    'Turku' : {\n",
    "        'population': 300_000,\n",
    "        'country': 'Finland',\n",
    "        'fact': 'cultural city',\n",
    "        }\n",
    "}\n",
    "for city, infos in cities.items():\n",
    "    print(f'City name: {city.title()}')\n",
    "    for info, value in infos.items():\n",
    "        print(f' {info.title()}: {value}')\n",
    "    print(\"\")\n",
    "   "
   ]
  },
  {
   "cell_type": "code",
   "execution_count": null,
   "id": "2bcf7d76-efe5-4709-8e68-5cd33d903a8b",
   "metadata": {},
   "outputs": [],
   "source": []
  }
 ],
 "metadata": {
  "kernelspec": {
   "display_name": "Python [conda env:base] *",
   "language": "python",
   "name": "conda-base-py"
  },
  "language_info": {
   "codemirror_mode": {
    "name": "ipython",
    "version": 3
   },
   "file_extension": ".py",
   "mimetype": "text/x-python",
   "name": "python",
   "nbconvert_exporter": "python",
   "pygments_lexer": "ipython3",
   "version": "3.12.3"
  }
 },
 "nbformat": 4,
 "nbformat_minor": 5
}
