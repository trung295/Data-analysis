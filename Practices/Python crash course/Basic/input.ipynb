{
 "cells": [
  {
   "cell_type": "code",
   "execution_count": 1,
   "id": "8c9dfa32-0c75-41d9-9df6-fc882ccbcfc3",
   "metadata": {},
   "outputs": [
    {
     "name": "stdin",
     "output_type": "stream",
     "text": [
      "Tell me something, and I will repeat it back to you:  Hei\n"
     ]
    },
    {
     "name": "stdout",
     "output_type": "stream",
     "text": [
      "Hei\n"
     ]
    }
   ],
   "source": [
    "message = input(\"Tell me something, and I will repeat it back to you: \")\n",
    "print(message)"
   ]
  },
  {
   "cell_type": "code",
   "execution_count": 3,
   "id": "5878c906-b159-45b6-903d-a788320c83ea",
   "metadata": {},
   "outputs": [
    {
     "name": "stdin",
     "output_type": "stream",
     "text": [
      "Please enter your name:  Hoang\n"
     ]
    },
    {
     "name": "stdout",
     "output_type": "stream",
     "text": [
      "\n",
      "Hello, Hoang!\n"
     ]
    }
   ],
   "source": [
    "name = input(\"Please enter your name: \")\n",
    "print(f\"\\nHello, {name}!\")\n"
   ]
  },
  {
   "cell_type": "code",
   "execution_count": 7,
   "id": "433b1451-c545-4f18-a738-3ddce7a61a2c",
   "metadata": {},
   "outputs": [
    {
     "name": "stdin",
     "output_type": "stream",
     "text": [
      "If you share your name, we can personalize the messages you see.\n",
      "What is your first name?  Hoang\n"
     ]
    },
    {
     "name": "stdout",
     "output_type": "stream",
     "text": [
      "\n",
      "Hello, Hoang!\n"
     ]
    }
   ],
   "source": [
    "prompt = \"If you share your name, we can personalize the messages you see.\"\n",
    "prompt += \"\\nWhat is your first name? \"\n",
    "name = input(prompt)\n",
    "print(f\"\\nHello, {name}!\")"
   ]
  },
  {
   "cell_type": "code",
   "execution_count": 9,
   "id": "0b176c55-9617-4678-b243-73b8fa2e082f",
   "metadata": {},
   "outputs": [
    {
     "name": "stdin",
     "output_type": "stream",
     "text": [
      "How old are you? 21\n"
     ]
    },
    {
     "name": "stdout",
     "output_type": "stream",
     "text": [
      "<class 'int'>\n"
     ]
    }
   ],
   "source": [
    "age = int(input('How old are you?'))\n",
    "print(type(age))\n"
   ]
  },
  {
   "cell_type": "code",
   "execution_count": 15,
   "id": "dbfe54ad-b50e-4568-b592-cad69916eaf6",
   "metadata": {},
   "outputs": [
    {
     "name": "stdin",
     "output_type": "stream",
     "text": [
      "How tall are you? 48\n"
     ]
    },
    {
     "name": "stdout",
     "output_type": "stream",
     "text": [
      "\n",
      "You are tall enough to ride!\n"
     ]
    }
   ],
   "source": [
    "height = input('How tall are you?')\n",
    "height = int(height)\n",
    "\n",
    "if height >= 45:\n",
    "    print(f'\\nYou are tall enough to ride!')\n",
    "else:\n",
    "    print(f\"\\nYou'll be able to ride when you're a little older.\")"
   ]
  },
  {
   "cell_type": "markdown",
   "id": "02f547b1-3bc5-46ca-87ca-04f8a7a64120",
   "metadata": {},
   "source": [
    "7-1. Rental Car: Write a program that asks the user what kind of rental car they\n",
    "would like. Print a message about that car, such as “Let me see if I can find you\n",
    "a Subaru.”"
   ]
  },
  {
   "cell_type": "code",
   "execution_count": 17,
   "id": "8a236992-bf61-42e6-9780-d3206bcb497c",
   "metadata": {},
   "outputs": [
    {
     "name": "stdin",
     "output_type": "stream",
     "text": [
      "What kind of rental car you would like? Audi\n"
     ]
    },
    {
     "name": "stdout",
     "output_type": "stream",
     "text": [
      "\n",
      "Let me see if I can find you a Audi\n"
     ]
    }
   ],
   "source": [
    "rental_car = input('What kind of rental car you would like?')\n",
    "print(f'\\nLet me see if I can find you a {rental_car}')"
   ]
  },
  {
   "cell_type": "markdown",
   "id": "896efeab-e1e1-4b29-9f13-57a5b1d0d82a",
   "metadata": {},
   "source": [
    "7-2. Restaurant Seating: Write a program that asks the user how many people\n",
    "are in their dinner group. If the answer is more than eight, print a message saying\n",
    "they’ll have to wait for a table. Otherwise, report that their table is ready."
   ]
  },
  {
   "cell_type": "code",
   "execution_count": 21,
   "id": "dd990ee8-8f86-4147-b918-5e82be75f79a",
   "metadata": {},
   "outputs": [
    {
     "name": "stdin",
     "output_type": "stream",
     "text": [
      "How many people are in your dinner group?  4\n"
     ]
    },
    {
     "name": "stdout",
     "output_type": "stream",
     "text": [
      "\n",
      "Your table is ready\n"
     ]
    }
   ],
   "source": [
    "seating = input('How many people are in your dinner group? ')\n",
    "seating = int(seating)\n",
    "if seating >= 8:\n",
    "    print(f'\\nYou will have to wait for a table')\n",
    "else:\n",
    "    print(f'\\nYour table is ready')"
   ]
  },
  {
   "cell_type": "markdown",
   "id": "9ba41720-292b-45ce-99de-2b61d5ec635b",
   "metadata": {},
   "source": [
    "7-3. Multiples of Ten: Ask the user for a number, and then report whether the\n",
    "number is a multiple of 10 or not."
   ]
  },
  {
   "cell_type": "code",
   "execution_count": 27,
   "id": "142a9c84-05ab-4dec-9305-15bda307d9e8",
   "metadata": {},
   "outputs": [
    {
     "name": "stdin",
     "output_type": "stream",
     "text": [
      "What is your number?  38\n"
     ]
    },
    {
     "name": "stdout",
     "output_type": "stream",
     "text": [
      "\n",
      "38 is not a multiple of 10\n"
     ]
    }
   ],
   "source": [
    "number = int(input('What is your number? '))\n",
    "if number % 10 == 0:\n",
    "    print(f'\\n{number} is a multiple of 10!')\n",
    "else:\n",
    "    print(f'\\n{number} is not a multiple of 10')"
   ]
  },
  {
   "cell_type": "code",
   "execution_count": null,
   "id": "70066cec-b511-486e-9aad-1715b7f5a9da",
   "metadata": {},
   "outputs": [],
   "source": []
  }
 ],
 "metadata": {
  "kernelspec": {
   "display_name": "Python [conda env:base] *",
   "language": "python",
   "name": "conda-base-py"
  },
  "language_info": {
   "codemirror_mode": {
    "name": "ipython",
    "version": 3
   },
   "file_extension": ".py",
   "mimetype": "text/x-python",
   "name": "python",
   "nbconvert_exporter": "python",
   "pygments_lexer": "ipython3",
   "version": "3.12.3"
  }
 },
 "nbformat": 4,
 "nbformat_minor": 5
}
