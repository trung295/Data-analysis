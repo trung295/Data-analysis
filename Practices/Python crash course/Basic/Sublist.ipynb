{
 "cells": [
  {
   "cell_type": "code",
   "execution_count": 4,
   "id": "3d410af3-3b68-4038-a43a-84abf613b79b",
   "metadata": {},
   "outputs": [
    {
     "name": "stdout",
     "output_type": "stream",
     "text": [
      "['charles', 'martina', 'michael']\n"
     ]
    }
   ],
   "source": [
    "players = ['charles', 'martina', 'michael', 'florence', 'eli']\n",
    "print(players[0:3])"
   ]
  },
  {
   "cell_type": "code",
   "execution_count": 8,
   "id": "4f4e7dd8-551f-47c7-9259-7300f70b41fb",
   "metadata": {},
   "outputs": [
    {
     "name": "stdout",
     "output_type": "stream",
     "text": [
      "['florence', 'eli']\n"
     ]
    }
   ],
   "source": [
    "players = ['charles', 'martina', 'michael', 'florence', 'eli']\n",
    "print(players[-2:])"
   ]
  },
  {
   "cell_type": "code",
   "execution_count": 10,
   "id": "1152fb03-ab73-4ce1-948f-572a57d2248f",
   "metadata": {},
   "outputs": [
    {
     "name": "stdout",
     "output_type": "stream",
     "text": [
      "Here are the first three players on my team:\n",
      "Charles\n",
      "Martina\n",
      "Michael\n"
     ]
    }
   ],
   "source": [
    "players = ['charles', 'martina', 'michael', 'florence', 'eli']\n",
    "print(\"Here are the first three players on my team:\")\n",
    "for player in players[:3]:\n",
    "    print(player.title())"
   ]
  },
  {
   "cell_type": "code",
   "execution_count": 14,
   "id": "e1db8bdf-4eb9-469e-9dc5-47406bbcd209",
   "metadata": {},
   "outputs": [
    {
     "name": "stdout",
     "output_type": "stream",
     "text": [
      "My favorite foods are:\n",
      "['pizza', 'falafel', 'carrot cake']\n",
      "\n",
      "My friend's favorite foods are:\n",
      "['pizza', 'falafel', 'carrot cake']\n"
     ]
    }
   ],
   "source": [
    "my_foods = ['pizza', 'falafel', 'carrot cake']\n",
    "friend_foods = my_foods[:]\n",
    "print(\"My favorite foods are:\")\n",
    "print(my_foods)\n",
    "print(\"\\nMy friend's favorite foods are:\")\n",
    "print(friend_foods)"
   ]
  },
  {
   "cell_type": "markdown",
   "id": "27aa5595-5ae8-4666-8d1a-b8c47ebc518c",
   "metadata": {},
   "source": [
    "📝 4-10. Slices: Using one of the programs you wrote in this chapter, add several\n",
    "lines to the end of the program that do the following:\n",
    "• Print the message The first three items in the list are:. Then use a slice to\n",
    "print the first three items from that program’s list.\n",
    "• Print the message Three items from the middle of the list are:. Then use a\n",
    "slice to print three items from the middle of the list.\n",
    "• Print the message The last three items"
   ]
  },
  {
   "cell_type": "code",
   "execution_count": 26,
   "id": "b8c7f7a6-5b54-4620-8b64-e21a09c0203b",
   "metadata": {},
   "outputs": [
    {
     "name": "stdout",
     "output_type": "stream",
     "text": [
      "The first 3 food in my food:\n",
      "['falafel', 'carrot cake', 'noodle']\n",
      "The 3 middle food in my food:\n",
      "['carrot cake', 'noodle', 'kebab']\n",
      "The 3 last food in my food:\n",
      "['carrot cake', 'noodle', 'kebab']\n"
     ]
    }
   ],
   "source": [
    "my_foods = ['pizza', 'falafel', 'carrot cake','noodle','kebab']\n",
    "print(f'The first 3 food in my food:\\n{my_foods[1:4]}')\n",
    "print(f'The 3 middle food in my food:\\n{my_foods[2:5]}')\n",
    "print(f'The 3 last food in my food:\\n{my_foods[-3:]}')"
   ]
  },
  {
   "cell_type": "markdown",
   "id": "cbd6d7b2-539e-4f94-b92f-3984817af16b",
   "metadata": {},
   "source": [
    "📝 4-11. My Pizzas, Your Pizzas: Start with your program from Exercise 4-1 (page 56).\n",
    "Make a copy of the list of pizzas, and call it friend_pizzas. Then, do the\n",
    "following:\n",
    "• Add a new pizza to the original list.\n",
    "• Add a different pizza to the list friend_pizzas.\n",
    "• Prove that you have two separate lists. Print the message My favorite pizzas\n",
    "are:, and then use a for loop to print the first list. Print the message My\n",
    "friend’s favorite pizzas are:, and then use a for loop to print the second list."
   ]
  },
  {
   "cell_type": "code",
   "execution_count": 42,
   "id": "2feb1edb-7d2a-490b-90a6-672432ea9c1e",
   "metadata": {},
   "outputs": [
    {
     "name": "stdout",
     "output_type": "stream",
     "text": [
      "My food is:\n",
      "pizza\n",
      "falafel\n",
      "carrot cake\n",
      "noodle\n",
      "kebab\n",
      "noddle\n",
      "My friend food are:\n",
      "pizza\n",
      "falafel\n",
      "carrot cake\n",
      "noodle\n",
      "kebab\n",
      "burrito\n"
     ]
    }
   ],
   "source": [
    "my_pizza = ['pizza', 'falafel', 'carrot cake','noodle','kebab']\n",
    "friend_pizza = my_pizza[:]\n",
    "my_pizza.append('noddle')\n",
    "friend_pizza.append('burrito')\n",
    "print(f'My food is:')\n",
    "for i in my_pizza:\n",
    "    print(i)\n",
    "print('My friend food are:')\n",
    "for j in friend_pizza:\n",
    "    print(j)"
   ]
  },
  {
   "cell_type": "code",
   "execution_count": null,
   "id": "4b03e98b-46d4-42d1-97c3-f86836143aad",
   "metadata": {},
   "outputs": [],
   "source": []
  }
 ],
 "metadata": {
  "kernelspec": {
   "display_name": "Python [conda env:base] *",
   "language": "python",
   "name": "conda-base-py"
  },
  "language_info": {
   "codemirror_mode": {
    "name": "ipython",
    "version": 3
   },
   "file_extension": ".py",
   "mimetype": "text/x-python",
   "name": "python",
   "nbconvert_exporter": "python",
   "pygments_lexer": "ipython3",
   "version": "3.12.3"
  }
 },
 "nbformat": 4,
 "nbformat_minor": 5
}
