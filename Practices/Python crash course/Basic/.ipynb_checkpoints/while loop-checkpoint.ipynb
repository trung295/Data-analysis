{
 "cells": [
  {
   "cell_type": "code",
   "execution_count": 1,
   "id": "adf2176c-ce8a-4b4e-be12-f6088d3e2988",
   "metadata": {},
   "outputs": [
    {
     "name": "stdout",
     "output_type": "stream",
     "text": [
      "1\n",
      "2\n",
      "3\n",
      "4\n",
      "5\n"
     ]
    }
   ],
   "source": [
    "current_number = 1\n",
    "while current_number <= 5:\n",
    "    print(current_number)\n",
    "    current_number+=1"
   ]
  },
  {
   "cell_type": "code",
   "execution_count": 13,
   "id": "e18d238b-cefc-47dd-884b-7ff5c39111ce",
   "metadata": {},
   "outputs": [
    {
     "name": "stdin",
     "output_type": "stream",
     "text": [
      "\n",
      "Tell me something, and I will repeat it to you\n",
      "Enter 'quit' to end program quit\n"
     ]
    }
   ],
   "source": [
    "promp = \"\\nTell me something, and I will repeat it to you\"\n",
    "promp += \"\\nEnter 'quit' to end program\"\n",
    "\n",
    "message = \"\"\n",
    "while message != 'quit':\n",
    "    message = input(promp)\n",
    "    if message != 'quit':   \n",
    "        print(message)"
   ]
  },
  {
   "cell_type": "code",
   "execution_count": 15,
   "id": "03e6889d-ba09-4ca4-b163-13bb2a9760a5",
   "metadata": {},
   "outputs": [
    {
     "name": "stdin",
     "output_type": "stream",
     "text": [
      "\n",
      "Tell me something, and I will repeat it to you\n",
      "Enter 'quit' to end program quit\n"
     ]
    }
   ],
   "source": [
    "promp = \"\\nTell me something, and I will repeat it to you\"\n",
    "promp += \"\\nEnter 'quit' to end program\"\n",
    "\n",
    "active = True\n",
    "while active:\n",
    "    message = input(promp)\n",
    "    if message == 'quit':\n",
    "        active = False\n",
    "    else:\n",
    "        print(message)"
   ]
  },
  {
   "cell_type": "markdown",
   "id": "77a7076e-676b-4c7e-98da-ff8fa8ba6d5f",
   "metadata": {},
   "source": [
    "7-4. Pizza Toppings: Write a loop that prompts the user to enter a series of\n",
    "pizza toppings until they enter a 'quit' value. As they enter each topping, print\n",
    "a message saying you’ll add that topping to their pizza."
   ]
  },
  {
   "cell_type": "code",
   "execution_count": 17,
   "id": "ecc8870a-1e45-420e-be23-4d82e331eb08",
   "metadata": {},
   "outputs": [
    {
     "name": "stdin",
     "output_type": "stream",
     "text": [
      "Enter your pizza topping. Enter quit when you finish cheese\n"
     ]
    },
    {
     "name": "stdout",
     "output_type": "stream",
     "text": [
      "I will add cheese to your pizza\n"
     ]
    },
    {
     "name": "stdin",
     "output_type": "stream",
     "text": [
      "Enter your pizza topping. Enter quit when you finish chili\n"
     ]
    },
    {
     "name": "stdout",
     "output_type": "stream",
     "text": [
      "I will add chili to your pizza\n"
     ]
    },
    {
     "name": "stdin",
     "output_type": "stream",
     "text": [
      "Enter your pizza topping. Enter quit when you finish quit\n"
     ]
    }
   ],
   "source": [
    "promp = 'Enter your pizza topping. Enter quit when you finish'\n",
    "message = ''\n",
    "while message != 'quit':\n",
    "    message = input(promp)\n",
    "    if message == 'quit':\n",
    "        break\n",
    "    else:\n",
    "        print(f'\\nI will add {message} to your pizza')"
   ]
  },
  {
   "cell_type": "markdown",
   "id": "4e4b408a-dca4-4a93-892e-5a48d47d1526",
   "metadata": {},
   "source": [
    "7-5. Movie Tickets: A movie theater charges different ticket prices depending on\n",
    "a person’s age. If a person is under the age of 3, the ticket is free; if they are\n",
    "between 3 and 12, the ticket is $10; and if they are over age 12, the ticket is\n",
    "$15. Write a loop in which you ask users their age, and then tell them the cost\n",
    "of their movie ticket."
   ]
  },
  {
   "cell_type": "code",
   "execution_count": 19,
   "id": "792439a9-0872-434b-b0ca-dd678c8f15ea",
   "metadata": {},
   "outputs": [
    {
     "name": "stdin",
     "output_type": "stream",
     "text": [
      "Enter your age  4\n"
     ]
    },
    {
     "name": "stdout",
     "output_type": "stream",
     "text": [
      "Your ticket price is 10$\n"
     ]
    },
    {
     "name": "stdin",
     "output_type": "stream",
     "text": [
      "Enter your age  10\n"
     ]
    },
    {
     "name": "stdout",
     "output_type": "stream",
     "text": [
      "Your ticket price is 10$\n"
     ]
    },
    {
     "name": "stdin",
     "output_type": "stream",
     "text": [
      "Enter your age  \n"
     ]
    },
    {
     "ename": "ValueError",
     "evalue": "invalid literal for int() with base 10: ''",
     "output_type": "error",
     "traceback": [
      "\u001b[1;31m---------------------------------------------------------------------------\u001b[0m",
      "\u001b[1;31mValueError\u001b[0m                                Traceback (most recent call last)",
      "Cell \u001b[1;32mIn[19], line 3\u001b[0m\n\u001b[0;32m      1\u001b[0m active \u001b[38;5;241m=\u001b[39m \u001b[38;5;28;01mTrue\u001b[39;00m\n\u001b[0;32m      2\u001b[0m \u001b[38;5;28;01mwhile\u001b[39;00m active:\n\u001b[1;32m----> 3\u001b[0m     age \u001b[38;5;241m=\u001b[39m \u001b[38;5;28mint\u001b[39m(\u001b[38;5;28minput\u001b[39m(\u001b[38;5;124m'\u001b[39m\u001b[38;5;124mEnter your age \u001b[39m\u001b[38;5;124m'\u001b[39m))\n\u001b[0;32m      4\u001b[0m     \u001b[38;5;28;01mif\u001b[39;00m age \u001b[38;5;241m<\u001b[39m \u001b[38;5;241m3\u001b[39m:\n\u001b[0;32m      5\u001b[0m         \u001b[38;5;28mprint\u001b[39m(\u001b[38;5;124mf\u001b[39m\u001b[38;5;124m'\u001b[39m\u001b[38;5;124mYou are free to go\u001b[39m\u001b[38;5;124m'\u001b[39m)\n",
      "\u001b[1;31mValueError\u001b[0m: invalid literal for int() with base 10: ''"
     ]
    }
   ],
   "source": [
    "active = True\n",
    "while active:\n",
    "    age = int(input('Enter your age '))\n",
    "    if age < 3:\n",
    "        print(f'\\nYou are free to go')\n",
    "    elif age < 12:\n",
    "        print(f'\\nYour ticket price is 10$')\n",
    "    else:\n",
    "        print(f'\\nYour ticket price is 15$')"
   ]
  },
  {
   "cell_type": "markdown",
   "id": "051c6004-223f-4d03-a492-cf14e11f6825",
   "metadata": {},
   "source": [
    "7-6. Three Exits: Write different versions of either Exercise 7-4 or 7-5 that do\n",
    "each of the following at least once:\n",
    "• Use a conditional test in the while statement to stop the loop.\n",
    "• Use an active variable to control how long the loop runs.\n",
    "• Use a break statement to exit the loop when the user enters a 'quit' value."
   ]
  },
  {
   "cell_type": "code",
   "execution_count": 21,
   "id": "cdc145a8-6ad1-4e1c-8e0e-4b902d1c6f15",
   "metadata": {},
   "outputs": [
    {
     "name": "stdin",
     "output_type": "stream",
     "text": [
      "Enter your pizza topping. Enter quit when you finish quit\n"
     ]
    }
   ],
   "source": [
    "promp = 'Enter your pizza topping. Enter quit when you finish'\n",
    "active = True\n",
    "while active:\n",
    "    message = input(promp)\n",
    "    if message == 'quit':\n",
    "        active = False\n",
    "    else:\n",
    "        print(f'\\nI will add {message} to your pizza')"
   ]
  },
  {
   "cell_type": "code",
   "execution_count": 23,
   "id": "e1a18ccf-9d84-4171-8f1a-1645d05c4b9a",
   "metadata": {},
   "outputs": [
    {
     "name": "stdout",
     "output_type": "stream",
     "text": [
      "Verifying user: Candace\n",
      "Verifying user: Brian\n",
      "Verifying user: Alice\n",
      "\n",
      "The following users have been confirmed:\n",
      "Candace\n",
      "Brian\n",
      "Alice\n"
     ]
    }
   ],
   "source": [
    "# Start with users that need to be verified,\n",
    "# and an empty list to hold confirmed users\n",
    "unconfirmed_users = ['alice', 'brian', 'candace']\n",
    "confirmed_users = []\n",
    "# Verify each user until there are no more unconfirmed users.\n",
    "# Move each verified user into the list of confirmed users.\n",
    "while unconfirmed_users:\n",
    "    current_users = unconfirmed_users.pop()\n",
    "    print(f'Verifying user: {current_users.title()}')\n",
    "    confirmed_users.append(current_users)\n",
    "# Display all confirmed users.\n",
    "print(\"\\nThe following users have been confirmed:\")\n",
    "for confirmed_user in confirmed_users:\n",
    "    print(confirmed_user.title())"
   ]
  },
  {
   "cell_type": "code",
   "execution_count": 29,
   "id": "44a64f1f-1932-4bb8-8089-39e141d93328",
   "metadata": {},
   "outputs": [
    {
     "name": "stdin",
     "output_type": "stream",
     "text": [
      "What is your name?  nene\n",
      "What is your favorite city?  tokyo\n",
      "Would you like someone else to response? Yes or No:  no\n"
     ]
    },
    {
     "name": "stdout",
     "output_type": "stream",
     "text": [
      "--- Poll results ---\n",
      "\n",
      "Nene's favorite city is Tokyo\n"
     ]
    }
   ],
   "source": [
    "responses = {}\n",
    "polling_active = True\n",
    "while polling_active:\n",
    "    name = input('What is your name? ')\n",
    "    response = input('What is your favorite city? ')\n",
    "    # store to response\n",
    "    responses[name] = response\n",
    "    #\n",
    "    ask = input('Would you like someone else to response? Yes or No: ').lower()\n",
    "    if ask == 'no':\n",
    "        polling_active = False\n",
    "print(f'n--- Poll results ---')\n",
    "for key, value in responses.items():\n",
    "    print(f\"\\n{key.title()}'s favorite city is {value.title()}\")"
   ]
  },
  {
   "cell_type": "markdown",
   "id": "705551b8-2711-4211-b610-3213580a26d3",
   "metadata": {},
   "source": [
    "7-8. Deli: Make a list called sandwich_orders and fill it with the names of various\n",
    "sandwiches. Then make an empty list called finished_sandwiches. Loop through\n",
    "the list of sandwich orders and print a message for each order, such as I made\n",
    "your tuna sandwich. As each sandwich is made, move it to the list of finished\n",
    "sandwiches. After all the sandwiches have been made, print a message listing\n",
    "each sandwich that was made."
   ]
  },
  {
   "cell_type": "code",
   "execution_count": 51,
   "id": "623bf812-de2a-4ac0-9f21-2651c7f8ddb5",
   "metadata": {},
   "outputs": [
    {
     "name": "stdout",
     "output_type": "stream",
     "text": [
      "I made you Grilled Cheese\n",
      "I made you Reuben\n",
      "I made you Club\n",
      "I made you Cuban\n",
      "I made you Ham\n",
      "I made you Bombay\n",
      "\n",
      "---- All sandwich was made ----\n",
      "Grilled Cheese\n",
      "Reuben\n",
      "Club\n",
      "Cuban\n",
      "Ham\n",
      "Bombay\n"
     ]
    }
   ],
   "source": [
    "sandwich_orders = ['Grilled cheese','reuben','club','cuban','ham','bombay']\n",
    "finished_sandwiches = []\n",
    "while sandwich_orders:\n",
    "    sandwich = sandwich_orders.pop(0)\n",
    "    print(f'I made you {sandwich.title()}')\n",
    "    finished_sandwiches.append(sandwich)\n",
    "print(f'\\n---- All sandwich was made ----')\n",
    "for finished_sandwiche in finished_sandwiches:\n",
    "    print(finished_sandwiche.title())\n",
    "\n",
    "   "
   ]
  },
  {
   "cell_type": "markdown",
   "id": "01ec3958-c29d-41b6-9581-aaa2a7059e4e",
   "metadata": {},
   "source": [
    "7-9. No Pastrami: Using the list sandwich_orders from Exercise 7-8, make sure\n",
    "the sandwich 'pastrami' appears in the list at least three times. Add code\n",
    "near the beginning of your program to print a message saying the deli has\n",
    "run out of pastrami, and then use a while loop to remove all occurrences of\n",
    "'pastrami' from sandwich_orders. Make sure no pastrami sandwiches end up\n",
    "in finished_sandwiches."
   ]
  },
  {
   "cell_type": "code",
   "execution_count": 53,
   "id": "f3ce91dc-9820-43e7-8501-732527487ac8",
   "metadata": {},
   "outputs": [
    {
     "name": "stdout",
     "output_type": "stream",
     "text": [
      "The Deli has run out of pastrami\n",
      "I made you Grilled Cheese\n",
      "I made you Reuben\n",
      "I made you Club\n",
      "I made you Cuban\n",
      "I made you Ham\n",
      "I made you Bombay\n",
      "\n",
      "---- All sandwich was made ----\n",
      "Grilled Cheese\n",
      "Reuben\n",
      "Club\n",
      "Cuban\n",
      "Ham\n",
      "Bombay\n"
     ]
    }
   ],
   "source": [
    "sandwich_orders = ['Grilled cheese','reuben','pastrami','club','cuban','pastrami','ham','bombay','pastrami']\n",
    "print('The Deli has run out of pastrami')\n",
    "finished_sandwiches = []\n",
    "while 'pastrami' in sandwich_orders:\n",
    "    sandwich_orders.remove('pastrami')\n",
    "while sandwich_orders:\n",
    "    sandwich = sandwich_orders.pop(0)\n",
    "    print(f'I made you {sandwich.title()}')\n",
    "    finished_sandwiches.append(sandwich)\n",
    "print(f'\\n---- All sandwich was made ----')\n",
    "for finished_sandwiche in finished_sandwiches:\n",
    "    print(finished_sandwiche.title())\n"
   ]
  }
 ],
 "metadata": {
  "kernelspec": {
   "display_name": "Python [conda env:base] *",
   "language": "python",
   "name": "conda-base-py"
  },
  "language_info": {
   "codemirror_mode": {
    "name": "ipython",
    "version": 3
   },
   "file_extension": ".py",
   "mimetype": "text/x-python",
   "name": "python",
   "nbconvert_exporter": "python",
   "pygments_lexer": "ipython3",
   "version": "3.12.3"
  }
 },
 "nbformat": 4,
 "nbformat_minor": 5
}
