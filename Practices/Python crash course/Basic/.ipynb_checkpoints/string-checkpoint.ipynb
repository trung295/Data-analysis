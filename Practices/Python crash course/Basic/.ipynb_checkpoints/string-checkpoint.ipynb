{
 "cells": [
  {
   "cell_type": "markdown",
   "id": "d331a4e2-ae28-43ce-95f4-2a651b845ba1",
   "metadata": {},
   "source": [
    "2-3: PERSONAL MESSEAGE: Use a variable to represent a person’s name, and print\n",
    "a message to that person. Your message should be simple, such as, “Hello Eric,\n",
    "would you like to learn some Python today?”"
   ]
  },
  {
   "cell_type": "code",
   "execution_count": null,
   "id": "0f8254d8-b0fd-41b1-8ee7-af20f3fdcd00",
   "metadata": {},
   "outputs": [],
   "source": [
    "message = \"Hello Eric, would you like to learn some Python today?\""
   ]
  },
  {
   "cell_type": "markdown",
   "id": "3c4a67f1-dd90-4800-bcd6-6a0f4c2f07d2",
   "metadata": {},
   "source": [
    "2-4. Name Cases: Use a variable to represent a person’s name, and then print\n",
    "that person’s name in lowercase, uppercase, and title case."
   ]
  },
  {
   "cell_type": "code",
   "execution_count": 8,
   "id": "aebb9230-76f7-43d0-9a9f-d161391dddf8",
   "metadata": {},
   "outputs": [
    {
     "name": "stdout",
     "output_type": "stream",
     "text": [
      "hoang van\n",
      "HOANG VAN\n",
      "Hoang Van\n"
     ]
    }
   ],
   "source": [
    "name = \"Hoang van\"\n",
    "print(f'{name.lower()}\\n{name.upper()}\\n{name.title()}')"
   ]
  },
  {
   "cell_type": "markdown",
   "id": "b4e76c3a-393d-4b37-a44e-711ebc7fbd7d",
   "metadata": {},
   "source": [
    "2-5. Famous Quote: Find a quote from a famous person you admire. Print the\n",
    "quote and the name of its author. Your output should look something like the\n",
    "following, including the quotation marks:\n",
    "Albert Einstein once said, “A person who never made a mistake never\n",
    "tried anything new.”"
   ]
  },
  {
   "cell_type": "code",
   "execution_count": 10,
   "id": "e4750fd7-8736-480d-83b4-98e8a12451a3",
   "metadata": {},
   "outputs": [
    {
     "name": "stdout",
     "output_type": "stream",
     "text": [
      "Albert Einstein once said, \"A person who never made a mistake never tried anything new.\"\n"
     ]
    }
   ],
   "source": [
    "quote = 'Albert Einstein once said, \"A person who never made a mistake never tried anything new.\"'\n",
    "print(quote)"
   ]
  },
  {
   "cell_type": "markdown",
   "id": "c8d1fadd-660a-4c9b-9ff7-1ca3f5ec6e65",
   "metadata": {},
   "source": [
    "2-6. Famous Quote 2: Repeat Exercise 2-5, but this time, represent the famous\n",
    "person’s name using a variable called famous_person. Then compose your message\n",
    "and represent it with a new variable called message. Print your message."
   ]
  },
  {
   "cell_type": "code",
   "execution_count": 12,
   "id": "6d4e4df8-396c-4c9c-9ef3-b812b067c261",
   "metadata": {},
   "outputs": [
    {
     "name": "stdout",
     "output_type": "stream",
     "text": [
      "Albert Einstein once said, \"A person who never made a mistake never tried anything new.\"\n"
     ]
    }
   ],
   "source": [
    "famous_person = \"Albert Einstein\"\n",
    "quote = 'once said, \"A person who never made a mistake never tried anything new.\"'\n",
    "message = f'{famous_person} {quote}'\n",
    "print(message)"
   ]
  },
  {
   "cell_type": "markdown",
   "id": "2dc3f1c8-7f6b-46ed-8bf8-b17f27e1c94d",
   "metadata": {},
   "source": [
    "2-7. Stripping Names: Use a variable to represent a person’s name, and\n",
    "include some whitespace characters at the beginning and end of the name.\n",
    "Make sure you use each character combination, \"\\t\" and \"\\n\", at least once.\n",
    "Print the name once, so the whitespace around the name is displayed.\n",
    "Then print the name using each of the three stripping functions, lstrip(),\n",
    "rstrip(), and strip()."
   ]
  },
  {
   "cell_type": "code",
   "execution_count": 10,
   "id": "7dcc20c9-97a0-4ca3-a697-bcffad299ff0",
   "metadata": {},
   "outputs": [
    {
     "name": "stdout",
     "output_type": "stream",
     "text": [
      "\n",
      "\t     Hoang   \t\n",
      "\t     Hoang\n",
      "\tHoang   \n"
     ]
    }
   ],
   "source": [
    "name = \"     Hoang   \"\n",
    "print(f'\\n\\t{name}\\t')\n",
    "print(f'\\t{name.rstrip()}')\n",
    "print(f'\\t{name.lstrip()}')"
   ]
  },
  {
   "cell_type": "markdown",
   "id": "9c108235-ddcb-46be-b062-f61c12b371bd",
   "metadata": {},
   "source": []
  },
  {
   "cell_type": "markdown",
   "id": "c20ec7a0-796c-40f0-8137-c8aa83376eec",
   "metadata": {},
   "source": [
    "2-8. File Extensions: Python has a removesuffix() method that works exactly\n",
    "like removeprefix(). Assign the value 'python_notes.txt' to a variable called\n",
    "filename. Then use the removesuffix() method to display the filename without\n",
    "the file extension, like some file browsers do."
   ]
  },
  {
   "cell_type": "code",
   "execution_count": 14,
   "id": "b43b1b7b-bcfb-40ba-96ad-736dcdb73a03",
   "metadata": {},
   "outputs": [
    {
     "name": "stdout",
     "output_type": "stream",
     "text": [
      "python_notes\n"
     ]
    }
   ],
   "source": [
    "filename = \"python_notes.txt\"\n",
    "print(filename.removesuffix(\".txt\"))"
   ]
  },
  {
   "cell_type": "code",
   "execution_count": null,
   "id": "65240527-b980-4f40-a870-7a8c7d478840",
   "metadata": {},
   "outputs": [],
   "source": []
  }
 ],
 "metadata": {
  "kernelspec": {
   "display_name": "Python [conda env:base] *",
   "language": "python",
   "name": "conda-base-py"
  },
  "language_info": {
   "codemirror_mode": {
    "name": "ipython",
    "version": 3
   },
   "file_extension": ".py",
   "mimetype": "text/x-python",
   "name": "python",
   "nbconvert_exporter": "python",
   "pygments_lexer": "ipython3",
   "version": "3.12.3"
  }
 },
 "nbformat": 4,
 "nbformat_minor": 5
}
