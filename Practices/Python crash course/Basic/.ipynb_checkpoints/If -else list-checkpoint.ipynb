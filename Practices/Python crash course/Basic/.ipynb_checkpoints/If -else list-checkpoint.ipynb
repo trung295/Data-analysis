{
 "cells": [
  {
   "cell_type": "markdown",
   "id": "bfccfe25-e9a1-4523-8bf5-12d1a846e649",
   "metadata": {},
   "source": [
    "📝 5-8. Hello Admin: Make a list of five or more usernames, including the name\n",
    "'admin'. Imagine you are writing code that will print a greeting to each user\n",
    "after they log in to a website. Loop through the list, and print a greeting to\n",
    "each user.\n",
    "• If the username is 'admin', print a special greeting, such as Hello admin,\n",
    "would you like to see a status report?\n",
    "• Otherwise, print a generic greeting, such as Hello Jaden, thank you for\n",
    "logging in again."
   ]
  },
  {
   "cell_type": "code",
   "execution_count": 1,
   "id": "30a7bfa0-4118-429d-8c6b-479b1ead72f8",
   "metadata": {},
   "outputs": [
    {
     "name": "stdout",
     "output_type": "stream",
     "text": [
      "Hello admin, would you like to see a status report?\n",
      "Hello guest, thank you got logging in again\n",
      "Hello user1, thank you got logging in again\n",
      "Hello user2, thank you got logging in again\n",
      "Hello user3, thank you got logging in again\n"
     ]
    }
   ],
   "source": [
    "usernames = ['admin','guest','user1','user2','user3']\n",
    "for username in usernames:\n",
    "    if username == 'admin':\n",
    "        print(f'Hello {username}, would you like to see a status report?')\n",
    "    else:\n",
    "        print(f'Hello {username}, thank you got logging in again')"
   ]
  },
  {
   "cell_type": "markdown",
   "id": "82ace2f3-e201-47af-b732-8c52ac940242",
   "metadata": {},
   "source": [
    "📝 5-9. No Users: Add an if test to hello_admin.py to make sure the list of users is\n",
    "not empty.\n",
    "• If the list is empty, print the message We need to find some users!\n",
    "• Remove all of the usernames from your list, and make sure the correct message\n",
    "is printed."
   ]
  },
  {
   "cell_type": "code",
   "execution_count": 3,
   "id": "b2ea9a5d-4958-4d2f-82ca-7c0580a55db3",
   "metadata": {},
   "outputs": [
    {
     "name": "stdout",
     "output_type": "stream",
     "text": [
      "We need to find some users!\n"
     ]
    }
   ],
   "source": [
    "usernames = []\n",
    "if usernames:\n",
    "    for username in usernames:\n",
    "        if username == 'admin':\n",
    "            print(f'Hello {username}, would you like to see a status report?')\n",
    "    else:\n",
    "        print(f'Hello {username}, thank you got logging in again')\n",
    "else:\n",
    "    print('We need to find some users!')"
   ]
  },
  {
   "cell_type": "markdown",
   "id": "51adb546-6e00-46c7-be5b-49a26298e05d",
   "metadata": {},
   "source": [
    "📝 5-10. Checking Usernames: Do the following to create a program that simulates\n",
    "how websites ensure that everyone has a unique username.\n",
    "• Make a list of five or more usernames called current_users.\n",
    "• Make another list of five usernames called new_users. Make sure one or\n",
    "two of the new usernames are also in the current_users list.\n",
    "• Loop through the new_users list to see if each new username has already\n",
    "been used. If it has, print a message that the person will need to enter a\n",
    "new username. If a username has not been used, print a message saying\n",
    "that the username is available.\n",
    "• Make sure your comparison is case insensitive. If 'John' has been used,\n",
    "'JOHN' should not be accepted. (To do this, you’ll need to make a copy of\n",
    "current_users containing the lowercase versions of all existing users.)"
   ]
  },
  {
   "cell_type": "code",
   "execution_count": 9,
   "id": "6d75e65f-d2a9-4531-af4d-4aabb0e4f1c8",
   "metadata": {},
   "outputs": [
    {
     "name": "stdout",
     "output_type": "stream",
     "text": [
      "username Nene is available\n",
      "username Anri is available\n",
      "username Miu is available\n",
      "Hazel has to enter another username\n",
      "username Yuu is available\n"
     ]
    }
   ],
   "source": [
    "current_users = ['Nastya','Terry','Lara','Hazel','Karen']\n",
    "# create copy current users which contain lower case name\n",
    "# to compare in case sensitive\n",
    "copy_current_users = [current_user.lower() for current_user in current_users]\n",
    "\n",
    "new_users = ['Nene','Anri','Miu','Hazel','Yuu']\n",
    "# loop through new user list \n",
    "for new_user in new_users:\n",
    "    if new_user.lower() in copy_current_users:\n",
    "        print(f'{new_user} has to enter another username')\n",
    "    else:\n",
    "        print(f'username {new_user} is available')"
   ]
  },
  {
   "cell_type": "markdown",
   "id": "1e828db4-e73d-461e-b9c2-13b12dcd021e",
   "metadata": {},
   "source": [
    "📝 5-11. Ordinal Numbers: Ordinal numbers indicate their position in a list, such as\n",
    "1st or 2nd. Most ordinal numbers end in th, except 1, 2, and 3.\n",
    "• Store the numbers 1 through 9 in a list.\n",
    "• Loop through the list.\n",
    "• Use an if-elif-else chain inside the loop to print the proper ordinal ending\n",
    "for each number. Your output should read \"1st 2nd 3rd 4th 5th 6th 7th\n",
    "8th 9th\", and each result should be on a separate line."
   ]
  },
  {
   "cell_type": "code",
   "execution_count": 13,
   "id": "f81946ee-aadc-482f-ba71-6f5a27313871",
   "metadata": {},
   "outputs": [
    {
     "name": "stdout",
     "output_type": "stream",
     "text": [
      "1st\n",
      "2nd\n",
      "3rd\n",
      "4th\n",
      "5th\n",
      "6th\n",
      "7th\n",
      "8th\n",
      "9th\n"
     ]
    }
   ],
   "source": [
    "numbers = list(range(1,10))\n",
    "for number in numbers:\n",
    "    if number == 1:\n",
    "        print(f'{number}st')\n",
    "    elif number == 2:\n",
    "        print(f'{number}nd')\n",
    "    elif number == 3:\n",
    "        print(f'{number}rd')\n",
    "    else:\n",
    "        print(f'{number}th')"
   ]
  },
  {
   "cell_type": "code",
   "execution_count": null,
   "id": "850ec126-1017-40a0-8d57-05134ba762df",
   "metadata": {},
   "outputs": [],
   "source": []
  }
 ],
 "metadata": {
  "kernelspec": {
   "display_name": "Python [conda env:base] *",
   "language": "python",
   "name": "conda-base-py"
  },
  "language_info": {
   "codemirror_mode": {
    "name": "ipython",
    "version": 3
   },
   "file_extension": ".py",
   "mimetype": "text/x-python",
   "name": "python",
   "nbconvert_exporter": "python",
   "pygments_lexer": "ipython3",
   "version": "3.12.3"
  }
 },
 "nbformat": 4,
 "nbformat_minor": 5
}
