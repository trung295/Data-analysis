{
 "cells": [
  {
   "cell_type": "code",
   "execution_count": 1,
   "id": "a8f18a6c-815d-49d4-b102-45dae970a52c",
   "metadata": {},
   "outputs": [
    {
     "name": "stdout",
     "output_type": "stream",
     "text": [
      "TREK\n"
     ]
    }
   ],
   "source": [
    "bicycles = ['trek', 'cannondale', 'redline', 'specialized']\n",
    "print(bicycles[0].upper())\n"
   ]
  },
  {
   "cell_type": "code",
   "execution_count": 2,
   "id": "7dbf647e-84f9-42b8-8ed6-67df459bfa70",
   "metadata": {},
   "outputs": [
    {
     "name": "stdout",
     "output_type": "stream",
     "text": [
      "My first bicycle was a Trek\n"
     ]
    }
   ],
   "source": [
    "message = f'My first bicycle was a {bicycles[0].title()}'\n",
    "print(message)"
   ]
  },
  {
   "cell_type": "markdown",
   "id": "c9544053-4877-42f1-9986-2480216cfffe",
   "metadata": {},
   "source": []
  },
  {
   "cell_type": "markdown",
   "id": "b22a884a-ec87-4721-9096-d45b23285560",
   "metadata": {},
   "source": [
    "3-1. Names: Store the names of a few of your friends in a list called names. Print\n",
    "each person’s name by accessing each element in the list, one at a time."
   ]
  },
  {
   "cell_type": "code",
   "execution_count": 5,
   "id": "327fd722-d246-4b32-8168-be53dd5c90cb",
   "metadata": {},
   "outputs": [
    {
     "name": "stdout",
     "output_type": "stream",
     "text": [
      "Hoang\n",
      "Ngoc\n",
      "Lan\n"
     ]
    }
   ],
   "source": [
    "names =['Hoang','Ngoc','Lan']\n",
    "print(names[0])\n",
    "print(names[1])\n",
    "print(names[2])"
   ]
  },
  {
   "cell_type": "markdown",
   "id": "d3b2bcda-ca3b-45ae-8702-419247c39c7b",
   "metadata": {},
   "source": [
    "📌 pop() method can be used to remove an element in a list and use this element again"
   ]
  },
  {
   "cell_type": "code",
   "execution_count": 7,
   "id": "d719d73a-7a4b-44df-8bd2-4ad8b97c9faa",
   "metadata": {},
   "outputs": [
    {
     "name": "stdout",
     "output_type": "stream",
     "text": [
      "['honda', 'yamaha', 'suzuki']\n"
     ]
    }
   ],
   "source": [
    "motorcycles = ['honda', 'yamaha', 'suzuki'] # create a list of 3 motorbike\n",
    "print(motorcycles)"
   ]
  },
  {
   "cell_type": "code",
   "execution_count": 8,
   "id": "4cb911b8-bb13-4f02-808c-b7536fadba43",
   "metadata": {},
   "outputs": [
    {
     "name": "stdout",
     "output_type": "stream",
     "text": [
      "['honda', 'yamaha']\n",
      "suzuki\n"
     ]
    }
   ],
   "source": [
    "popped_motorcycle = motorcycles.pop() # can use pop method to store the last item of motorcycle list into an variable\n",
    "print(motorcycles) # show the list after pop()\n",
    "print(popped_motorcycle) # show an element which removed"
   ]
  },
  {
   "cell_type": "markdown",
   "id": "97226d88-4f33-46d1-b710-015ab6ebe7ca",
   "metadata": {},
   "source": [
    "📌 remove() method remove element from a list completely "
   ]
  },
  {
   "cell_type": "code",
   "execution_count": 10,
   "id": "6e61d78d-80c0-48a8-a32c-623ba421dd4f",
   "metadata": {},
   "outputs": [
    {
     "name": "stdout",
     "output_type": "stream",
     "text": [
      "['honda', 'yamaha', 'suzuki']\n"
     ]
    }
   ],
   "source": [
    "motorcycles = ['honda', 'yamaha', 'suzuki'] # create a list of 3 motorbike\n",
    "print(motorcycles)"
   ]
  },
  {
   "cell_type": "code",
   "execution_count": 11,
   "id": "ce809b40-605e-439a-8b7f-d0080e47098a",
   "metadata": {},
   "outputs": [],
   "source": [
    "removed_motorcycle = motorcycles.remove('suzuki')"
   ]
  },
  {
   "cell_type": "code",
   "execution_count": 12,
   "id": "9d1ce36a-d347-4622-943f-63123d4accfc",
   "metadata": {},
   "outputs": [
    {
     "name": "stdout",
     "output_type": "stream",
     "text": [
      "['honda', 'yamaha']\n",
      "None\n"
     ]
    }
   ],
   "source": [
    "print(motorcycles) # show the list after remove\n",
    "print(removed_motorcycle) # show None because element remove completly"
   ]
  },
  {
   "cell_type": "markdown",
   "id": "b670af1e-d626-4ceb-96d3-69118d545423",
   "metadata": {},
   "source": [
    "📝 3-4. Guest List: If you could invite anyone, living or deceased, to dinner, who\n",
    "would you invite? Make a list that includes at least three people you’d like to\n",
    "invite to dinner. Then use your list to print a message to each person, inviting\n",
    "them to dinner."
   ]
  },
  {
   "cell_type": "markdown",
   "id": "efd6f32b-b4d5-4aa1-a68d-1a4d65f3b066",
   "metadata": {},
   "source": [
    "📝 3-5. Changing Guest List: You just heard that one of your guests can’t make the dinner, so you need to send out a new set of invitations. You’ll have to think of someone else to invite. • Start with your program from Exercise 3-4. Add a print() call at the end of your program, stating the name of the guest who can’t make it. • Modify your list, replacing the name of the guest who can’t make it with the name of the new person you are inviting. • Print a second set of invitation messages, one for each person who is still in your list."
   ]
  },
  {
   "cell_type": "markdown",
   "id": "b30e6a77-e6af-41f9-84ca-01dbbdeece8d",
   "metadata": {},
   "source": [
    "📝 3-6. More Guests: You just found a bigger dinner table, so now more space is available. Think of three more guests to invite to dinner. • Start with your program from Exercise 3-4 or 3-5. Add a print() call to the end of your program, informing people that you found a bigger table. • Use insert() to add one new guest to the beginning of your list. • Use insert() to add one new guest to the middle of your list. • Use append() to add one new guest to the end of your list. • Print a new set of invitation messages, one for each person in your list."
   ]
  },
  {
   "cell_type": "markdown",
   "id": "1fd74a7e-a15b-4a39-90d6-11ec0c80c30b",
   "metadata": {},
   "source": [
    "📝 3-7. Shrinking Guest List: You just found out that your new dinner table won’t\n",
    "arrive in time for the dinner, and now you have space for only two guests.\n",
    "• Start with your program from Exercise 3-6. Add a new line that prints a\n",
    "message saying that you can invite only two people for dinner.\n",
    "• Use pop() to remove guests from your list one at a time until only two\n",
    "names remain in your list. Each time you pop a name from your list, print a\n",
    "message to that person letting them know you’re sorry you can’t invite them\n",
    "to dinner.\n",
    "• Print a message to each of the two people still on your list, letting them\n",
    "know they’re still invited.\n",
    "• Use del to remove the last two names from your list, so you have an empty\n",
    "list. Print your list to make sure you actually have an empty list at the end of\n",
    "your program."
   ]
  },
  {
   "cell_type": "code",
   "execution_count": 17,
   "id": "e311fa9a-4735-4383-a74a-9aeaf53f235d",
   "metadata": {},
   "outputs": [
    {
     "name": "stdout",
     "output_type": "stream",
     "text": [
      "I would like to invite A, B, C to my dinner\n",
      "Unfornately B can not come to my dinner\n",
      "I would like to invite A, E, C to my dinner\n",
      "['H', 'A', 'F', 'E', 'C', 'G']\n",
      "I have found a bigger table\n",
      "I would like to invite H, A, F, E, C, G to my dinner\n",
      "I can only invite 2 people for dinner\n",
      "['H', 'A', 'F', 'E', 'C']\n",
      "Sorry I can not invite G to my dinner\n",
      "Sorry I can not invite C to my dinner\n",
      "Sorry I can not invite E to my dinner\n",
      "Sorry I can not invite F to my dinner\n"
     ]
    }
   ],
   "source": [
    "guest = ['A','B','C']\n",
    "message = f'I would like to invite {guest[0]}, {guest[1]}, {guest[2]} to my dinner'\n",
    "print(message)\n",
    "print(f'Unfornately {guest[1]} can not come to my dinner')\n",
    "guest[1] = 'E' # replace 'B' to 'E'\n",
    "message = f'I would like to invite {guest[0]}, {guest[1]}, {guest[2]} to my dinner' # update message\n",
    "print(message)\n",
    "guest.insert(0,'H')\n",
    "guest.insert(2,'F')\n",
    "guest.append('G')\n",
    "print(guest)\n",
    "print('I have found a bigger table')\n",
    "message = f'I would like to invite {guest[0]}, {guest[1]}, {guest[2]}, {guest[3]}, {guest[4]}, {guest[5]} to my dinner'\n",
    "print(message)\n",
    "print(f'I can only invite 2 people for dinner')\n",
    "uninvite = guest.pop()\n",
    "print(guest)\n",
    "print(f'Sorry I can not invite {uninvite} to my dinner')\n",
    "uninvite = guest.pop()\n",
    "print(f'Sorry I can not invite {uninvite} to my dinner')\n",
    "uninvite = guest.pop()\n",
    "print(f'Sorry I can not invite {uninvite} to my dinner')\n",
    "uninvite = guest.pop()\n",
    "print(f'Sorry I can not invite {uninvite} to my dinner')"
   ]
  },
  {
   "cell_type": "code",
   "execution_count": null,
   "id": "9937117f-3ec3-41c7-82cb-7f311282b4c3",
   "metadata": {},
   "outputs": [],
   "source": []
  }
 ],
 "metadata": {
  "kernelspec": {
   "display_name": "Python [conda env:base] *",
   "language": "python",
   "name": "conda-base-py"
  },
  "language_info": {
   "codemirror_mode": {
    "name": "ipython",
    "version": 3
   },
   "file_extension": ".py",
   "mimetype": "text/x-python",
   "name": "python",
   "nbconvert_exporter": "python",
   "pygments_lexer": "ipython3",
   "version": "3.12.3"
  }
 },
 "nbformat": 4,
 "nbformat_minor": 5
}
