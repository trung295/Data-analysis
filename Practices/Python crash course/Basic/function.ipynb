{
 "cells": [
  {
   "cell_type": "code",
   "execution_count": 3,
   "id": "30cf2b5d-919d-4ad3-94d5-eeab8a4fa932",
   "metadata": {},
   "outputs": [
    {
     "name": "stdout",
     "output_type": "stream",
     "text": [
      "Hello!\n"
     ]
    }
   ],
   "source": [
    "def greet_user():\n",
    "    \"\"\"Display a simple greeting\"\"\"\n",
    "    print('Hello!')\n",
    "greet_user()\n"
   ]
  },
  {
   "cell_type": "code",
   "execution_count": 7,
   "id": "e95e8b48-7f21-4ac8-9e84-40874f603392",
   "metadata": {},
   "outputs": [
    {
     "name": "stdout",
     "output_type": "stream",
     "text": [
      "Hello Hoang\n"
     ]
    }
   ],
   "source": [
    "def greet_user(username):\n",
    "    # Display a simple greeting\n",
    "    print(f'Hello {username.title()}')\n",
    "greet_user('hoang')"
   ]
  },
  {
   "cell_type": "markdown",
   "id": "797e5207-65fc-40b5-9014-8b51b2c7cad7",
   "metadata": {},
   "source": [
    "8-1. Message: Write a function called display_message() that prints one sentence\n",
    "telling everyone what you are learning about in this chapter. Call the\n",
    "function, and make sure the message displays correctly."
   ]
  },
  {
   "cell_type": "code",
   "execution_count": 9,
   "id": "fdb77448-fa2b-4d8c-bd4b-206c8e00e4ef",
   "metadata": {},
   "outputs": [
    {
     "name": "stdout",
     "output_type": "stream",
     "text": [
      "I am learning about function in this chapter\n"
     ]
    }
   ],
   "source": [
    "def display_message():\n",
    "    print('I am learning about function in this chapter')\n",
    "display_message()\n"
   ]
  },
  {
   "cell_type": "markdown",
   "id": "2e7b04eb-7eb8-479b-9e12-da36e451fe7e",
   "metadata": {},
   "source": [
    "8-2. Favorite Book: Write a function called favorite_book() that accepts one\n",
    "parameter, title. The function should print a message, such as One of my\n",
    "favorite books is Alice in Wonderland. Call the function, making sure to\n",
    "include a book title as an argument in the function call."
   ]
  },
  {
   "cell_type": "code",
   "execution_count": 13,
   "id": "5877d481-6561-4fe2-a7d4-8fc46d1d7a7e",
   "metadata": {},
   "outputs": [
    {
     "name": "stdout",
     "output_type": "stream",
     "text": [
      "One of my favorite books is Alice in wonderland\n"
     ]
    }
   ],
   "source": [
    "def favorite_book(title):\n",
    "    print(f'One of my favorite books is {title.capitalize()}')\n",
    "book = 'alice in wonderland'\n",
    "favorite_book(book)"
   ]
  },
  {
   "cell_type": "markdown",
   "id": "d94a4670-c897-45bf-a92e-7e162fe2e715",
   "metadata": {},
   "source": [
    "8-3. T-Shirt: Write a function called make_shirt() that accepts a size and the text of a message that should be printed on the shirt. The function should print a sentence summarizing the size of the shirt and the message printed on it.\n",
    "Call the function once using positional arguments to make a shirt. Call the function a second time using keyword arguments."
   ]
  },
  {
   "cell_type": "code",
   "execution_count": 18,
   "id": "66a35065-2775-4dcd-80f1-7fbd7d06eaa1",
   "metadata": {},
   "outputs": [
    {
     "name": "stdout",
     "output_type": "stream",
     "text": [
      "The size of shirt is 44 and Who let the dog out will be printed\n",
      "The size of shirt is 42 and I want it that way will be printed\n"
     ]
    }
   ],
   "source": [
    "def make_shirt(size, message):\n",
    "    print(f'The size of shirt is {size} and {message} will be printed')\n",
    "make_shirt(44,'Who let the dog out')\n",
    "make_shirt(size = 42, message= 'I want it that way')"
   ]
  },
  {
   "cell_type": "markdown",
   "id": "99c03aff-3105-44b1-a32b-1bc3fd46e88f",
   "metadata": {},
   "source": [
    "8-4. Large Shirts: Modify the make_shirt() function so that shirts are large\n",
    "by default with a message that reads I love Python. Make a large shirt and a\n",
    "medium shirt with the default message, and a shirt of any size with a different\n",
    "message."
   ]
  },
  {
   "cell_type": "code",
   "execution_count": null,
   "id": "7197fc29-1a19-46c2-b69b-85aa69d06299",
   "metadata": {},
   "outputs": [],
   "source": [
    "def make_shirt(size, message = 'I love Python'):\n",
    "    print(f'The size of shirt is {size} and {message} will be printed')\n"
   ]
  },
  {
   "cell_type": "markdown",
   "id": "434a7203-7cd3-412e-819b-8665f257394b",
   "metadata": {},
   "source": [
    "8-5. Cities: Write a function called describe_city() that accepts the name of\n",
    "a city and its country. The function should print a simple sentence, such as\n",
    "Reykjavik is in Iceland. Give the parameter for the country a default value.\n",
    "Call your function for three different cities, at least one of which is not in the\n",
    "default country."
   ]
  },
  {
   "cell_type": "code",
   "execution_count": 24,
   "id": "4af5a73e-b0d0-4137-ba9f-ff507949641d",
   "metadata": {},
   "outputs": [
    {
     "name": "stdout",
     "output_type": "stream",
     "text": [
      "Helsinki is in Finland\n",
      "Berlin is in Germany\n"
     ]
    }
   ],
   "source": [
    "def describe_city(name,country = 'Finland'):\n",
    "    print(f'{name.title()} is in {country.title()}')\n",
    "describe_city('Helsinki')\n",
    "describe_city(name = 'Berlin',country = 'Germany')"
   ]
  },
  {
   "cell_type": "code",
   "execution_count": 3,
   "id": "a8134145-4c25-4c95-9db5-1922a58dab3b",
   "metadata": {},
   "outputs": [
    {
     "name": "stdout",
     "output_type": "stream",
     "text": [
      "Nene Tanaka\n"
     ]
    }
   ],
   "source": [
    "def get_formatted_name(first_name, last_name):\n",
    "    # return a full name, neatly formatted\n",
    "    full_name = f'{first_name} {last_name}'\n",
    "    return full_name.title()\n",
    "    \n",
    "musician = get_formatted_name('nene', 'tanaka')\n",
    "print(musician)"
   ]
  },
  {
   "cell_type": "markdown",
   "id": "208affff-95b5-4b1b-80bf-358c54900f28",
   "metadata": {},
   "source": [
    "8-6. City Names: Write a function called city_country() that takes in the name\n",
    "of a city and its country. The function should return a string formatted like this:\n",
    "\"Santiago, Chile\"\n",
    "Call your function with at least three city-country pairs, and print the values\n",
    "that are returned."
   ]
  },
  {
   "cell_type": "code",
   "execution_count": 7,
   "id": "fc92dd1e-43dc-4552-a17d-40d792eaf0b0",
   "metadata": {},
   "outputs": [
    {
     "name": "stdout",
     "output_type": "stream",
     "text": [
      "Helsinki, Finland\n",
      "New York, Usa\n"
     ]
    }
   ],
   "source": [
    "def city_country(city, country):\n",
    "    # return a city, country\n",
    "    capital = f'{city}, {country}'\n",
    "    return capital.title()\n",
    "\n",
    "city1 = city_country('helsinki', 'finland')\n",
    "print(city1)\n",
    "city2 = city_country(city = 'new york', country = 'usa')\n",
    "print(city2)"
   ]
  },
  {
   "cell_type": "markdown",
   "id": "59c07380-d468-4497-bea4-ac058dbed218",
   "metadata": {},
   "source": [
    "8-7. Album: Write a function called make_album() that builds a dictionary describing a music album. The function should take in an artist name and an album title, and it should return a dictionary containing these two pieces of information. Use the function to make three dictionaries representing different albums. Print each return value to show that the dictionaries are storing the album information correctly.\n",
    "Use None to add an optional parameter to make_album() that allows you to store the number of songs on an album. If the calling line includes a value for the number of songs, add that value to the album’s dictionary. Make at least one new function call that includes the number of songs on an album."
   ]
  },
  {
   "cell_type": "code",
   "execution_count": 20,
   "id": "07bf1f9e-21dc-4efa-a3e2-bb2b8e5037b6",
   "metadata": {},
   "outputs": [
    {
     "name": "stdout",
     "output_type": "stream",
     "text": [
      "{'Name': 'nirvana', 'Title': 'smell like teen spirir', 'N.songs': 20}\n",
      "{'Name': 'metallica', 'Title': 'nothing else matter'}\n"
     ]
    }
   ],
   "source": [
    "def make_album(artist_name, albumn_title, number_songs = None):\n",
    "    album = {\n",
    "        'Name': artist_name,\n",
    "        'Title': albumn_title,\n",
    "    }    \n",
    "    if number_songs:\n",
    "        album['N.songs'] = number_songs\n",
    "    return album\n",
    "    \n",
    "album1 = make_album('nirvana', 'smell like teen spirir', 20)\n",
    "print(album1)\n",
    "album2 = make_album(artist_name = 'metallica', \n",
    "                    albumn_title = 'nothing else matter') \n",
    "print(album2)"
   ]
  },
  {
   "cell_type": "markdown",
   "id": "7dcaf375-bcd6-4fb3-bb16-92e8ab52db25",
   "metadata": {},
   "source": [
    "8-8. User Albums: Start with your program from Exercise 8-7. Write a while loop that allows users to enter an album’s artist and title. Once you have that information, call make_album() with the user’s input and print the dictionary that’s created. Be sure to include a quit value in the while loop."
   ]
  },
  {
   "cell_type": "code",
   "execution_count": 29,
   "id": "967d34e6-bfa6-422a-973e-1d90007bf1c6",
   "metadata": {},
   "outputs": [
    {
     "name": "stdin",
     "output_type": "stream",
     "text": [
      "Artist name:  metallica\n"
     ]
    },
    {
     "name": "stdout",
     "output_type": "stream",
     "text": [
      "Press \"q\" to quit!\n"
     ]
    },
    {
     "name": "stdin",
     "output_type": "stream",
     "text": [
      "Album name:  unforgiven\n"
     ]
    },
    {
     "name": "stdout",
     "output_type": "stream",
     "text": [
      "Press \"q\" to quit\n"
     ]
    },
    {
     "name": "stdin",
     "output_type": "stream",
     "text": [
      "Artist name:  nirvana\n"
     ]
    },
    {
     "name": "stdout",
     "output_type": "stream",
     "text": [
      "Press \"q\" to quit!\n"
     ]
    },
    {
     "name": "stdin",
     "output_type": "stream",
     "text": [
      "Album name:  smell like teen spirit\n"
     ]
    },
    {
     "name": "stdout",
     "output_type": "stream",
     "text": [
      "Press \"q\" to quit\n"
     ]
    },
    {
     "name": "stdin",
     "output_type": "stream",
     "text": [
      "Artist name:  q\n"
     ]
    },
    {
     "name": "stdout",
     "output_type": "stream",
     "text": [
      "Press \"q\" to quit!\n",
      "{'Name': 'Q', 'Title': 'Smell Like Teen Spirit'}\n"
     ]
    }
   ],
   "source": [
    "def favorite_album(artist_name, album_title):\n",
    "    album = {\n",
    "        'Name': artist_name.title(),\n",
    "        'Title': album_title.title(),\n",
    "    }\n",
    "    return album\n",
    "artits = []\n",
    "albums = []\n",
    "while True:\n",
    "    print('Press \"q\" to quit!')\n",
    "    ar_name = input('Artist name: ')\n",
    "    artits.append(ar_name)\n",
    "    if ar_name == 'q':\n",
    "        break\n",
    "        \n",
    "    al_name = input('Album name: ')\n",
    "    albums.append(al_name)\n",
    "    if al_name == 'q':\n",
    "        break\n",
    "album1 = favorite_album(ar_name, al_name)\n",
    "print(album1)"
   ]
  },
  {
   "cell_type": "markdown",
   "id": "52547cd3-681b-4811-9577-befe152f0031",
   "metadata": {},
   "source": [
    "8-9. Messages: Make a list containing a series of short text messages. Pass the list to a function called show_messages(), which prints each text message."
   ]
  },
  {
   "cell_type": "code",
   "execution_count": 44,
   "id": "4816d87c-d800-4fe8-a35f-2164369b319f",
   "metadata": {},
   "outputs": [
    {
     "name": "stdout",
     "output_type": "stream",
     "text": [
      "Hi\n",
      "Hello\n",
      "Oop\n"
     ]
    }
   ],
   "source": [
    "def show_messages(messages):\n",
    "    for message in messages:\n",
    "        print(message.title())\n",
    "short_text_message = ['hi','hello','oop']\n",
    "show_messages(short_text_message)"
   ]
  },
  {
   "cell_type": "markdown",
   "id": "a213936b-b3bc-42cc-afeb-2eeee327e60e",
   "metadata": {},
   "source": [
    "8-10. Sending Messages: Start with a copy of your program from Exercise 8-9. Write a function called send_messages() that prints each text message and moves each message to a new list called sent_messages as it’s printed. After calling the function, print both of your lists to make sure the messages were moved correctly."
   ]
  },
  {
   "cell_type": "code",
   "execution_count": 63,
   "id": "53227d68-79cb-444a-a96c-b781ea305fe3",
   "metadata": {},
   "outputs": [
    {
     "name": "stdout",
     "output_type": "stream",
     "text": [
      "Current messages:\n",
      "\n",
      "hi\n",
      "hello\n",
      "oop\n",
      "\n",
      "Message will be sent: oop\n",
      "\n",
      "Message will be sent: hello\n",
      "\n",
      "Message will be sent: hi\n",
      "\n",
      "Sent messages: \n",
      "oop\n",
      "Sent messages: \n",
      "hello\n",
      "Sent messages: \n",
      "hi\n"
     ]
    }
   ],
   "source": [
    "def send_messages(messages):\n",
    "    sent_messages = []\n",
    "    print(f'Current messages:\\n')\n",
    "    for message in messages:\n",
    "        print(message)\n",
    "    while messages:\n",
    "        verify_message = messages.pop()\n",
    "        print(f'\\nMessage will be sent: {verify_message}')\n",
    "        sent_messages.append(verify_message)\n",
    "    print('')\n",
    "    for sent_message in sent_messages:\n",
    "        print(f'Sent messages: \\n{sent_message}')\n",
    "\n",
    "short_text_message = ['hi','hello','oop']\n",
    "send_messages(short_text_message)\n",
    "    \n"
   ]
  },
  {
   "cell_type": "code",
   "execution_count": 1,
   "id": "ff7a1004-3ea7-415a-967d-5a73d4d84fb7",
   "metadata": {},
   "outputs": [
    {
     "name": "stdout",
     "output_type": "stream",
     "text": [
      "{'location': 'helsink', 'field': 'engineer', 'First_name': 'hoang', 'Last_name': 'viet'}\n"
     ]
    }
   ],
   "source": [
    "def build_profile(first,last,**user_info):\n",
    "    user_info['First_name'] = first\n",
    "    user_info['Last_name'] = last\n",
    "    return user_info\n",
    "\n",
    "user_profile = build_profile('hoang','viet',\n",
    "                            location = 'helsink',\n",
    "                            field = 'engineer')\n",
    "print(user_profile)"
   ]
  },
  {
   "cell_type": "markdown",
   "id": "b1c20bb3-06a6-4d2c-bdc7-1f115439ef8e",
   "metadata": {},
   "source": [
    "8-12. Sandwiches: Write a function that accepts a list of items a person wants\n",
    "on a sandwich. The function should have one parameter that collects as many\n",
    "items as the function call provides, and it should print a summary of the sandwich\n",
    "that’s being ordered. Call the function three times, using a different number\n",
    "of arguments each time."
   ]
  },
  {
   "cell_type": "code",
   "execution_count": 7,
   "id": "2da97321-b260-4e68-89f5-270d02a9c32f",
   "metadata": {},
   "outputs": [
    {
     "name": "stdout",
     "output_type": "stream",
     "text": [
      "The sandwich will contain :\n",
      "-ham\n",
      "The sandwich will contain :\n",
      "-chicken\n",
      "-beef\n",
      "-cucumber\n"
     ]
    }
   ],
   "source": [
    "def make_sandwich(*items):\n",
    "    print(f'The sandwich will contain :')\n",
    "    for item in items:\n",
    "        print(f'-{item}')\n",
    "\n",
    "make_sandwich('ham')\n",
    "make_sandwich('chicken', 'beef', 'cucumber')"
   ]
  },
  {
   "cell_type": "markdown",
   "id": "d03b9cfa-a9f0-4cb6-8c09-7868d4f658f7",
   "metadata": {},
   "source": [
    "8-13. User Profile: Start with a copy of user_profile.py from page 148. Build a\n",
    "profile of yourself by calling build_profile(), using your first and last names\n",
    "and three other key-value pairs that describe you."
   ]
  },
  {
   "cell_type": "code",
   "execution_count": 13,
   "id": "de65592b-564e-48f2-a45b-f8dbbf6c6a5d",
   "metadata": {},
   "outputs": [
    {
     "name": "stdout",
     "output_type": "stream",
     "text": [
      "{'color': 'yellow', 'location': 'Finland', 'work': 'IT', 'first_name': 'hoang', 'last_name': 'trung'}\n"
     ]
    }
   ],
   "source": [
    "def build_profile(first, last, **user_info):\n",
    "    \"\"\"Build a dictionary containing everything we know about a user.\"\"\"\n",
    "    user_info['first_name'] = first\n",
    "    user_info['last_name'] = last\n",
    "    return user_info\n",
    "\n",
    "my_profile = build_profile('hoang','trung',\n",
    "             color = 'yellow',\n",
    "             location = 'Finland',\n",
    "             work = 'IT')\n",
    "print(my_profile)"
   ]
  },
  {
   "cell_type": "markdown",
   "id": "927ad83b-c35d-450a-8e53-785bd983149c",
   "metadata": {},
   "source": [
    "8-14. Cars: Write a function that stores information about a car in a dictionary.\n",
    "The function should always receive a manufacturer and a model name. It\n",
    "should then accept an arbitrary number of keyword arguments. Call the function\n",
    "with the required information and two other name-value pairs, such as a\n",
    "color or an optional feature. Your function should work for a call like this one:\n",
    "car = make_car('subaru', 'outback', color='blue', tow_package=True)\n",
    "Print the dictionary that’s returned to make sure all the information was\n",
    "stored correctly."
   ]
  },
  {
   "cell_type": "code",
   "execution_count": 15,
   "id": "feac3256-1a71-45a5-ad1c-7bf1a2b12deb",
   "metadata": {},
   "outputs": [
    {
     "name": "stdout",
     "output_type": "stream",
     "text": [
      "{'color': 'blue', 'tow_package': True, 'Manufacture': 'subaru', 'model': 'outback'}\n"
     ]
    }
   ],
   "source": [
    "def make_car(manufacture, model, **car_info):\n",
    "    car_info['Manufacture'] = manufacture\n",
    "    car_info['model'] = model\n",
    "    return car_info\n",
    "car = make_car('subaru', 'outback', color='blue', tow_package=True)\n",
    "print(car)"
   ]
  },
  {
   "cell_type": "code",
   "execution_count": 23,
   "id": "7c6be78b-50b9-48cc-933f-b75c9c817117",
   "metadata": {},
   "outputs": [
    {
     "name": "stdout",
     "output_type": "stream",
     "text": [
      "\n",
      "Making a 12-inch pizza with the following toppings:\n",
      "-cheese\n",
      "-maccaroni\n"
     ]
    }
   ],
   "source": [
    "import pizza\n",
    "pizza.make_pizza(12, 'cheese', 'maccaroni')"
   ]
  },
  {
   "cell_type": "code",
   "execution_count": 25,
   "id": "d45031fc-9249-4366-8c0b-6225a00b4d5f",
   "metadata": {},
   "outputs": [
    {
     "name": "stdout",
     "output_type": "stream",
     "text": [
      "Requirement already satisfied: pandas in c:\\users\\hoang\\anaconda3\\lib\\site-packages (2.2.2)\n",
      "Requirement already satisfied: numpy>=1.26.0 in c:\\users\\hoang\\anaconda3\\lib\\site-packages (from pandas) (1.26.4)\n",
      "Requirement already satisfied: python-dateutil>=2.8.2 in c:\\users\\hoang\\anaconda3\\lib\\site-packages (from pandas) (2.9.0.post0)\n",
      "Requirement already satisfied: pytz>=2020.1 in c:\\users\\hoang\\anaconda3\\lib\\site-packages (from pandas) (2024.1)\n",
      "Requirement already satisfied: tzdata>=2022.7 in c:\\users\\hoang\\anaconda3\\lib\\site-packages (from pandas) (2023.3)\n",
      "Requirement already satisfied: six>=1.5 in c:\\users\\hoang\\anaconda3\\lib\\site-packages (from python-dateutil>=2.8.2->pandas) (1.16.0)\n"
     ]
    }
   ],
   "source": [
    "!pip install pandas"
   ]
  },
  {
   "cell_type": "code",
   "execution_count": null,
   "id": "090b5a52-42e3-4928-a317-2748c375157b",
   "metadata": {},
   "outputs": [],
   "source": []
  }
 ],
 "metadata": {
  "kernelspec": {
   "display_name": "Python [conda env:base] *",
   "language": "python",
   "name": "conda-base-py"
  },
  "language_info": {
   "codemirror_mode": {
    "name": "ipython",
    "version": 3
   },
   "file_extension": ".py",
   "mimetype": "text/x-python",
   "name": "python",
   "nbconvert_exporter": "python",
   "pygments_lexer": "ipython3",
   "version": "3.12.3"
  }
 },
 "nbformat": 4,
 "nbformat_minor": 5
}
