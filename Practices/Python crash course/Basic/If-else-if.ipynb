{
 "cells": [
  {
   "cell_type": "code",
   "execution_count": 4,
   "id": "9ee3b13b-cf7f-4f9b-9866-5b655fd2ad61",
   "metadata": {},
   "outputs": [
    {
     "name": "stdout",
     "output_type": "stream",
     "text": [
      "Audi\n",
      "BMW\n",
      "Subaru\n",
      "Toyota\n"
     ]
    }
   ],
   "source": [
    "cars = ['audi', 'bmw', 'subaru', 'toyota']\n",
    "for car in cars:\n",
    "    if car == 'bmw':\n",
    "        print(car.upper())\n",
    "    else:\n",
    "        print(car.title())"
   ]
  },
  {
   "cell_type": "code",
   "execution_count": 1,
   "id": "b0152fd0-1d05-448a-8110-980c21abb3bd",
   "metadata": {},
   "outputs": [
    {
     "name": "stdout",
     "output_type": "stream",
     "text": [
      "Adding mushrooms.\n",
      "\n",
      "Finished making your pizza!\n"
     ]
    }
   ],
   "source": [
    "requested_toppings = ['mushrooms', 'extra cheese']\n",
    "if 'mushrooms' in requested_toppings:\n",
    "    print(\"Adding mushrooms.\")\n",
    "elif 'pepperoni' in requested_toppings:\n",
    "    print(\"Adding pepperoni.\")\n",
    "elif 'extra cheese' in requested_toppings:\n",
    "    print(\"Adding extra cheese.\")\n",
    "print(\"\\nFinished making your pizza!\")"
   ]
  },
  {
   "cell_type": "markdown",
   "id": "5bf7cb09-89df-4c11-aa7b-22994911d16b",
   "metadata": {},
   "source": [
    "📝 5-3. Alien Colors #1: Imagine an alien was just shot down in a game. Create a\n",
    "variable called alien_color and assign it a value of 'green', 'yellow', or 'red'.\n",
    "• Write an if statement to test whether the alien’s color is green. If it is, print\n",
    "a message that the player just earned 5 points.\n",
    "• Write one version of this program that passes the if test and another that\n",
    "fails. (The version that fails will have no output.)"
   ]
  },
  {
   "cell_type": "code",
   "execution_count": 3,
   "id": "b57def2c-815d-474a-a1ee-72df04fd761d",
   "metadata": {},
   "outputs": [
    {
     "name": "stdout",
     "output_type": "stream",
     "text": [
      "The player get 5 points\n"
     ]
    }
   ],
   "source": [
    "alien_color = 'green'\n",
    "if alien_color == 'green':\n",
    "    print('The player get 5 points')\n"
   ]
  },
  {
   "cell_type": "code",
   "execution_count": 5,
   "id": "8e5592b4-7029-421b-bd4e-9f73cc51eb87",
   "metadata": {},
   "outputs": [],
   "source": [
    "alien_color = 'yellow'\n",
    "if alien_color == 'green':\n",
    "    print('The player get 5 point')"
   ]
  },
  {
   "cell_type": "markdown",
   "id": "e2ce14a5-c46c-493a-a63c-bd4f872ae734",
   "metadata": {},
   "source": [
    "📝 5-4. Alien Colors #2: Choose a color for an alien as you did in Exercise 5-3,\n",
    "and write an if-else chain.\n",
    "• If the alien’s color is green, print a statement that the player just earned 5\n",
    "points for shooting the alien.\n",
    "• If the alien’s color isn’t green, print a statement that the player just earned\n",
    "10 points.\n",
    "• Write one version of this program that runs the if block and another that\n",
    "runs the else block.\n"
   ]
  },
  {
   "cell_type": "code",
   "execution_count": 7,
   "id": "3da30d95-2fa3-48dd-9bc8-8be7430da9b7",
   "metadata": {},
   "outputs": [
    {
     "name": "stdout",
     "output_type": "stream",
     "text": [
      "The player get 5 points\n"
     ]
    }
   ],
   "source": [
    "alien_color = 'blue'\n",
    "if alien_color == 'blue':\n",
    "    print('The player get 5 points')\n",
    "else:\n",
    "    print('The player get 10 points')"
   ]
  },
  {
   "cell_type": "code",
   "execution_count": 9,
   "id": "d98e5ea2-f030-41ad-9615-5c838e784844",
   "metadata": {},
   "outputs": [
    {
     "name": "stdout",
     "output_type": "stream",
     "text": [
      "The player get 10 points\n"
     ]
    }
   ],
   "source": [
    "alien_color = 'red'\n",
    "if alien_color == 'green':\n",
    "    print('The player get 5 points')\n",
    "else:\n",
    "    print('The player get 10 points')"
   ]
  },
  {
   "cell_type": "markdown",
   "id": "890ce877-5587-4273-869f-0bf30eb59350",
   "metadata": {},
   "source": [
    "📝 5-6. Stages of Life: Write an if-elif-else chain that determines a person’s stage\n",
    "of life. Set a value for the variable age, and then:\n",
    "• If the person is less than 2 years old, print a message that the person is\n",
    "a baby.\n",
    "• If the person is at least 2 years old but less than 4, print a message that the\n",
    "person is a toddler.\n",
    "• If the person is at least 4 years old but less than 13, print a message that\n",
    "the person is a kid.\n",
    "• If the person is at least 13 years old but less than 20, print a message that\n",
    "the person is a teenager.\n",
    "• If the person is at least 20 years old but less than 65, print a message that\n",
    "the person is an adult.\n",
    "• If the person is age 65 or older, print a message that the person is an elder."
   ]
  },
  {
   "cell_type": "code",
   "execution_count": 11,
   "id": "86bab46a-cb5f-40b2-927d-30215b616a3b",
   "metadata": {},
   "outputs": [
    {
     "name": "stdout",
     "output_type": "stream",
     "text": [
      "The person is an adult\n"
     ]
    }
   ],
   "source": [
    "age = 40\n",
    "if age < 2:\n",
    "    print('The person is a baby')\n",
    "elif age < 4:\n",
    "    print('The person is a todler')\n",
    "elif age < 13:\n",
    "    print('The person is a kid')\n",
    "elif age < 20:\n",
    "    print('The person is a teenager')\n",
    "elif age < 65:\n",
    "    print('The person is an adult')\n",
    "else:\n",
    "    print('The person is an elder')"
   ]
  },
  {
   "cell_type": "code",
   "execution_count": null,
   "id": "4ccf3c9f-b60a-40df-996d-511ee23906ca",
   "metadata": {},
   "outputs": [],
   "source": []
  }
 ],
 "metadata": {
  "kernelspec": {
   "display_name": "Python [conda env:base] *",
   "language": "python",
   "name": "conda-base-py"
  },
  "language_info": {
   "codemirror_mode": {
    "name": "ipython",
    "version": 3
   },
   "file_extension": ".py",
   "mimetype": "text/x-python",
   "name": "python",
   "nbconvert_exporter": "python",
   "pygments_lexer": "ipython3",
   "version": "3.12.3"
  }
 },
 "nbformat": 4,
 "nbformat_minor": 5
}
