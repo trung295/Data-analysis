{
 "cells": [
  {
   "cell_type": "code",
   "execution_count": 10,
   "id": "e7534598-12b9-480c-9199-4216a6efa6ed",
   "metadata": {},
   "outputs": [
    {
     "name": "stdout",
     "output_type": "stream",
     "text": [
      "alice\n",
      "Alice, that was a great trick!\n",
      "I can't wait to see your next trick, Alice.\n",
      "\n",
      "david\n",
      "David, that was a great trick!\n",
      "I can't wait to see your next trick, David.\n",
      "\n",
      "carolina\n",
      "Carolina, that was a great trick!\n",
      "I can't wait to see your next trick, Carolina.\n",
      "\n",
      "Thank you, everyone. That was a great magic show!\n"
     ]
    }
   ],
   "source": [
    "magicians = ['alice', 'david', 'carolina']\n",
    "for magician in magicians:\n",
    "    print(magician)\n",
    "    print(f\"{magician.title()}, that was a great trick!\")\n",
    "    print(f\"I can't wait to see your next trick, {magician.title()}.\\n\")\n",
    "print(\"Thank you, everyone. That was a great magic show!\")"
   ]
  },
  {
   "cell_type": "markdown",
   "id": "e02a5cd0-a40e-4fae-8b08-a4ed4eed18cf",
   "metadata": {},
   "source": [
    "📝 4-1. Pizzas: Think of at least three kinds of your favorite pizza. Store these\n",
    "pizza names in a list, and then use a for loop to print the name of each pizza.\n",
    "• Modify your for loop to print a sentence using the name of the pizza,\n",
    "instead of printing just the name of the pizza. For each pizza, you should\n",
    "have one line of output containing a simple statement like I like pepperoni\n",
    "pizza.\n",
    "• Add a line at the end of your program, outside the for loop, that states\n",
    "how much you like pizza. The output should consist of three or more lines\n",
    "about the kinds of pizza you like and then an additional sentence, such as\n",
    "I really love pizza!"
   ]
  },
  {
   "cell_type": "code",
   "execution_count": 14,
   "id": "c337fbcc-0aa7-4420-8e5b-f11b9dffac1b",
   "metadata": {},
   "outputs": [
    {
     "name": "stdout",
     "output_type": "stream",
     "text": [
      "ananas\n",
      "I like ananas pizza\n",
      "apple\n",
      "I like apple pizza\n",
      "mushroom\n",
      "I like mushroom pizza\n"
     ]
    }
   ],
   "source": [
    "pizzas = ['ananas','apple','mushroom']\n",
    "for pizza in pizzas:\n",
    "    print(pizza)\n",
    "    print(f'I like {pizza} pizza')\n"
   ]
  },
  {
   "cell_type": "code",
   "execution_count": 20,
   "id": "16aff412-469d-473f-aee4-8db7c675ffbd",
   "metadata": {},
   "outputs": [
    {
     "name": "stdout",
     "output_type": "stream",
     "text": [
      "1\n",
      "2\n",
      "3\n",
      "4\n"
     ]
    }
   ],
   "source": [
    "for value in range(1,5):\n",
    "    print(value)"
   ]
  },
  {
   "cell_type": "code",
   "execution_count": 26,
   "id": "3189d385-c261-4e91-adca-2bef313fc72f",
   "metadata": {},
   "outputs": [
    {
     "data": {
      "text/plain": [
       "[1, 3, 5, 7, 9]"
      ]
     },
     "execution_count": 26,
     "metadata": {},
     "output_type": "execute_result"
    }
   ],
   "source": [
    "# create a list by using range function\n",
    "numbers = list(range(1,10,2))\n",
    "numbers"
   ]
  },
  {
   "cell_type": "code",
   "execution_count": 30,
   "id": "d0454e50-64f4-4cb1-a325-a025cc0d3a94",
   "metadata": {},
   "outputs": [
    {
     "name": "stdout",
     "output_type": "stream",
     "text": [
      "[1, 4, 9, 16, 25, 36, 49, 64, 81, 100]\n"
     ]
    }
   ],
   "source": [
    "squares = []\n",
    "for value in range(1,11):\n",
    "    square = value**2\n",
    "    squares.append(square)\n",
    "print(squares)"
   ]
  },
  {
   "cell_type": "code",
   "execution_count": 40,
   "id": "f7d354fb-7447-46c9-ba28-0cf4c7f55851",
   "metadata": {},
   "outputs": [
    {
     "data": {
      "text/plain": [
       "0"
      ]
     },
     "execution_count": 40,
     "metadata": {},
     "output_type": "execute_result"
    }
   ],
   "source": [
    "digits = list(range(0,10))\n",
    "min(digits)"
   ]
  },
  {
   "cell_type": "code",
   "execution_count": 42,
   "id": "ae13dcde-ebde-4301-af0a-2f8366974388",
   "metadata": {},
   "outputs": [
    {
     "data": {
      "text/plain": [
       "9"
      ]
     },
     "execution_count": 42,
     "metadata": {},
     "output_type": "execute_result"
    }
   ],
   "source": [
    "max(digits)"
   ]
  },
  {
   "cell_type": "code",
   "execution_count": 44,
   "id": "80a574c6-95d3-472f-b3a8-c42fbd3469c4",
   "metadata": {},
   "outputs": [
    {
     "data": {
      "text/plain": [
       "45"
      ]
     },
     "execution_count": 44,
     "metadata": {},
     "output_type": "execute_result"
    }
   ],
   "source": [
    "sum(digits)"
   ]
  },
  {
   "cell_type": "code",
   "execution_count": 50,
   "id": "e95e0079-4d3c-440e-8af6-c241d67c01a6",
   "metadata": {},
   "outputs": [
    {
     "name": "stdout",
     "output_type": "stream",
     "text": [
      "[1, 4, 9, 16, 25, 36, 49, 64, 81]\n"
     ]
    }
   ],
   "source": [
    "# list comprehension\n",
    "squares = [value**2 for value in range(1,10)]\n",
    "print(squares)"
   ]
  },
  {
   "cell_type": "markdown",
   "id": "7e0e1376-3847-48a4-a39c-de2bda78652c",
   "metadata": {},
   "source": [
    "📝 4-3. Counting to Twenty: Use a for loop to print the numbers from 1 to 20,\n",
    "inclusive."
   ]
  },
  {
   "cell_type": "code",
   "execution_count": 52,
   "id": "371cbf9e-e021-43a4-ace9-c2a5ef42ebe3",
   "metadata": {},
   "outputs": [
    {
     "name": "stdout",
     "output_type": "stream",
     "text": [
      "1\n",
      "2\n",
      "3\n",
      "4\n",
      "5\n",
      "6\n",
      "7\n",
      "8\n",
      "9\n",
      "10\n",
      "11\n",
      "12\n",
      "13\n",
      "14\n",
      "15\n",
      "16\n",
      "17\n",
      "18\n",
      "19\n",
      "20\n"
     ]
    }
   ],
   "source": [
    "for i in range(1,21):\n",
    "    print(i)"
   ]
  },
  {
   "cell_type": "markdown",
   "id": "2bdb9875-9ce8-4935-9a97-c7aef36185a3",
   "metadata": {},
   "source": [
    "📝 4-5. Summing a Million: Make a list of the numbers from one to one million, and\n",
    "then use min() and max() to make sure your list actually starts at one and ends\n",
    "at one million. Also, use the sum() function to see how quickly Python can add\n",
    "a million numbers."
   ]
  },
  {
   "cell_type": "code",
   "execution_count": 54,
   "id": "c58acdf9-b909-47d9-9f89-0834bb317350",
   "metadata": {},
   "outputs": [
    {
     "data": {
      "text/plain": [
       "1"
      ]
     },
     "execution_count": 54,
     "metadata": {},
     "output_type": "execute_result"
    }
   ],
   "source": [
    "millions = list(range(1,1_000_001))\n",
    "min(millions)"
   ]
  },
  {
   "cell_type": "code",
   "execution_count": 56,
   "id": "2bdb9075-4d85-4a44-aaa6-9dd039a00693",
   "metadata": {},
   "outputs": [
    {
     "data": {
      "text/plain": [
       "1000000"
      ]
     },
     "execution_count": 56,
     "metadata": {},
     "output_type": "execute_result"
    }
   ],
   "source": [
    "max(millions)"
   ]
  },
  {
   "cell_type": "code",
   "execution_count": 58,
   "id": "68c5c93a-1562-47a2-abc7-c6f7b0be4cc7",
   "metadata": {},
   "outputs": [
    {
     "data": {
      "text/plain": [
       "500000500000"
      ]
     },
     "execution_count": 58,
     "metadata": {},
     "output_type": "execute_result"
    }
   ],
   "source": [
    "sum(millions)"
   ]
  },
  {
   "cell_type": "markdown",
   "id": "20bd1cf8-2bed-4d9c-86f0-b65292027f64",
   "metadata": {},
   "source": [
    "📝 4-6. Odd Numbers: Use the third argument of the range() function to make a list\n",
    "of the odd numbers from 1 to 20. Use a for loop to print each number."
   ]
  },
  {
   "cell_type": "code",
   "execution_count": 62,
   "id": "17ba4166-8810-491c-a9bf-bb1f28fd23b8",
   "metadata": {},
   "outputs": [
    {
     "name": "stdout",
     "output_type": "stream",
     "text": [
      "[1, 3, 5, 7, 9, 11, 13, 15, 17, 19]\n"
     ]
    }
   ],
   "source": [
    "odd_nums = [odd_num for odd_num in range(1,21,2)]\n",
    "print(odd_nums)"
   ]
  },
  {
   "cell_type": "markdown",
   "id": "8c5e49fc-fcba-4caa-ba77-83edf80963a3",
   "metadata": {},
   "source": [
    "📝 4-7. Threes: Make a list of the multiples of 3, from 3 to 30. Use a for loop to\n",
    "print the numbers in your list."
   ]
  },
  {
   "cell_type": "code",
   "execution_count": 64,
   "id": "daf78efd-d820-4b72-b3f8-bd93164788e2",
   "metadata": {},
   "outputs": [
    {
     "name": "stdout",
     "output_type": "stream",
     "text": [
      "9\n",
      "12\n",
      "15\n",
      "18\n",
      "21\n",
      "24\n",
      "27\n",
      "30\n",
      "33\n",
      "36\n",
      "39\n",
      "42\n",
      "45\n",
      "48\n",
      "51\n",
      "54\n",
      "57\n",
      "60\n",
      "63\n",
      "66\n",
      "69\n",
      "72\n",
      "75\n",
      "78\n",
      "81\n",
      "84\n",
      "87\n",
      "90\n"
     ]
    }
   ],
   "source": [
    "mutiples = [i*3 for i in range(3,31)]\n",
    "for multiple in mutiples:\n",
    "    print(multiple)"
   ]
  },
  {
   "cell_type": "markdown",
   "id": "dd85fc1f-2251-4c3b-bae5-82ef257791c6",
   "metadata": {},
   "source": [
    "📝 4-8. Cubes: A number raised to the third power is called a cube. For example,\n",
    "the cube of 2 is written as 2**3 in Python. Make a list of the first 10 cubes (that\n",
    "is, the cube of each integer from 1 through 10), and use a for loop to print out\n",
    "the value of each cube."
   ]
  },
  {
   "cell_type": "code",
   "execution_count": 66,
   "id": "88adaa00-8c18-451c-9fe4-b6c1c5386b87",
   "metadata": {},
   "outputs": [
    {
     "name": "stdout",
     "output_type": "stream",
     "text": [
      "1\n",
      "8\n",
      "27\n",
      "64\n",
      "125\n",
      "216\n",
      "343\n",
      "512\n",
      "729\n",
      "1000\n"
     ]
    }
   ],
   "source": [
    "cubes = [i**3 for i in range(1,11)]\n",
    "for cube in cubes:\n",
    "    print(cube)"
   ]
  },
  {
   "cell_type": "code",
   "execution_count": null,
   "id": "fe7c18fa-4574-43ea-869b-fa38bfa582e2",
   "metadata": {},
   "outputs": [],
   "source": []
  }
 ],
 "metadata": {
  "kernelspec": {
   "display_name": "Python [conda env:base] *",
   "language": "python",
   "name": "conda-base-py"
  },
  "language_info": {
   "codemirror_mode": {
    "name": "ipython",
    "version": 3
   },
   "file_extension": ".py",
   "mimetype": "text/x-python",
   "name": "python",
   "nbconvert_exporter": "python",
   "pygments_lexer": "ipython3",
   "version": "3.12.3"
  }
 },
 "nbformat": 4,
 "nbformat_minor": 5
}
