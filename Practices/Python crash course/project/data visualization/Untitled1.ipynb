{
 "cells": [
  {
   "cell_type": "code",
   "execution_count": 9,
   "id": "ccec136b-292f-448c-8f26-20ff76dcd047",
   "metadata": {},
   "outputs": [
    {
     "data": {
      "text/plain": [
       "\u001b[1;31mSignature:\u001b[0m \u001b[0mchoice\u001b[0m\u001b[1;33m(\u001b[0m\u001b[0mseq\u001b[0m\u001b[1;33m)\u001b[0m\u001b[1;33m\u001b[0m\u001b[1;33m\u001b[0m\u001b[0m\n",
       "\u001b[1;31mSource:\u001b[0m   \n",
       "    \u001b[1;32mdef\u001b[0m \u001b[0mchoice\u001b[0m\u001b[1;33m(\u001b[0m\u001b[0mself\u001b[0m\u001b[1;33m,\u001b[0m \u001b[0mseq\u001b[0m\u001b[1;33m)\u001b[0m\u001b[1;33m:\u001b[0m\u001b[1;33m\n",
       "\u001b[0m        \u001b[1;34m\"\"\"Choose a random element from a non-empty sequence.\"\"\"\u001b[0m\u001b[1;33m\n",
       "\u001b[0m\u001b[1;33m\n",
       "\u001b[0m        \u001b[1;31m# As an accommodation for NumPy, we don't use \"if not seq\"\u001b[0m\u001b[1;33m\n",
       "\u001b[0m        \u001b[1;31m# because bool(numpy.array()) raises a ValueError.\u001b[0m\u001b[1;33m\n",
       "\u001b[0m        \u001b[1;32mif\u001b[0m \u001b[1;32mnot\u001b[0m \u001b[0mlen\u001b[0m\u001b[1;33m(\u001b[0m\u001b[0mseq\u001b[0m\u001b[1;33m)\u001b[0m\u001b[1;33m:\u001b[0m\u001b[1;33m\n",
       "\u001b[0m            \u001b[1;32mraise\u001b[0m \u001b[0mIndexError\u001b[0m\u001b[1;33m(\u001b[0m\u001b[1;34m'Cannot choose from an empty sequence'\u001b[0m\u001b[1;33m)\u001b[0m\u001b[1;33m\n",
       "\u001b[0m        \u001b[1;32mreturn\u001b[0m \u001b[0mseq\u001b[0m\u001b[1;33m[\u001b[0m\u001b[0mself\u001b[0m\u001b[1;33m.\u001b[0m\u001b[0m_randbelow\u001b[0m\u001b[1;33m(\u001b[0m\u001b[0mlen\u001b[0m\u001b[1;33m(\u001b[0m\u001b[0mseq\u001b[0m\u001b[1;33m)\u001b[0m\u001b[1;33m)\u001b[0m\u001b[1;33m]\u001b[0m\u001b[1;33m\u001b[0m\u001b[1;33m\u001b[0m\u001b[0m\n",
       "\u001b[1;31mFile:\u001b[0m      c:\\users\\hoang\\anaconda3\\lib\\random.py\n",
       "\u001b[1;31mType:\u001b[0m      method"
      ]
     },
     "metadata": {},
     "output_type": "display_data"
    }
   ],
   "source": [
    "from random import choice??\n",
    "\n",
    "class RandomWalk:\n",
    "    \"\"\" A class to generate random walks \"\"\"\n",
    "\n",
    "    def __init__(self, num_points = 50):\n",
    "        \"\"\" Initialize attributes of a walk \"\"\"\n",
    "        self.num_points = num_points\n",
    "\n",
    "        \"\"\" All walk starts at (0,0) \"\"\"\n",
    "        self.x_values = [0]\n",
    "        self.y_values = [0]\n",
    "\n",
    "    def fill_walk(self):\n",
    "        \"\"\" Calculate all the points in the walk \"\"\"\n",
    "        \"\"\" keep taking steps until the walk reaches the desired length \"\"\"\n",
    "        while len(self.x_values) < self.num_points:\n",
    "\n",
    "            # Decide which direction to go, and how far to go\n",
    "            x_direction = choice([1, -1])\n",
    "            x_distance = choice[0 ,1, 2, 3, 4]\n",
    "            x_steps = x_direction*x_distance\n",
    "\n",
    "            y_direction = choice([1, -1])\n",
    "            y_distance = choice[0 ,1, 2, 3, 4]\n",
    "            y_steps = y_direction * y_distance\n",
    "\n",
    "            # reject moves that go nowhere\n",
    "            if x_steps == 0 and y_steps == 0:\n",
    "                continue\n",
    "\n",
    "            # calculate the new position\n",
    "            x = self.x_values[-1] + x_step\n",
    "            y = self.y_values[-1] + y_steps\n",
    "\n",
    "            self.x_values.append(x)\n",
    "            self.y_values.append(y)\n",
    "\n",
    "\n",
    "  "
   ]
  },
  {
   "cell_type": "code",
   "execution_count": 18,
   "id": "c13df499-90f3-4482-b2df-aab14fde67d9",
   "metadata": {},
   "outputs": [
    {
     "data": {
      "text/plain": [
       "[0]"
      ]
     },
     "execution_count": 18,
     "metadata": {},
     "output_type": "execute_result"
    }
   ],
   "source": [
    "rw = RandomWalk()\n",
    "rw.x_values"
   ]
  },
  {
   "cell_type": "code",
   "execution_count": null,
   "id": "7f6d6479-d038-46f7-9cbb-d52f74713939",
   "metadata": {},
   "outputs": [],
   "source": []
  }
 ],
 "metadata": {
  "kernelspec": {
   "display_name": "Python [conda env:base] *",
   "language": "python",
   "name": "conda-base-py"
  },
  "language_info": {
   "codemirror_mode": {
    "name": "ipython",
    "version": 3
   },
   "file_extension": ".py",
   "mimetype": "text/x-python",
   "name": "python",
   "nbconvert_exporter": "python",
   "pygments_lexer": "ipython3",
   "version": "3.12.3"
  }
 },
 "nbformat": 4,
 "nbformat_minor": 5
}
