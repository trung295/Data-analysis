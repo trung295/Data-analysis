{
 "cells": [
  {
   "cell_type": "code",
   "execution_count": null,
   "id": "f1079edd-90e2-403c-94af-52d5826f09c4",
   "metadata": {},
   "outputs": [],
   "source": [
    "#Ex 1: Write a program to create a new string made of the middle three characters of an input string."
   ]
  },
  {
   "cell_type": "code",
   "execution_count": 32,
   "id": "2a599fb6-272e-4c5e-b294-3cdb7fbfe311",
   "metadata": {},
   "outputs": [
    {
     "name": "stdout",
     "output_type": "stream",
     "text": [
      "Original string is: JhonDipPeta\n",
      "Middle three character is : Dip\n"
     ]
    }
   ],
   "source": [
    "#First way:\n",
    "\n",
    "\n",
    "str1 = \"JhonDipPeta\"\n",
    "print (f\"Original string is: {str1}\")\n",
    "l = len(str1)  # use variable l to know str1 length\n",
    "mid =int( l/2)  # use variable mid to know middle str1 length. int to convert float into integer\n",
    "fi = mid-1  # use variable fi to know char before middle char of str1\n",
    "af = mid+1  # use variable af to know char after middle char of str1\n",
    "print (f\"Middle three character is : {str1[fi]+str1[mid]+str1[af]}\")\n"
   ]
  },
  {
   "cell_type": "code",
   "execution_count": 36,
   "id": "a612f0c2-a2a9-48ce-a132-b6edd4bc617a",
   "metadata": {},
   "outputs": [
    {
     "name": "stdout",
     "output_type": "stream",
     "text": [
      "Original string is: JhonDipPeta\n",
      "Middle three character of the original string is : Dip\n"
     ]
    }
   ],
   "source": [
    "#Second way:\n",
    "\n",
    "str1 = \"JhonDipPeta\"\n",
    "print (f\"Original string is: {str1}\")\n",
    "print (f\"Middle three character of the original string is : {str1[4:7]}\")\n",
    "\n"
   ]
  },
  {
   "cell_type": "code",
   "execution_count": 54,
   "id": "0f47c206-3e95-4542-a4dc-50fa526d6c09",
   "metadata": {},
   "outputs": [
    {
     "name": "stdout",
     "output_type": "stream",
     "text": [
      "Original string is: JhonDipPeta\n",
      "Middle three character of the original string is : ['D', 'i', 'p']\n"
     ]
    }
   ],
   "source": [
    "# third way\n",
    "\n",
    "str1 = \"JhonDipPeta\"\n",
    "print (f\"Original string is: {str1}\")\n",
    "l = len(str1)  # use variable l to know str1 length\n",
    "mid =int( l/2)  # use variable mid to know middle str1 length. int to convert float into integer\n",
    "fi = mid-1  # use variable fi to know char before middle char of str1\n",
    "af = mid+1  # use variable af to know char after middle char of str1\n",
    "new_str1 =[]\n",
    "for i in range (len(str1)):\n",
    "    \n",
    "    if i==mid or i==fi or i==af:\n",
    "        new_str1.append(str1[i])\n",
    "print (f\"Middle three character of the original string is : {new_str1}\")"
   ]
  },
  {
   "cell_type": "code",
   "execution_count": 86,
   "id": "dc8cd4c1-21de-44f4-90c8-1d9b638b3071",
   "metadata": {},
   "outputs": [
    {
     "name": "stdout",
     "output_type": "stream",
     "text": [
      "Original string is: JhonDipPeta\n",
      "Middle three character of the original string is : Dip\n",
      "Original string is: JaSonAy\n",
      "Middle three character of the original string is : Son\n"
     ]
    }
   ],
   "source": [
    "def middle_three_char(str1):\n",
    "    print (f\"Original string is: {str1}\")\n",
    "    l=len(str1)\n",
    "    x=int(l/2)\n",
    "    new_str = str1[x-1]+str1[x]+str1[x+1]\n",
    "    print(f\"Middle three character of the original string is : {new_str}\")\n",
    "\n",
    "middle_three_char(\"JhonDipPeta\")\n",
    "middle_three_char(\"JaSonAy\")\n",
    "    "
   ]
  },
  {
   "cell_type": "code",
   "execution_count": null,
   "id": "d32c9caa-6df3-48e8-a58a-4bc45b1644e1",
   "metadata": {},
   "outputs": [],
   "source": [
    "# Ex2: Given two strings, s1 and s2. Write a program to create a new string s3 by appending s2 in the middle of s1.\n",
    "# s1 = \"Ault\"\n",
    "# s2 = \"Kelly\""
   ]
  },
  {
   "cell_type": "code",
   "execution_count": 88,
   "id": "4c1c158d-8502-4860-9816-ddf833471618",
   "metadata": {},
   "outputs": [
    {
     "name": "stdout",
     "output_type": "stream",
     "text": [
      "AuKellylt\n"
     ]
    }
   ],
   "source": [
    "def append_two_string(s1,s2):\n",
    "    l = len(s1)\n",
    "    x = int(l/2)\n",
    "    s3 = s1[0:x]+s2+s1[x:l]\n",
    "    print(s3)\n",
    "append_two_string(\"Ault\",\"Kelly\")"
   ]
  },
  {
   "cell_type": "code",
   "execution_count": null,
   "id": "d748214d-eed3-46a7-bac1-c1783f35d03f",
   "metadata": {},
   "outputs": [],
   "source": [
    "# Ex3 : Given two strings, s1 and s2, write a program to return a new string made of s1 and s2’s first, middle, and last characters."
   ]
  },
  {
   "cell_type": "code",
   "execution_count": 108,
   "id": "ecfb2dc2-a57b-45a3-83b8-b5a10fd80e95",
   "metadata": {},
   "outputs": [
    {
     "name": "stdout",
     "output_type": "stream",
     "text": [
      "New combine string is : AJrpan\n"
     ]
    }
   ],
   "source": [
    "def combine_two_string(s1,s2):\n",
    "    mid_s1 = int(len(s1)/2) # middle index number of s1\n",
    "    mid_s2 = int(len(s2)/2) # middle index number of s2\n",
    "    s3 = s1[0] + s2[0] + s1[mid_s1]+s2[mid_s2] + s1[len(s1)-1] + s2[len(s2)-1]\n",
    "    print (f\"New combine string is : {s3}\")\n",
    "combine_two_string(\"America\",\"Japan\")"
   ]
  },
  {
   "cell_type": "code",
   "execution_count": null,
   "id": "d024e9b1-a1df-48af-ac4e-7171be73e1ba",
   "metadata": {},
   "outputs": [],
   "source": [
    "\"\"\" Exercise 4: Arrange string characters such that lowercase letters should come first\n",
    " Given string contains a combination of the lower and upper case letters. Write a program to arrange \n",
    "the characters of a string so that all lowercase letters should come first. \"\"\""
   ]
  },
  {
   "cell_type": "code",
   "execution_count": 5,
   "id": "357dad38-91c9-45d1-bd04-1ed04a98983a",
   "metadata": {},
   "outputs": [
    {
     "name": "stdout",
     "output_type": "stream",
     "text": [
      "PNT\n",
      "yaivePNT\n"
     ]
    }
   ],
   "source": [
    "str1 = \"PyNaTive\"\n",
    "x=\"\"\n",
    "y=\"\"\n",
    "for i in str1:\n",
    "    if i.islower():\n",
    "        x=x+i\n",
    "    else:\n",
    "        y=y+i\n",
    "print(y)\n",
    "\n",
    "s3=x+y\n",
    "print (s3)\n",
    "\n",
    "\n",
    "\n",
    "    "
   ]
  },
  {
   "cell_type": "code",
   "execution_count": 156,
   "id": "dec9bc8d-79b2-4af0-b5d6-0ed127cceb37",
   "metadata": {},
   "outputs": [
    {
     "data": {
      "text/plain": [
       "'yaivePNT'"
      ]
     },
     "execution_count": 156,
     "metadata": {},
     "output_type": "execute_result"
    }
   ],
   "source": [
    "def arrange_character(str1):\n",
    "    x=\"\"\n",
    "    y=\"\"\n",
    "    for i in str1:\n",
    "        if i.islower():\n",
    "            x=x+i\n",
    "        else:\n",
    "            y=y+i\n",
    "    return x+y\n",
    "arrange_character(\"PyNaTive\")"
   ]
  },
  {
   "cell_type": "code",
   "execution_count": null,
   "id": "50cc302a-3175-4911-b128-30d6447301b6",
   "metadata": {},
   "outputs": [],
   "source": [
    "\"\"\" Exercise 5: Count all letters, digits, and special symbols from a given string \"\"\""
   ]
  },
  {
   "cell_type": "code",
   "execution_count": 25,
   "id": "86bbdd89-cba5-4262-b006-9a3b45281df7",
   "metadata": {},
   "outputs": [
    {
     "name": "stdout",
     "output_type": "stream",
     "text": [
      "Total counts of chars, digits, and symbols \n",
      "Chars = 8\n",
      "Digits = 3\n",
      "Symbols = 4\n"
     ]
    }
   ],
   "source": [
    "def count_all(str1):\n",
    "    chars = \"\"\n",
    "    digits = \"\"\n",
    "    symbols = \"\"\n",
    "    for i in str1:\n",
    "        if i.isalpha():\n",
    "            chars+=i\n",
    "        elif i.isdigit():\n",
    "            digits+=i\n",
    "        else:\n",
    "            symbols+=i\n",
    "    print(f\"\"\"Total counts of chars, digits, and symbols \n",
    "Chars = {len(chars)}\n",
    "Digits = {len(digits)}\n",
    "Symbols = {len(symbols)}\"\"\")\n",
    "count_all(\"P@#yn26at^&i5ve\")"
   ]
  },
  {
   "cell_type": "code",
   "execution_count": null,
   "id": "957eba3a-e522-434a-964e-6b7e14c32309",
   "metadata": {},
   "outputs": [],
   "source": [
    "\"\"\" Ex 6: Given two strings, s1 and s2. Write a program to create a new string s3 made of the first char of s1, then the \n",
    "last char of s2, Next, the second char of s1 and second last char of s2, and so on. Any leftover chars go at the end of the result."
   ]
  },
  {
   "cell_type": "code",
   "execution_count": 39,
   "id": "510d510c-9fad-498a-a370-cc028b8d7c8a",
   "metadata": {},
   "outputs": [
    {
     "name": "stdout",
     "output_type": "stream",
     "text": [
      "AzbycX\n"
     ]
    }
   ],
   "source": [
    "s1 = \"Abc\"\n",
    "s2 = \"Xyz\"\n",
    "\n",
    "# get string length\n",
    "s1_length = len(s1)\n",
    "s2_length = len(s2)\n",
    "\n",
    "# get length of a bigger string\n",
    "if s1_length<s2_length:\n",
    "    length = s2_length\n",
    "else:\n",
    "    length = s1_length\n",
    "\n",
    "result = \"\"\n",
    "\n",
    "# reverse s2\n",
    "s2 = s2[::-1]\n",
    "\n",
    "# iterate string \n",
    "# s1 ascending and s2 descending\n",
    "for i in range(length):\n",
    "        result = result + s1[i]\n",
    "        result = result + s2[i]\n",
    "\n",
    "print(result)\n",
    "    "
   ]
  },
  {
   "cell_type": "code",
   "execution_count": null,
   "id": "cd931ff4-2a1e-49c2-a1a3-ecbde9a5633d",
   "metadata": {},
   "outputs": [],
   "source": [
    "\"\"\" Ex 7: Write a program to check if two strings are balanced. For example, strings s1 and s2 are balanced if all the characters \n",
    "in the s1 are present in s2. The character’s position doesn’t matter.\"\"\""
   ]
  },
  {
   "cell_type": "code",
   "execution_count": 81,
   "id": "af74ab17-142a-4045-ae14-d4f002904b42",
   "metadata": {},
   "outputs": [
    {
     "name": "stdout",
     "output_type": "stream",
     "text": [
      "True\n"
     ]
    }
   ],
   "source": [
    "s1 = \"Yn\"\n",
    "s2 = \"PYnative\"\n",
    "s3 = \"\"\n",
    "if s1 in s2:\n",
    "    print(s1 in s2)\n",
    "else:\n",
    "    print(s1 not in s2)\n",
    "\n",
    "\n",
    "    \n",
    "        \n",
    "       \n",
    "    "
   ]
  },
  {
   "cell_type": "code",
   "execution_count": 87,
   "id": "7b2be87f-38d1-42de-b332-dc4808286453",
   "metadata": {},
   "outputs": [
    {
     "name": "stdout",
     "output_type": "stream",
     "text": [
      "False\n"
     ]
    }
   ],
   "source": [
    "def string_balance(s1,s2):\n",
    "    if s1 in s2:\n",
    "        print(s1 in s2)\n",
    "    else:\n",
    "        print(s1 in s2)\n",
    "string_balance(\"Yno\",\"PYnative\")\n"
   ]
  },
  {
   "cell_type": "code",
   "execution_count": null,
   "id": "b2958ab3-09e1-4c85-94c4-64439a9a0d44",
   "metadata": {},
   "outputs": [],
   "source": [
    "\"\"\" Ex 8: Write a program to find all occurrences of “USA” in a given string ignoring the case.\"\"\""
   ]
  },
  {
   "cell_type": "code",
   "execution_count": 123,
   "id": "a515cdf0-5254-4ce7-9263-6537fc318856",
   "metadata": {},
   "outputs": [
    {
     "name": "stdout",
     "output_type": "stream",
     "text": [
      "2\n"
     ]
    }
   ],
   "source": [
    "str1 = \"Welcome to USA. usa awesome, isn't it?\"\n",
    "str1 = str1.lower()\n",
    "print(str1.count(\"usa\"))\n"
   ]
  },
  {
   "cell_type": "code",
   "execution_count": 129,
   "id": "b24b5d2f-6a34-4f7e-8383-3410b4648ecf",
   "metadata": {},
   "outputs": [
    {
     "data": {
      "text/plain": [
       "3"
      ]
     },
     "execution_count": 129,
     "metadata": {},
     "output_type": "execute_result"
    }
   ],
   "source": [
    "def count_all_occurrence(s1,s2):\n",
    "    s1 = s1.lower()\n",
    "    s2 = s2.lower()\n",
    "    return s2.count(s1)\n",
    "count_all_occurrence(\"uSa\",\"Welcome to USA. usa awesome, isn't it?. I love UsA\")"
   ]
  },
  {
   "cell_type": "code",
   "execution_count": null,
   "id": "2d05b786-ce25-44bf-9d76-3e89f9c37e67",
   "metadata": {},
   "outputs": [],
   "source": [
    "\"\"\" Ex 9: Given a string s1, write a program to return the sum and average of the digits that appear in the string, ignoring\n",
    "all other characters.\"\"\""
   ]
  },
  {
   "cell_type": "code",
   "execution_count": 153,
   "id": "98c8b0a3-3064-4005-ae3c-f4f441d54637",
   "metadata": {},
   "outputs": [
    {
     "name": "stdout",
     "output_type": "stream",
     "text": [
      "6\n"
     ]
    }
   ],
   "source": [
    "str1 = \"PYnative29@#8496\"\n",
    "digits = 0\n",
    "digits_count = 0\n",
    "for i in str1:\n",
    "    if i.isdigit():\n",
    "        x=int(i)\n",
    "        digits_count = digits_count+1\n",
    "        digits = digits+x\n",
    "print(digits_count)\n",
    "    "
   ]
  },
  {
   "cell_type": "code",
   "execution_count": 159,
   "id": "4a235de2-dbe1-43fe-9e61-4eae813c8284",
   "metadata": {},
   "outputs": [
    {
     "name": "stdout",
     "output_type": "stream",
     "text": [
      " Sum is 38 Average is 6.333333333333333\n"
     ]
    }
   ],
   "source": [
    "def sum_average(str1):\n",
    "    digits = 0\n",
    "    digits_count = 0\n",
    "    for i in str1:\n",
    "        if i.isdigit():\n",
    "            x=int(i)\n",
    "            digits_count = digits_count+1\n",
    "            digits = digits+x\n",
    "    ave = digits/digits_count\n",
    "    print(f\" Sum is {digits} Average is {ave}\")\n",
    "sum_average(\"PYnative29@#8496\")"
   ]
  },
  {
   "cell_type": "code",
   "execution_count": 167,
   "id": "8df3fff4-9d10-428a-a5ae-d5356ea19c40",
   "metadata": {},
   "outputs": [
    {
     "name": "stdout",
     "output_type": "stream",
     "text": [
      "evitanYP\n"
     ]
    }
   ],
   "source": [
    "str1 = \"PYnative\"\n",
    "str1 = str1[::-1]\n",
    "print(str1)"
   ]
  },
  {
   "cell_type": "code",
   "execution_count": 169,
   "id": "6d442807-84e0-46ca-bb99-8f1fc9ed8045",
   "metadata": {},
   "outputs": [
    {
     "data": {
      "text/plain": [
       "'evitanYP'"
      ]
     },
     "execution_count": 169,
     "metadata": {},
     "output_type": "execute_result"
    }
   ],
   "source": [
    "def reserved(str1):\n",
    "    str1=str1[::-1]\n",
    "    return str1\n",
    "reserved(\"PYnative\")"
   ]
  },
  {
   "cell_type": "code",
   "execution_count": null,
   "id": "0891ef8e-8d52-4316-89b5-d42e5d6c1cbb",
   "metadata": {},
   "outputs": [],
   "source": [
    "\"\"\" Ex 12: Write a program to find the last position of a substring “Emma” in a given string.\"\"\""
   ]
  },
  {
   "cell_type": "code",
   "execution_count": 183,
   "id": "40f5fda7-df3f-4be4-821c-afb3115a1652",
   "metadata": {},
   "outputs": [
    {
     "name": "stdout",
     "output_type": "stream",
     "text": [
      "43\n"
     ]
    }
   ],
   "source": [
    "str1 = \"Emma is a data scientist who knows Python. Emma works at google.\"\n",
    "str1 = str1.lower()\n",
    "str1_index = str1.rindex(\"emma\")\n",
    "print(str1_index)\n"
   ]
  },
  {
   "cell_type": "code",
   "execution_count": 187,
   "id": "787e61d8-5cbc-4304-b80d-91d0a91b9b4a",
   "metadata": {},
   "outputs": [
    {
     "name": "stdout",
     "output_type": "stream",
     "text": [
      "Last occurrence of Emma starts at index 43\n"
     ]
    }
   ],
   "source": [
    "def last_position(s1,s2):\n",
    "    s1 = s1.lower()\n",
    "    s2 = s2.lower()\n",
    "    s2_index = s2.rindex(s1)\n",
    "    print(f\"Last occurrence of Emma starts at index {s2_index}\")\n",
    "last_position(\"Emma\",\"Emma is a data scientist who knows Python. Emma works at google.\")\n",
    "    "
   ]
  },
  {
   "cell_type": "code",
   "execution_count": null,
   "id": "5e788c40-cb4f-4873-ad67-31103eaedf85",
   "metadata": {},
   "outputs": [],
   "source": [
    "\"\"\" Ex 13: Write a program to split a given string on hyphens and display each substring."
   ]
  },
  {
   "cell_type": "code",
   "execution_count": 12,
   "id": "8a6b1978-a056-4a43-9d1f-01453131e51c",
   "metadata": {},
   "outputs": [
    {
     "name": "stdout",
     "output_type": "stream",
     "text": [
      "Emma\n",
      "is\n",
      "a\n",
      "data\n",
      "scientist\n"
     ]
    }
   ],
   "source": [
    "str1 = \"Emma-is-a-data-scientist\"\n",
    "str1 = str1.replace(\"-\",\" \")\n",
    "new_str1_list = str1.split()\n",
    "for i in new_str1_list:\n",
    "    print (i)"
   ]
  },
  {
   "cell_type": "code",
   "execution_count": 18,
   "id": "c019e2f5-b6b6-41aa-9436-6279e46d9334",
   "metadata": {},
   "outputs": [
    {
     "name": "stdout",
     "output_type": "stream",
     "text": [
      "Emma\n",
      "is\n",
      "a\n",
      "data\n",
      "scientist\n"
     ]
    }
   ],
   "source": [
    "def split_string(str1):\n",
    "    str1 = str1.replace(\"-\",\" \")\n",
    "    new_str1_list = str1.split()\n",
    "    for i in new_str1_list:\n",
    "        print(i)\n",
    "split_string(\"Emma-is-a-data-scientist\")\n"
   ]
  },
  {
   "cell_type": "code",
   "execution_count": null,
   "id": "ac038ee9-3e22-432f-b065-3f3abc84b6c1",
   "metadata": {},
   "outputs": [],
   "source": [
    "\"\"\" Ex 14: Remove special symbols / punctuation from a string\"\"\""
   ]
  },
  {
   "cell_type": "code",
   "execution_count": 26,
   "id": "71d8088a-7723-4b1d-bef6-557bdf1a6e5c",
   "metadata": {},
   "outputs": [
    {
     "name": "stdout",
     "output_type": "stream",
     "text": [
      "Jon is developer  musician\n"
     ]
    }
   ],
   "source": [
    "import string\n",
    "str1 = \"/*Jon is @developer & musician\"\n",
    "str1_table = str1.maketrans(\"\",\"\",string.punctuation)\n",
    "str1 = str1.translate(str1_table)\n",
    "print(str1)"
   ]
  },
  {
   "cell_type": "code",
   "execution_count": null,
   "id": "4d7b54dd-9ea2-4500-b56f-23b059694dc9",
   "metadata": {},
   "outputs": [],
   "source": [
    "\"\"\" Ex 16: Removal all characters from a string except integers\"\"\""
   ]
  },
  {
   "cell_type": "code",
   "execution_count": 32,
   "id": "4173b78b-8215-430e-ba8c-e2abb071287d",
   "metadata": {},
   "outputs": [
    {
     "name": "stdout",
     "output_type": "stream",
     "text": [
      "2510\n"
     ]
    }
   ],
   "source": [
    "str1 = 'I am 25 years and 10 months old'\n",
    "new_str1 = \"\"\n",
    "for i in str1:\n",
    "    if i.isdigit():\n",
    "        new_str1+=i\n",
    "print(new_str1)"
   ]
  },
  {
   "cell_type": "code",
   "execution_count": 34,
   "id": "e17c5a67-43ba-40fd-8ea0-04df7b590d7b",
   "metadata": {},
   "outputs": [
    {
     "data": {
      "text/plain": [
       "'2510'"
      ]
     },
     "execution_count": 34,
     "metadata": {},
     "output_type": "execute_result"
    }
   ],
   "source": [
    "def remove_all_char(str1):\n",
    "    new_str1 = \"\"\n",
    "    for i in str1:\n",
    "        if i.isdigit():\n",
    "            new_str1+=i\n",
    "    return new_str1\n",
    "remove_all_char('I am 25 years and 10 months old')\n"
   ]
  },
  {
   "cell_type": "code",
   "execution_count": null,
   "id": "134b7f1e-282f-4900-aadd-345f35309826",
   "metadata": {},
   "outputs": [],
   "source": [
    "\"\"\" Ex 17: Write a program to find words with both alphabets and numbers from an input string.\"\"\""
   ]
  },
  {
   "cell_type": "code",
   "execution_count": 62,
   "id": "95e60470-b082-473b-9e71-f67c1610413b",
   "metadata": {},
   "outputs": [
    {
     "ename": "TypeError",
     "evalue": "'bool' object is not iterable",
     "output_type": "error",
     "traceback": [
      "\u001b[1;31m---------------------------------------------------------------------------\u001b[0m",
      "\u001b[1;31mTypeError\u001b[0m                                 Traceback (most recent call last)",
      "Cell \u001b[1;32mIn[62], line 6\u001b[0m\n\u001b[0;32m      4\u001b[0m \u001b[38;5;28;01mfor\u001b[39;00m i \u001b[38;5;129;01min\u001b[39;00m str1_list:\n\u001b[0;32m      5\u001b[0m     \u001b[38;5;28;01mfor\u001b[39;00m char \u001b[38;5;129;01min\u001b[39;00m i:\n\u001b[1;32m----> 6\u001b[0m         \u001b[38;5;28;01mif\u001b[39;00m \u001b[38;5;28many\u001b[39m(char\u001b[38;5;241m.\u001b[39misalpha()) \u001b[38;5;129;01mand\u001b[39;00m \u001b[38;5;28many\u001b[39m(char\u001b[38;5;241m.\u001b[39misdigit()):\n\u001b[0;32m      7\u001b[0m             new_list\u001b[38;5;241m.\u001b[39mappend(i)\n\u001b[0;32m      8\u001b[0m         \u001b[38;5;28;01melse\u001b[39;00m:\n",
      "\u001b[1;31mTypeError\u001b[0m: 'bool' object is not iterable"
     ]
    }
   ],
   "source": [
    "str1 = \"Emma25 is Data scientist50 and AI Expert\"\n",
    "str1_list = str1.split()\n",
    "new_list = []\n",
    "for i in str1_list:\n",
    "    for char in i:\n",
    "        if any(char.isalpha()) and any(char.isdigit()):\n",
    "            new_list.append(i)\n",
    "        else:\n",
    "            continue \n",
    "    \n",
    "print(new_list)\n",
    "            \n",
    "            "
   ]
  },
  {
   "cell_type": "code",
   "execution_count": null,
   "id": "b79c6d93-b92a-488a-ac80-080350ccb3e9",
   "metadata": {},
   "outputs": [],
   "source": []
  }
 ],
 "metadata": {
  "kernelspec": {
   "display_name": "Python [conda env:base] *",
   "language": "python",
   "name": "conda-base-py"
  },
  "language_info": {
   "codemirror_mode": {
    "name": "ipython",
    "version": 3
   },
   "file_extension": ".py",
   "mimetype": "text/x-python",
   "name": "python",
   "nbconvert_exporter": "python",
   "pygments_lexer": "ipython3",
   "version": "3.12.7"
  }
 },
 "nbformat": 4,
 "nbformat_minor": 5
}
