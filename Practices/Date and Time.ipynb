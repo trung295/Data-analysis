{
 "cells": [
  {
   "cell_type": "code",
   "execution_count": null,
   "id": "b3cb0979-a3b3-43f5-985f-44da5a1a762a",
   "metadata": {},
   "outputs": [],
   "source": [
    "\"\"\"Get urrent date and time\"\"\""
   ]
  },
  {
   "cell_type": "code",
   "execution_count": 2,
   "id": "a2016634-ede1-496f-ba14-1b0723d9f6c4",
   "metadata": {},
   "outputs": [
    {
     "name": "stdout",
     "output_type": "stream",
     "text": [
      "2025-03-03 08:25:58.622074\n"
     ]
    }
   ],
   "source": [
    "import datetime\n",
    "i = datetime.datetime.now()\n",
    "print(i)"
   ]
  },
  {
   "cell_type": "code",
   "execution_count": null,
   "id": "26e82df0-36d1-4515-84ce-0ed795dd1cde",
   "metadata": {},
   "outputs": [],
   "source": [
    "\"\"\"Ex 2: You received the following date in string format. Please convert it into Python’s DateTime object.\"\"\""
   ]
  },
  {
   "cell_type": "code",
   "execution_count": 32,
   "id": "0032c3d6-ecf8-4865-b159-35cb27947441",
   "metadata": {},
   "outputs": [
    {
     "name": "stdout",
     "output_type": "stream",
     "text": [
      "2020-02-25 16:20:00\n"
     ]
    }
   ],
   "source": [
    "date_string = \"Feb 25 2020 4:20PM\"\n",
    "from datetime import datetime\n",
    "i = datetime.strptime(date_string, \"%b %d %Y %I:%M%p\")\n",
    "print(i)"
   ]
  },
  {
   "cell_type": "code",
   "execution_count": null,
   "id": "faa6c124-cd56-4d67-8f6c-f29baab4e786",
   "metadata": {},
   "outputs": [],
   "source": [
    "\"\"\" Ex 3: Subtract a week (7 days)  from a given date in Python\"\"\""
   ]
  },
  {
   "cell_type": "code",
   "execution_count": 44,
   "id": "c28fb9a7-bc30-42af-83b5-3dd648206207",
   "metadata": {},
   "outputs": [
    {
     "name": "stdout",
     "output_type": "stream",
     "text": [
      "2020-02-18 00:00:00\n"
     ]
    }
   ],
   "source": [
    "from datetime import timedelta\n",
    "given_date = datetime(2020, 2, 25)\n",
    "new_date = given_date - timedelta(days=7)\n",
    "print(new_date)\n"
   ]
  },
  {
   "cell_type": "code",
   "execution_count": null,
   "id": "2884c673-7f15-4989-8f22-92b0f3a6bf6f",
   "metadata": {},
   "outputs": [],
   "source": [
    "\"\"\" Ex 4: Print a date in a the following format\n",
    "Day_name  Day_number  Month_name  Year \"\"\""
   ]
  },
  {
   "cell_type": "code",
   "execution_count": 48,
   "id": "582dc825-7b8c-4908-842f-dbb1246c4912",
   "metadata": {},
   "outputs": [
    {
     "name": "stdout",
     "output_type": "stream",
     "text": [
      "Tuesday 25 February 2020\n"
     ]
    }
   ],
   "source": [
    "from datetime import datetime\n",
    "given_date = datetime(2020, 2, 25)\n",
    "i = datetime.strftime(given_date, \"%A %d %B %Y\")\n",
    "print(i)\n",
    "                      "
   ]
  },
  {
   "cell_type": "code",
   "execution_count": null,
   "id": "41dc001a-1f0a-4e49-99de-5e5170fb851e",
   "metadata": {},
   "outputs": [],
   "source": [
    "\"\"\" Ex5:  Find the day of the week of a given date \"\"\""
   ]
  },
  {
   "cell_type": "code",
   "execution_count": 50,
   "id": "80aefa24-746e-4670-98b3-7399a832c0e9",
   "metadata": {},
   "outputs": [
    {
     "name": "stdout",
     "output_type": "stream",
     "text": [
      "Sunday\n"
     ]
    }
   ],
   "source": [
    "from datetime import datetime\n",
    "given_date = datetime(2020, 7, 26)\n",
    "i = datetime.strftime(given_date, \"%A\")\n",
    "print(i)"
   ]
  },
  {
   "cell_type": "code",
   "execution_count": null,
   "id": "f86fef62-982c-4e13-a13f-0e57572cfea6",
   "metadata": {},
   "outputs": [],
   "source": [
    "\"\"\" Ex6: Add a week (7 days) and 12 hours to a given date\"\"\""
   ]
  },
  {
   "cell_type": "code",
   "execution_count": 58,
   "id": "c6d6cc24-accd-4a01-800b-386170de2993",
   "metadata": {},
   "outputs": [
    {
     "name": "stdout",
     "output_type": "stream",
     "text": [
      "2020-03-29 22:00:00\n"
     ]
    }
   ],
   "source": [
    "from datetime import timedelta\n",
    "given_date = datetime(2020, 3, 22, 10, 0, 0)\n",
    "new_date = given_date + timedelta(days = 7, hours = 12)\n",
    "print(new_date)"
   ]
  },
  {
   "cell_type": "code",
   "execution_count": null,
   "id": "bb84a8b1-aa56-45de-a21c-e0794dc6727a",
   "metadata": {},
   "outputs": [],
   "source": [
    "\"\"\" Ex 7: Convert the following datetime into a string\"\"\""
   ]
  },
  {
   "cell_type": "code",
   "execution_count": 84,
   "id": "bd4fee29-dffa-4822-b5b7-f4acb9efb9b2",
   "metadata": {},
   "outputs": [
    {
     "name": "stdout",
     "output_type": "stream",
     "text": [
      "2020-02-25 00:00:00\n"
     ]
    }
   ],
   "source": [
    "from datetime import datetime\n",
    "given_date = datetime(2020, 2, 25)\n",
    "new_date = given_date.strftime(\"%Y-%m-%d %H:%M:%S\")\n",
    "print(new_date)"
   ]
  },
  {
   "cell_type": "code",
   "execution_count": null,
   "id": "b393ed86-2e46-4609-8b98-376c6f81bcf4",
   "metadata": {},
   "outputs": [],
   "source": [
    "\"\"\" Ex 8: Calculate number of days between two given dates\"\"\""
   ]
  },
  {
   "cell_type": "code",
   "execution_count": 94,
   "id": "4354d418-c318-44c5-b9de-0a9c89da1bf6",
   "metadata": {},
   "outputs": [
    {
     "name": "stdout",
     "output_type": "stream",
     "text": [
      "205 days, 0:00:00\n"
     ]
    }
   ],
   "source": [
    "from datetime import datetime\n",
    "date_1 = datetime(2020, 2, 25).date()\n",
    "date_2 = datetime(2020, 9, 17).date()\n",
    "date_3 = date_2-date_1\n",
    "print (date_3)\n"
   ]
  },
  {
   "cell_type": "code",
   "execution_count": 92,
   "id": "048b4958-9320-4fe3-b7d9-5e8e0ded42dd",
   "metadata": {},
   "outputs": [
    {
     "name": "stdout",
     "output_type": "stream",
     "text": [
      "2020-02-25\n"
     ]
    }
   ],
   "source": [
    "from datetime import datetime\n",
    "\n",
    "# Create a datetime object\n",
    "datetime_obj = datetime(2020, 2, 25)\n",
    "\n",
    "# Extract the date part\n",
    "date_1 = datetime_obj.date()\n",
    "\n",
    "print(date_1)\n"
   ]
  },
  {
   "cell_type": "code",
   "execution_count": null,
   "id": "0f71a257-7e48-46a7-aa7f-a114a3c81a5a",
   "metadata": {},
   "outputs": [],
   "source": []
  }
 ],
 "metadata": {
  "kernelspec": {
   "display_name": "Python [conda env:base] *",
   "language": "python",
   "name": "conda-base-py"
  },
  "language_info": {
   "codemirror_mode": {
    "name": "ipython",
    "version": 3
   },
   "file_extension": ".py",
   "mimetype": "text/x-python",
   "name": "python",
   "nbconvert_exporter": "python",
   "pygments_lexer": "ipython3",
   "version": "3.12.7"
  }
 },
 "nbformat": 4,
 "nbformat_minor": 5
}
