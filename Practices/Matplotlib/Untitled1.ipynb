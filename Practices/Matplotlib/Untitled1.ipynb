{
 "cells": [
  {
   "cell_type": "code",
   "execution_count": 2,
   "id": "e8620aa0-ad27-499f-b3f2-cb7dfafffa15",
   "metadata": {},
   "outputs": [
    {
     "name": "stdout",
     "output_type": "stream",
     "text": [
      "Requirement already satisfied: requests in c:\\users\\hoang\\anaconda3\\lib\\site-packages (2.32.3)\n",
      "Requirement already satisfied: bs4 in c:\\users\\hoang\\anaconda3\\lib\\site-packages (0.0.2)\n",
      "Requirement already satisfied: charset-normalizer<4,>=2 in c:\\users\\hoang\\anaconda3\\lib\\site-packages (from requests) (3.3.2)\n",
      "Requirement already satisfied: idna<4,>=2.5 in c:\\users\\hoang\\anaconda3\\lib\\site-packages (from requests) (3.7)\n",
      "Requirement already satisfied: urllib3<3,>=1.21.1 in c:\\users\\hoang\\anaconda3\\lib\\site-packages (from requests) (2.2.3)\n",
      "Requirement already satisfied: certifi>=2017.4.17 in c:\\users\\hoang\\anaconda3\\lib\\site-packages (from requests) (2025.1.31)\n",
      "Requirement already satisfied: beautifulsoup4 in c:\\users\\hoang\\anaconda3\\lib\\site-packages (from bs4) (4.12.3)\n",
      "Requirement already satisfied: soupsieve>1.2 in c:\\users\\hoang\\anaconda3\\lib\\site-packages (from beautifulsoup4->bs4) (2.5)\n"
     ]
    }
   ],
   "source": [
    "!pip install requests bs4"
   ]
  },
  {
   "cell_type": "code",
   "execution_count": 16,
   "id": "443a5f39-9a6d-43f3-b7f3-06dbe63d3002",
   "metadata": {},
   "outputs": [
    {
     "name": "stdout",
     "output_type": "stream",
     "text": [
      "Content type of website is text/html\n"
     ]
    },
    {
     "data": {
      "text/plain": [
       "[]"
      ]
     },
     "execution_count": 16,
     "metadata": {},
     "output_type": "execute_result"
    }
   ],
   "source": [
    "from bs4 import BeautifulSoup\n",
    "import requests\n",
    "\n",
    "url = \"https://www.amazon.com/Redragon-S101-Keyboard-Ergonomic-Programmable/dp/B00NLZUM36/ref=sr_1_1?_encoding=UTF8&content-id=amzn1.sym.12129333-2117-4490-9c17-6d31baf0582a&dib=eyJ2IjoiMSJ9.GoHw03VyLhlV5P1QkaN6DXAOtNFHw2roMPFOGNSo2Nhat-9Qf8d8iVjTtnBkbWrSgZMil4hZY1iknnyS_ZyqkMSD-DGvP5ZI1dAOi9AGvoxx17tjnJPatPGzWa0Gvs37ENdK8PwwDFfLnVFqAMzfA6w7aVbHcWRish9IH26gAV0liKKRxGb53_NoX6OTiY5Bqc1qYsnqEOpGzVAzQ3MbTUkrgp1b7qjZw_pBnWXcrIw.IDMq-0hjTlSSR8oh2E3phg20Nzd1YxCzCBmoy68migY&dib_tag=se&keywords=gaming%2Bkeyboard&pd_rd_r=d1f6fdbb-bbc7-46e0-88b5-9a9770d46f34&pd_rd_w=5asCM&pd_rd_wg=LnFmY&qid=1743710443&sr=8-1&th=1\"\n",
    "\n",
    "headers = {\n",
    "    \"User-Agent\": \"Mozilla/5.0 (Windows NT 10.0; Win64; x64) AppleWebKit/537.36 (KHTML, like Gecko) Chrome/58.0.3029.110 Safari/537.36\"\n",
    "}\n",
    "respond = requests.get(url,headers = headers)\n",
    "\n",
    "print(f\"Content type of website is {respond.headers['content-type']}\")\n",
    "\n",
    "soup = BeautifulSoup(respond.text,\"html.parser\")\n",
    "h3 = soup.find_all(\"h3\")\n",
    "h3"
   ]
  },
  {
   "cell_type": "code",
   "execution_count": null,
   "id": "1256e153-a1dc-43c7-a378-ae117b377c3f",
   "metadata": {},
   "outputs": [],
   "source": []
  }
 ],
 "metadata": {
  "kernelspec": {
   "display_name": "Python [conda env:base] *",
   "language": "python",
   "name": "conda-base-py"
  },
  "language_info": {
   "codemirror_mode": {
    "name": "ipython",
    "version": 3
   },
   "file_extension": ".py",
   "mimetype": "text/x-python",
   "name": "python",
   "nbconvert_exporter": "python",
   "pygments_lexer": "ipython3",
   "version": "3.12.7"
  }
 },
 "nbformat": 4,
 "nbformat_minor": 5
}
