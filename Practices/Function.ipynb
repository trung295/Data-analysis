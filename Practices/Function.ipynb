{
 "cells": [
  {
   "cell_type": "code",
   "execution_count": 4,
   "id": "f54db118-293d-4158-89ae-0af13e5a4531",
   "metadata": {},
   "outputs": [
    {
     "name": "stdout",
     "output_type": "stream",
     "text": [
      "5\n"
     ]
    }
   ],
   "source": [
    "\"\"\"Write a program to create a function that takes two arguments, name and age, and print their value.\"\"\""
   ]
  },
  {
   "cell_type": "code",
   "execution_count": 17,
   "id": "4ddb8633-2e91-43cb-945c-a2582b297fc4",
   "metadata": {},
   "outputs": [
    {
     "name": "stdout",
     "output_type": "stream",
     "text": [
      "10\n"
     ]
    }
   ],
   "source": [
    "def myfunc(n):\n",
    "    return lambda a:a*n\n",
    "print(myfunc(5)(2))\n"
   ]
  },
  {
   "cell_type": "code",
   "execution_count": 8,
   "id": "aebb5268-d99d-4ec5-bcd5-1e46ef16b6d1",
   "metadata": {},
   "outputs": [
    {
     "name": "stdout",
     "output_type": "stream",
     "text": [
      "Susan: 44\n"
     ]
    }
   ],
   "source": [
    "def display(name,age):\n",
    "    print(f\"{name}: {age}\")\n",
    "display(\"Susan\", 44)"
   ]
  },
  {
   "cell_type": "code",
   "execution_count": null,
   "id": "469e2e1e-1f81-41e2-b7fb-fa7045eb96a8",
   "metadata": {},
   "outputs": [],
   "source": [
    "\"\"\"Ex2: Write a program to create function func1() to accept a variable length of arguments and print their value.\"\"\""
   ]
  },
  {
   "cell_type": "code",
   "execution_count": 14,
   "id": "bdb93886-d312-40af-9341-b0860916b598",
   "metadata": {},
   "outputs": [
    {
     "name": "stdout",
     "output_type": "stream",
     "text": [
      "Printing values:\n",
      "20\n",
      "30\n",
      "40\n",
      "60\n"
     ]
    }
   ],
   "source": [
    "def display_length(*number):\n",
    "    print(\"Printing values:\")\n",
    "    # iterate through variables length and print all \n",
    "    for i in range(len(number)):\n",
    "        print(number[i])\n",
    "display_length(20,30,40,60)\n"
   ]
  },
  {
   "cell_type": "code",
   "execution_count": null,
   "id": "117a3f93-9837-4bb4-8152-c23bd1f28497",
   "metadata": {},
   "outputs": [],
   "source": [
    "\"\"\" Ex3:Write a program to create function calculation() such that it can accept two variables and calculate addition and \n",
    "subtraction. Also, it must return both addition and subtraction in a single return call."
   ]
  },
  {
   "cell_type": "code",
   "execution_count": 20,
   "id": "700f9555-fb28-4bb1-aa14-2abf372353c6",
   "metadata": {},
   "outputs": [
    {
     "name": "stdout",
     "output_type": "stream",
     "text": [
      "(50, 30)\n"
     ]
    }
   ],
   "source": [
    "def calculation(a, b):\n",
    "    sums = a+b\n",
    "    subs = a-b\n",
    "    return sums, subs\n",
    "res = calculation(40,10)\n",
    "print(res)\n"
   ]
  },
  {
   "cell_type": "code",
   "execution_count": null,
   "id": "55ba8f23-9b58-4af0-8056-55f6683b7488",
   "metadata": {},
   "outputs": [],
   "source": [
    "\"\"\"Write a program to create a function show_employee() using the following conditions.\n",
    "\n",
    "It should accept the employee’s name and salary and display both.\n",
    "If the salary is missing in the function call then assign default value 9000 to salary\"\"\""
   ]
  },
  {
   "cell_type": "code",
   "execution_count": 24,
   "id": "bb26d291-bd50-4142-b743-0906ec7826a4",
   "metadata": {},
   "outputs": [
    {
     "name": "stdout",
     "output_type": "stream",
     "text": [
      "Susan: 9000\n"
     ]
    }
   ],
   "source": [
    "def show_employee(employee,salary=9000):\n",
    "    print(f\"{employee}: {salary}\")\n",
    "show_employee(\"Susan\")"
   ]
  },
  {
   "cell_type": "code",
   "execution_count": null,
   "id": "87c33696-a824-4ae9-a466-85ecec753390",
   "metadata": {},
   "outputs": [],
   "source": [
    "\"\"\"Create an outer function that will accept two parameters, a and b\n",
    "Create an inner function inside an outer function that will calculate the addition of a and b\n",
    "At last, an outer function will add 5 into addition and return it\"\"\""
   ]
  },
  {
   "cell_type": "code",
   "execution_count": 46,
   "id": "42a3ba42-2dc7-4051-9914-ed2f837f0220",
   "metadata": {},
   "outputs": [
    {
     "data": {
      "text/plain": [
       "14"
      ]
     },
     "execution_count": 46,
     "metadata": {},
     "output_type": "execute_result"
    }
   ],
   "source": [
    "def nums(a,b):\n",
    "    def sums(a,b):\n",
    "        return a+b\n",
    "    add = sums(a,b)\n",
    "    return add+5\n",
    "nums(4,5)"
   ]
  },
  {
   "cell_type": "code",
   "execution_count": null,
   "id": "b5f15644-47d5-4f01-a86c-bf18bab2ac56",
   "metadata": {},
   "outputs": [],
   "source": [
    "\"\"\"Write a program to create a recursive function to calculate the sum of numbers from 0 to 10.\n",
    "\n",
    "A recursive function is a function that calls itself again and again.\"\"\"\n"
   ]
  },
  {
   "cell_type": "code",
   "execution_count": 84,
   "id": "c2a3b3ff-554e-4acc-a05f-a6864f79692e",
   "metadata": {},
   "outputs": [
    {
     "data": {
      "text/plain": [
       "3"
      ]
     },
     "execution_count": 84,
     "metadata": {},
     "output_type": "execute_result"
    }
   ],
   "source": [
    "def calculate(a):\n",
    "    if a ==1:\n",
    "        return 1\n",
    "    else:\n",
    "        return a + calculate(a-1)\n",
    "calculate(6)\n"
   ]
  },
  {
   "cell_type": "code",
   "execution_count": null,
   "id": "3d33c730-8e0b-44c6-885a-4ab8d34b7a9f",
   "metadata": {},
   "outputs": [],
   "source": [
    "\"\"\"Write a recursive function to calculate \n",
    "\n",
    "\n",
    "  (a raised to the power of b).\"\"\"\n"
   ]
  },
  {
   "cell_type": "code",
   "execution_count": 104,
   "id": "9dcab22f-53ff-4dd2-9fd7-8544b12d169d",
   "metadata": {},
   "outputs": [
    {
     "data": {
      "text/plain": [
       "64"
      ]
     },
     "execution_count": 104,
     "metadata": {},
     "output_type": "execute_result"
    }
   ],
   "source": [
    "def calculate(a,b):\n",
    "    if b==1:\n",
    "        return a\n",
    "    else: \n",
    "        return a*calculate(a,b-1)\n",
    "calculate(2,6)"
   ]
  },
  {
   "cell_type": "code",
   "execution_count": null,
   "id": "032dd9ab-071c-4c55-ba1f-27a251624f2f",
   "metadata": {},
   "outputs": [],
   "source": [
    "\"\"\"Write a recursive function to find the n-th Fibonacci number.\n",
    "\n",
    "Example\n",
    "Input: n = 6\n",
    "Output: 8\n",
    "(Fibonacci sequence: 0, 1, 1, 2, 3, 5, 8)\"\"\""
   ]
  },
  {
   "cell_type": "code",
   "execution_count": 108,
   "id": "cbfe0667-ee27-4101-8ca7-b42a7724dae7",
   "metadata": {},
   "outputs": [
    {
     "data": {
      "text/plain": [
       "8"
      ]
     },
     "execution_count": 108,
     "metadata": {},
     "output_type": "execute_result"
    }
   ],
   "source": [
    "def fibonacci(n):\n",
    "    if n <= 1:  # Base case\n",
    "        return n\n",
    "    else:\n",
    "        return fibonacci(n - 1) + fibonacci(n - 2)\n",
    "fibonacci(6)"
   ]
  },
  {
   "cell_type": "code",
   "execution_count": null,
   "id": "02414001-9da9-4a38-82a1-c5c19f5d499a",
   "metadata": {},
   "outputs": [],
   "source": [
    "\"\"\"Write a recursive function to reverse a string.\n",
    "\n",
    "Example\n",
    "Input: \"hello\"\n",
    "Output: \"olleh\"\n",
    "\"\"\"\n"
   ]
  },
  {
   "cell_type": "code",
   "execution_count": 7,
   "id": "e64d285f-fcc2-48f1-a90e-a11e44e69275",
   "metadata": {},
   "outputs": [
    {
     "name": "stdout",
     "output_type": "stream",
     "text": [
      "olleh\n"
     ]
    }
   ],
   "source": [
    "def reverse(str1):\n",
    "    if len(str1) <= 1:\n",
    "        return str1\n",
    "    else:\n",
    "        return reverse(str1[1::]) + str1[0]\n",
    "print(reverse(\"hello\"))\n",
    "                       "
   ]
  },
  {
   "cell_type": "code",
   "execution_count": null,
   "id": "26e5e374-f396-430b-aa20-6b38abf0f672",
   "metadata": {},
   "outputs": [],
   "source": [
    "\"\"\"Write a recursive function to check whether a string is a palindrome (reads the same forward and backward).\"\"\""
   ]
  },
  {
   "cell_type": "code",
   "execution_count": null,
   "id": "97700966-2aef-4b7b-bafd-bcf7a331b32d",
   "metadata": {},
   "outputs": [],
   "source": [
    "s =\"madam\"\n",
    "def check(s):\n",
    "    if len(s) <= 1:\n",
    "        return s\n",
    "    else:\n",
    "        "
   ]
  }
 ],
 "metadata": {
  "kernelspec": {
   "display_name": "Python [conda env:base] *",
   "language": "python",
   "name": "conda-base-py"
  },
  "language_info": {
   "codemirror_mode": {
    "name": "ipython",
    "version": 3
   },
   "file_extension": ".py",
   "mimetype": "text/x-python",
   "name": "python",
   "nbconvert_exporter": "python",
   "pygments_lexer": "ipython3",
   "version": "3.12.7"
  }
 },
 "nbformat": 4,
 "nbformat_minor": 5
}
