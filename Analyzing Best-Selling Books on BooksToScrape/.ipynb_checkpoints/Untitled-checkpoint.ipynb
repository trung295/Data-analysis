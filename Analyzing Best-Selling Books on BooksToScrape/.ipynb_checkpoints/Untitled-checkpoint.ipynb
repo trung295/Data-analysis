{
 "cells": [
  {
   "cell_type": "code",
   "execution_count": 4,
   "id": "1fcaa94f-52fb-421c-9fcb-9f7a34f80be0",
   "metadata": {},
   "outputs": [
    {
     "name": "stdout",
     "output_type": "stream",
     "text": [
      "Requirement already satisfied: bs4 in c:\\users\\hoang\\anaconda3\\lib\\site-packages (0.0.2)\n",
      "Requirement already satisfied: pandas in c:\\users\\hoang\\anaconda3\\lib\\site-packages (2.2.2)\n",
      "Requirement already satisfied: requests in c:\\users\\hoang\\anaconda3\\lib\\site-packages (2.32.3)\n",
      "Requirement already satisfied: matplotlib in c:\\users\\hoang\\anaconda3\\lib\\site-packages (3.9.2)\n",
      "Requirement already satisfied: seaborn in c:\\users\\hoang\\anaconda3\\lib\\site-packages (0.13.2)\n",
      "Requirement already satisfied: beautifulsoup4 in c:\\users\\hoang\\anaconda3\\lib\\site-packages (from bs4) (4.12.3)\n",
      "Requirement already satisfied: numpy>=1.26.0 in c:\\users\\hoang\\anaconda3\\lib\\site-packages (from pandas) (1.26.4)\n",
      "Requirement already satisfied: python-dateutil>=2.8.2 in c:\\users\\hoang\\anaconda3\\lib\\site-packages (from pandas) (2.9.0.post0)\n",
      "Requirement already satisfied: pytz>=2020.1 in c:\\users\\hoang\\anaconda3\\lib\\site-packages (from pandas) (2024.1)\n",
      "Requirement already satisfied: tzdata>=2022.7 in c:\\users\\hoang\\anaconda3\\lib\\site-packages (from pandas) (2023.3)\n",
      "Requirement already satisfied: charset-normalizer<4,>=2 in c:\\users\\hoang\\anaconda3\\lib\\site-packages (from requests) (3.3.2)\n",
      "Requirement already satisfied: idna<4,>=2.5 in c:\\users\\hoang\\anaconda3\\lib\\site-packages (from requests) (3.7)\n",
      "Requirement already satisfied: urllib3<3,>=1.21.1 in c:\\users\\hoang\\anaconda3\\lib\\site-packages (from requests) (2.2.3)\n",
      "Requirement already satisfied: certifi>=2017.4.17 in c:\\users\\hoang\\anaconda3\\lib\\site-packages (from requests) (2025.1.31)\n",
      "Requirement already satisfied: contourpy>=1.0.1 in c:\\users\\hoang\\anaconda3\\lib\\site-packages (from matplotlib) (1.2.0)\n",
      "Requirement already satisfied: cycler>=0.10 in c:\\users\\hoang\\anaconda3\\lib\\site-packages (from matplotlib) (0.11.0)\n",
      "Requirement already satisfied: fonttools>=4.22.0 in c:\\users\\hoang\\anaconda3\\lib\\site-packages (from matplotlib) (4.51.0)\n",
      "Requirement already satisfied: kiwisolver>=1.3.1 in c:\\users\\hoang\\anaconda3\\lib\\site-packages (from matplotlib) (1.4.4)\n",
      "Requirement already satisfied: packaging>=20.0 in c:\\users\\hoang\\anaconda3\\lib\\site-packages (from matplotlib) (24.1)\n",
      "Requirement already satisfied: pillow>=8 in c:\\users\\hoang\\anaconda3\\lib\\site-packages (from matplotlib) (10.4.0)\n",
      "Requirement already satisfied: pyparsing>=2.3.1 in c:\\users\\hoang\\anaconda3\\lib\\site-packages (from matplotlib) (3.1.2)\n",
      "Requirement already satisfied: six>=1.5 in c:\\users\\hoang\\anaconda3\\lib\\site-packages (from python-dateutil>=2.8.2->pandas) (1.16.0)\n",
      "Requirement already satisfied: soupsieve>1.2 in c:\\users\\hoang\\anaconda3\\lib\\site-packages (from beautifulsoup4->bs4) (2.5)\n"
     ]
    }
   ],
   "source": [
    "!pip install bs4 pandas requests matplotlib seaborn"
   ]
  },
  {
   "cell_type": "code",
   "execution_count": 55,
   "id": "dbf4d4ad-4809-47bd-8433-99d21a35ddf8",
   "metadata": {},
   "outputs": [
    {
     "name": "stdout",
     "output_type": "stream",
     "text": [
      "The content type of website is text/html\n",
      "The content type of website is text/html\n",
      "The content type of website is text/html\n",
      "The content type of website is text/html\n",
      "The content type of website is text/html\n"
     ]
    }
   ],
   "source": [
    "from bs4 import BeautifulSoup\n",
    "import pandas as pd\n",
    "import requests\n",
    "import matplotlib.pyplot as plt\n",
    "\n",
    "\n",
    "\n",
    "\n",
    "\n",
    "def get_book_details(url):\n",
    "    respond = requests.get(url)\n",
    "    print(f\"The content type of website is {respond.headers[\"Content-Type\"]}\")\n",
    "    #parse the html\n",
    "    soup = BeautifulSoup(respond.text,\"html.parser\")\n",
    "    # Extract book details (title, price, rating, stock availability).\n",
    "\n",
    "    #find all h3 tags, h3_tags is a list of tags [<h3><a href=\"a-light-in-the-attic_1000/index.html\" title=\"A Light in the Attic\">A Light in the ...</a></h3>,...]\n",
    "    h3_tags =soup.find_all(\"h3\")\n",
    "    \n",
    "    #iterate h3_tags, find tag a, extract title, then save results into a list titles\n",
    "    titles = [h3_tag.find(\"a\")[\"title\"] for h3_tag in h3_tags]\n",
    "    \n",
    "    #find all price tags, price_tags is a list of tags [<p class=\"price_color\">Â£51.77</p>,...]\n",
    "    price_tags = soup.find_all(\"p\",class_=\"price_color\")\n",
    "    \n",
    "    #iterate price_tags, extract the price, remove first 2, change to float, save results to a list prices\n",
    "    prices = [float(price_tag.text[2::]) for price_tag in price_tags]\n",
    "    \n",
    "    #find all rating\n",
    "    \n",
    "    #find all tag p with class star-rating. star_rating_tags return a list [<p class=\"star-rating Three\"> ...p>,...]\n",
    "    star_rating_tags = soup.find_all(\"p\",class_=\"star-rating\")\n",
    "    \n",
    "    #iterate star_rating_tags. star_rating_tag return a dict{\"class\":[ 'star-rating', 'Three']}. Save it to list stars_rating\n",
    "    stars_rating = [star_rating_tag.attrs for star_rating_tag in star_rating_tags] # stars_rating is a list of dicts [{\"class\":[ 'star-rating', 'Three']},...]\n",
    "      \n",
    "    #extract 'Three' from stars_rating list by iterating its elements(dict). convert string to lower case. Save results to a list star\n",
    "    star = [star[\"class\"][1].lower() for star in stars_rating] # star is a list['Three','Two',...]\n",
    "\n",
    "    #create a mapping_stars dict\n",
    "    mapping_stars = {\"one\":1,\"two\":2,\"three\":3,\"four\":4,\"five\":5}\n",
    "\n",
    "    #convert star list ['three','two',...] to stars list [3,2,...]\n",
    "    stars = [mapping_stars[s] for s in star]\n",
    "    \n",
    "    # find stock avail\n",
    "\n",
    "    #find all tag p, class instock. stock_tags return a list of tags [<p class=\"instock availability\"><i class=\"icon-ok\"></i>     In stock    </p>,...]\n",
    "    stock_tags = soup.find_all(\"p\",class_=\"instock\")\n",
    "\n",
    "    # iterate stock_tags, extract stock_tag text, remove space using strip(), save results to a list stock.\n",
    "    stock = [stock_tag.text.strip() for stock_tag in stock_tags]\n",
    "\n",
    "    #create a dict data_page to save all results for coverting to DataFrame\n",
    "    data_page = {\n",
    "    \"Title\": titles,\n",
    "    \"Price\": prices,\n",
    "    \"Rating\": stars,\n",
    "    \"Stock\": stock}\n",
    "    \n",
    "    return data_page\n",
    "\n",
    "\n",
    "def scrape_multiple_pages(num_pages): # num_pages is the number of page we want to scrap\n",
    "    all_books = [] #create an empty list to store result of function get_book_detail(url)\n",
    "  \n",
    "    for page_num in range(1, num_pages + 1): #start from page 1 to the page we want to scrap\n",
    "        # Update the URL for each page\n",
    "        url = f\"http://books.toscrape.com/catalogue/page-{page_num}.html\"\n",
    "        #get the data_page of this page(for example page 1)\n",
    "        page_data = get_book_details(url)\n",
    "        #save data_page to list all_books\n",
    "        all_books.append(page_data)\n",
    "    return all_books\n",
    "    \n",
    "     # elements of all_books is dicts [{'Title': ['A Light in the Attic', 'Tipping the Velvet',..], Price': [51.77, 53.74,..],...}] \n",
    "     # meaning when we create DataFrame, df will be only 5 rows(every row is a page)\n",
    "     # so we need to unpack all_books list\n",
    "def get_data(n):\n",
    "    #scrape first n pages\n",
    "    data1 = scrape_multiple_pages(n)\n",
    "    #iterate data1, convert each element to DataFrame, then save to a list\n",
    "    uncombined_df = [pd.DataFrame(data) for data in data1]\n",
    "    #concat all DataFrame to a single DataFrame\n",
    "    combined_df = pd.concat(uncombined_df, ignore_index=True)\n",
    "    return combined_df\n",
    "df = get_data(5)\n",
    "\n",
    "# save as csv file\n",
    "df.to_csv(\"data.csv\",index = False)\n"
   ]
  },
  {
   "cell_type": "code",
   "execution_count": 9,
   "id": "5900d83c-0429-485c-8479-15791fbc2517",
   "metadata": {},
   "outputs": [
    {
     "name": "stdout",
     "output_type": "stream",
     "text": [
      "First 5 rows are:\n",
      "                                   Title  Price  Rating     Stock\n",
      "0                   A Light in the Attic  51.77       3  In stock\n",
      "1                     Tipping the Velvet  53.74       1  In stock\n",
      "2                             Soumission  50.10       1  In stock\n",
      "3                          Sharp Objects  47.82       4  In stock\n",
      "4  Sapiens: A Brief History of Humankind  54.23       5  In stock\n",
      "Overview of data set:\n",
      "<class 'pandas.core.frame.DataFrame'>\n",
      "RangeIndex: 100 entries, 0 to 99\n",
      "Data columns (total 4 columns):\n",
      " #   Column  Non-Null Count  Dtype  \n",
      "---  ------  --------------  -----  \n",
      " 0   Title   100 non-null    object \n",
      " 1   Price   100 non-null    float64\n",
      " 2   Rating  100 non-null    int64  \n",
      " 3   Stock   100 non-null    object \n",
      "dtypes: float64(1), int64(1), object(2)\n",
      "memory usage: 3.3+ KB\n",
      "None\n",
      "Missing value in each column:\n",
      "Title       0\n",
      "Price(£)    0\n",
      "Rating      0\n",
      "Stock       0\n",
      "dtype: int64\n",
      "dupicate row are:\n",
      "0\n",
      "Average book price is: 34.560700000000004\n"
     ]
    },
    {
     "data": {
      "image/png": "[encoded data removed]",
      "text/plain": [
       "<Figure size 1000x500 with 1 Axes>"
      ]
     },
     "metadata": {},
     "output_type": "display_data"
    },
    {
     "name": "stdout",
     "output_type": "stream",
     "text": [
      "Price range: [10.16    16.15375 22.1475  28.14125 34.135   40.12875 46.1225  52.11625\n",
      " 58.11   ]\n"
     ]
    }
   ],
   "source": [
    "import pandas as pd\n",
    "import matplotlib.pyplot as plt\n",
    "import seaborn as sns\n",
    "import numpy as np\n",
    "\n",
    "#load csv file\n",
    "df = pd.read_csv(\"data.csv\")\n",
    "#first 5 rows\n",
    "print(\"First 5 rows are:\")\n",
    "print(df.head())\n",
    "print(\"Overview of data set:\")\n",
    "print(df.info())\n",
    "\n",
    "#change the price column to Price(pounds)\n",
    "df.rename(columns = {\"Price\":\"Price(£)\"}, inplace=True)\n",
    "\n",
    "#clean data\n",
    "\n",
    "#count missing data in each column\n",
    "print(\"Missing value in each column:\")\n",
    "print(df.isnull().sum())\n",
    "\n",
    "#count duplicate row\n",
    "print(\"dupicate row are:\")\n",
    "print(df.duplicated().sum())\n",
    "\n",
    "# Exploratory Data Analysis (EDA)\n",
    "\n",
    "#What is the average book price?\n",
    "print(f\"Average book price is: {df[\"Price(£)\"].mean()}\") \n",
    "\n",
    "#Are books mostly expensive or cheap?\n",
    "\n",
    "#Plot a histogram of prices\n",
    "df_price = df[\"Price(£)\"].copy() # extract price column from DataFrame\n",
    "hist, bin_edges = np.histogram(df_price, bins='auto')\n",
    "plt.figure(figsize = (10,5))\n",
    "plt.hist(df_price,bins = bin_edges, color=\"skyblue\", edgecolor=\"black\")\n",
    "# Label and title\n",
    "plt.title(\"Price Distribution\")\n",
    "plt.xlabel(\"Price group\")\n",
    "plt.ylabel(\"Frequency\")\n",
    "\n",
    "# show plot\n",
    "plt.grid(axis=\"y\", linestyle=\"--\", alpha=0.7)\n",
    "plt.show()\n",
    "# show price range for reference\n",
    "print(f\"Price range: {bin_edges}\")\n",
    "\n",
    "\n",
    "               \n",
    "\n",
    "\n",
    "\n",
    "\n",
    "\n",
    "\n"
   ]
  },
  {
   "cell_type": "code",
   "execution_count": 75,
   "id": "62ae5a01-bff6-4318-a170-942ef5198122",
   "metadata": {},
   "outputs": [
    {
     "data": {
      "text/plain": [
       "A    2\n",
       "B    3\n",
       "Name: S1, dtype: int64"
      ]
     },
     "execution_count": 75,
     "metadata": {},
     "output_type": "execute_result"
    }
   ],
   "source": [
    "import pandas as pd\n",
    "a = {\"A\": [1, 2], \"B\": [3, 4]}\n",
    "\n",
    "df = pd.DataFrame(a,index=[\"S1\", \"S2\"])\n",
    "df[\"A\"] = df[\"A\"]*2\n",
    "df.loc[\"S1\"]\n",
    "\n"
   ]
  },
  {
   "cell_type": "code",
   "execution_count": 101,
   "id": "16b8b31d-e558-470d-979a-9a2de6e08c5e",
   "metadata": {},
   "outputs": [
    {
     "data": {
      "image/png": "[encoded data removed]",
      "text/plain": [
       "<Figure size 640x480 with 1 Axes>"
      ]
     },
     "metadata": {},
     "output_type": "display_data"
    },
    {
     "name": "stdout",
     "output_type": "stream",
     "text": [
      "Bin edges: [12.  23.8 35.6 47.4 59.2 71. ]\n"
     ]
    }
   ],
   "source": [
    "import numpy as np\n",
    "import matplotlib.pyplot as plt\n",
    "\n",
    "# Example data: Ages\n",
    "ages = [15, 22, 37, 45, 68, 53, 12, 29, 16, 71, 34, 50, 62, 28, 42]\n",
    "\n",
    "# Automatically determine the best bin size\n",
    "hist, bin_edges = np.histogram(ages, bins='auto')\n",
    "\n",
    "# Plot the histogram\n",
    "plt.hist(ages, bins=bin_edges, color=\"skyblue\", edgecolor=\"black\")\n",
    "plt.title('Age Distribution')\n",
    "plt.xlabel('Age Groups')\n",
    "plt.ylabel('Frequency')\n",
    "plt.show()\n",
    "\n",
    "# Print the bin edges for reference\n",
    "print(\"Bin edges:\", bin_edges)"
   ]
  },
  {
   "cell_type": "code",
   "execution_count": null,
   "id": "2b06a0e5-7368-4d88-aad0-2d7ed9c552d4",
   "metadata": {},
   "outputs": [],
   "source": []
  }
 ],
 "metadata": {
  "kernelspec": {
   "display_name": "Python [conda env:base] *",
   "language": "python",
   "name": "conda-base-py"
  },
  "language_info": {
   "codemirror_mode": {
    "name": "ipython",
    "version": 3
   },
   "file_extension": ".py",
   "mimetype": "text/x-python",
   "name": "python",
   "nbconvert_exporter": "python",
   "pygments_lexer": "ipython3",
   "version": "3.12.7"
  }
 },
 "nbformat": 4,
 "nbformat_minor": 5
}
