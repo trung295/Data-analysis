{
 "cells": [
  {
   "cell_type": "code",
   "execution_count": 20,
   "id": "07c6a4d4-04b7-4e6c-a4c2-0868c0baf860",
   "metadata": {},
   "outputs": [],
   "source": [
    "import pandas as pd\n",
    "import numpy as np\n",
    "import plotly.express as px\n",
    "\n",
    "# load data from file csv\n",
    "data = pd.read_csv(r'C:\\Users\\Hoang\\Data analysis\\Chocolate Sales\\Chocolate Sales.csv')\n",
    "\n",
    "# make DataFrame from csv file\n",
    "df = pd.DataFrame(data)\n"
   ]
  },
  {
   "cell_type": "markdown",
   "id": "83d5e4fb-e29f-48ef-a797-3ea695edef2c",
   "metadata": {},
   "source": [
    "# FIRST 10 ROWS OF DATASET"
   ]
  },
  {
   "cell_type": "code",
   "execution_count": 22,
   "id": "a1c638f6-b299-48f9-8879-3b0f0bc84e11",
   "metadata": {},
   "outputs": [
    {
     "name": "stdout",
     "output_type": "stream",
     "text": [
      "First 10 rows of dataset:\n",
      "      Sales Person      Country              Product       Date    Amount  \\\n",
      "0   Jehu Rudeforth           UK      Mint Chip Choco  04-Jan-22   $5,320    \n",
      "1      Van Tuxwell        India        85% Dark Bars  01-Aug-22   $7,896    \n",
      "2     Gigi Bohling        India  Peanut Butter Cubes  07-Jul-22   $4,501    \n",
      "3     Jan Morforth    Australia  Peanut Butter Cubes  27-Apr-22  $12,726    \n",
      "4   Jehu Rudeforth           UK  Peanut Butter Cubes  24-Feb-22  $13,685    \n",
      "5      Van Tuxwell        India   Smooth Sliky Salty  06-Jun-22   $5,376    \n",
      "6       Oby Sorrel           UK      99% Dark & Pure  25-Jan-22  $13,685    \n",
      "7  Gunar Cockshoot    Australia          After Nines  24-Mar-22   $3,080    \n",
      "8   Jehu Rudeforth  New Zealand       50% Dark Bites  20-Apr-22   $3,990    \n",
      "9      Brien Boise    Australia      99% Dark & Pure  04-Jul-22   $2,835    \n",
      "\n",
      "   Boxes Shipped  \n",
      "0            180  \n",
      "1             94  \n",
      "2             91  \n",
      "3            342  \n",
      "4            184  \n",
      "5             38  \n",
      "6            176  \n",
      "7             73  \n",
      "8             59  \n",
      "9            102  \n"
     ]
    }
   ],
   "source": [
    "print(f'First 10 rows of dataset:\\n{df.head(10)}')"
   ]
  },
  {
   "cell_type": "markdown",
   "id": "fdc6d68a-e655-487e-bf29-f9ee4cf25ca7",
   "metadata": {},
   "source": [
    "# OVERVIEW OF DATA"
   ]
  },
  {
   "cell_type": "code",
   "execution_count": 24,
   "id": "c316fab9-92e7-4686-81f3-986fa4d9858d",
   "metadata": {},
   "outputs": [
    {
     "name": "stdout",
     "output_type": "stream",
     "text": [
      "<class 'pandas.core.frame.DataFrame'>\n",
      "RangeIndex: 1094 entries, 0 to 1093\n",
      "Data columns (total 6 columns):\n",
      " #   Column         Non-Null Count  Dtype \n",
      "---  ------         --------------  ----- \n",
      " 0   Sales Person   1094 non-null   object\n",
      " 1   Country        1094 non-null   object\n",
      " 2   Product        1094 non-null   object\n",
      " 3   Date           1094 non-null   object\n",
      " 4   Amount         1094 non-null   object\n",
      " 5   Boxes Shipped  1094 non-null   int64 \n",
      "dtypes: int64(1), object(5)\n",
      "memory usage: 51.4+ KB\n",
      "None\n"
     ]
    }
   ],
   "source": [
    "print(df.info())"
   ]
  },
  {
   "cell_type": "markdown",
   "id": "3e8022d3-6295-4af9-a707-2f8f019f885e",
   "metadata": {},
   "source": [
    "There is no missing data\n",
    "Sale person column divides to first name, last name if needed (for filter) \n",
    "Date column need to convert to datetime type\n",
    "Amount coulumn need to convert to integer type"
   ]
  },
  {
   "cell_type": "markdown",
   "id": "e8f07de4-cab2-4bac-82c5-59e563110af6",
   "metadata": {},
   "source": [
    "# UNIQUE VALUES IN EACH COLUMN "
   ]
  },
  {
   "cell_type": "code",
   "execution_count": 26,
   "id": "11ee19cc-d3fb-4839-9f88-2cd3c4c641b1",
   "metadata": {},
   "outputs": [
    {
     "name": "stdout",
     "output_type": "stream",
     "text": [
      "Sales Person      25\n",
      "Country            6\n",
      "Product           22\n",
      "Date             168\n",
      "Amount           827\n",
      "Boxes Shipped    385\n",
      "dtype: int64\n"
     ]
    }
   ],
   "source": [
    "print(df.nunique())"
   ]
  },
  {
   "cell_type": "code",
   "execution_count": 94,
   "id": "7f2f849b-dbfc-422f-b4cc-d43cd16a5c8a",
   "metadata": {},
   "outputs": [
    {
     "ename": "AttributeError",
     "evalue": "'str' object has no attribute 'unique'",
     "output_type": "error",
     "traceback": [
      "\u001b[1;31m---------------------------------------------------------------------------\u001b[0m",
      "\u001b[1;31mAttributeError\u001b[0m                            Traceback (most recent call last)",
      "Cell \u001b[1;32mIn[94], line 2\u001b[0m\n\u001b[0;32m      1\u001b[0m \u001b[38;5;28;01mfor\u001b[39;00m i \u001b[38;5;129;01min\u001b[39;00m df[[\u001b[38;5;124m'\u001b[39m\u001b[38;5;124mSales Person\u001b[39m\u001b[38;5;124m'\u001b[39m, \u001b[38;5;124m'\u001b[39m\u001b[38;5;124mCountry\u001b[39m\u001b[38;5;124m'\u001b[39m, \u001b[38;5;124m'\u001b[39m\u001b[38;5;124mProduct\u001b[39m\u001b[38;5;124m'\u001b[39m]]:\n\u001b[1;32m----> 2\u001b[0m     \u001b[38;5;28mprint\u001b[39m(i\u001b[38;5;241m.\u001b[39munique())\n",
      "\u001b[1;31mAttributeError\u001b[0m: 'str' object has no attribute 'unique'"
     ]
    }
   ],
   "source": []
  },
  {
   "cell_type": "markdown",
   "id": "bfa1a336-b9ba-4b7e-b462-461dd8ebe3ef",
   "metadata": {},
   "source": [
    "# CHECK DUPLICATE ROWS"
   ]
  },
  {
   "cell_type": "code",
   "execution_count": 28,
   "id": "fb6f0489-b6d4-4bc3-8cc3-b41f56b20aaf",
   "metadata": {},
   "outputs": [
    {
     "name": "stdout",
     "output_type": "stream",
     "text": [
      "Number of duplicated rows: 0\n"
     ]
    }
   ],
   "source": [
    "print(f'Number of duplicated rows: {df.duplicated().sum()}')\n"
   ]
  },
  {
   "cell_type": "markdown",
   "id": "abc3fae9-2090-42f3-a039-c9ad448eb64a",
   "metadata": {},
   "source": [
    "# COVERT DATA TYPE OF DATE AND AMOUNT COLUMN, RENAME AMOUNT TO TOTAL REVENUE"
   ]
  },
  {
   "cell_type": "code",
   "execution_count": 64,
   "id": "20ffa484-38d4-4dc0-aa2e-45e93a8dbcf7",
   "metadata": {},
   "outputs": [],
   "source": [
    "df['Date'] = pd.to_datetime(df['Date'],format = '%d-%b-%y')\n",
    "df.rename(columns={'Amount': 'Total Revenue($)'}, inplace=True)\n",
    "\n"
   ]
  },
  {
   "cell_type": "markdown",
   "id": "c95961b8-bdb3-440d-8882-7c04c2f4e937",
   "metadata": {},
   "source": [
    "# OVERVIEW AFTER CLEANING DATA"
   ]
  },
  {
   "cell_type": "code",
   "execution_count": 66,
   "id": "bbb9a448-2111-4ddb-9d4c-fc4d376ecee1",
   "metadata": {},
   "outputs": [
    {
     "name": "stdout",
     "output_type": "stream",
     "text": [
      "<class 'pandas.core.frame.DataFrame'>\n",
      "RangeIndex: 1094 entries, 0 to 1093\n",
      "Data columns (total 6 columns):\n",
      " #   Column            Non-Null Count  Dtype         \n",
      "---  ------            --------------  -----         \n",
      " 0   Sales Person      1094 non-null   object        \n",
      " 1   Country           1094 non-null   object        \n",
      " 2   Product           1094 non-null   object        \n",
      " 3   Date              1094 non-null   datetime64[ns]\n",
      " 4   Total Revenue($)  1094 non-null   int32         \n",
      " 5   Boxes Shipped     1094 non-null   int64         \n",
      "dtypes: datetime64[ns](1), int32(1), int64(1), object(3)\n",
      "memory usage: 47.1+ KB\n",
      "None\n"
     ]
    }
   ],
   "source": [
    "print(df.info())"
   ]
  },
  {
   "cell_type": "markdown",
   "id": "757954b5-befc-4c17-b670-b4dd6a72b6ef",
   "metadata": {},
   "source": [
    "# DESCRIBE OF NUMERIC DATA COLUMN"
   ]
  },
  {
   "cell_type": "code",
   "execution_count": 70,
   "id": "b8db9bb0-98c3-49e7-a3d3-4b0e01d08413",
   "metadata": {},
   "outputs": [
    {
     "name": "stdout",
     "output_type": "stream",
     "text": [
      "                                Date  Total Revenue($)  Boxes Shipped\n",
      "count                           1094       1094.000000    1094.000000\n",
      "mean   2022-05-03 09:04:56.160877568       5652.308044     161.797989\n",
      "min              2022-01-03 00:00:00          7.000000       1.000000\n",
      "25%              2022-03-02 00:00:00       2390.500000      70.000000\n",
      "50%              2022-05-11 00:00:00       4868.500000     135.000000\n",
      "75%              2022-07-04 00:00:00       8027.250000     228.750000\n",
      "max              2022-08-31 00:00:00      22050.000000     709.000000\n",
      "std                              NaN       4102.442014     121.544145\n"
     ]
    }
   ],
   "source": [
    "print(df.describe())"
   ]
  },
  {
   "cell_type": "markdown",
   "id": "79e5e162-af07-4225-844f-37a20b0a6410",
   "metadata": {},
   "source": [
    "The dataset provides data of 8 months chocolate revenue from 6 different countries with 25 different sale people "
   ]
  }
 ],
 "metadata": {
  "kernelspec": {
   "display_name": "Python [conda env:base] *",
   "language": "python",
   "name": "conda-base-py"
  },
  "language_info": {
   "codemirror_mode": {
    "name": "ipython",
    "version": 3
   },
   "file_extension": ".py",
   "mimetype": "text/x-python",
   "name": "python",
   "nbconvert_exporter": "python",
   "pygments_lexer": "ipython3",
   "version": "3.12.3"
  }
 },
 "nbformat": 4,
 "nbformat_minor": 5
}
